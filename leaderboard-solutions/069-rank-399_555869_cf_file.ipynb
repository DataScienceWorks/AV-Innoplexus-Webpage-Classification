{
 "cells": [
  {
   "cell_type": "code",
   "execution_count": 1,
   "metadata": {
    "collapsed": true
   },
   "outputs": [],
   "source": [
    "import pandas as pd\n",
    "import numpy as np\n",
    "pd.set_option('display.max_colwidth', -1)"
   ]
  },
  {
   "cell_type": "code",
   "execution_count": 127,
   "metadata": {},
   "outputs": [
    {
     "data": {
      "text/html": [
       "<div>\n",
       "<style>\n",
       "    .dataframe thead tr:only-child th {\n",
       "        text-align: right;\n",
       "    }\n",
       "\n",
       "    .dataframe thead th {\n",
       "        text-align: left;\n",
       "    }\n",
       "\n",
       "    .dataframe tbody tr th {\n",
       "        vertical-align: top;\n",
       "    }\n",
       "</style>\n",
       "<table border=\"1\" class=\"dataframe\">\n",
       "  <thead>\n",
       "    <tr style=\"text-align: right;\">\n",
       "      <th></th>\n",
       "      <th>Webpage_id</th>\n",
       "      <th>Domain</th>\n",
       "      <th>Url</th>\n",
       "      <th>Tag</th>\n",
       "    </tr>\n",
       "  </thead>\n",
       "  <tbody>\n",
       "    <tr>\n",
       "      <th>0</th>\n",
       "      <td>1</td>\n",
       "      <td>www.fiercepharma.com</td>\n",
       "      <td>http://www.fiercepharma.com/marketing/tecfidera-gilenya-and-aubagio-s-3-way-battle-for-ms-share-about-to-get-more-interesting</td>\n",
       "      <td>news</td>\n",
       "    </tr>\n",
       "    <tr>\n",
       "      <th>1</th>\n",
       "      <td>2</td>\n",
       "      <td>www.fiercepharma.com</td>\n",
       "      <td>http://www.fiercepharma.com/pharma/novo-equipped-to-weather-storm-u-s-diabetes-market-ceo-says</td>\n",
       "      <td>news</td>\n",
       "    </tr>\n",
       "    <tr>\n",
       "      <th>2</th>\n",
       "      <td>3</td>\n",
       "      <td>www.fiercepharma.com</td>\n",
       "      <td>http://www.fiercepharma.com/pharma/another-exec-departs-troubled-endo-and-time-it-s-for-another-drugmaker</td>\n",
       "      <td>news</td>\n",
       "    </tr>\n",
       "    <tr>\n",
       "      <th>3</th>\n",
       "      <td>4</td>\n",
       "      <td>www.fiercepharma.com</td>\n",
       "      <td>http://www.fiercepharma.com/pharma/teva-buy-biosim-specialist-celltrion-it-wouldn-t-say-no</td>\n",
       "      <td>news</td>\n",
       "    </tr>\n",
       "    <tr>\n",
       "      <th>4</th>\n",
       "      <td>5</td>\n",
       "      <td>www.fiercepharma.com</td>\n",
       "      <td>http://www.fiercepharma.com/marketing/actress-marissa-tomei-partners-allergan-restasis-to-drive-dry-eye-awareness</td>\n",
       "      <td>news</td>\n",
       "    </tr>\n",
       "  </tbody>\n",
       "</table>\n",
       "</div>"
      ],
      "text/plain": [
       "   Webpage_id                Domain  \\\n",
       "0  1           www.fiercepharma.com   \n",
       "1  2           www.fiercepharma.com   \n",
       "2  3           www.fiercepharma.com   \n",
       "3  4           www.fiercepharma.com   \n",
       "4  5           www.fiercepharma.com   \n",
       "\n",
       "                                                                                                                             Url  \\\n",
       "0  http://www.fiercepharma.com/marketing/tecfidera-gilenya-and-aubagio-s-3-way-battle-for-ms-share-about-to-get-more-interesting   \n",
       "1  http://www.fiercepharma.com/pharma/novo-equipped-to-weather-storm-u-s-diabetes-market-ceo-says                                  \n",
       "2  http://www.fiercepharma.com/pharma/another-exec-departs-troubled-endo-and-time-it-s-for-another-drugmaker                       \n",
       "3  http://www.fiercepharma.com/pharma/teva-buy-biosim-specialist-celltrion-it-wouldn-t-say-no                                      \n",
       "4  http://www.fiercepharma.com/marketing/actress-marissa-tomei-partners-allergan-restasis-to-drive-dry-eye-awareness               \n",
       "\n",
       "    Tag  \n",
       "0  news  \n",
       "1  news  \n",
       "2  news  \n",
       "3  news  \n",
       "4  news  "
      ]
     },
     "execution_count": 127,
     "metadata": {},
     "output_type": "execute_result"
    }
   ],
   "source": [
    "train = pd.read_csv(\"./train/train.csv\")\n",
    "train.head()"
   ]
  },
  {
   "cell_type": "code",
   "execution_count": 3,
   "metadata": {
    "collapsed": true
   },
   "outputs": [],
   "source": [
    "html_chunk = pd.read_csv(\"./train/html_data.csv\", nrows = 1000)"
   ]
  },
  {
   "cell_type": "code",
   "execution_count": 4,
   "metadata": {
    "scrolled": true
   },
   "outputs": [
    {
     "data": {
      "text/html": [
       "<div>\n",
       "<style>\n",
       "    .dataframe thead tr:only-child th {\n",
       "        text-align: right;\n",
       "    }\n",
       "\n",
       "    .dataframe thead th {\n",
       "        text-align: left;\n",
       "    }\n",
       "\n",
       "    .dataframe tbody tr th {\n",
       "        vertical-align: top;\n",
       "    }\n",
       "</style>\n",
       "<table border=\"1\" class=\"dataframe\">\n",
       "  <thead>\n",
       "    <tr style=\"text-align: right;\">\n",
       "      <th></th>\n",
       "      <th>Webpage_id</th>\n",
       "      <th>Html</th>\n",
       "    </tr>\n",
       "  </thead>\n",
       "  <tbody>\n",
       "    <tr>\n",
       "      <th>0</th>\n",
       "      <td>1</td>\n",
       "      <td>&lt;!DOCTYPE html&gt;\\n&lt;html lang=\"en\" dir=\"ltr\" xmlns:article=\"http://ogp.me/ns/article#\" xmlns:book=\"http://ogp.me/ns/book#\" xmlns:product=\"http://ogp.me/ns/product#\" xmlns:profile=\"http://ogp.me/ns/profile#\" xmlns:video=\"http://ogp.me/ns/video#\" prefix=\"content: http://purl.org/rss/1.0/modules/content/  dc: http://purl.org/dc/terms/  foaf: http://xmlns.com/foaf/0.1/  og: http://ogp.me/ns#  rdfs: http://www.w3.org/2000/01/rdf-schema#  schema: http://schema.org/  sioc: http://rdfs.org/sioc/ns#  sioct: http://rdfs.org/sioc/types#  skos: http://www.w3.org/2004/02/skos/core#  xsd: http://www.w3.org/2001/XMLSchema# \"&gt;\\n  &lt;head&gt;\\n    &lt;meta charset=\"utf-8\" /&gt;&lt;script type=\"text/javascript\"&gt;window.NREUM||(NREUM={}),__nr_require=function(e,n,t){function r(t){if(!n[t]){var o=n[t]={exports:{}};e[t][0].call(o.exports,function(n){var o=e[t][1][n];return r(o||n)},o,o.exports)}return n[t].exports}if(\"function\"==typeof __nr_require)return __nr_require;for(var o=0;o&lt;t.length;o++)r(t[o]);return r}({1:[function(e,n,t){function r(){}function o(e,n,t){return function(){return i(e,[c.now()].concat(u(arguments)),n?null:this,t),n?void 0:this}}var i=e(\"handle\"),a=e(2),u=e(3),f=e(\"ee\").get(\"tracer\"),c=e(\"loader\"),s=NREUM;\"undefined\"==typeof window.newrelic&amp;&amp;(newrelic=s);var p=[\"setPageViewName\",\"setCustomAttribute\",\"setErrorHandler\",\"finished\",\"addToTrace\",\"inlineHit\",\"addRelease\"],d=\"api-\",l=d+\"ixn-\";a(p,function(e,n){s[n]=o(d+n,!0,\"api\")}),s.addPageAction=o(d+\"addPageAction\",!0),s.setCurrentRouteName=o(d+\"routeName\",!0),n.exports=newrelic,s.interaction=function(){return(new r).get()};var m=r.prototype={createTracer:function(e,n){var t={},r=this,o=\"function\"==typeof n;return i(l+\"tracer\",[c.now(),e,t],r),function(){if(f.emit((o?\"\":\"no-\")+\"fn-start\",[c.now(),r,o],t),o)try{return n.apply(this,arguments)}finally{f.emit(\"fn-end\",[c.now()],t)}}}};a(\"setName,setAttribute,save,ignore,onEnd,getContext,end,get\".split(\",\"),function(e,n){m[n]=o(l+n)}),newrelic.noticeError=function(e){\"string\"==typeof e&amp;&amp;(e=new Error(e)),i(\"err\",[e,c.now()])}},{}],2:[function(e,n,t){function r(e,n){var t=[],r=\"\",i=0;for(r in e)o.call(e,r)&amp;&amp;(t[i]=n(r,e[r]),i+=1);return t}var o=Object.prototype.hasOwnProperty;n.exports=r},{}],3:[function(e,n,t){function r(e,n,t){n||(n=0),\"undefined\"==typeof t&amp;&amp;(t=e?e.length:0);for(var r=-1,o=t-n||0,i=Array(o&lt;0?0:o);++r&lt;o;)i[r]=e[n+r];return i}n.exports=r},{}],4:[function(e,n,t){n.exports={exists:\"undefined\"!=typeof window.performance&amp;&amp;window.performance.timing&amp;&amp;\"undefined\"!=typeof window.performance.timing.navigationStart}},{}],ee:[function(e,n,t){function r(){}function o(e){function n(e){return e&amp;&amp;e instanceof r?e:e?f(e,u,i):i()}function t(t,r,o,i){if(!d.aborted||i){e&amp;&amp;e(t,r,o);for(var a=n(o),u=m(t),f=u.length,c=0;c&lt;f;c++)u[c].apply(a,r);var p=s[y[t]];return p&amp;&amp;p.push([b,t,r,a]),a}}function l(e,n){v[e]=m(e).concat(n)}function m(e){return v[e]||[]}function w(e){return p[e]=p[e]||o(t)}function g(e,n){c(e,function(e,t){n=n||\"feature\",y[t]=n,n in s||(s[n]=[])})}var v={},y={},b={on:l,emit:t,get:w,listeners:m,context:n,buffer:g,abort:a,aborted:!1};return b}function i(){return new r}function a(){(s.api||s.feature)&amp;&amp;(d.aborted=!0,s=d.backlog={})}var u=\"nr@context\",f=e(\"gos\"),c=e(2),s={},p={},d=n.exports=o();d.backlog=s},{}],gos:[function(e,n,t){function r(e,n,t){if(o.call(e,n))return e[n];var r=t();if(Object.defineProperty&amp;&amp;Object.keys)try{return Object.defineProperty(e,n,{value:r,writable:!0,enumerable:!1}),r}catch(i){}return e[n]=r,r}var o=Object.prototype.hasOwnProperty;n.exports=r},{}],handle:[function(e,n,t){function r(e,n,t,r){o.buffer([e],r),o.emit(e,n,t)}var o=e(\"ee\").get(\"handle\");n.exports=r,r.ee=o},{}],id:[function(e,n,t){function r(e){var n=typeof e;return!e||\"object\"!==n&amp;&amp;\"function\"!==n?-1:e===window?0:a(e,i,function(){return o++})}var o=1,i=\"nr@id\",a=e(\"gos\");n.exports=r},{}],loader:[function(e,n,t){function r(){if(!x++){var e=h.info=NREUM.info,n=d.getElementsByTagName(\"script\")[0];if(setTimeout(s.abort,3e4),!(e&amp;&amp;e.licenseKey&amp;&amp;e.applicationID&amp;&amp;n))return s.abort();c(y,function(n,t){e[n]||(e[n]=t)}),f(\"mark\",[\"onload\",a()+h.offset],null,\"api\");var t=d.createElement(\"script\");t.src=\"https://\"+e.agent,n.parentNode.insertBefore(t,n)}}function o(){\"complete\"===d.readyState&amp;&amp;i()}function i(){f(\"mark\",[\"domContent\",a()+h.offset],null,\"api\")}function a(){return E.exists&amp;&amp;performance.now?Math.round(performance.now()):(u=Math.max((new Date).getTime(),u))-h.offset}var u=(new Date).getTime(),f=e(\"handle\"),c=e(2),s=e(\"ee\"),p=window,d=p.document,l=\"addEventListener\",m=\"attachEvent\",w=p.XMLHttpRequest,g=w&amp;&amp;w.prototype;NREUM.o={ST:setTimeout,SI:p.setImmediate,CT:clearTimeout,XHR:w,REQ:p.Request,EV:p.Event,PR:p.Promise,MO:p.MutationObserver};var v=\"\"+location,y={beacon:\"bam.nr-data.net\",errorBeacon:\"bam.nr-data.net\",agent:\"js-agent.newrelic.com/nr-1044.min.js\"},b=w&amp;&amp;g&amp;&amp;g[l]&amp;&amp;!/CriOS/.test(navigator.userAgent),h=n.exports={offset:u,now:a,origin:v,features:{},xhrWrappable:b};e(1),d[l]?(d[l](\"DOMContentLoaded\",i,!1),p[l](\"load\",r,!1)):(d[m](\"onreadystatechange\",o),p[m](\"onload\",r)),f(\"mark\",[\"firstbyte\",u],null,\"api\");var x=0,E=e(4)},{}]},{},[\"loader\"]);&lt;/script&gt;\\n&lt;script&gt;const LIFT_SEGMENTS_KEY='lift-segments';Reader={getValueFromCookie:function(key){var b=window.document.cookie.match('(^|;)\\\\s*'+key+'\\\\s*=\\\\s*([^;]+)');return b?decodeURIComponent(b.pop()):'';},getLiftSegments:function(){return this.getValueFromCookie(LIFT_SEGMENTS_KEY);},getReferrerMetaTag:function(){return document.head.querySelector(\"[name=qtx-referrer]\");},isSearchEngineReferral:function(){var metaTag=this.getReferrerMetaTag();return metaTag!==null;}};var dataLayerValues={};var segments=Reader.getLiftSegments();if(segments){dataLayerValues.lftsegment=segments;}\\ndataLayerValues.qtxSearchEngineReferral=Reader.isSearchEngineReferral();dataLayer=[dataLayerValues];&lt;/script&gt;\\n&lt;meta itemprop=\"acquia_lift:content_title\" content=\"Tecfidera, Gilenya and Aubagio&amp;#039;s 3-way battle for MS share is about to heat up\" /&gt;\\n&lt;meta itemprop=\"acquia_lift:content_type\" content=\"article\" /&gt;\\n&lt;meta itemprop=\"acquia_lift:page_type\" content=\"node page\" /&gt;\\n&lt;meta itemprop=\"acquia_lift:content_section\" content=\"DTC Advertising,Digital and Social Media,--homepage--,Launches,Pharma,Marketing\" /&gt;\\n&lt;meta itemprop=\"acquia_lift:content_keywords\" content=\"Aubagio,Biogen,Gilenya,Novartis,Sanofi,Tecfidera\" /&gt;\\n&lt;meta itemprop=\"acquia_lift:post_id\" content=\"360096\" /&gt;\\n&lt;meta itemprop=\"acquia_lift:published_date\" content=\"1477875886\" /&gt;\\n&lt;meta itemprop=\"acquia_lift:persona\" content=\"\" /&gt;\\n&lt;meta itemprop=\"acquia_lift:engagement_score\" content=\"1\" /&gt;\\n&lt;meta itemprop=\"acquia_lift:author\" content=\"tracy\" /&gt;\\n&lt;meta itemprop=\"acquia_lift:account_id\" content=\"FierceMarkets\" /&gt;\\n&lt;meta itemprop=\"acquia_lift:site_id\" content=\"fiercepharma\" /&gt;\\n&lt;meta itemprop=\"acquia_lift:liftAssetsURL\" content=\"https://lift3assets.lift.acquia.com/stable\" /&gt;\\n&lt;meta itemprop=\"acquia_lift:contentReplacementMode\" content=\"untrusted\" /&gt;\\n&lt;script src=\"https://lift3assets.lift.acquia.com/stable/lift.js\" defer&gt;&lt;/script&gt;\\n&lt;meta name=\"gtm-article\" content=\"360096\" /&gt;\\n&lt;meta name=\"gtm-contenttype\" content=\"Article\" /&gt;\\n&lt;meta name=\"gtm-keywords\" content=\"Sanofi, Aubagio, Tecfidera, Biogen, Novartis, Gilenya\" /&gt;\\n&lt;meta name=\"gtm-topics\" content=\"multiple sclerosis, drug launch, generics, payer\" /&gt;\\n&lt;meta name=\"title\" content=\"Tecfidera, Gilenya and Aubagio&amp;#039;s 3-way battle for MS share is about to heat up | FiercePharma\" /&gt;\\n&lt;meta name=\"parsely-author\" content=\"Tracy Staton\" /&gt;\\n&lt;meta name=\"parsely-image-url\" content=\"\" /&gt;\\n&lt;meta name=\"parsely-link\" content=\"http://www.fiercepharma.com/marketing/tecfidera-gilenya-and-aubagio-s-3-way-battle-for-ms-share-about-to-get-more-interesting\" /&gt;\\n&lt;meta name=\"parsely-metadata\" content=\"article\" /&gt;\\n&lt;meta name=\"parsely-pub-date\" content=\"2016-10-31T06:54:17-0400\" /&gt;\\n&lt;meta name=\"parsely-tags\" content=\"Sanofi, Aubagio, Tecfidera, Biogen, Novartis, Gilenya, multiple sclerosis, drug launch, generics, payer\" /&gt;\\n&lt;meta name=\"parsely-title\" content=\"Tecfidera, Gilenya and Aubagio&amp;#039;s 3-way battle for MS share is about to heat up\" /&gt;\\n&lt;meta name=\"parsely-type\" content=\"post\" /&gt;\\n&lt;meta name=\"gtm-section\" content=\"Marketing\" /&gt;\\n&lt;meta name=\"description\" content=\"Multiple sclerosis drugmakers are in a fix: These days, the U.S. market isn’t delivering the kind of growth that had been fueling big increases in sales. That spells an even more intense market-share battle ahead for pack leader Biogen, close second Novartis and the fast up-and-coming Sanofi.\" /&gt;\\n&lt;meta name=\"keywords\" content=\"Sanofi, Aubagio, Tecfidera, Biogen, Novartis, Gilenya multiple sclerosis, drug launch, generics, payer\" /&gt;\\n&lt;meta name=\"parsely-section\" content=\"Marketing\" /&gt;\\n&lt;meta property=\"og:image\" content=\"http://qtxasset.com/2016-10/AubagioHiRes.jpg?9VUPHXPTCvnt3i2p85LAOR983r2HyGpU\" /&gt;\\n&lt;meta name=\"referrer\" content=\"no-referrer\" /&gt;\\n&lt;meta name=\"Generator\" content=\"Drupal 8 (https://www.drupal.org)\" /&gt;\\n&lt;meta name=\"MobileOptimized\" content=\"width\" /&gt;\\n&lt;meta name=\"HandheldFriendly\" content=\"true\" /&gt;\\n&lt;meta name=\"viewport\" content=\"width=device-width, initial-scale=1.0\" /&gt;\\n&lt;link rel=\"shortcut icon\" href=\"/themes/custom/tektite_fierce/favicon.ico\" type=\"image/vnd.microsoft.icon\" /&gt;\\n&lt;link rel=\"alternate\" type=\"application/rss+xml\" href=\"http://www.fiercepharma.com/rss/xml\" /&gt;\\n&lt;link rel=\"canonical\" href=\"/marketing/tecfidera-gilenya-and-aubagio-s-3-way-battle-for-ms-share-about-to-get-more-interesting\" /&gt;\\n&lt;link rel=\"shortlink\" href=\"/node/360096\" /&gt;\\n&lt;link rel=\"revision\" href=\"/marketing/tecfidera-gilenya-and-aubagio-s-3-way-battle-for-ms-share-about-to-get-more-interesting\" /&gt;\\n&lt;script&gt;(function(w,d,s,l,i){w[l]=w[l]||[];w[l].push({'gtm.start':new Date().getTime(),event:'gtm.js'});var f=d.getElementsByTagName(s)[0];var j=d.createElement(s);var dl=l!='dataLayer'?'&amp;amp;l='+l:'';j.src='https://www.googletagmanager.com/gtm.js?id='+i+dl+'';j.async=true;f.parentNode.insertBefore(j,f);})(window,document,'script','dataLayer','GTM-KLQFWCZ');&lt;/script&gt;\\n&lt;script&gt;window.a2a_config=window.a2a_config||{};a2a_config.callbacks=a2a_config.callbacks||[];a2a_config.templates=a2a_config.templates||{};a2a_config.onclick = 1;\\r\\na2a_config.orientation = \"down\";\\r\\na2a_config.icon_color = \"transparent\";\\r\\na2a_config.color_link_text = \"666666\";\\r\\na2a_config.color_link_text_hover = \"333333\";&lt;/script&gt;\\n&lt;style&gt;.a2a_menu, .a2a_menu_find_container { border-radius: 0 !important; }\\r\\n.a2a_menu .a2a_mini_services a span { background-color: #666666 !important; }\\r\\n.a2a_menu .a2a_mini_services a:hover span { background-color: #333333 !important; }&lt;/style&gt;\\n\\n    &lt;title&gt;Tecfidera, Gilenya and Aubagio&amp;#039;s 3-way battle for MS share is about to heat up | FiercePharma&lt;/title&gt;\\n    &lt;link rel=\"stylesheet\" href=\"/sites/fiercepharma/files/css/css_SU4tYtYmriNajhtRxlkVqjjbKbVdHaFjVFd0gx5gDuM.css?ovgnfq\" media=\"all\" /&gt;\\n&lt;link rel=\"stylesheet\" href=\"/sites/fiercepharma/files/css/css_4YxNtJUEdtogsWyzNkWYMeig_ib1DFtCI5hTWvg3_O0.css?ovgnfq\" media=\"all\" /&gt;\\n\\n\\n      &lt;script type=\"text/javascript\"&gt;\\n          /*! modernizr 3.3.1 (Custom Build) | MIT *\\n * http://modernizr.com/download/?-details-inputtypes-touchevents-addtest-prefixes-setclasses-teststyles !*/\\n!function(e,t,n){function o(e,t){return typeof e===t}function i(){var e,t,n,i,s,a,r;for(var l in d)if(d.hasOwnProperty(l)){if(e=[],t=d[l],t.name&amp;&amp;(e.push(t.name.toLowerCase()),t.options&amp;&amp;t.options.aliases&amp;&amp;t.options.aliases.length))for(n=0;n&lt;t.options.aliases.length;n++)e.push(t.options.aliases[n].toLowerCase());for(i=o(t.fn,\"function\")?t.fn():t.fn,s=0;s&lt;e.length;s++)a=e[s],r=a.split(\".\"),1===r.length?Modernizr[r[0]]=i:(!Modernizr[r[0]]||Modernizr[r[0]]instanceof Boolean||(Modernizr[r[0]]=new Boolean(Modernizr[r[0]])),Modernizr[r[0]][r[1]]=i),u.push((i?\"\":\"no-\")+r.join(\"-\"))}}function s(e){var t=m.className,n=Modernizr._config.classPrefix||\"\";if(v&amp;&amp;(t=t.baseVal),Modernizr._config.enableJSClass){var o=new RegExp(\"(^|\\\\s)\"+n+\"no-js(\\\\s|$)\");t=t.replace(o,\"$1\"+n+\"js$2\")}Modernizr._config.enableClasses&amp;&amp;(t+=\" \"+n+e.join(\" \"+n),v?m.className.baseVal=t:m.className=t)}function a(e,t){if(\"object\"==typeof e)for(var n in e)h(e,n)&amp;&amp;a(n,e[n]);else{e=e.toLowerCase();var o=e.split(\".\"),i=Modernizr[o[0]];if(2==o.length&amp;&amp;(i=i[o[1]]),\"undefined\"!=typeof i)return Modernizr;t=\"function\"==typeof t?t():t,1==o.length?Modernizr[o[0]]=t:(!Modernizr[o[0]]||Modernizr[o[0]]instanceof Boolean||(Modernizr[o[0]]=new Boolean(Modernizr[o[0]])),Modernizr[o[0]][o[1]]=t),s([(t&amp;&amp;0!=t?\"\":\"no-\")+o.join(\"-\")]),Modernizr._trigger(e,t)}return Modernizr}function r(){return\"function\"!=typeof t.createElement?t.createElement(arguments[0]):v?t.createElementNS.call(t,\"http://www.w3.org/2000/svg\",arguments[0]):t.createElement.apply(t,arguments)}function l(){var e=t.body;return e||(e=r(v?\"svg\":\"body\"),e.fake=!0),e}function f(e,n,o,i){var s,a,f,u,d=\"modernizr\",c=r(\"div\"),p=l();if(parseInt(o,10))for(;o--;)f=r(\"div\"),f.id=i?i[o]:d+(o+1),c.appendChild(f);return s=r(\"style\"),s.type=\"text/css\",s.id=\"s\"+d,(p.fake?p:c).appendChild(s),p.appendChild(c),s.styleSheet?s.styleSheet.cssText=e:s.appendChild(t.createTextNode(e)),c.id=d,p.fake&amp;&amp;(p.style.background=\"\",p.style.overflow=\"hidden\",u=m.style.overflow,m.style.overflow=\"hidden\",m.appendChild(p)),a=n(c,e),p.fake?(p.parentNode.removeChild(p),m.style.overflow=u,m.offsetHeight):c.parentNode.removeChild(c),!!a}var u=[],d=[],c={_version:\"3.3.1\",_config:{classPrefix:\"\",enableClasses:!0,enableJSClass:!0,usePrefixes:!0},_q:[],on:function(e,t){var n=this;setTimeout(function(){t(n[e])},0)},addTest:function(e,t,n){d.push({name:e,fn:t,options:n})},addAsyncTest:function(e){d.push({name:null,fn:e})}},Modernizr=function(){};Modernizr.prototype=c,Modernizr=new Modernizr;var p=c._config.usePrefixes?\" -webkit- -moz- -o- -ms- \".split(\" \"):[\"\",\"\"];c._prefixes=p;var h,m=t.documentElement,v=\"svg\"===m.nodeName.toLowerCase();!function(){var e={}.hasOwnProperty;h=o(e,\"undefined\")||o(e.call,\"undefined\")?function(e,t){return t in e&amp;&amp;o(e.constructor.prototype[t],\"undefined\")}:function(t,n){return e.call(t,n)}}(),c._l={},c.on=function(e,t){this._l[e]||(this._l[e]=[]),this._l[e].push(t),Modernizr.hasOwnProperty(e)&amp;&amp;setTimeout(function(){Modernizr._trigger(e,Modernizr[e])},0)},c._trigger=function(e,t){if(this._l[e]){var n=this._l[e];setTimeout(function(){var e,o;for(e=0;e&lt;n.length;e++)(o=n[e])(t)},0),delete this._l[e]}},Modernizr._q.push(function(){c.addTest=a});var y=r(\"input\"),g=\"search tel url email datetime date month week time datetime-local number range color\".split(\" \"),_={};Modernizr.inputtypes=function(e){for(var o,i,s,a=e.length,r=\"1)\",l=0;a&gt;l;l++)y.setAttribute(\"type\",o=e[l]),s=\"text\"!==y.type&amp;&amp;\"style\"in y,s&amp;&amp;(y.value=r,y.style.cssText=\"position:absolute;visibility:hidden;\",/^range$/.test(o)&amp;&amp;y.style.WebkitAppearance!==n?(m.appendChild(y),i=t.defaultView,s=i.getComputedStyle&amp;&amp;\"textfield\"!==i.getComputedStyle(y,null).WebkitAppearance&amp;&amp;0!==y.offsetHeight,m.removeChild(y)):/^(search|tel)$/.test(o)||(s=/^(url|email)$/.test(o)?y.checkValidity&amp;&amp;y.checkValidity()===!1:y.value!=r)),_[e[l]]=!!s;return _}(g);var w=c.testStyles=f;Modernizr.addTest(\"touchevents\",function(){var n;if(\"ontouchstart\"in e||e.DocumentTouch&amp;&amp;t instanceof DocumentTouch)n=!0;else{var o=[\"@media (\",p.join(\"touch-enabled),(\"),\"heartz\",\")\",\"{#modernizr{top:9px;position:absolute}}\"].join(\"\");w(o,function(e){n=9===e.offsetTop})}return n}),Modernizr.addTest(\"details\",function(){var e,t=r(\"details\");return\"open\"in t?(w(\"#modernizr details{display:block}\",function(n){n.appendChild(t),t.innerHTML=\"&lt;summary&gt;a&lt;/summary&gt;b\",e=t.offsetHeight,t.open=!0,e=e!=t.offsetHeight}),e):!1}),i(),s(u),delete c.addTest,delete c.addAsyncTest;for(var b=0;b&lt;Modernizr._q.length;b++)Modernizr._q[b]();e.Modernizr=Modernizr}(window,document);\\n      &lt;/script&gt;\\n\\n    \\n&lt;!--[if lte IE 8]&gt;\\n&lt;script src=\"/sites/fiercepharma/files/js/js_VtafjXmRvoUgAzqzYTA3Wrjkx9wcWhjP0G4ZnnqRamA.js\"&gt;&lt;/script&gt;\\n&lt;![endif]--&gt;\\n&lt;script src=\"//use.typekit.net/bmi3gnp.js\" async defer&gt;&lt;/script&gt;\\n&lt;script src=\"/sites/fiercepharma/files/js/js_ozV2cpnXKyS-tjjiGBrrhmvVIfqVqBKSf9c4k8FrQpo.js\" async defer&gt;&lt;/script&gt;\\n\\n\\n    &lt;!-- Start Taboola --&gt;\\n    &lt;script type=\"text/javascript\"&gt;\\n      window._taboola = window._taboola || [];\\n      _taboola.push({article:'auto'});\\n      !function (e, f, u) {\\n        e.async = 1;\\n        e.src = u;\\n        f.parentNode.insertBefore(e, f);\\n      }(document.createElement('script'),\\n        document.getElementsByTagName('script')[0],\\n        '//cdn.taboola.com/libtrc/questex-network/loader.js');\\n    &lt;/script&gt;\\n    &lt;!-- End Taboola --&gt;\\n\\n    &lt;link rel=\"apple-touch-icon\" sizes=\"57x57\" href=\"/themes/custom/tektite_fierce/apple-touch-icon-57x57.png?v=wAAmkK2yLl\"&gt;\\n    &lt;link rel=\"apple-touch-icon\" sizes=\"60x60\" href=\"/themes/custom/tektite_fierce/apple-touch-icon-60x60.png?v=wAAmkK2yLl\"&gt;\\n    &lt;link rel=\"apple-touch-icon\" sizes=\"72x72\" href=\"/themes/custom/tektite_fierce/apple-touch-icon-72x72.png?v=wAAmkK2yLl\"&gt;\\n    &lt;link rel=\"apple-touch-icon\" sizes=\"76x76\" href=\"/themes/custom/tektite_fierce/apple-touch-icon-76x76.png?v=wAAmkK2yLl\"&gt;\\n    &lt;link rel=\"apple-touch-icon\" sizes=\"114x114\" href=\"/themes/custom/tektite_fierce/apple-touch-icon-114x114.png?v=wAAmkK2yLl\"&gt;\\n    &lt;link rel=\"apple-touch-icon\" sizes=\"120x120\" href=\"/themes/custom/tektite_fierce/apple-touch-icon-120x120.png?v=wAAmkK2yLl\"&gt;\\n    &lt;link rel=\"apple-touch-icon\" sizes=\"144x144\" href=\"/themes/custom/tektite_fierce/apple-touch-icon-144x144.png?v=wAAmkK2yLl\"&gt;\\n    &lt;link rel=\"apple-touch-icon\" sizes=\"152x152\" href=\"/themes/custom/tektite_fierce/apple-touch-icon-152x152.png?v=wAAmkK2yLl\"&gt;\\n    &lt;link rel=\"apple-touch-icon\" sizes=\"180x180\" href=\"/themes/custom/tektite_fierce/apple-touch-icon-180x180.png?v=wAAmkK2yLl\"&gt;\\n    &lt;link rel=\"icon\" type=\"image/png\" href=\"/themes/custom/tektite_fierce/favicon-32x32.png?v=wAAmkK2yLl\" sizes=\"32x32\"&gt;\\n    &lt;link rel=\"icon\" type=\"image/png\" href=\"/themes/custom/tektite_fierce/favicon-194x194.png?v=wAAmkK2yLl\" sizes=\"194x194\"&gt;\\n    &lt;link rel=\"icon\" type=\"image/png\" href=\"/themes/custom/tektite_fierce/favicon-96x96.png?v=wAAmkK2yLl\" sizes=\"96x96\"&gt;\\n    &lt;link rel=\"icon\" type=\"image/png\" href=\"/themes/custom/tektite_fierce/android-chrome-192x192.png?v=wAAmkK2yLl\" sizes=\"192x192\"&gt;\\n    &lt;link rel=\"icon\" type=\"image/png\" href=\"/themes/custom/tektite_fierce/favicon-16x16.png?v=wAAmkK2yLl\" sizes=\"16x16\"&gt;\\n    &lt;link rel=\"manifest\" href=\"/themes/custom/tektite_fierce/manifest.json?v=wAAmkK2yLl\"&gt;\\n    &lt;link rel=\"mask-icon\" href=\"/themes/custom/tektite_fierce/safari-pinned-tab.svg?v=wAAmkK2yLl\" color=\"#002358\"&gt;\\n    &lt;link rel=\"shortcut icon\" href=\"/themes/custom/tektite_fierce/favicon.ico?v=wAAmkK2yLl\"&gt;\\n    &lt;meta name=\"msapplication-TileColor\" content=\"#da532c\"&gt;\\n    &lt;meta name=\"msapplication-TileImage\" content=\"/themes/custom/tektite_fierce/mstile-144x144.png?v=wAAmkK2yLl\"&gt;\\n    &lt;meta name=\"theme-color\" content=\"#ffffff\"&gt;\\n  &lt;/head&gt;\\n\\n  &lt;body class=\"sidebar-second path-node page-node-type-article\"&gt;\\n\\n    &lt;div class=\"page-container\"&gt;\\n      &lt;a href=\"#main-content\" class=\"visually-hidden focusable\"&gt;Skip to main content&lt;/a&gt;\\n      &lt;noscript&gt;&lt;iframe src=\"https://www.googletagmanager.com/ns.html?id=GTM-KLQFWCZ\" height=\"0\" width=\"0\"&gt;&lt;/iframe&gt;&lt;/noscript&gt;\\n      \\n&lt;div id=\"scrollProgress\"&gt;&lt;/div&gt;\\n\\n  &lt;div id=\"header-top\"&gt;\\n    &lt;div class=\"wrapper\"&gt;\\n        &lt;div class=\"region region-header-top\"&gt;\\n    &lt;div id=\"block-tektitegenericadinterstitialblock\" class=\"block block-tektite-generic-blocks block-tektite-generic-ad-interstitial\"&gt;\\n  \\n    \\n                      &lt;div id='interstitial'&gt;\\n                  &lt;script type='text/javascript'&gt;\\n                    document.addEventListener(\"googletagEvent\", function() {\\n                      googletag.cmd.push(function() { googletag.display('interstitial'); });\\n                    });\\n                  &lt;/script&gt;\\n                &lt;/div&gt;\\n  &lt;/div&gt;\\n&lt;div id=\"block-tektitegenericmobileadhesionadblock\" class=\"block block-tektite-generic-blocks block-tektite-generic-ad-mobile-adhesion\"&gt;\\n  \\n    \\n                      &lt;div id='mobile-adhesion'&gt;\\n                &lt;script type='text/javascript'&gt;\\n                document.addEventListener(\"googletagEvent\", function() {\\n                googletag.cmd.push(function() { googletag.display('mobile-adhesion'); });\\n                });\\n                &lt;/script&gt;\\n                &lt;/div&gt;\\n  &lt;/div&gt;\\n&lt;div id=\"block-tektitegenericadwallpaperblock\" class=\"block block-tektite-generic-blocks block-tektite-generic-ad-wallpaper\"&gt;\\n  \\n    \\n                      &lt;div id='wallpaper'&gt;\\n                  &lt;script type='text/javascript'&gt;\\n                    document.addEventListener(\"googletagEvent\", function() {\\n                      googletag.cmd.push(function() { googletag.display('wallpaper'); });\\n                    });\\n                  &lt;/script&gt;\\n                &lt;/div&gt;\\n  &lt;/div&gt;\\n&lt;div id=\"block-tektitegenericadheaderblock\" class=\"block block-tektite-generic-blocks block-tektite-generic-ad-header\"&gt;\\n  \\n    \\n                      &lt;div id='header-ad-wrapper'&gt;\\n                &lt;div id='header-ad'&gt;\\n                  &lt;script type='text/javascript'&gt;\\n                    document.addEventListener(\"googletagEvent\", function() {\\n                      googletag.cmd.push(function() { googletag.display('header-ad'); });\\n                    });\\n                  &lt;/script&gt;\\n                &lt;/div&gt;\\n                &lt;/div&gt;\\n  &lt;/div&gt;\\n\\n  &lt;/div&gt;\\n\\n    &lt;/div&gt;\\n  &lt;/div&gt;\\n\\n  &lt;header id=\"header\" role=\"banner\"&gt;\\n    &lt;div class=\"wrapper\"&gt;\\n        &lt;div class=\"region region-header\"&gt;\\n    &lt;div id=\"block-tektitesocialshareblock\" class=\"block block-tektite-generic-blocks block-social-share-block\"&gt;\\n  \\n    \\n                                          &lt;a class=\"icon icon-twitter\" href='https://twitter.com/fiercepharma'&gt;Twitter&lt;/a&gt;\\n                                            &lt;a class=\"icon icon-linkedin-squared\" href='https://www.linkedin.com/groups/5042642'&gt;LinkedIn&lt;/a&gt;\\n                    \\n  &lt;/div&gt;\\n&lt;div class=\"search-api-page-block-form block block-search-api-page block-search-api-page-form-block\" data-drupal-selector=\"search-api-page-block-form\" autocomplete=\"off\" id=\"block-searchapipagesearchblockform\"&gt;\\n  \\n    \\n      &lt;form action=\"/marketing/tecfidera-gilenya-and-aubagio-s-3-way-battle-for-ms-share-about-to-get-more-interesting\" method=\"post\" id=\"search-api-page-block-form\" accept-charset=\"UTF-8\"&gt;\\n  &lt;div class=\"js-form-item form-item js-form-type-search form-type-search js-form-item-keys form-item-keys form-no-label\"&gt;\\n      &lt;label for=\"edit-keys\" class=\"visually-hidden\"&gt;Search&lt;/label&gt;\\n        &lt;input title=\"Enter the terms you wish to search for.\" data-drupal-selector=\"edit-keys\" type=\"search\" id=\"edit-keys\" name=\"keys\" value=\"\" size=\"15\" maxlength=\"128\" class=\"form-search\" /&gt;\\n\\n        &lt;/div&gt;\\n&lt;input data-drupal-selector=\"form-qffrn6xa65cb8xcizkiokubdadwhoxg1-n7srlppari\" type=\"hidden\" name=\"form_build_id\" value=\"form-QffRn6XA65Cb8XciZkIokUbDADwhoXG1-n7SrLPparI\" /&gt;\\n&lt;input data-drupal-selector=\"edit-search-api-page-block-form\" type=\"hidden\" name=\"form_id\" value=\"search_api_page_block_form\" /&gt;\\n&lt;div data-drupal-selector=\"edit-actions\" class=\"form-actions js-form-wrapper form-wrapper\" id=\"edit-actions\"&gt;&lt;input data-drupal-selector=\"edit-submit\" type=\"submit\" id=\"edit-submit\" name=\"op\" value=\"Search\" class=\"button js-form-submit form-submit\" /&gt;\\n&lt;/div&gt;\\n\\n&lt;/form&gt;\\n\\n  &lt;/div&gt;\\n&lt;nav role=\"navigation\" aria-labelledby=\"block-topmenu-menu\" id=\"block-topmenu\" class=\"block block-menu navigation menu--top-menu\"&gt;\\n            \\n  &lt;h2 class=\"visually-hidden\" id=\"block-topmenu-menu\"&gt;Top Menu&lt;/h2&gt;\\n  \\n\\n        \\n              &lt;ul class=\"menu\"&gt;\\n                    &lt;li class=\"menu-item\"&gt;\\n        &lt;a href=\"http://www.fiercedrugdevforum.com/\"&gt;DDF 2017&lt;/a&gt;\\n              &lt;/li&gt;\\n                &lt;li class=\"menu-item\"&gt;\\n        &lt;a href=\"http://www.fiercebiotech.com/\"&gt;FierceBiotech&lt;/a&gt;\\n              &lt;/li&gt;\\n                &lt;li class=\"menu-item\"&gt;\\n        &lt;a href=\"http://jobs.fiercebiotech.com/\"&gt;Jobs&lt;/a&gt;\\n              &lt;/li&gt;\\n                &lt;li class=\"menu-item\"&gt;\\n        &lt;a href=\"/resources\" data-drupal-link-system-path=\"resources\"&gt;Resources&lt;/a&gt;\\n              &lt;/li&gt;\\n                &lt;li class=\"menu-item\"&gt;\\n        &lt;a href=\"/events\"&gt;Events&lt;/a&gt;\\n              &lt;/li&gt;\\n                &lt;li class=\"menu-item\"&gt;\\n        &lt;a href=\"https://pages.questexweb.com/FiercePharma-Newsletter-Signup.html\" title=\"Subscribe\"&gt;Subscribe&lt;/a&gt;\\n              &lt;/li&gt;\\n        &lt;/ul&gt;\\n  \\n\\n\\n  &lt;/nav&gt;\\n&lt;div id=\"block-tektite-pharma-branding\" class=\"block block-system block-system-branding-block\"&gt;\\n  \\n    \\n              &lt;div class=\"site-logo\"&gt;\\n            &lt;a href=\"/\" title=\"Home\" rel=\"home\"&gt;\\n                &lt;img src=\"/themes/custom/tektite_fierce/assets/images/logo/logo-pharma.svg\" alt=\"Home\"/&gt;\\n            &lt;/a&gt;\\n        &lt;/div&gt;\\n    \\n    &lt;div class=\"questex-logo\"&gt;\\n        &lt;a href=\"http://questex.com\" target=\"_blank\" title=\"Questex\"&gt;\\n            &lt;img src=\"/themes/custom/tektite/assets/images/logo-questex.svg\" alt=\"Questex\"/&gt;\\n        &lt;/a&gt;\\n    &lt;/div&gt;\\n\\n    &lt;/div&gt;\\n&lt;nav role=\"navigation\" aria-labelledby=\"block-mainnavigation-menu\" id=\"block-mainnavigation\" class=\"block block-menu navigation menu--main\"&gt;\\n            \\n  &lt;h2 class=\"visually-hidden\" id=\"block-mainnavigation-menu\"&gt;Main navigation&lt;/h2&gt;\\n  \\n\\n        \\n              &lt;ul class=\"menu\"&gt;\\n                    &lt;li class=\"menu-item menu-item--expanded\"&gt;\\n        &lt;a href=\"/pharma\" data-drupal-link-system-path=\"taxonomy/term/201\"&gt;Pharma&lt;/a&gt;\\n                                &lt;ul class=\"menu\"&gt;\\n                    &lt;li class=\"menu-item\"&gt;\\n        &lt;a href=\"/pharma/m-a\" data-drupal-link-system-path=\"taxonomy/term/206\"&gt;M&amp;amp;A&lt;/a&gt;\\n              &lt;/li&gt;\\n                &lt;li class=\"menu-item\"&gt;\\n        &lt;a href=\"/pharma/regulatory\" data-drupal-link-system-path=\"taxonomy/term/211\"&gt;Regulatory&lt;/a&gt;\\n              &lt;/li&gt;\\n                &lt;li class=\"menu-item\"&gt;\\n        &lt;a href=\"/pharma/financials\" data-drupal-link-system-path=\"taxonomy/term/221\"&gt;Financials&lt;/a&gt;\\n              &lt;/li&gt;\\n                &lt;li class=\"menu-item\"&gt;\\n        &lt;a href=\"/pharma/corporate\" data-drupal-link-system-path=\"taxonomy/term/231\"&gt;Corporate&lt;/a&gt;\\n              &lt;/li&gt;\\n                &lt;li class=\"menu-item\"&gt;\\n        &lt;a href=\"/pharma/legal\" data-drupal-link-system-path=\"taxonomy/term/236\"&gt;Legal&lt;/a&gt;\\n              &lt;/li&gt;\\n        &lt;/ul&gt;\\n  \\n              &lt;/li&gt;\\n                &lt;li class=\"menu-item menu-item--expanded\"&gt;\\n        &lt;a href=\"/manufacturing\" data-drupal-link-system-path=\"taxonomy/term/166\"&gt;Manufacturing&lt;/a&gt;\\n                                &lt;ul class=\"menu\"&gt;\\n                    &lt;li class=\"menu-item\"&gt;\\n        &lt;a href=\"/manufacturing/m-a\" data-drupal-link-system-path=\"taxonomy/term/171\"&gt;M&amp;amp;A&lt;/a&gt;\\n              &lt;/li&gt;\\n                &lt;li class=\"menu-item\"&gt;\\n        &lt;a href=\"/manufacturing/outsourcing\" data-drupal-link-system-path=\"taxonomy/term/176\"&gt;Outsourcing&lt;/a&gt;\\n              &lt;/li&gt;\\n                &lt;li class=\"menu-item\"&gt;\\n        &lt;a href=\"/manufacturing/regulatory\" data-drupal-link-system-path=\"taxonomy/term/181\"&gt;Regulatory&lt;/a&gt;\\n              &lt;/li&gt;\\n                &lt;li class=\"menu-item\"&gt;\\n        &lt;a href=\"/manufacturing/supply-chain\" data-drupal-link-system-path=\"taxonomy/term/186\"&gt;Supply Chain&lt;/a&gt;\\n              &lt;/li&gt;\\n                &lt;li class=\"menu-item\"&gt;\\n        &lt;a href=\"/manufacturing/partnering\" data-drupal-link-system-path=\"taxonomy/term/196\"&gt;Partnering&lt;/a&gt;\\n              &lt;/li&gt;\\n                &lt;li class=\"menu-item\"&gt;\\n        &lt;a href=\"/manufacturing/drug-safety\" data-drupal-link-system-path=\"taxonomy/term/191\"&gt;Drug Safety&lt;/a&gt;\\n              &lt;/li&gt;\\n        &lt;/ul&gt;\\n  \\n              &lt;/li&gt;\\n                &lt;li class=\"menu-item menu-item--expanded\"&gt;\\n        &lt;a href=\"/marketing\" data-drupal-link-system-path=\"taxonomy/term/126\"&gt;Marketing&lt;/a&gt;\\n                                &lt;ul class=\"menu\"&gt;\\n                    &lt;li class=\"menu-item\"&gt;\\n        &lt;a href=\"/marketing/regulatory\" data-drupal-link-system-path=\"taxonomy/term/356\"&gt;Regulatory&lt;/a&gt;\\n              &lt;/li&gt;\\n                &lt;li class=\"menu-item\"&gt;\\n        &lt;a href=\"/marketing/dtc-advertising\" data-drupal-link-system-path=\"taxonomy/term/131\"&gt;DTC Advertising&lt;/a&gt;\\n              &lt;/li&gt;\\n                &lt;li class=\"menu-item\"&gt;\\n        &lt;a href=\"/marketing/digital-and-social-media\" data-drupal-link-system-path=\"taxonomy/term/141\"&gt;Digital and Social Media&lt;/a&gt;\\n              &lt;/li&gt;\\n                &lt;li class=\"menu-item\"&gt;\\n        &lt;a href=\"/marketing/data-and-analytics\" data-drupal-link-system-path=\"taxonomy/term/151\"&gt;Data and Analytics&lt;/a&gt;\\n              &lt;/li&gt;\\n                &lt;li class=\"menu-item\"&gt;\\n        &lt;a href=\"/marketing/launches\" data-drupal-link-system-path=\"taxonomy/term/161\"&gt;Launches&lt;/a&gt;\\n              &lt;/li&gt;\\n        &lt;/ul&gt;\\n  \\n              &lt;/li&gt;\\n                &lt;li class=\"menu-item menu-item--expanded\"&gt;\\n        &lt;a href=\"/pharma-asia\" data-drupal-link-system-path=\"taxonomy/term/91\"&gt;Pharma Asia&lt;/a&gt;\\n                                &lt;ul class=\"menu\"&gt;\\n                    &lt;li class=\"menu-item\"&gt;\\n        &lt;a href=\"/pharma-asia/m-a\" data-drupal-link-system-path=\"taxonomy/term/96\"&gt;M&amp;amp;A&lt;/a&gt;\\n              &lt;/li&gt;\\n                &lt;li class=\"menu-item\"&gt;\\n        &lt;a href=\"/pharma-asia/r-d\" data-drupal-link-system-path=\"taxonomy/term/101\"&gt;R&amp;amp;D&lt;/a&gt;\\n              &lt;/li&gt;\\n                &lt;li class=\"menu-item\"&gt;\\n        &lt;a href=\"/pharma-asia/regulatory\" data-drupal-link-system-path=\"taxonomy/term/106\"&gt;Regulatory&lt;/a&gt;\\n              &lt;/li&gt;\\n                &lt;li class=\"menu-item\"&gt;\\n        &lt;a href=\"/pharma-asia/sales-and-marketing\" data-drupal-link-system-path=\"taxonomy/term/111\"&gt;Sales and Marketing&lt;/a&gt;\\n              &lt;/li&gt;\\n                &lt;li class=\"menu-item\"&gt;\\n        &lt;a href=\"/pharma-asia/financials\" data-drupal-link-system-path=\"taxonomy/term/121\"&gt;Financials&lt;/a&gt;\\n              &lt;/li&gt;\\n                &lt;li class=\"menu-item\"&gt;\\n        &lt;a href=\"/pharma-asia/manufacturing\" data-drupal-link-system-path=\"taxonomy/term/33286\"&gt;Manufacturing&lt;/a&gt;\\n              &lt;/li&gt;\\n        &lt;/ul&gt;\\n  \\n              &lt;/li&gt;\\n                &lt;li class=\"menu-item menu-item--expanded\"&gt;\\n        &lt;a href=\"/animal-health\" data-drupal-link-system-path=\"taxonomy/term/56\"&gt;Animal Health&lt;/a&gt;\\n                                &lt;ul class=\"menu\"&gt;\\n                    &lt;li class=\"menu-item\"&gt;\\n        &lt;a href=\"/animal-health/r-d\" data-drupal-link-system-path=\"taxonomy/term/61\"&gt;R&amp;amp;D&lt;/a&gt;\\n              &lt;/li&gt;\\n                &lt;li class=\"menu-item\"&gt;\\n        &lt;a href=\"/animal-health/m-a\" data-drupal-link-system-path=\"taxonomy/term/66\"&gt;M&amp;amp;A&lt;/a&gt;\\n              &lt;/li&gt;\\n                &lt;li class=\"menu-item\"&gt;\\n        &lt;a href=\"/animal-health/regulatory\" data-drupal-link-system-path=\"taxonomy/term/71\"&gt;Regulatory&lt;/a&gt;\\n              &lt;/li&gt;\\n                &lt;li class=\"menu-item\"&gt;\\n        &lt;a href=\"/animal-health/veterinarian\" data-drupal-link-system-path=\"taxonomy/term/76\"&gt;Veterinarian&lt;/a&gt;\\n              &lt;/li&gt;\\n                &lt;li class=\"menu-item\"&gt;\\n        &lt;a href=\"/animal-health/financials\" data-drupal-link-system-path=\"taxonomy/term/81\"&gt;Financials&lt;/a&gt;\\n              &lt;/li&gt;\\n                &lt;li class=\"menu-item\"&gt;\\n        &lt;a href=\"/animal-health/vaccines\" data-drupal-link-system-path=\"taxonomy/term/86\"&gt;Vaccines&lt;/a&gt;\\n              &lt;/li&gt;\\n        &lt;/ul&gt;\\n  \\n              &lt;/li&gt;\\n                &lt;li class=\"menu-item menu-item--expanded\"&gt;\\n        &lt;a href=\"/drug-delivery\" data-drupal-link-system-path=\"taxonomy/term/26\"&gt;Drug Delivery&lt;/a&gt;\\n                                &lt;ul class=\"menu\"&gt;\\n                    &lt;li class=\"menu-item\"&gt;\\n        &lt;a href=\"/drug-delivery/r-d\" data-drupal-link-system-path=\"taxonomy/term/31\"&gt;R&amp;amp;D&lt;/a&gt;\\n              &lt;/li&gt;\\n                &lt;li class=\"menu-item\"&gt;\\n        &lt;a href=\"/drug-delivery/regulatory\" data-drupal-link-system-path=\"taxonomy/term/41\"&gt;Regulatory&lt;/a&gt;\\n              &lt;/li&gt;\\n                &lt;li class=\"menu-item\"&gt;\\n        &lt;a href=\"/drug-delivery/partnering\" data-drupal-link-system-path=\"taxonomy/term/46\"&gt;Partnering&lt;/a&gt;\\n              &lt;/li&gt;\\n        &lt;/ul&gt;\\n  \\n              &lt;/li&gt;\\n                &lt;li class=\"menu-item menu-item--expanded\"&gt;\\n        &lt;a href=\"/vaccines\" data-drupal-link-system-path=\"taxonomy/term/1\"&gt;Vaccines&lt;/a&gt;\\n                                &lt;ul class=\"menu\"&gt;\\n                    &lt;li class=\"menu-item\"&gt;\\n        &lt;a href=\"/vaccines/deals\" data-drupal-link-system-path=\"taxonomy/term/11\"&gt;Deals&lt;/a&gt;\\n              &lt;/li&gt;\\n                &lt;li class=\"menu-item\"&gt;\\n        &lt;a href=\"/vaccines/infectious-diseases\" data-drupal-link-system-path=\"taxonomy/term/21\"&gt;Infectious Diseases&lt;/a&gt;\\n              &lt;/li&gt;\\n                &lt;li class=\"menu-item\"&gt;\\n        &lt;a href=\"/vaccines/r-d\" data-drupal-link-system-path=\"taxonomy/term/6\"&gt;R&amp;amp;D&lt;/a&gt;\\n              &lt;/li&gt;\\n                &lt;li class=\"menu-item\"&gt;\\n        &lt;a href=\"/vaccines/regulatory\" data-drupal-link-system-path=\"taxonomy/term/16\"&gt;Regulatory&lt;/a&gt;\\n              &lt;/li&gt;\\n        &lt;/ul&gt;\\n  \\n              &lt;/li&gt;\\n        &lt;/ul&gt;\\n  \\n\\n\\n  &lt;/nav&gt;\\n&lt;nav role=\"navigation\" aria-labelledby=\"block-mainnavigation-mobile-menu\" id=\"block-mainnavigation-mobile\" class=\"block block-menu navigation menu--main\"&gt;\\n            \\n  &lt;h2 class=\"visually-hidden\" id=\"block-mainnavigation-mobile-menu\"&gt;Main navigation - Mobile&lt;/h2&gt;\\n  \\n\\n        \\n              &lt;ul class=\"menu\"&gt;\\n                    &lt;li class=\"menu-item menu-item--expanded\"&gt;\\n        &lt;a href=\"/pharma\" data-drupal-link-system-path=\"taxonomy/term/201\"&gt;Pharma&lt;/a&gt;\\n                                &lt;ul class=\"menu\"&gt;\\n                    &lt;li class=\"menu-item\"&gt;\\n        &lt;a href=\"/pharma/m-a\" data-drupal-link-system-path=\"taxonomy/term/206\"&gt;M&amp;amp;A&lt;/a&gt;\\n              &lt;/li&gt;\\n                &lt;li class=\"menu-item\"&gt;\\n        &lt;a href=\"/pharma/regulatory\" data-drupal-link-system-path=\"taxonomy/term/211\"&gt;Regulatory&lt;/a&gt;\\n              &lt;/li&gt;\\n                &lt;li class=\"menu-item\"&gt;\\n        &lt;a href=\"/pharma/financials\" data-drupal-link-system-path=\"taxonomy/term/221\"&gt;Financials&lt;/a&gt;\\n              &lt;/li&gt;\\n                &lt;li class=\"menu-item\"&gt;\\n        &lt;a href=\"/pharma/corporate\" data-drupal-link-system-path=\"taxonomy/term/231\"&gt;Corporate&lt;/a&gt;\\n              &lt;/li&gt;\\n                &lt;li class=\"menu-item\"&gt;\\n        &lt;a href=\"/pharma/legal\" data-drupal-link-system-path=\"taxonomy/term/236\"&gt;Legal&lt;/a&gt;\\n              &lt;/li&gt;\\n        &lt;/ul&gt;\\n  \\n              &lt;/li&gt;\\n                &lt;li class=\"menu-item menu-item--expanded\"&gt;\\n        &lt;a href=\"/manufacturing\" data-drupal-link-system-path=\"taxonomy/term/166\"&gt;Manufacturing&lt;/a&gt;\\n                                &lt;ul class=\"menu\"&gt;\\n                    &lt;li class=\"menu-item\"&gt;\\n        &lt;a href=\"/manufacturing/m-a\" data-drupal-link-system-path=\"taxonomy/term/171\"&gt;M&amp;amp;A&lt;/a&gt;\\n              &lt;/li&gt;\\n                &lt;li class=\"menu-item\"&gt;\\n        &lt;a href=\"/manufacturing/outsourcing\" data-drupal-link-system-path=\"taxonomy/term/176\"&gt;Outsourcing&lt;/a&gt;\\n              &lt;/li&gt;\\n                &lt;li class=\"menu-item\"&gt;\\n        &lt;a href=\"/manufacturing/regulatory\" data-drupal-link-system-path=\"taxonomy/term/181\"&gt;Regulatory&lt;/a&gt;\\n              &lt;/li&gt;\\n                &lt;li class=\"menu-item\"&gt;\\n        &lt;a href=\"/manufacturing/supply-chain\" data-drupal-link-system-path=\"taxonomy/term/186\"&gt;Supply Chain&lt;/a&gt;\\n              &lt;/li&gt;\\n                &lt;li class=\"menu-item\"&gt;\\n        &lt;a href=\"/manufacturing/partnering\" data-drupal-link-system-path=\"taxonomy/term/196\"&gt;Partnering&lt;/a&gt;\\n              &lt;/li&gt;\\n                &lt;li class=\"menu-item\"&gt;\\n        &lt;a href=\"/manufacturing/drug-safety\" data-drupal-link-system-path=\"taxonomy/term/191\"&gt;Drug Safety&lt;/a&gt;\\n              &lt;/li&gt;\\n        &lt;/ul&gt;\\n  \\n              &lt;/li&gt;\\n                &lt;li class=\"menu-item menu-item--expanded\"&gt;\\n        &lt;a href=\"/marketing\" data-drupal-link-system-path=\"taxonomy/term/126\"&gt;Marketing&lt;/a&gt;\\n                                &lt;ul class=\"menu\"&gt;\\n                    &lt;li class=\"menu-item\"&gt;\\n        &lt;a href=\"/marketing/regulatory\" data-drupal-link-system-path=\"taxonomy/term/356\"&gt;Regulatory&lt;/a&gt;\\n              &lt;/li&gt;\\n                &lt;li class=\"menu-item\"&gt;\\n        &lt;a href=\"/marketing/dtc-advertising\" data-drupal-link-system-path=\"taxonomy/term/131\"&gt;DTC Advertising&lt;/a&gt;\\n              &lt;/li&gt;\\n                &lt;li class=\"menu-item\"&gt;\\n        &lt;a href=\"/marketing/digital-and-social-media\" data-drupal-link-system-path=\"taxonomy/term/141\"&gt;Digital and Social Media&lt;/a&gt;\\n              &lt;/li&gt;\\n                &lt;li class=\"menu-item\"&gt;\\n        &lt;a href=\"/marketing/data-and-analytics\" data-drupal-link-system-path=\"taxonomy/term/151\"&gt;Data and Analytics&lt;/a&gt;\\n              &lt;/li&gt;\\n                &lt;li class=\"menu-item\"&gt;\\n        &lt;a href=\"/marketing/launches\" data-drupal-link-system-path=\"taxonomy/term/161\"&gt;Launches&lt;/a&gt;\\n              &lt;/li&gt;\\n        &lt;/ul&gt;\\n  \\n              &lt;/li&gt;\\n                &lt;li class=\"menu-item menu-item--expanded\"&gt;\\n        &lt;a href=\"/pharma-asia\" data-drupal-link-system-path=\"taxonomy/term/91\"&gt;Pharma Asia&lt;/a&gt;\\n                                &lt;ul class=\"menu\"&gt;\\n                    &lt;li class=\"menu-item\"&gt;\\n        &lt;a href=\"/pharma-asia/m-a\" data-drupal-link-system-path=\"taxonomy/term/96\"&gt;M&amp;amp;A&lt;/a&gt;\\n              &lt;/li&gt;\\n                &lt;li class=\"menu-item\"&gt;\\n        &lt;a href=\"/pharma-asia/r-d\" data-drupal-link-system-path=\"taxonomy/term/101\"&gt;R&amp;amp;D&lt;/a&gt;\\n              &lt;/li&gt;\\n                &lt;li class=\"menu-item\"&gt;\\n        &lt;a href=\"/pharma-asia/regulatory\" data-drupal-link-system-path=\"taxonomy/term/106\"&gt;Regulatory&lt;/a&gt;\\n              &lt;/li&gt;\\n                &lt;li class=\"menu-item\"&gt;\\n        &lt;a href=\"/pharma-asia/sales-and-marketing\" data-drupal-link-system-path=\"taxonomy/term/111\"&gt;Sales and Marketing&lt;/a&gt;\\n              &lt;/li&gt;\\n                &lt;li class=\"menu-item\"&gt;\\n        &lt;a href=\"/pharma-asia/financials\" data-drupal-link-system-path=\"taxonomy/term/121\"&gt;Financials&lt;/a&gt;\\n              &lt;/li&gt;\\n                &lt;li class=\"menu-item\"&gt;\\n        &lt;a href=\"/pharma-asia/manufacturing\" data-drupal-link-system-path=\"taxonomy/term/33286\"&gt;Manufacturing&lt;/a&gt;\\n              &lt;/li&gt;\\n        &lt;/ul&gt;\\n  \\n              &lt;/li&gt;\\n                &lt;li class=\"menu-item menu-item--expanded\"&gt;\\n        &lt;a href=\"/animal-health\" data-drupal-link-system-path=\"taxonomy/term/56\"&gt;Animal Health&lt;/a&gt;\\n                                &lt;ul class=\"menu\"&gt;\\n                    &lt;li class=\"menu-item\"&gt;\\n        &lt;a href=\"/animal-health/r-d\" data-drupal-link-system-path=\"taxonomy/term/61\"&gt;R&amp;amp;D&lt;/a&gt;\\n              &lt;/li&gt;\\n                &lt;li class=\"menu-item\"&gt;\\n        &lt;a href=\"/animal-health/m-a\" data-drupal-link-system-path=\"taxonomy/term/66\"&gt;M&amp;amp;A&lt;/a&gt;\\n              &lt;/li&gt;\\n                &lt;li class=\"menu-item\"&gt;\\n        &lt;a href=\"/animal-health/regulatory\" data-drupal-link-system-path=\"taxonomy/term/71\"&gt;Regulatory&lt;/a&gt;\\n              &lt;/li&gt;\\n                &lt;li class=\"menu-item\"&gt;\\n        &lt;a href=\"/animal-health/veterinarian\" data-drupal-link-system-path=\"taxonomy/term/76\"&gt;Veterinarian&lt;/a&gt;\\n              &lt;/li&gt;\\n                &lt;li class=\"menu-item\"&gt;\\n        &lt;a href=\"/animal-health/financials\" data-drupal-link-system-path=\"taxonomy/term/81\"&gt;Financials&lt;/a&gt;\\n              &lt;/li&gt;\\n                &lt;li class=\"menu-item\"&gt;\\n        &lt;a href=\"/animal-health/vaccines\" data-drupal-link-system-path=\"taxonomy/term/86\"&gt;Vaccines&lt;/a&gt;\\n              &lt;/li&gt;\\n        &lt;/ul&gt;\\n  \\n              &lt;/li&gt;\\n                &lt;li class=\"menu-item menu-item--expanded\"&gt;\\n        &lt;a href=\"/drug-delivery\" data-drupal-link-system-path=\"taxonomy/term/26\"&gt;Drug Delivery&lt;/a&gt;\\n                                &lt;ul class=\"menu\"&gt;\\n                    &lt;li class=\"menu-item\"&gt;\\n        &lt;a href=\"/drug-delivery/r-d\" data-drupal-link-system-path=\"taxonomy/term/31\"&gt;R&amp;amp;D&lt;/a&gt;\\n              &lt;/li&gt;\\n                &lt;li class=\"menu-item\"&gt;\\n        &lt;a href=\"/drug-delivery/regulatory\" data-drupal-link-system-path=\"taxonomy/term/41\"&gt;Regulatory&lt;/a&gt;\\n              &lt;/li&gt;\\n                &lt;li class=\"menu-item\"&gt;\\n        &lt;a href=\"/drug-delivery/partnering\" data-drupal-link-system-path=\"taxonomy/term/46\"&gt;Partnering&lt;/a&gt;\\n              &lt;/li&gt;\\n        &lt;/ul&gt;\\n  \\n              &lt;/li&gt;\\n                &lt;li class=\"menu-item menu-item--expanded\"&gt;\\n        &lt;a href=\"/vaccines\" data-drupal-link-system-path=\"taxonomy/term/1\"&gt;Vaccines&lt;/a&gt;\\n                                &lt;ul class=\"menu\"&gt;\\n                    &lt;li class=\"menu-item\"&gt;\\n        &lt;a href=\"/vaccines/deals\" data-drupal-link-system-path=\"taxonomy/term/11\"&gt;Deals&lt;/a&gt;\\n              &lt;/li&gt;\\n                &lt;li class=\"menu-item\"&gt;\\n        &lt;a href=\"/vaccines/infectious-diseases\" data-drupal-link-system-path=\"taxonomy/term/21\"&gt;Infectious Diseases&lt;/a&gt;\\n              &lt;/li&gt;\\n                &lt;li class=\"menu-item\"&gt;\\n        &lt;a href=\"/vaccines/r-d\" data-drupal-link-system-path=\"taxonomy/term/6\"&gt;R&amp;amp;D&lt;/a&gt;\\n              &lt;/li&gt;\\n                &lt;li class=\"menu-item\"&gt;\\n        &lt;a href=\"/vaccines/regulatory\" data-drupal-link-system-path=\"taxonomy/term/16\"&gt;Regulatory&lt;/a&gt;\\n              &lt;/li&gt;\\n        &lt;/ul&gt;\\n  \\n              &lt;/li&gt;\\n        &lt;/ul&gt;\\n  \\n\\n\\n  &lt;/nav&gt;\\n\\n  &lt;/div&gt;\\n\\n    &lt;/div&gt;\\n  &lt;/header&gt;\\n\\n  &lt;div id=\"help\"&gt;\\n    &lt;div class=\"wrapper\"&gt;\\n        &lt;div class=\"region region-help\"&gt;\\n    \\n\\n\\n  &lt;/div&gt;\\n\\n    &lt;/div&gt;\\n  &lt;/div&gt;\\n\\n&lt;main id=\"main\" role=\"main\"&gt;\\n      \\n  \\n  &lt;div id=\"content\"&gt;\\n    &lt;div class=\"taxonomy-primary\"&gt;&lt;div about=\"/marketing\" id=\"taxonomy-term-126\" class=\"taxonomy-term vocabulary-taxonomy\"&gt;\\n  \\n      &lt;h2&gt;&lt;a href=\"/marketing\"&gt;\\n            &lt;div&gt;Marketing&lt;/div&gt;\\n      &lt;/a&gt;&lt;/h2&gt;\\n    \\n  &lt;div class=\"content\"&gt;\\n    \\n  &lt;/div&gt;\\n&lt;/div&gt;\\n&lt;/div&gt;\\n    &lt;a id=\"main-content\" tabindex=\"-1\"&gt;&lt;/a&gt;      &lt;div class=\"region region-content\"&gt;\\n    &lt;div id=\"block-tektite-pharma-page-title\" class=\"block block-core block-page-title-block\"&gt;\\n  \\n    \\n      \\n  &lt;h1 class=\"page-title\"&gt;&lt;span property=\"schema:name\"&gt;Tecfidera, Gilenya and Aubagio&amp;#039;s 3-way battle for MS share is about to heat up&lt;/span&gt;\\n&lt;/h1&gt;\\n\\n\\n  &lt;/div&gt;\\n&lt;div id=\"block-tektite-pharma-content\" class=\"block block-system block-system-main-block\"&gt;\\n  \\n    \\n      \\n\\n&lt;article role=\"article\" about=\"/marketing/tecfidera-gilenya-and-aubagio-s-3-way-battle-for-ms-share-about-to-get-more-interesting\" typeof=\"schema:Article\" class=\"node node--type-article node--promoted node--view-mode-full\"&gt;\\n    &lt;div id=\"nodeid\" data-nid=\"360096\" style=\"display:none\"&gt;&lt;/div&gt;\\n\\n    \\n          &lt;span property=\"schema:name\" content=\"Tecfidera, Gilenya and Aubagio&amp;#039;s 3-way battle for MS share is about to heat up\" class=\"rdf-meta hidden\"&gt;&lt;/span&gt;\\n\\n\\n    &lt;footer class=\"node__meta\"&gt;\\n        &lt;div class=\"node__submitted\"&gt;\\n                            by                                    &lt;a href=\"/author/tracy-staton\"&gt;Tracy Staton&lt;/a&gt;                                | \\n            &lt;div&gt;&lt;time datetime=\"2016-10-31T10:54:17Z\" property=\"schema:datePublished\"&gt;Oct 31, 2016 6:54am&lt;/time&gt;\\n&lt;/div&gt;\\n      \\n                    &lt;/div&gt;\\n    &lt;/footer&gt;\\n\\n    &lt;div class=\"thumbnail-image\"&gt;\\n                                            \\n            &lt;div&gt;\\n            &lt;div&gt;    &lt;img srcset=\"http://qtxasset.com/styles/breakpoint_md_448px_w/s3fs/2016-10/AubagioHiRes.jpg?ET_NtbtD7HjpJMK87s.lvy34GT0IObkS&amp;amp;itok=XOvwBmjY 448w, http://qtxasset.com/styles/breakpoint_l_640px_w/s3fs/2016-10/AubagioHiRes.jpg?3DFKlgg6SthfXwfRkLvKVvLObBBr1iQr&amp;amp;itok=VOrOZoF- 640w, http://qtxasset.com/styles/breakpoint_sm_800px_w/s3fs/2016-10/AubagioHiRes.jpg?8tzT8EG3O_RzdDxcgXSlpNbAdOJ8dsyS&amp;amp;itok=7-Lr5QZY 800w, http://qtxasset.com/styles/breakpoint_xl_880px_w/s3fs/2016-10/AubagioHiRes.jpg?h9zDDRdULDgBc.iXvPvki8MvyNsQm6_2&amp;amp;itok=riLfXSuq 880w\" sizes=\"(min-width:1220px) 880px, (min-width: 980px) and (max-width: 1219px) 640px, (min-width: 788px) 448px, min-width: 481px) 800px\" src=\"http://qtxasset.com/styles/breakpoint_sm_default_480px_w/s3fs/2016-10/AubagioHiRes.jpg?CGxDlKfg0trkAa771.JcaWxfWwX9z8hr&amp;amp;itok=Unng66oF\" alt=\"\" typeof=\"foaf:Image\" /&gt;\\n\\n\\n&lt;/div&gt;\\n      &lt;/div&gt;\\n      \\n            \\n            &lt;div class=\"caption\"&gt;\\n                            \\n                &lt;/div&gt;\\n                        &lt;/div&gt;\\n\\n    &lt;div class=\"node__container\"&gt;\\n                    &lt;div class=\"social-container stickem-container\"&gt;\\n                &lt;div class=\"social-share stickem\"&gt;&lt;span class=\"a2a_kit a2a_kit_size_32 addtoany_list\" data-a2a-url=\"http://www.fiercepharma.com/marketing/tecfidera-gilenya-and-aubagio-s-3-way-battle-for-ms-share-about-to-get-more-interesting\" data-a2a-title=\"Tecfidera, Gilenya and Aubagio&amp;#039;s 3-way battle for MS share is about to heat up\"&gt;&lt;a class=\"a2a_dd addtoany_share_save\" href=\"https://www.addtoany.com/share#url=http%3A%2F%2Fwww.fiercepharma.com%2Fmarketing%2Ftecfidera-gilenya-and-aubagio-s-3-way-battle-for-ms-share-about-to-get-more-interesting&amp;amp;title=Tecfidera%2C%20Gilenya%20and%20Aubagio%26%23039%3Bs%203-way%20battle%20for%20MS%20share%20is%20about%20to%20heat%20up\"&gt;&lt;/a&gt;&lt;a class=\"a2a_button_facebook\"&gt;&lt;/a&gt;\\r\\n&lt;a class=\"a2a_button_twitter\"&gt;&lt;/a&gt;\\r\\n&lt;a class=\"a2a_button_linkedin\"&gt;&lt;/a&gt;\\r\\n&lt;a class=\"a2a_button_email\"&gt;&lt;/a&gt;\\r\\n&lt;a class=\"a2a_button_print\"&gt;&lt;/a&gt;&lt;/span&gt;\\n&lt;/div&gt;\\n            &lt;/div&gt;\\n        \\n        &lt;div class=\"node__content\"&gt;\\n            \\n            &lt;div property=\"schema:articleBody\"&gt;&lt;p&gt;Multiple sclerosis drugmakers are in a fix: These days, the U.S. market isn’t delivering the kind of growth that had been fueling big increases in sales.&lt;/p&gt;\\n\\n&lt;p&gt;For high-flying pills from Biogen (Tecfidera) and Novartis (Gilenya), that could mean an unwelcome comedown. It definitely means  the coming market-share battle will grow even more competitive than before. If the quickest way to grow sales is to steal share, you can bet Tecfidera and Gilenya--and their up-and-coming rival med from Sanofi, Aubagio--will be working hard to do just that.&lt;/p&gt;\\n\\n&lt;p&gt;Thing is, Biogen isn’t on that sort of growth trajectory. It’s the market leader--with 51% share of the oral market and 20% of MS overall, as EVP Michel Vounatsos hastened to point out during the company’s earnings call with analysts last week. But Tecfidera’s 10% growth during the &lt;a href=\"http://newsroom.biogen.com/press-release/investor-relations/biogen-reports-record-third-quarter-2016-revenues-30-billion\"&gt;quarter&lt;/a&gt; largely depended on &lt;a href=\"http://www.fiercepharma.com/pharma/amgen-bids-farewell-to-enbrel-price-hikes-and-big-sales-boosts-they-brought\"&gt;price increases&lt;/a&gt;, the company disclosed in a securities filing the next day.&lt;/p&gt;\\n\\n&lt;p&gt;Gilenya, on the other hand, grew by 15%, and in its earnings &lt;a href=\"https://www.novartis.com/news/media-releases/novartis-delivered-solid-third-quarter-growth-products1-offsetting-gleevec\"&gt;announcement&lt;/a&gt;, the Swiss drugmaker said that growth wasn’t based on price, but volume. That’s not to say Gilenya doesn’t have some troubling signs in its Q3 stats; pharma chief Paul Hudson said script numbers have been “broadly flat but a little bit down”--which suggests the overall market slowdown hasn’t been without its effect on Gilenya, too.&lt;/p&gt;\\n\\n&lt;p&gt;Neither Biogen nor Novartis plans to stick with the status quo. Biogen is grappling with Tecfidera’s gastrointestinal side effects, and various MS specialists are working on ways to manage that; 22% of Tecfidera patients quit because of GI issues, and keeping patients on therapy would obviously help sales. &lt;/p&gt;\\n\\n&lt;p&gt;The Tecfidera team is pilot-testing a new “engagement model” at top treatment centers, with plans to roll it out by January. “The team in the U.S. is all up and running,” Vounatsos said during the call. “I’m very pleased to see the perception improvement, and now we have to continue to execute.”&lt;/p&gt;\\n\\n&lt;p&gt;On the advertising side, Biogen recently backed off a &lt;a href=\"http://www.fiercepharma.com/marketing/biogen-s-controversial-tecfidera-ad-about-to-meet-its-end\"&gt;TV campaign&lt;/a&gt; that had stirred up some controversy in the MS community, and the company said at the time that it didn’t plan more television in the immediate future, though it is running other DTC promos. &lt;/p&gt;\\n\\n&lt;p&gt;Novartis is running with its Hey MS, Take This! &lt;a href=\"http://www.gilenya.com/loadHeyMS.do?method=loadMessage\"&gt;campaign&lt;/a&gt; for Gilenya, which launched in 2014 and has since won kudos--and made inroads--particularly with its digital and social media work. Besides print and web video, the campaign invites patients to “tell relapsing MS exactly where to go,” and many have, both on the campaign’s website and via social media. They’ve also shared what they do to manage their MS.&lt;/p&gt;\\n\\n&lt;div data-oembed-url=\"https://www.youtube.com/watch?feature=player_detailpage&amp;amp;v=zTdJe-tz-rg#t=13\"&gt;\\n&lt;div&gt;\\n&lt;div style=\"left: 0px; width: 100%; height: 0px; position: relative; padding-bottom: 56.2493%;\"&gt;&lt;iframe allowfullscreen=\"\" frameborder=\"0\" src=\"https://www.youtube.com/embed/zTdJe-tz-rg?wmode=transparent&amp;amp;rel=0&amp;amp;autohide=1&amp;amp;showinfo=0&amp;amp;enablejsapi=1&amp;amp;start=13\" style=\"top: 0px; left: 0px; width: 100%; height: 100%; position: absolute;\"&gt;&lt;/iframe&gt;&lt;/div&gt;\\n&lt;/div&gt;\\n&lt;/div&gt;\\n\\n&lt;p&gt;Novartis apparently believes that Gilenya DTC and salesforce work, coupled with a steady stream of new data, will keep the brand’s volume growing enough to avoid using price as a driver. The company has “some sensible plans” for growth, without “a big impact ... on price,” Hudson said during the Q3 call. “We are ...  looking forward to the energy into Q4,” he said.&lt;/p&gt;\\n\\n&lt;p&gt;Meanwhile, the big leaper of the quarter was Aubagio, Sanofi’s slow-to-start entry in the class. Sales of that drug &lt;a href=\"http://mediaroom.sanofi.com/sanofi-announces-strong-q3-2016-results/\"&gt;grew&lt;/a&gt; by almost 50% to 334 million euros during the quarter--and that was driven by growth in the U.S. Its 9-month revenue amounted to 928 million euros, a 57% hike. The French drugmaker quickly bragged that Aubagio is the “fastest-growing oral disease modifying therapy” in MS, with a U.S. share of 9%--far far below Tecfidera’s, but rising. This time last year, Sanofi was happy to report it had captured a 6% share.&lt;/p&gt;\\n\\n&lt;p&gt;What’s spurring Aubagio on? The company has been running a &lt;a href=\"https://takeactionms.aubagio.com\"&gt;campaign&lt;/a&gt; with Revenge star Madeleine Stowe since late 2014, for one; the actor has been traveling across the U.S. doing awareness events. The Lights! Camera! Take Action! partnership most recently rolled out a series of “webisodes” featuring Stowe in interviews with MS patients--a common theme in awareness campaigns--but also with nurses, physical therapists and others with advice for MS patients and their caregivers.&lt;/p&gt;\\n\\n&lt;div data-oembed-url=\"http://d384furucdjr2f.cloudfront.net/genzyme/takeactionms/Genzyme_Webisodes_Episode%201_PR6432_090716_540p.mp4\"&gt;\\n&lt;div&gt;\\n&lt;div style=\"left: 0px; width: 100%; height: 0px; position: relative; padding-bottom: 56.25%;\"&gt;&lt;iframe allowfullscreen=\"\" frameborder=\"0\" src=\"//cdn.iframe.ly/api/iframe?url=http%3A%2F%2Fd384furucdjr2f.cloudfront.net%2Fgenzyme%2Ftakeactionms%2FGenzyme_Webisodes_Episode%25201_PR6432_090716_540p.mp4&amp;amp;key=5a82ccc8caa9bb33ac6f2d668fcf304b\" style=\"top: 0px; left: 0px; width: 100%; height: 100%; position: absolute;\"&gt;&lt;/iframe&gt;&lt;/div&gt;\\n&lt;/div&gt;\\n&lt;/div&gt;\\n\\n&lt;p&gt;The drug's brand website also has a share-your-story channel, and Sanofi has put other promo work under a tagline, \"Aubagio quiets MS.\" The company has set out a goal of €2 billion in sales by 2020 for its entire franchise; if Aubagio and its fellow med Lemtrada keep delivering as they are, the company could actually hit that target sooner. \"In MS, we continued to gain share, and sales from the franchise are now approaching €2 billion on an annualized basis,\" CEO Olivier Brandicourt said during the company's Q3 call.&lt;/p&gt;\\n\\n&lt;p&gt;Biogen’s Vounatsos may have summed it up for the entire oral market when he pledged to fight the good fight on Tecfidera last week. “The base of the market is certainly lower than what we have estimated in our assumptions, but it's not an excuse for not increasing share,” he said.&lt;/p&gt;\\n\\n&lt;p&gt;There’s a confounding factor, however: The group of oral treatments may get some unwanted rivals in a few years. Novartis could face earlier-than-expected Gilenya generics, thanks to some recent patent decisions. As early as 2019, in fact--and that would give these three meds just a few more years to divvy up share just among themselves. Add to that the&lt;a href=\"http://www.fiercepharma.com/pharma/payers-keep-squeeze-ms-drugmakers-and-they-may-just-take-their-tactics-elsewhere\"&gt; payer pressure &lt;/a&gt;that's increasingly a problem, and the price-increase growth option looks even less likely.&lt;/p&gt;\\n\\n&lt;p&gt;&lt;strong&gt;Related Articles:&lt;/strong&gt;&lt;br /&gt;&lt;a href=\"http://www.fiercepharma.com/pharma/amgen-bids-farewell-to-enbrel-price-hikes-and-big-sales-boosts-they-brought\"&gt;Biogen’s Tecfidera, Amgen’s Enbrel tell a tale of pricing power and weakness&lt;/a&gt;&lt;br /&gt;&lt;a href=\"http://www.fiercepharma.com/marketing/novartis-could-have-a-blockbuster-ms-market-all-to-itself-thanks-to-new-spms-beating\"&gt;Novartis could snag a blockbuster MS market all for itself, just in time to fight Gilenya generics&lt;/a&gt;&lt;br /&gt;&lt;a href=\"http://www.fiercepharma.com/marketing/biogen-s-controversial-tecfidera-ad-about-to-meet-its-end\"&gt;Biogen's controversial Tecfidera ad is about to meet its end&lt;/a&gt;&lt;br /&gt;&lt;a href=\"http://www.fiercepharma.com/marketing/biogen-sees-new-tecfidera-buzz-as-dtc-marketing-push-kicks\"&gt;Biogen sees new Tecfidera buzz as DTC, marketing push kicks in&lt;/a&gt;&lt;br /&gt;&lt;a href=\"http://www.fiercepharma.com/marketing/buoyed-by-rising-tide-of-aubagio-scripts-sanofi-aims-for-€2b-ms-sales\"&gt;Buoyed by rising tide of Aubagio scripts, Sanofi aims for €2B in MS sales&lt;/a&gt;&lt;br /&gt;&lt;a href=\"http://www.fiercepharma.com/legal/early-gilenya-generics-now-spell-trouble-for-rival-ms-drugs\"&gt;Early Gilenya generics now spell trouble for rival MS drugs&lt;/a&gt;&lt;/p&gt;\\n&lt;/div&gt;\\n      \\n\\n                            &lt;div class=\"keywords-topics\"&gt;\\n                    &lt;strong&gt;Read more on&lt;/strong&gt;\\n                    &lt;div class=\"item-list--comma-list\"&gt;\\n                        &lt;a href=\"/topic/multiple-sclerosis\" hreflang=\"und\"&gt;multiple sclerosis&lt;/a&gt;,                    &lt;a href=\"/topic/drug-launch\" hreflang=\"und\"&gt;drug launch&lt;/a&gt;,                    &lt;a href=\"/topic/generics\" hreflang=\"und\"&gt;generics&lt;/a&gt;,                    &lt;a href=\"/topic/payer\" hreflang=\"und\"&gt;payer&lt;/a&gt;,                    &lt;a href=\"/keyword/sanofi\" hreflang=\"und\"&gt;Sanofi&lt;/a&gt;,                    &lt;a href=\"/keyword/aubagio\" hreflang=\"und\"&gt;Aubagio&lt;/a&gt;,                    &lt;a href=\"/keyword/tecfidera\" hreflang=\"und\"&gt;Tecfidera&lt;/a&gt;,                    &lt;a href=\"/keyword/biogen\" hreflang=\"und\"&gt;Biogen&lt;/a&gt;,                    &lt;a href=\"/keyword/novartis\" hreflang=\"und\"&gt;Novartis&lt;/a&gt;,                    &lt;a href=\"/keyword/gilenya\" hreflang=\"und\"&gt;Gilenya&lt;/a&gt;            &lt;/div&gt;\\n\\n                &lt;/div&gt;\\n            \\n        &lt;/div&gt;\\n    &lt;/div&gt;\\n\\n&lt;/article&gt;\\n\\n  &lt;/div&gt;\\n&lt;div id=\"block-tektitegenericarticlebottomadblock\" class=\"block block-tektite-generic-blocks block-tektite-generic-ad-article-bottom\"&gt;\\n  \\n    \\n                      &lt;div id='article-bottom'&gt;\\n                &lt;script type='text/javascript'&gt;\\n                document.addEventListener(\"googletagEvent\", function() {\\n                googletag.cmd.push(function() { googletag.display('article-bottom'); });\\n                });\\n                &lt;/script&gt;\\n                &lt;/div&gt;\\n  &lt;/div&gt;\\n&lt;div id=\"block-tektitetaboolablock\" class=\"block block-tektite-taboola block-tektite-taboola-block\"&gt;\\n  \\n    \\n                      &lt;div id='taboola-block'&gt;\\n                \\n                \\n                &lt;div id=\"taboola-below-article-thumbnails-internal\"&gt;&lt;/div&gt;\\n                &lt;script type=\"text/javascript\"&gt;\\n                window._taboola = window._taboola || [];\\n                _taboola.push({\\n                mode: 'organic-thumbnails-b',\\n                container: 'taboola-below-article-thumbnails-internal',\\n                placement: 'Below Article Thumbnails-internal',\\n                target_type: 'mix'\\n                });\\n                 &lt;/script&gt;\\n\\n                &lt;div id=\"taboola-below-article-thumbnails\"&gt;&lt;/div&gt;\\n                &lt;script type=\"text/javascript\"&gt;\\n                window._taboola = window._taboola || [];\\n                _taboola.push({\\n                mode: 'thumbnails-b',\\n                container: 'taboola-below-article-thumbnails',\\n                placement: 'Below Article Thumbnails',\\n                target_type: 'mix'\\n                });\\n                &lt;/script&gt;\\n\\n                \\n                &lt;/div&gt;\\n  &lt;/div&gt;\\n\\n  &lt;/div&gt;\\n\\n\\n      &lt;/div&gt;\\n\\n      &lt;aside id=\"sidebar-second\" role=\"complimentary\"&gt;\\n      &lt;section class=\"sidebar-container\"&gt;\\n          &lt;div class=\"region region-sidebar-second\"&gt;\\n    &lt;div id=\"block-tektitegenericadsidebarblock\" class=\"block block-tektite-generic-blocks block-tektite-generic-ad-sidebar\"&gt;\\n  \\n    \\n                      &lt;div id='sidebar-ad'&gt;\\n                  &lt;script type='text/javascript'&gt;\\n                    document.addEventListener(\"googletagEvent\", function() {\\n                      googletag.cmd.push(function() { googletag.display('sidebar-ad'); });\\n                    });\\n                  &lt;/script&gt;\\n                &lt;/div&gt;\\n  &lt;/div&gt;\\n&lt;div id=\"block-tektitegenericnewsletterblock\" class=\"block block-tektite-generic-blocks block-tektite-generic-newsletter-multi\"&gt;\\n  \\n    \\n      &lt;script src=\"//app-sj10.marketo.com/js/forms2/js/forms2.min.js\" defer&gt;&lt;/script&gt;&lt;form id='mktoForm_12997'&gt;&lt;/form&gt;\\n  &lt;/div&gt;\\n\\n  &lt;/div&gt;\\n\\n\\n                  &lt;div class=\"bottom\"&gt;\\n              &lt;div class=\"region region-sidebar-bottom\"&gt;\\n    &lt;div id=\"block-tektitegenericadsidebarblock2\" class=\"block block-tektite-generic-blocks block-tektite-generic-ad-sidebar2\"&gt;\\n  \\n    \\n                      &lt;div id='sidebar-ad2'&gt;\\n                  &lt;script type='text/javascript'&gt;\\n                    document.addEventListener(\"googletagEvent\", function() {\\n                      googletag.cmd.push(function() { googletag.display('sidebar-ad2'); });\\n                    });\\n                  &lt;/script&gt;\\n                &lt;/div&gt;\\n  &lt;/div&gt;\\n&lt;div id=\"block-popularcontentfromparsely\" class=\"block block-tektite-generic-blocks block-popular-content-from-parsely\"&gt;\\n  \\n      &lt;h2 class=\"block-title\"&gt;Popular Content &lt;/h2&gt;\\n    \\n      \\n  &lt;ul&gt;\\n         \\n      \\n      \\t&lt;li&gt;&lt;h3 class=\"list-title\"&gt;&lt;a href=\"http://www.fiercepharma.com/marketing/pfizer-puts-hemophilia-spin-ultrapopular-minecraft-to-educate-young-patients\"&gt;Pfizer puts hemophilia spin on ultrapopular Minecraft to educate young patients&lt;/a&gt;&lt;/h3&gt; \\n      \\t\\t\\n      \\t\\tSep 06, 2017 \\n     \\t\\t&lt;/li&gt;\\n      \\t\\n\\n    \\t      \\n      \\n      \\t&lt;li&gt;&lt;h3 class=\"list-title\"&gt;&lt;a href=\"http://www.fiercepharma.com/marketing/clinical-trial-company-enlists-pharma-and-biopharma-for-patient-empowerment-campaign\"&gt;Takeda, Johnson &amp;amp; Johnson and more join Clara Health&amp;#039;s Boston-based patient empowerment push&lt;/a&gt;&lt;/h3&gt; \\n      \\t\\t\\n      \\t\\tSep 06, 2017 \\n     \\t\\t&lt;/li&gt;\\n      \\t\\n\\n    \\t      \\n      \\n      \\t&lt;li&gt;&lt;h3 class=\"list-title\"&gt;&lt;a href=\"http://www.fiercepharma.com/marketing/empathy-at-work-gsk-extends-excedrin-migraine-campaign-to-include-sufferers-job\"&gt;Empathy at work: GlaxoSmithKline extends Excedrin Migraine campaign to include sufferers on the job&lt;/a&gt;&lt;/h3&gt; \\n      \\t\\t\\n      \\t\\tSep 04, 2017 \\n     \\t\\t&lt;/li&gt;\\n      \\t\\n\\n    \\t      \\n      \\n      \\t&lt;li&gt;&lt;h3 class=\"list-title\"&gt;&lt;a href=\"http://www.fiercepharma.com/marketing/what-s-world-s-best-pharma-market-to-allergan-s-ceo-one-s-easy\"&gt;What&amp;#039;s the world&amp;#039;s best pharma market? To Allergan&amp;#039;s CEO, that one&amp;#039;s easy&lt;/a&gt;&lt;/h3&gt; \\n      \\t\\t\\n      \\t\\tAug 07, 2017 \\n     \\t\\t&lt;/li&gt;\\n      \\t\\n\\n    \\t      \\n      \\n      \\t&lt;li&gt;&lt;h3 class=\"list-title\"&gt;&lt;a href=\"http://www.fiercepharma.com/marketing/roche-nets-new-actemra-nod-to-treat-deadly-car-t-response\"&gt;Roche nets new Actemra nod to treat deadly CAR-T response&lt;/a&gt;&lt;/h3&gt; \\n      \\t\\t\\n      \\t\\tSep 01, 2017 \\n     \\t\\t&lt;/li&gt;\\n      \\t\\n\\n    \\t \\n\\n  &lt;/ul&gt;\\n\\n\\n  &lt;/div&gt;\\n&lt;div class=\"views-element-container block block-views block-views-blockauthor-block-1\" id=\"block-tektite-pharma-views-block-author-block-1\"&gt;\\n  \\n      &lt;h2 class=\"block-title\"&gt;About the Author&lt;/h2&gt;\\n    \\n      &lt;div&gt;&lt;div class=\"js-view-dom-id-e15ad7c9de40a25f8bc27640a5c06c372f1fed1aeb54adcc9250092c91251388\"&gt;\\n  \\n  \\n  \\n\\n  \\n  \\n  \\n\\n      &lt;div class=\"views-row\"&gt;\\n    &lt;div class=\"views-field views-field-field-author-image\"&gt;&lt;div class=\"field-content\"&gt;  &lt;a href=\"/author/tracy-staton\"&gt;&lt;img src=\"http://qtxasset.com/field/image/tstaton.jpg?ueVlW0PYLevSZZ.YABlg26ybeimkq80D\" width=\"260\" height=\"260\" alt=\"Tracy Staton\" typeof=\"foaf:Image\" /&gt;\\n&lt;/a&gt;\\n&lt;/div&gt;&lt;/div&gt;&lt;div class=\"views-field views-field-title\"&gt;&lt;span class=\"field-content\"&gt;&lt;div class=\"author-block-info\"&gt;\\n&lt;div class=\"title\"&gt;&lt;a href=\"/author/tracy-staton\" hreflang=\"en\"&gt;Tracy Staton&lt;/a&gt;&lt;/div&gt;\\n&lt;div class=\"job\"&gt;Editor-in-Chief&lt;/div&gt;\\n&lt;div class=\"email\"&gt;&lt;a href=\"mailto:tracy@fiercemarkets.com\"&gt;tracy@fiercemarkets.com&lt;/a&gt;&lt;/div&gt;\\n&lt;div class=\"twitter\"&gt;&lt;a href=\"https://twitter.com/TracyStaton\" target=\"_blank\"&gt;https://twitter.com/TracyStaton&lt;/a&gt;&lt;/div&gt;\\n&lt;div class=\"linkedin\"&gt;&lt;/div&gt;\\n&lt;div class=\"facebook\"&gt;&lt;/div&gt;\\n&lt;div class=\"instagram\"&gt;&lt;/div&gt;\\n&lt;/div&gt;&lt;/span&gt;&lt;/div&gt;\\n  &lt;/div&gt;\\n\\n  \\n  \\n\\n  \\n  \\n\\n  \\n  \\n&lt;/div&gt;\\n&lt;/div&gt;\\n\\n  &lt;/div&gt;\\n&lt;div id=\"block-tektitegenericadhouseblock\" class=\"block block-tektite-generic-blocks block-tektite-generic-ad-house\"&gt;\\n  \\n    \\n                      &lt;div id='sidebar-ad3'&gt;\\n                  &lt;script type='text/javascript'&gt;\\n                    document.addEventListener(\"googletagEvent\", function() {\\n                      googletag.cmd.push(function() { googletag.display('sidebar-ad3'); });\\n                    });\\n                  &lt;/script&gt;\\n                &lt;/div&gt;\\n  &lt;/div&gt;\\n\\n  &lt;/div&gt;\\n\\n          &lt;/div&gt;\\n              &lt;/section&gt;\\n    &lt;/aside&gt;\\n  &lt;/main&gt;\\n\\n\\n\\n  &lt;footer id=\"footer\" role=\"contentinfo\"&gt;\\n    &lt;div class=\"wrapper\"&gt;\\n        &lt;div class=\"region region-footer\"&gt;\\n    &lt;div id=\"block-tektitefooterblock\" class=\"block block-tektite-generic-blocks block-generic-footer-block\"&gt;\\n  \\n    \\n      &lt;div id=\"questex\"&gt;\\n    &lt;div class=\"footer-logo\"&gt;\\n        &lt;a class=\"logo\" href=\"http://questex.com\"&gt;\\n            &lt;img alt=\"\" src=\"/themes/custom/tektite/assets/images/footer-questex.svg\" /&gt;\\n        &lt;/a&gt;\\n    &lt;/div&gt;\\n    &lt;div class=\"social-icons\"&gt;\\n        &lt;a class=\"icon icon-facebook-official\" href='https://www.facebook.com/Questex-LLC-514978955241030/'&gt;&lt;/a&gt;\\n        &lt;a class=\"icon icon-twitter\" href='https://twitter.com/QuestexLLC'&gt;&lt;/a&gt;\\n        &lt;a class=\"icon icon-linkedin-squared\" href='https://www.linkedin.com/company/questex-media-group?trk=top_nav_home'&gt;&lt;/a&gt;\\n    &lt;/div&gt;​\\n&lt;/div&gt;\\n\\n\\n    &lt;ul class=\"menu\"&gt;\\n                    &lt;li&gt;&lt;a href=\"/\"&gt;\\n                    Home&lt;/a&gt;&lt;/li&gt;\\n\\n                    &lt;li&gt;&lt;a href=\"https://pages.questexweb.com/FiercePharma-Newsletter-Signup.html\"&gt;\\n                    Subscribe&lt;/a&gt;&lt;/li&gt;\\n\\n                    &lt;li&gt;&lt;a href=\"https://pages.questexweb.com/Manage-Subscriptions_Manage-Your-Subscriptions.html?\"&gt;\\n                    Manage Newsletter Subscriptions&lt;/a&gt;&lt;/li&gt;\\n\\n                    &lt;li&gt;&lt;a href=\"/advertise-us\"&gt;\\n                    Advertise&lt;/a&gt;&lt;/li&gt;\\n\\n                    &lt;li&gt;&lt;a href=\"/rss-feeds\"&gt;\\n                    RSS&lt;/a&gt;&lt;/li&gt;\\n\\n                    &lt;li&gt;&lt;a href=\"http://www.questex.com/privacy-policy\"&gt;\\n                    Privacy&lt;/a&gt;&lt;/li&gt;\\n\\n                    &lt;li&gt;&lt;a href=\"/about-us\"&gt;\\n                    About Us&lt;/a&gt;&lt;/li&gt;\\n\\n                    &lt;li&gt;&lt;a href=\"/contact\"&gt;\\n                    Contact&lt;/a&gt;&lt;/li&gt;\\n\\n        \\n    &lt;/ul&gt;\\n\\n&lt;p&gt;\\n  &lt;span&gt;© 2017 Questex LLC. All rights reserved.&lt;/span&gt;\\n  &lt;span&gt;275 Grove Street, Suite 2-130 Newton, MA 02466&lt;/span&gt;\\n  &lt;span&gt;Reproduction in whole or part is prohibited.&lt;/span&gt;\\n&lt;/p&gt;\\n\\n  &lt;/div&gt;\\n\\n  &lt;/div&gt;\\n\\n    &lt;/div&gt;\\n  &lt;/footer&gt;\\n\\n      \\n    &lt;/div&gt;\\n\\n    &lt;script type=\"application/json\" data-drupal-selector=\"drupal-settings-json\"&gt;{\"path\":{\"baseUrl\":\"\\/\",\"scriptPath\":null,\"pathPrefix\":\"\",\"currentPath\":\"node\\/360096\",\"currentPathIsAdmin\":false,\"isFront\":false,\"currentLanguage\":\"en\"},\"pluralDelimiter\":\"\\u0003\",\"ajaxPageState\":{\"libraries\":\"addtoany\\/addtoany,core\\/html5shiv,core\\/picturefill,qtx_tracking\\/recorder,system\\/base,tektite\\/global-css,tektite\\/global-js,tektite\\/theme-fonts,tektite\\/webfont.js,tektite_fierce\\/GTMscripts,tektite_fierce\\/fonts-js,tektite_fierce\\/marketo-js,tektite_fierce\\/override-css,tektite_fierce\\/override-js,views\\/views.module\",\"theme\":\"tektite_fierce\",\"theme_token\":null},\"ajaxTrustedUrl\":{\"form_action_p_pvdeGsVG5zNF_XLGPTvYSKCf43t8qZYSwcfZl2uzM\":true},\"tektite_fierce\":{\"gtm_key\":\"GTM-KLQFWCZ\",\"marketo_id\":\"12997\"},\"qtx_tracking\":{\"referral\":{\"comesFromSearchEngine\":\"false\"}},\"user\":{\"uid\":0,\"permissionsHash\":\"55f2fcabf143e91119fc5948c8acd644daabe1eb5a8e549c0bbc55f1fa50db1c\"}}&lt;/script&gt;\\n&lt;script src=\"/sites/fiercepharma/files/js/js_DdXIKt68jGany_F78Mxy_6Rv5aLF94bA6_npMbGnkV4.js\"&gt;&lt;/script&gt;\\n&lt;script src=\"/sites/fiercepharma/files/js/js_RAAkRjKDTRtA-hRvJnNtAsOejg9BJYVnpNFg-pHjLaI.js\"&gt;&lt;/script&gt;\\n&lt;script src=\"//static.addtoany.com/menu/page.js\" async&gt;&lt;/script&gt;\\n&lt;script src=\"/sites/fiercepharma/files/js/js_h46WxI_ZFc-5EIjP50SF3PiJ-JkJB5QSuAq-UN0jkXI.js\"&gt;&lt;/script&gt;\\n&lt;script src=\"//ajax.googleapis.com/ajax/libs/webfont/1.6.26/webfont.js\" async&gt;&lt;/script&gt;\\n&lt;script src=\"/sites/fiercepharma/files/js/js_kSvTRDeClTrCukoXnpcc-RGGguZfb5rGmky3VdXu6OA.js\" defer&gt;&lt;/script&gt;\\n\\n\\n    &lt;!-- Start Parse.ly Include: Standard --&gt;\\n    &lt;div id=\"parsely-root\" style=\"display: none\"&gt;\\n      &lt;div id=\"parsely-cfg\" data-parsely-site=\"fiercepharma.com\"&gt;&lt;/div&gt;\\n    &lt;/div&gt;\\n    &lt;script&gt;\\n    (function(s, p, d) {\\n      var h=d.location.protocol, i=p+\"-\"+s,\\n          e=d.getElementById(i), r=d.getElementById(p+\"-root\"),\\n          u=h===\"https:\"?\"d1z2jf7jlzjs58.cloudfront.net\"\\n          :\"static.\"+p+\".com\";\\n      if (e) return;\\n      e = d.createElement(s); e.id = i; e.async = true;\\n      e.src = h+\"//\"+u+\"/p.js\"; r.appendChild(e);\\n    })(\"script\", \"parsely\", document);\\n    &lt;/script&gt;\\n    &lt;!-- End Parse.ly Include --&gt;\\n\\n    &lt;!-- Start Taboola --&gt;\\n    &lt;script type=\"text/javascript\"&gt;\\n      window._taboola = window._taboola || [];\\n      _taboola.push({flush: true});\\n    &lt;/script&gt;\\n    &lt;!-- End Taboola --&gt;\\n\\n  &lt;script type=\"text/javascript\"&gt;window.NREUM||(NREUM={});NREUM.info={\"beacon\":\"bam.nr-data.net\",\"licenseKey\":\"44925d6b58\",\"applicationID\":\"51794171\",\"transactionName\":\"NFBaMhZVDRIHABUPCg0aeQUQXQwPSScTExUCWWQHEUAMEgcVBDkDDEdVOiJbEQw6IhQSChBUTgMiWxEMJBYICgEGRxVYFlENBQMRMQoEAFBQCQhQBhMgDBMLJABBUQkK\",\"queueTime\":0,\"applicationTime\":424,\"atts\":\"GBdZRF5PHhw=\",\"errorBeacon\":\"bam.nr-data.net\",\"agent\":\"\"}&lt;/script&gt;&lt;/body&gt;\\n&lt;/html&gt;\\n</td>\n",
       "    </tr>\n",
       "    <tr>\n",
       "      <th>1</th>\n",
       "      <td>2</td>\n",
       "      <td>&lt;!DOCTYPE html&gt;\\n&lt;html lang=\"en\" dir=\"ltr\" xmlns:article=\"http://ogp.me/ns/article#\" xmlns:book=\"http://ogp.me/ns/book#\" xmlns:product=\"http://ogp.me/ns/product#\" xmlns:profile=\"http://ogp.me/ns/profile#\" xmlns:video=\"http://ogp.me/ns/video#\" prefix=\"content: http://purl.org/rss/1.0/modules/content/  dc: http://purl.org/dc/terms/  foaf: http://xmlns.com/foaf/0.1/  og: http://ogp.me/ns#  rdfs: http://www.w3.org/2000/01/rdf-schema#  schema: http://schema.org/  sioc: http://rdfs.org/sioc/ns#  sioct: http://rdfs.org/sioc/types#  skos: http://www.w3.org/2004/02/skos/core#  xsd: http://www.w3.org/2001/XMLSchema# \"&gt;\\n  &lt;head&gt;\\n    &lt;meta charset=\"utf-8\" /&gt;&lt;script type=\"text/javascript\"&gt;window.NREUM||(NREUM={}),__nr_require=function(e,n,t){function r(t){if(!n[t]){var o=n[t]={exports:{}};e[t][0].call(o.exports,function(n){var o=e[t][1][n];return r(o||n)},o,o.exports)}return n[t].exports}if(\"function\"==typeof __nr_require)return __nr_require;for(var o=0;o&lt;t.length;o++)r(t[o]);return r}({1:[function(e,n,t){function r(){}function o(e,n,t){return function(){return i(e,[c.now()].concat(u(arguments)),n?null:this,t),n?void 0:this}}var i=e(\"handle\"),a=e(2),u=e(3),f=e(\"ee\").get(\"tracer\"),c=e(\"loader\"),s=NREUM;\"undefined\"==typeof window.newrelic&amp;&amp;(newrelic=s);var p=[\"setPageViewName\",\"setCustomAttribute\",\"setErrorHandler\",\"finished\",\"addToTrace\",\"inlineHit\",\"addRelease\"],d=\"api-\",l=d+\"ixn-\";a(p,function(e,n){s[n]=o(d+n,!0,\"api\")}),s.addPageAction=o(d+\"addPageAction\",!0),s.setCurrentRouteName=o(d+\"routeName\",!0),n.exports=newrelic,s.interaction=function(){return(new r).get()};var m=r.prototype={createTracer:function(e,n){var t={},r=this,o=\"function\"==typeof n;return i(l+\"tracer\",[c.now(),e,t],r),function(){if(f.emit((o?\"\":\"no-\")+\"fn-start\",[c.now(),r,o],t),o)try{return n.apply(this,arguments)}finally{f.emit(\"fn-end\",[c.now()],t)}}}};a(\"setName,setAttribute,save,ignore,onEnd,getContext,end,get\".split(\",\"),function(e,n){m[n]=o(l+n)}),newrelic.noticeError=function(e){\"string\"==typeof e&amp;&amp;(e=new Error(e)),i(\"err\",[e,c.now()])}},{}],2:[function(e,n,t){function r(e,n){var t=[],r=\"\",i=0;for(r in e)o.call(e,r)&amp;&amp;(t[i]=n(r,e[r]),i+=1);return t}var o=Object.prototype.hasOwnProperty;n.exports=r},{}],3:[function(e,n,t){function r(e,n,t){n||(n=0),\"undefined\"==typeof t&amp;&amp;(t=e?e.length:0);for(var r=-1,o=t-n||0,i=Array(o&lt;0?0:o);++r&lt;o;)i[r]=e[n+r];return i}n.exports=r},{}],4:[function(e,n,t){n.exports={exists:\"undefined\"!=typeof window.performance&amp;&amp;window.performance.timing&amp;&amp;\"undefined\"!=typeof window.performance.timing.navigationStart}},{}],ee:[function(e,n,t){function r(){}function o(e){function n(e){return e&amp;&amp;e instanceof r?e:e?f(e,u,i):i()}function t(t,r,o,i){if(!d.aborted||i){e&amp;&amp;e(t,r,o);for(var a=n(o),u=m(t),f=u.length,c=0;c&lt;f;c++)u[c].apply(a,r);var p=s[y[t]];return p&amp;&amp;p.push([b,t,r,a]),a}}function l(e,n){v[e]=m(e).concat(n)}function m(e){return v[e]||[]}function w(e){return p[e]=p[e]||o(t)}function g(e,n){c(e,function(e,t){n=n||\"feature\",y[t]=n,n in s||(s[n]=[])})}var v={},y={},b={on:l,emit:t,get:w,listeners:m,context:n,buffer:g,abort:a,aborted:!1};return b}function i(){return new r}function a(){(s.api||s.feature)&amp;&amp;(d.aborted=!0,s=d.backlog={})}var u=\"nr@context\",f=e(\"gos\"),c=e(2),s={},p={},d=n.exports=o();d.backlog=s},{}],gos:[function(e,n,t){function r(e,n,t){if(o.call(e,n))return e[n];var r=t();if(Object.defineProperty&amp;&amp;Object.keys)try{return Object.defineProperty(e,n,{value:r,writable:!0,enumerable:!1}),r}catch(i){}return e[n]=r,r}var o=Object.prototype.hasOwnProperty;n.exports=r},{}],handle:[function(e,n,t){function r(e,n,t,r){o.buffer([e],r),o.emit(e,n,t)}var o=e(\"ee\").get(\"handle\");n.exports=r,r.ee=o},{}],id:[function(e,n,t){function r(e){var n=typeof e;return!e||\"object\"!==n&amp;&amp;\"function\"!==n?-1:e===window?0:a(e,i,function(){return o++})}var o=1,i=\"nr@id\",a=e(\"gos\");n.exports=r},{}],loader:[function(e,n,t){function r(){if(!x++){var e=h.info=NREUM.info,n=d.getElementsByTagName(\"script\")[0];if(setTimeout(s.abort,3e4),!(e&amp;&amp;e.licenseKey&amp;&amp;e.applicationID&amp;&amp;n))return s.abort();c(y,function(n,t){e[n]||(e[n]=t)}),f(\"mark\",[\"onload\",a()+h.offset],null,\"api\");var t=d.createElement(\"script\");t.src=\"https://\"+e.agent,n.parentNode.insertBefore(t,n)}}function o(){\"complete\"===d.readyState&amp;&amp;i()}function i(){f(\"mark\",[\"domContent\",a()+h.offset],null,\"api\")}function a(){return E.exists&amp;&amp;performance.now?Math.round(performance.now()):(u=Math.max((new Date).getTime(),u))-h.offset}var u=(new Date).getTime(),f=e(\"handle\"),c=e(2),s=e(\"ee\"),p=window,d=p.document,l=\"addEventListener\",m=\"attachEvent\",w=p.XMLHttpRequest,g=w&amp;&amp;w.prototype;NREUM.o={ST:setTimeout,SI:p.setImmediate,CT:clearTimeout,XHR:w,REQ:p.Request,EV:p.Event,PR:p.Promise,MO:p.MutationObserver};var v=\"\"+location,y={beacon:\"bam.nr-data.net\",errorBeacon:\"bam.nr-data.net\",agent:\"js-agent.newrelic.com/nr-1044.min.js\"},b=w&amp;&amp;g&amp;&amp;g[l]&amp;&amp;!/CriOS/.test(navigator.userAgent),h=n.exports={offset:u,now:a,origin:v,features:{},xhrWrappable:b};e(1),d[l]?(d[l](\"DOMContentLoaded\",i,!1),p[l](\"load\",r,!1)):(d[m](\"onreadystatechange\",o),p[m](\"onload\",r)),f(\"mark\",[\"firstbyte\",u],null,\"api\");var x=0,E=e(4)},{}]},{},[\"loader\"]);&lt;/script&gt;\\n&lt;script&gt;const LIFT_SEGMENTS_KEY='lift-segments';Reader={getValueFromCookie:function(key){var b=window.document.cookie.match('(^|;)\\\\s*'+key+'\\\\s*=\\\\s*([^;]+)');return b?decodeURIComponent(b.pop()):'';},getLiftSegments:function(){return this.getValueFromCookie(LIFT_SEGMENTS_KEY);},getReferrerMetaTag:function(){return document.head.querySelector(\"[name=qtx-referrer]\");},isSearchEngineReferral:function(){var metaTag=this.getReferrerMetaTag();return metaTag!==null;}};var dataLayerValues={};var segments=Reader.getLiftSegments();if(segments){dataLayerValues.lftsegment=segments;}\\ndataLayerValues.qtxSearchEngineReferral=Reader.isSearchEngineReferral();dataLayer=[dataLayerValues];&lt;/script&gt;\\n&lt;meta itemprop=\"acquia_lift:content_title\" content=\"Novo equipped to weather the storm in the U.S. diabetes market, CEO says\" /&gt;\\n&lt;meta itemprop=\"acquia_lift:content_type\" content=\"article\" /&gt;\\n&lt;meta itemprop=\"acquia_lift:page_type\" content=\"node page\" /&gt;\\n&lt;meta itemprop=\"acquia_lift:content_section\" content=\"Financials,--homepage--,Pharma\" /&gt;\\n&lt;meta itemprop=\"acquia_lift:content_keywords\" content=\"Novo Nordisk\" /&gt;\\n&lt;meta itemprop=\"acquia_lift:post_id\" content=\"360027\" /&gt;\\n&lt;meta itemprop=\"acquia_lift:published_date\" content=\"1477664531\" /&gt;\\n&lt;meta itemprop=\"acquia_lift:persona\" content=\"\" /&gt;\\n&lt;meta itemprop=\"acquia_lift:engagement_score\" content=\"1\" /&gt;\\n&lt;meta itemprop=\"acquia_lift:author\" content=\"epalmer\" /&gt;\\n&lt;meta itemprop=\"acquia_lift:account_id\" content=\"FierceMarkets\" /&gt;\\n&lt;meta itemprop=\"acquia_lift:site_id\" content=\"fiercepharma\" /&gt;\\n&lt;meta itemprop=\"acquia_lift:liftAssetsURL\" content=\"https://lift3assets.lift.acquia.com/stable\" /&gt;\\n&lt;meta itemprop=\"acquia_lift:contentReplacementMode\" content=\"untrusted\" /&gt;\\n&lt;script src=\"https://lift3assets.lift.acquia.com/stable/lift.js\" defer&gt;&lt;/script&gt;\\n&lt;meta name=\"gtm-article\" content=\"360027\" /&gt;\\n&lt;meta name=\"gtm-contenttype\" content=\"Article\" /&gt;\\n&lt;meta name=\"gtm-keywords\" content=\"Novo Nordisk\" /&gt;\\n&lt;meta name=\"gtm-topics\" content=\"financials\" /&gt;\\n&lt;meta name=\"title\" content=\"Novo equipped to weather the storm in the U.S. diabetes market, CEO says | FiercePharma\" /&gt;\\n&lt;meta name=\"parsely-author\" content=\"Eric Palmer\" /&gt;\\n&lt;meta name=\"parsely-image-url\" content=\"\" /&gt;\\n&lt;meta name=\"parsely-link\" content=\"http://www.fiercepharma.com/pharma/novo-equipped-to-weather-storm-u-s-diabetes-market-ceo-says\" /&gt;\\n&lt;meta name=\"parsely-metadata\" content=\"article\" /&gt;\\n&lt;meta name=\"parsely-pub-date\" content=\"2016-10-28T10:02:31-0400\" /&gt;\\n&lt;meta name=\"parsely-tags\" content=\"Novo Nordisk, financials\" /&gt;\\n&lt;meta name=\"parsely-title\" content=\"Novo equipped to weather the storm in the U.S. diabetes market, CEO says\" /&gt;\\n&lt;meta name=\"parsely-type\" content=\"post\" /&gt;\\n&lt;meta name=\"gtm-section\" content=\"Pharma\" /&gt;\\n&lt;meta name=\"description\" content=\"Novo Nordisk is facing a future of price decreases and pressured profits in the U.S., but the organization is equipped to thrive in such a hostile pricing environment, CEO Lars Sørensen insists. It will do that by calling on its experience in Europe.\" /&gt;\\n&lt;meta name=\"keywords\" content=\"Novo Nordisk financials\" /&gt;\\n&lt;meta name=\"parsely-section\" content=\"Pharma\" /&gt;\\n&lt;meta property=\"og:image\" content=\"http://qtxasset.com/2016-09/larssorenson2.png?k0cU5ns8L7HApUMj1PnmwIK0o.9oJdu2\" /&gt;\\n&lt;meta name=\"referrer\" content=\"no-referrer\" /&gt;\\n&lt;meta name=\"Generator\" content=\"Drupal 8 (https://www.drupal.org)\" /&gt;\\n&lt;meta name=\"MobileOptimized\" content=\"width\" /&gt;\\n&lt;meta name=\"HandheldFriendly\" content=\"true\" /&gt;\\n&lt;meta name=\"viewport\" content=\"width=device-width, initial-scale=1.0\" /&gt;\\n&lt;link rel=\"shortcut icon\" href=\"/themes/custom/tektite_fierce/favicon.ico\" type=\"image/vnd.microsoft.icon\" /&gt;\\n&lt;link rel=\"alternate\" type=\"application/rss+xml\" href=\"http://www.fiercepharma.com/rss/xml\" /&gt;\\n&lt;link rel=\"canonical\" href=\"/pharma/novo-equipped-to-weather-storm-u-s-diabetes-market-ceo-says\" /&gt;\\n&lt;link rel=\"shortlink\" href=\"/node/360027\" /&gt;\\n&lt;link rel=\"revision\" href=\"/pharma/novo-equipped-to-weather-storm-u-s-diabetes-market-ceo-says\" /&gt;\\n&lt;script&gt;(function(w,d,s,l,i){w[l]=w[l]||[];w[l].push({'gtm.start':new Date().getTime(),event:'gtm.js'});var f=d.getElementsByTagName(s)[0];var j=d.createElement(s);var dl=l!='dataLayer'?'&amp;amp;l='+l:'';j.src='https://www.googletagmanager.com/gtm.js?id='+i+dl+'';j.async=true;f.parentNode.insertBefore(j,f);})(window,document,'script','dataLayer','GTM-KLQFWCZ');&lt;/script&gt;\\n&lt;script&gt;window.a2a_config=window.a2a_config||{};a2a_config.callbacks=a2a_config.callbacks||[];a2a_config.templates=a2a_config.templates||{};a2a_config.onclick = 1;\\r\\na2a_config.orientation = \"down\";\\r\\na2a_config.icon_color = \"transparent\";\\r\\na2a_config.color_link_text = \"666666\";\\r\\na2a_config.color_link_text_hover = \"333333\";&lt;/script&gt;\\n&lt;style&gt;.a2a_menu, .a2a_menu_find_container { border-radius: 0 !important; }\\r\\n.a2a_menu .a2a_mini_services a span { background-color: #666666 !important; }\\r\\n.a2a_menu .a2a_mini_services a:hover span { background-color: #333333 !important; }&lt;/style&gt;\\n\\n    &lt;title&gt;Novo equipped to weather the storm in the U.S. diabetes market, CEO says | FiercePharma&lt;/title&gt;\\n    &lt;link rel=\"stylesheet\" href=\"/sites/fiercepharma/files/css/css_SU4tYtYmriNajhtRxlkVqjjbKbVdHaFjVFd0gx5gDuM.css?ovgnfq\" media=\"all\" /&gt;\\n&lt;link rel=\"stylesheet\" href=\"/sites/fiercepharma/files/css/css_4YxNtJUEdtogsWyzNkWYMeig_ib1DFtCI5hTWvg3_O0.css?ovgnfq\" media=\"all\" /&gt;\\n\\n\\n      &lt;script type=\"text/javascript\"&gt;\\n          /*! modernizr 3.3.1 (Custom Build) | MIT *\\n * http://modernizr.com/download/?-details-inputtypes-touchevents-addtest-prefixes-setclasses-teststyles !*/\\n!function(e,t,n){function o(e,t){return typeof e===t}function i(){var e,t,n,i,s,a,r;for(var l in d)if(d.hasOwnProperty(l)){if(e=[],t=d[l],t.name&amp;&amp;(e.push(t.name.toLowerCase()),t.options&amp;&amp;t.options.aliases&amp;&amp;t.options.aliases.length))for(n=0;n&lt;t.options.aliases.length;n++)e.push(t.options.aliases[n].toLowerCase());for(i=o(t.fn,\"function\")?t.fn():t.fn,s=0;s&lt;e.length;s++)a=e[s],r=a.split(\".\"),1===r.length?Modernizr[r[0]]=i:(!Modernizr[r[0]]||Modernizr[r[0]]instanceof Boolean||(Modernizr[r[0]]=new Boolean(Modernizr[r[0]])),Modernizr[r[0]][r[1]]=i),u.push((i?\"\":\"no-\")+r.join(\"-\"))}}function s(e){var t=m.className,n=Modernizr._config.classPrefix||\"\";if(v&amp;&amp;(t=t.baseVal),Modernizr._config.enableJSClass){var o=new RegExp(\"(^|\\\\s)\"+n+\"no-js(\\\\s|$)\");t=t.replace(o,\"$1\"+n+\"js$2\")}Modernizr._config.enableClasses&amp;&amp;(t+=\" \"+n+e.join(\" \"+n),v?m.className.baseVal=t:m.className=t)}function a(e,t){if(\"object\"==typeof e)for(var n in e)h(e,n)&amp;&amp;a(n,e[n]);else{e=e.toLowerCase();var o=e.split(\".\"),i=Modernizr[o[0]];if(2==o.length&amp;&amp;(i=i[o[1]]),\"undefined\"!=typeof i)return Modernizr;t=\"function\"==typeof t?t():t,1==o.length?Modernizr[o[0]]=t:(!Modernizr[o[0]]||Modernizr[o[0]]instanceof Boolean||(Modernizr[o[0]]=new Boolean(Modernizr[o[0]])),Modernizr[o[0]][o[1]]=t),s([(t&amp;&amp;0!=t?\"\":\"no-\")+o.join(\"-\")]),Modernizr._trigger(e,t)}return Modernizr}function r(){return\"function\"!=typeof t.createElement?t.createElement(arguments[0]):v?t.createElementNS.call(t,\"http://www.w3.org/2000/svg\",arguments[0]):t.createElement.apply(t,arguments)}function l(){var e=t.body;return e||(e=r(v?\"svg\":\"body\"),e.fake=!0),e}function f(e,n,o,i){var s,a,f,u,d=\"modernizr\",c=r(\"div\"),p=l();if(parseInt(o,10))for(;o--;)f=r(\"div\"),f.id=i?i[o]:d+(o+1),c.appendChild(f);return s=r(\"style\"),s.type=\"text/css\",s.id=\"s\"+d,(p.fake?p:c).appendChild(s),p.appendChild(c),s.styleSheet?s.styleSheet.cssText=e:s.appendChild(t.createTextNode(e)),c.id=d,p.fake&amp;&amp;(p.style.background=\"\",p.style.overflow=\"hidden\",u=m.style.overflow,m.style.overflow=\"hidden\",m.appendChild(p)),a=n(c,e),p.fake?(p.parentNode.removeChild(p),m.style.overflow=u,m.offsetHeight):c.parentNode.removeChild(c),!!a}var u=[],d=[],c={_version:\"3.3.1\",_config:{classPrefix:\"\",enableClasses:!0,enableJSClass:!0,usePrefixes:!0},_q:[],on:function(e,t){var n=this;setTimeout(function(){t(n[e])},0)},addTest:function(e,t,n){d.push({name:e,fn:t,options:n})},addAsyncTest:function(e){d.push({name:null,fn:e})}},Modernizr=function(){};Modernizr.prototype=c,Modernizr=new Modernizr;var p=c._config.usePrefixes?\" -webkit- -moz- -o- -ms- \".split(\" \"):[\"\",\"\"];c._prefixes=p;var h,m=t.documentElement,v=\"svg\"===m.nodeName.toLowerCase();!function(){var e={}.hasOwnProperty;h=o(e,\"undefined\")||o(e.call,\"undefined\")?function(e,t){return t in e&amp;&amp;o(e.constructor.prototype[t],\"undefined\")}:function(t,n){return e.call(t,n)}}(),c._l={},c.on=function(e,t){this._l[e]||(this._l[e]=[]),this._l[e].push(t),Modernizr.hasOwnProperty(e)&amp;&amp;setTimeout(function(){Modernizr._trigger(e,Modernizr[e])},0)},c._trigger=function(e,t){if(this._l[e]){var n=this._l[e];setTimeout(function(){var e,o;for(e=0;e&lt;n.length;e++)(o=n[e])(t)},0),delete this._l[e]}},Modernizr._q.push(function(){c.addTest=a});var y=r(\"input\"),g=\"search tel url email datetime date month week time datetime-local number range color\".split(\" \"),_={};Modernizr.inputtypes=function(e){for(var o,i,s,a=e.length,r=\"1)\",l=0;a&gt;l;l++)y.setAttribute(\"type\",o=e[l]),s=\"text\"!==y.type&amp;&amp;\"style\"in y,s&amp;&amp;(y.value=r,y.style.cssText=\"position:absolute;visibility:hidden;\",/^range$/.test(o)&amp;&amp;y.style.WebkitAppearance!==n?(m.appendChild(y),i=t.defaultView,s=i.getComputedStyle&amp;&amp;\"textfield\"!==i.getComputedStyle(y,null).WebkitAppearance&amp;&amp;0!==y.offsetHeight,m.removeChild(y)):/^(search|tel)$/.test(o)||(s=/^(url|email)$/.test(o)?y.checkValidity&amp;&amp;y.checkValidity()===!1:y.value!=r)),_[e[l]]=!!s;return _}(g);var w=c.testStyles=f;Modernizr.addTest(\"touchevents\",function(){var n;if(\"ontouchstart\"in e||e.DocumentTouch&amp;&amp;t instanceof DocumentTouch)n=!0;else{var o=[\"@media (\",p.join(\"touch-enabled),(\"),\"heartz\",\")\",\"{#modernizr{top:9px;position:absolute}}\"].join(\"\");w(o,function(e){n=9===e.offsetTop})}return n}),Modernizr.addTest(\"details\",function(){var e,t=r(\"details\");return\"open\"in t?(w(\"#modernizr details{display:block}\",function(n){n.appendChild(t),t.innerHTML=\"&lt;summary&gt;a&lt;/summary&gt;b\",e=t.offsetHeight,t.open=!0,e=e!=t.offsetHeight}),e):!1}),i(),s(u),delete c.addTest,delete c.addAsyncTest;for(var b=0;b&lt;Modernizr._q.length;b++)Modernizr._q[b]();e.Modernizr=Modernizr}(window,document);\\n      &lt;/script&gt;\\n\\n    \\n&lt;!--[if lte IE 8]&gt;\\n&lt;script src=\"/sites/fiercepharma/files/js/js_VtafjXmRvoUgAzqzYTA3Wrjkx9wcWhjP0G4ZnnqRamA.js\"&gt;&lt;/script&gt;\\n&lt;![endif]--&gt;\\n&lt;script src=\"//use.typekit.net/bmi3gnp.js\" async defer&gt;&lt;/script&gt;\\n&lt;script src=\"/sites/fiercepharma/files/js/js_ozV2cpnXKyS-tjjiGBrrhmvVIfqVqBKSf9c4k8FrQpo.js\" async defer&gt;&lt;/script&gt;\\n\\n\\n    &lt;!-- Start Taboola --&gt;\\n    &lt;script type=\"text/javascript\"&gt;\\n      window._taboola = window._taboola || [];\\n      _taboola.push({article:'auto'});\\n      !function (e, f, u) {\\n        e.async = 1;\\n        e.src = u;\\n        f.parentNode.insertBefore(e, f);\\n      }(document.createElement('script'),\\n        document.getElementsByTagName('script')[0],\\n        '//cdn.taboola.com/libtrc/questex-network/loader.js');\\n    &lt;/script&gt;\\n    &lt;!-- End Taboola --&gt;\\n\\n    &lt;link rel=\"apple-touch-icon\" sizes=\"57x57\" href=\"/themes/custom/tektite_fierce/apple-touch-icon-57x57.png?v=wAAmkK2yLl\"&gt;\\n    &lt;link rel=\"apple-touch-icon\" sizes=\"60x60\" href=\"/themes/custom/tektite_fierce/apple-touch-icon-60x60.png?v=wAAmkK2yLl\"&gt;\\n    &lt;link rel=\"apple-touch-icon\" sizes=\"72x72\" href=\"/themes/custom/tektite_fierce/apple-touch-icon-72x72.png?v=wAAmkK2yLl\"&gt;\\n    &lt;link rel=\"apple-touch-icon\" sizes=\"76x76\" href=\"/themes/custom/tektite_fierce/apple-touch-icon-76x76.png?v=wAAmkK2yLl\"&gt;\\n    &lt;link rel=\"apple-touch-icon\" sizes=\"114x114\" href=\"/themes/custom/tektite_fierce/apple-touch-icon-114x114.png?v=wAAmkK2yLl\"&gt;\\n    &lt;link rel=\"apple-touch-icon\" sizes=\"120x120\" href=\"/themes/custom/tektite_fierce/apple-touch-icon-120x120.png?v=wAAmkK2yLl\"&gt;\\n    &lt;link rel=\"apple-touch-icon\" sizes=\"144x144\" href=\"/themes/custom/tektite_fierce/apple-touch-icon-144x144.png?v=wAAmkK2yLl\"&gt;\\n    &lt;link rel=\"apple-touch-icon\" sizes=\"152x152\" href=\"/themes/custom/tektite_fierce/apple-touch-icon-152x152.png?v=wAAmkK2yLl\"&gt;\\n    &lt;link rel=\"apple-touch-icon\" sizes=\"180x180\" href=\"/themes/custom/tektite_fierce/apple-touch-icon-180x180.png?v=wAAmkK2yLl\"&gt;\\n    &lt;link rel=\"icon\" type=\"image/png\" href=\"/themes/custom/tektite_fierce/favicon-32x32.png?v=wAAmkK2yLl\" sizes=\"32x32\"&gt;\\n    &lt;link rel=\"icon\" type=\"image/png\" href=\"/themes/custom/tektite_fierce/favicon-194x194.png?v=wAAmkK2yLl\" sizes=\"194x194\"&gt;\\n    &lt;link rel=\"icon\" type=\"image/png\" href=\"/themes/custom/tektite_fierce/favicon-96x96.png?v=wAAmkK2yLl\" sizes=\"96x96\"&gt;\\n    &lt;link rel=\"icon\" type=\"image/png\" href=\"/themes/custom/tektite_fierce/android-chrome-192x192.png?v=wAAmkK2yLl\" sizes=\"192x192\"&gt;\\n    &lt;link rel=\"icon\" type=\"image/png\" href=\"/themes/custom/tektite_fierce/favicon-16x16.png?v=wAAmkK2yLl\" sizes=\"16x16\"&gt;\\n    &lt;link rel=\"manifest\" href=\"/themes/custom/tektite_fierce/manifest.json?v=wAAmkK2yLl\"&gt;\\n    &lt;link rel=\"mask-icon\" href=\"/themes/custom/tektite_fierce/safari-pinned-tab.svg?v=wAAmkK2yLl\" color=\"#002358\"&gt;\\n    &lt;link rel=\"shortcut icon\" href=\"/themes/custom/tektite_fierce/favicon.ico?v=wAAmkK2yLl\"&gt;\\n    &lt;meta name=\"msapplication-TileColor\" content=\"#da532c\"&gt;\\n    &lt;meta name=\"msapplication-TileImage\" content=\"/themes/custom/tektite_fierce/mstile-144x144.png?v=wAAmkK2yLl\"&gt;\\n    &lt;meta name=\"theme-color\" content=\"#ffffff\"&gt;\\n  &lt;/head&gt;\\n\\n  &lt;body class=\"sidebar-second path-node page-node-type-article\"&gt;\\n\\n    &lt;div class=\"page-container\"&gt;\\n      &lt;a href=\"#main-content\" class=\"visually-hidden focusable\"&gt;Skip to main content&lt;/a&gt;\\n      &lt;noscript&gt;&lt;iframe src=\"https://www.googletagmanager.com/ns.html?id=GTM-KLQFWCZ\" height=\"0\" width=\"0\"&gt;&lt;/iframe&gt;&lt;/noscript&gt;\\n      \\n&lt;div id=\"scrollProgress\"&gt;&lt;/div&gt;\\n\\n  &lt;div id=\"header-top\"&gt;\\n    &lt;div class=\"wrapper\"&gt;\\n        &lt;div class=\"region region-header-top\"&gt;\\n    &lt;div id=\"block-tektitegenericadinterstitialblock\" class=\"block block-tektite-generic-blocks block-tektite-generic-ad-interstitial\"&gt;\\n  \\n    \\n                      &lt;div id='interstitial'&gt;\\n                  &lt;script type='text/javascript'&gt;\\n                    document.addEventListener(\"googletagEvent\", function() {\\n                      googletag.cmd.push(function() { googletag.display('interstitial'); });\\n                    });\\n                  &lt;/script&gt;\\n                &lt;/div&gt;\\n  &lt;/div&gt;\\n&lt;div id=\"block-tektitegenericmobileadhesionadblock\" class=\"block block-tektite-generic-blocks block-tektite-generic-ad-mobile-adhesion\"&gt;\\n  \\n    \\n                      &lt;div id='mobile-adhesion'&gt;\\n                &lt;script type='text/javascript'&gt;\\n                document.addEventListener(\"googletagEvent\", function() {\\n                googletag.cmd.push(function() { googletag.display('mobile-adhesion'); });\\n                });\\n                &lt;/script&gt;\\n                &lt;/div&gt;\\n  &lt;/div&gt;\\n&lt;div id=\"block-tektitegenericadwallpaperblock\" class=\"block block-tektite-generic-blocks block-tektite-generic-ad-wallpaper\"&gt;\\n  \\n    \\n                      &lt;div id='wallpaper'&gt;\\n                  &lt;script type='text/javascript'&gt;\\n                    document.addEventListener(\"googletagEvent\", function() {\\n                      googletag.cmd.push(function() { googletag.display('wallpaper'); });\\n                    });\\n                  &lt;/script&gt;\\n                &lt;/div&gt;\\n  &lt;/div&gt;\\n&lt;div id=\"block-tektitegenericadheaderblock\" class=\"block block-tektite-generic-blocks block-tektite-generic-ad-header\"&gt;\\n  \\n    \\n                      &lt;div id='header-ad-wrapper'&gt;\\n                &lt;div id='header-ad'&gt;\\n                  &lt;script type='text/javascript'&gt;\\n                    document.addEventListener(\"googletagEvent\", function() {\\n                      googletag.cmd.push(function() { googletag.display('header-ad'); });\\n                    });\\n                  &lt;/script&gt;\\n                &lt;/div&gt;\\n                &lt;/div&gt;\\n  &lt;/div&gt;\\n\\n  &lt;/div&gt;\\n\\n    &lt;/div&gt;\\n  &lt;/div&gt;\\n\\n  &lt;header id=\"header\" role=\"banner\"&gt;\\n    &lt;div class=\"wrapper\"&gt;\\n        &lt;div class=\"region region-header\"&gt;\\n    &lt;div id=\"block-tektitesocialshareblock\" class=\"block block-tektite-generic-blocks block-social-share-block\"&gt;\\n  \\n    \\n                                          &lt;a class=\"icon icon-twitter\" href='https://twitter.com/fiercepharma'&gt;Twitter&lt;/a&gt;\\n                                            &lt;a class=\"icon icon-linkedin-squared\" href='https://www.linkedin.com/groups/5042642'&gt;LinkedIn&lt;/a&gt;\\n                    \\n  &lt;/div&gt;\\n&lt;div class=\"search-api-page-block-form block block-search-api-page block-search-api-page-form-block\" data-drupal-selector=\"search-api-page-block-form\" autocomplete=\"off\" id=\"block-searchapipagesearchblockform\"&gt;\\n  \\n    \\n      &lt;form action=\"/pharma/novo-equipped-to-weather-storm-u-s-diabetes-market-ceo-says\" method=\"post\" id=\"search-api-page-block-form\" accept-charset=\"UTF-8\"&gt;\\n  &lt;div class=\"js-form-item form-item js-form-type-search form-type-search js-form-item-keys form-item-keys form-no-label\"&gt;\\n      &lt;label for=\"edit-keys\" class=\"visually-hidden\"&gt;Search&lt;/label&gt;\\n        &lt;input title=\"Enter the terms you wish to search for.\" data-drupal-selector=\"edit-keys\" type=\"search\" id=\"edit-keys\" name=\"keys\" value=\"\" size=\"15\" maxlength=\"128\" class=\"form-search\" /&gt;\\n\\n        &lt;/div&gt;\\n&lt;input data-drupal-selector=\"form-5stba1k3ulrcg9iru9d9wmabn3vidrmwv4ue1mxvzlm\" type=\"hidden\" name=\"form_build_id\" value=\"form-5StbA1K3ulRcG9IrU9d9WmAbN3vidrmwv4UE1MxVzlM\" /&gt;\\n&lt;input data-drupal-selector=\"edit-search-api-page-block-form\" type=\"hidden\" name=\"form_id\" value=\"search_api_page_block_form\" /&gt;\\n&lt;div data-drupal-selector=\"edit-actions\" class=\"form-actions js-form-wrapper form-wrapper\" id=\"edit-actions\"&gt;&lt;input data-drupal-selector=\"edit-submit\" type=\"submit\" id=\"edit-submit\" name=\"op\" value=\"Search\" class=\"button js-form-submit form-submit\" /&gt;\\n&lt;/div&gt;\\n\\n&lt;/form&gt;\\n\\n  &lt;/div&gt;\\n&lt;nav role=\"navigation\" aria-labelledby=\"block-topmenu-menu\" id=\"block-topmenu\" class=\"block block-menu navigation menu--top-menu\"&gt;\\n            \\n  &lt;h2 class=\"visually-hidden\" id=\"block-topmenu-menu\"&gt;Top Menu&lt;/h2&gt;\\n  \\n\\n        \\n              &lt;ul class=\"menu\"&gt;\\n                    &lt;li class=\"menu-item\"&gt;\\n        &lt;a href=\"http://www.fiercedrugdevforum.com/\"&gt;DDF 2017&lt;/a&gt;\\n              &lt;/li&gt;\\n                &lt;li class=\"menu-item\"&gt;\\n        &lt;a href=\"http://www.fiercebiotech.com/\"&gt;FierceBiotech&lt;/a&gt;\\n              &lt;/li&gt;\\n                &lt;li class=\"menu-item\"&gt;\\n        &lt;a href=\"http://jobs.fiercebiotech.com/\"&gt;Jobs&lt;/a&gt;\\n              &lt;/li&gt;\\n                &lt;li class=\"menu-item\"&gt;\\n        &lt;a href=\"/resources\" data-drupal-link-system-path=\"resources\"&gt;Resources&lt;/a&gt;\\n              &lt;/li&gt;\\n                &lt;li class=\"menu-item\"&gt;\\n        &lt;a href=\"/events\"&gt;Events&lt;/a&gt;\\n              &lt;/li&gt;\\n                &lt;li class=\"menu-item\"&gt;\\n        &lt;a href=\"https://pages.questexweb.com/FiercePharma-Newsletter-Signup.html\" title=\"Subscribe\"&gt;Subscribe&lt;/a&gt;\\n              &lt;/li&gt;\\n        &lt;/ul&gt;\\n  \\n\\n\\n  &lt;/nav&gt;\\n&lt;div id=\"block-tektite-pharma-branding\" class=\"block block-system block-system-branding-block\"&gt;\\n  \\n    \\n              &lt;div class=\"site-logo\"&gt;\\n            &lt;a href=\"/\" title=\"Home\" rel=\"home\"&gt;\\n                &lt;img src=\"/themes/custom/tektite_fierce/assets/images/logo/logo-pharma.svg\" alt=\"Home\"/&gt;\\n            &lt;/a&gt;\\n        &lt;/div&gt;\\n    \\n    &lt;div class=\"questex-logo\"&gt;\\n        &lt;a href=\"http://questex.com\" target=\"_blank\" title=\"Questex\"&gt;\\n            &lt;img src=\"/themes/custom/tektite/assets/images/logo-questex.svg\" alt=\"Questex\"/&gt;\\n        &lt;/a&gt;\\n    &lt;/div&gt;\\n\\n    &lt;/div&gt;\\n&lt;nav role=\"navigation\" aria-labelledby=\"block-mainnavigation-menu\" id=\"block-mainnavigation\" class=\"block block-menu navigation menu--main\"&gt;\\n            \\n  &lt;h2 class=\"visually-hidden\" id=\"block-mainnavigation-menu\"&gt;Main navigation&lt;/h2&gt;\\n  \\n\\n        \\n              &lt;ul class=\"menu\"&gt;\\n                    &lt;li class=\"menu-item menu-item--expanded\"&gt;\\n        &lt;a href=\"/pharma\" data-drupal-link-system-path=\"taxonomy/term/201\"&gt;Pharma&lt;/a&gt;\\n                                &lt;ul class=\"menu\"&gt;\\n                    &lt;li class=\"menu-item\"&gt;\\n        &lt;a href=\"/pharma/m-a\" data-drupal-link-system-path=\"taxonomy/term/206\"&gt;M&amp;amp;A&lt;/a&gt;\\n              &lt;/li&gt;\\n                &lt;li class=\"menu-item\"&gt;\\n        &lt;a href=\"/pharma/regulatory\" data-drupal-link-system-path=\"taxonomy/term/211\"&gt;Regulatory&lt;/a&gt;\\n              &lt;/li&gt;\\n                &lt;li class=\"menu-item\"&gt;\\n        &lt;a href=\"/pharma/financials\" data-drupal-link-system-path=\"taxonomy/term/221\"&gt;Financials&lt;/a&gt;\\n              &lt;/li&gt;\\n                &lt;li class=\"menu-item\"&gt;\\n        &lt;a href=\"/pharma/corporate\" data-drupal-link-system-path=\"taxonomy/term/231\"&gt;Corporate&lt;/a&gt;\\n              &lt;/li&gt;\\n                &lt;li class=\"menu-item\"&gt;\\n        &lt;a href=\"/pharma/legal\" data-drupal-link-system-path=\"taxonomy/term/236\"&gt;Legal&lt;/a&gt;\\n              &lt;/li&gt;\\n        &lt;/ul&gt;\\n  \\n              &lt;/li&gt;\\n                &lt;li class=\"menu-item menu-item--expanded\"&gt;\\n        &lt;a href=\"/manufacturing\" data-drupal-link-system-path=\"taxonomy/term/166\"&gt;Manufacturing&lt;/a&gt;\\n                                &lt;ul class=\"menu\"&gt;\\n                    &lt;li class=\"menu-item\"&gt;\\n        &lt;a href=\"/manufacturing/m-a\" data-drupal-link-system-path=\"taxonomy/term/171\"&gt;M&amp;amp;A&lt;/a&gt;\\n              &lt;/li&gt;\\n                &lt;li class=\"menu-item\"&gt;\\n        &lt;a href=\"/manufacturing/outsourcing\" data-drupal-link-system-path=\"taxonomy/term/176\"&gt;Outsourcing&lt;/a&gt;\\n              &lt;/li&gt;\\n                &lt;li class=\"menu-item\"&gt;\\n        &lt;a href=\"/manufacturing/regulatory\" data-drupal-link-system-path=\"taxonomy/term/181\"&gt;Regulatory&lt;/a&gt;\\n              &lt;/li&gt;\\n                &lt;li class=\"menu-item\"&gt;\\n        &lt;a href=\"/manufacturing/supply-chain\" data-drupal-link-system-path=\"taxonomy/term/186\"&gt;Supply Chain&lt;/a&gt;\\n              &lt;/li&gt;\\n                &lt;li class=\"menu-item\"&gt;\\n        &lt;a href=\"/manufacturing/partnering\" data-drupal-link-system-path=\"taxonomy/term/196\"&gt;Partnering&lt;/a&gt;\\n              &lt;/li&gt;\\n                &lt;li class=\"menu-item\"&gt;\\n        &lt;a href=\"/manufacturing/drug-safety\" data-drupal-link-system-path=\"taxonomy/term/191\"&gt;Drug Safety&lt;/a&gt;\\n              &lt;/li&gt;\\n        &lt;/ul&gt;\\n  \\n              &lt;/li&gt;\\n                &lt;li class=\"menu-item menu-item--expanded\"&gt;\\n        &lt;a href=\"/marketing\" data-drupal-link-system-path=\"taxonomy/term/126\"&gt;Marketing&lt;/a&gt;\\n                                &lt;ul class=\"menu\"&gt;\\n                    &lt;li class=\"menu-item\"&gt;\\n        &lt;a href=\"/marketing/regulatory\" data-drupal-link-system-path=\"taxonomy/term/356\"&gt;Regulatory&lt;/a&gt;\\n              &lt;/li&gt;\\n                &lt;li class=\"menu-item\"&gt;\\n        &lt;a href=\"/marketing/dtc-advertising\" data-drupal-link-system-path=\"taxonomy/term/131\"&gt;DTC Advertising&lt;/a&gt;\\n              &lt;/li&gt;\\n                &lt;li class=\"menu-item\"&gt;\\n        &lt;a href=\"/marketing/digital-and-social-media\" data-drupal-link-system-path=\"taxonomy/term/141\"&gt;Digital and Social Media&lt;/a&gt;\\n              &lt;/li&gt;\\n                &lt;li class=\"menu-item\"&gt;\\n        &lt;a href=\"/marketing/data-and-analytics\" data-drupal-link-system-path=\"taxonomy/term/151\"&gt;Data and Analytics&lt;/a&gt;\\n              &lt;/li&gt;\\n                &lt;li class=\"menu-item\"&gt;\\n        &lt;a href=\"/marketing/launches\" data-drupal-link-system-path=\"taxonomy/term/161\"&gt;Launches&lt;/a&gt;\\n              &lt;/li&gt;\\n        &lt;/ul&gt;\\n  \\n              &lt;/li&gt;\\n                &lt;li class=\"menu-item menu-item--expanded\"&gt;\\n        &lt;a href=\"/pharma-asia\" data-drupal-link-system-path=\"taxonomy/term/91\"&gt;Pharma Asia&lt;/a&gt;\\n                                &lt;ul class=\"menu\"&gt;\\n                    &lt;li class=\"menu-item\"&gt;\\n        &lt;a href=\"/pharma-asia/m-a\" data-drupal-link-system-path=\"taxonomy/term/96\"&gt;M&amp;amp;A&lt;/a&gt;\\n              &lt;/li&gt;\\n                &lt;li class=\"menu-item\"&gt;\\n        &lt;a href=\"/pharma-asia/r-d\" data-drupal-link-system-path=\"taxonomy/term/101\"&gt;R&amp;amp;D&lt;/a&gt;\\n              &lt;/li&gt;\\n                &lt;li class=\"menu-item\"&gt;\\n        &lt;a href=\"/pharma-asia/regulatory\" data-drupal-link-system-path=\"taxonomy/term/106\"&gt;Regulatory&lt;/a&gt;\\n              &lt;/li&gt;\\n                &lt;li class=\"menu-item\"&gt;\\n        &lt;a href=\"/pharma-asia/sales-and-marketing\" data-drupal-link-system-path=\"taxonomy/term/111\"&gt;Sales and Marketing&lt;/a&gt;\\n              &lt;/li&gt;\\n                &lt;li class=\"menu-item\"&gt;\\n        &lt;a href=\"/pharma-asia/financials\" data-drupal-link-system-path=\"taxonomy/term/121\"&gt;Financials&lt;/a&gt;\\n              &lt;/li&gt;\\n                &lt;li class=\"menu-item\"&gt;\\n        &lt;a href=\"/pharma-asia/manufacturing\" data-drupal-link-system-path=\"taxonomy/term/33286\"&gt;Manufacturing&lt;/a&gt;\\n              &lt;/li&gt;\\n        &lt;/ul&gt;\\n  \\n              &lt;/li&gt;\\n                &lt;li class=\"menu-item menu-item--expanded\"&gt;\\n        &lt;a href=\"/animal-health\" data-drupal-link-system-path=\"taxonomy/term/56\"&gt;Animal Health&lt;/a&gt;\\n                                &lt;ul class=\"menu\"&gt;\\n                    &lt;li class=\"menu-item\"&gt;\\n        &lt;a href=\"/animal-health/r-d\" data-drupal-link-system-path=\"taxonomy/term/61\"&gt;R&amp;amp;D&lt;/a&gt;\\n              &lt;/li&gt;\\n                &lt;li class=\"menu-item\"&gt;\\n        &lt;a href=\"/animal-health/m-a\" data-drupal-link-system-path=\"taxonomy/term/66\"&gt;M&amp;amp;A&lt;/a&gt;\\n              &lt;/li&gt;\\n                &lt;li class=\"menu-item\"&gt;\\n        &lt;a href=\"/animal-health/regulatory\" data-drupal-link-system-path=\"taxonomy/term/71\"&gt;Regulatory&lt;/a&gt;\\n              &lt;/li&gt;\\n                &lt;li class=\"menu-item\"&gt;\\n        &lt;a href=\"/animal-health/veterinarian\" data-drupal-link-system-path=\"taxonomy/term/76\"&gt;Veterinarian&lt;/a&gt;\\n              &lt;/li&gt;\\n                &lt;li class=\"menu-item\"&gt;\\n        &lt;a href=\"/animal-health/financials\" data-drupal-link-system-path=\"taxonomy/term/81\"&gt;Financials&lt;/a&gt;\\n              &lt;/li&gt;\\n                &lt;li class=\"menu-item\"&gt;\\n        &lt;a href=\"/animal-health/vaccines\" data-drupal-link-system-path=\"taxonomy/term/86\"&gt;Vaccines&lt;/a&gt;\\n              &lt;/li&gt;\\n        &lt;/ul&gt;\\n  \\n              &lt;/li&gt;\\n                &lt;li class=\"menu-item menu-item--expanded\"&gt;\\n        &lt;a href=\"/drug-delivery\" data-drupal-link-system-path=\"taxonomy/term/26\"&gt;Drug Delivery&lt;/a&gt;\\n                                &lt;ul class=\"menu\"&gt;\\n                    &lt;li class=\"menu-item\"&gt;\\n        &lt;a href=\"/drug-delivery/r-d\" data-drupal-link-system-path=\"taxonomy/term/31\"&gt;R&amp;amp;D&lt;/a&gt;\\n              &lt;/li&gt;\\n                &lt;li class=\"menu-item\"&gt;\\n        &lt;a href=\"/drug-delivery/regulatory\" data-drupal-link-system-path=\"taxonomy/term/41\"&gt;Regulatory&lt;/a&gt;\\n              &lt;/li&gt;\\n                &lt;li class=\"menu-item\"&gt;\\n        &lt;a href=\"/drug-delivery/partnering\" data-drupal-link-system-path=\"taxonomy/term/46\"&gt;Partnering&lt;/a&gt;\\n              &lt;/li&gt;\\n        &lt;/ul&gt;\\n  \\n              &lt;/li&gt;\\n                &lt;li class=\"menu-item menu-item--expanded\"&gt;\\n        &lt;a href=\"/vaccines\" data-drupal-link-system-path=\"taxonomy/term/1\"&gt;Vaccines&lt;/a&gt;\\n                                &lt;ul class=\"menu\"&gt;\\n                    &lt;li class=\"menu-item\"&gt;\\n        &lt;a href=\"/vaccines/deals\" data-drupal-link-system-path=\"taxonomy/term/11\"&gt;Deals&lt;/a&gt;\\n              &lt;/li&gt;\\n                &lt;li class=\"menu-item\"&gt;\\n        &lt;a href=\"/vaccines/infectious-diseases\" data-drupal-link-system-path=\"taxonomy/term/21\"&gt;Infectious Diseases&lt;/a&gt;\\n              &lt;/li&gt;\\n                &lt;li class=\"menu-item\"&gt;\\n        &lt;a href=\"/vaccines/r-d\" data-drupal-link-system-path=\"taxonomy/term/6\"&gt;R&amp;amp;D&lt;/a&gt;\\n              &lt;/li&gt;\\n                &lt;li class=\"menu-item\"&gt;\\n        &lt;a href=\"/vaccines/regulatory\" data-drupal-link-system-path=\"taxonomy/term/16\"&gt;Regulatory&lt;/a&gt;\\n              &lt;/li&gt;\\n        &lt;/ul&gt;\\n  \\n              &lt;/li&gt;\\n        &lt;/ul&gt;\\n  \\n\\n\\n  &lt;/nav&gt;\\n&lt;nav role=\"navigation\" aria-labelledby=\"block-mainnavigation-mobile-menu\" id=\"block-mainnavigation-mobile\" class=\"block block-menu navigation menu--main\"&gt;\\n            \\n  &lt;h2 class=\"visually-hidden\" id=\"block-mainnavigation-mobile-menu\"&gt;Main navigation - Mobile&lt;/h2&gt;\\n  \\n\\n        \\n              &lt;ul class=\"menu\"&gt;\\n                    &lt;li class=\"menu-item menu-item--expanded\"&gt;\\n        &lt;a href=\"/pharma\" data-drupal-link-system-path=\"taxonomy/term/201\"&gt;Pharma&lt;/a&gt;\\n                                &lt;ul class=\"menu\"&gt;\\n                    &lt;li class=\"menu-item\"&gt;\\n        &lt;a href=\"/pharma/m-a\" data-drupal-link-system-path=\"taxonomy/term/206\"&gt;M&amp;amp;A&lt;/a&gt;\\n              &lt;/li&gt;\\n                &lt;li class=\"menu-item\"&gt;\\n        &lt;a href=\"/pharma/regulatory\" data-drupal-link-system-path=\"taxonomy/term/211\"&gt;Regulatory&lt;/a&gt;\\n              &lt;/li&gt;\\n                &lt;li class=\"menu-item\"&gt;\\n        &lt;a href=\"/pharma/financials\" data-drupal-link-system-path=\"taxonomy/term/221\"&gt;Financials&lt;/a&gt;\\n              &lt;/li&gt;\\n                &lt;li class=\"menu-item\"&gt;\\n        &lt;a href=\"/pharma/corporate\" data-drupal-link-system-path=\"taxonomy/term/231\"&gt;Corporate&lt;/a&gt;\\n              &lt;/li&gt;\\n                &lt;li class=\"menu-item\"&gt;\\n        &lt;a href=\"/pharma/legal\" data-drupal-link-system-path=\"taxonomy/term/236\"&gt;Legal&lt;/a&gt;\\n              &lt;/li&gt;\\n        &lt;/ul&gt;\\n  \\n              &lt;/li&gt;\\n                &lt;li class=\"menu-item menu-item--expanded\"&gt;\\n        &lt;a href=\"/manufacturing\" data-drupal-link-system-path=\"taxonomy/term/166\"&gt;Manufacturing&lt;/a&gt;\\n                                &lt;ul class=\"menu\"&gt;\\n                    &lt;li class=\"menu-item\"&gt;\\n        &lt;a href=\"/manufacturing/m-a\" data-drupal-link-system-path=\"taxonomy/term/171\"&gt;M&amp;amp;A&lt;/a&gt;\\n              &lt;/li&gt;\\n                &lt;li class=\"menu-item\"&gt;\\n        &lt;a href=\"/manufacturing/outsourcing\" data-drupal-link-system-path=\"taxonomy/term/176\"&gt;Outsourcing&lt;/a&gt;\\n              &lt;/li&gt;\\n                &lt;li class=\"menu-item\"&gt;\\n        &lt;a href=\"/manufacturing/regulatory\" data-drupal-link-system-path=\"taxonomy/term/181\"&gt;Regulatory&lt;/a&gt;\\n              &lt;/li&gt;\\n                &lt;li class=\"menu-item\"&gt;\\n        &lt;a href=\"/manufacturing/supply-chain\" data-drupal-link-system-path=\"taxonomy/term/186\"&gt;Supply Chain&lt;/a&gt;\\n              &lt;/li&gt;\\n                &lt;li class=\"menu-item\"&gt;\\n        &lt;a href=\"/manufacturing/partnering\" data-drupal-link-system-path=\"taxonomy/term/196\"&gt;Partnering&lt;/a&gt;\\n              &lt;/li&gt;\\n                &lt;li class=\"menu-item\"&gt;\\n        &lt;a href=\"/manufacturing/drug-safety\" data-drupal-link-system-path=\"taxonomy/term/191\"&gt;Drug Safety&lt;/a&gt;\\n              &lt;/li&gt;\\n        &lt;/ul&gt;\\n  \\n              &lt;/li&gt;\\n                &lt;li class=\"menu-item menu-item--expanded\"&gt;\\n        &lt;a href=\"/marketing\" data-drupal-link-system-path=\"taxonomy/term/126\"&gt;Marketing&lt;/a&gt;\\n                                &lt;ul class=\"menu\"&gt;\\n                    &lt;li class=\"menu-item\"&gt;\\n        &lt;a href=\"/marketing/regulatory\" data-drupal-link-system-path=\"taxonomy/term/356\"&gt;Regulatory&lt;/a&gt;\\n              &lt;/li&gt;\\n                &lt;li class=\"menu-item\"&gt;\\n        &lt;a href=\"/marketing/dtc-advertising\" data-drupal-link-system-path=\"taxonomy/term/131\"&gt;DTC Advertising&lt;/a&gt;\\n              &lt;/li&gt;\\n                &lt;li class=\"menu-item\"&gt;\\n        &lt;a href=\"/marketing/digital-and-social-media\" data-drupal-link-system-path=\"taxonomy/term/141\"&gt;Digital and Social Media&lt;/a&gt;\\n              &lt;/li&gt;\\n                &lt;li class=\"menu-item\"&gt;\\n        &lt;a href=\"/marketing/data-and-analytics\" data-drupal-link-system-path=\"taxonomy/term/151\"&gt;Data and Analytics&lt;/a&gt;\\n              &lt;/li&gt;\\n                &lt;li class=\"menu-item\"&gt;\\n        &lt;a href=\"/marketing/launches\" data-drupal-link-system-path=\"taxonomy/term/161\"&gt;Launches&lt;/a&gt;\\n              &lt;/li&gt;\\n        &lt;/ul&gt;\\n  \\n              &lt;/li&gt;\\n                &lt;li class=\"menu-item menu-item--expanded\"&gt;\\n        &lt;a href=\"/pharma-asia\" data-drupal-link-system-path=\"taxonomy/term/91\"&gt;Pharma Asia&lt;/a&gt;\\n                                &lt;ul class=\"menu\"&gt;\\n                    &lt;li class=\"menu-item\"&gt;\\n        &lt;a href=\"/pharma-asia/m-a\" data-drupal-link-system-path=\"taxonomy/term/96\"&gt;M&amp;amp;A&lt;/a&gt;\\n              &lt;/li&gt;\\n                &lt;li class=\"menu-item\"&gt;\\n        &lt;a href=\"/pharma-asia/r-d\" data-drupal-link-system-path=\"taxonomy/term/101\"&gt;R&amp;amp;D&lt;/a&gt;\\n              &lt;/li&gt;\\n                &lt;li class=\"menu-item\"&gt;\\n        &lt;a href=\"/pharma-asia/regulatory\" data-drupal-link-system-path=\"taxonomy/term/106\"&gt;Regulatory&lt;/a&gt;\\n              &lt;/li&gt;\\n                &lt;li class=\"menu-item\"&gt;\\n        &lt;a href=\"/pharma-asia/sales-and-marketing\" data-drupal-link-system-path=\"taxonomy/term/111\"&gt;Sales and Marketing&lt;/a&gt;\\n              &lt;/li&gt;\\n                &lt;li class=\"menu-item\"&gt;\\n        &lt;a href=\"/pharma-asia/financials\" data-drupal-link-system-path=\"taxonomy/term/121\"&gt;Financials&lt;/a&gt;\\n              &lt;/li&gt;\\n                &lt;li class=\"menu-item\"&gt;\\n        &lt;a href=\"/pharma-asia/manufacturing\" data-drupal-link-system-path=\"taxonomy/term/33286\"&gt;Manufacturing&lt;/a&gt;\\n              &lt;/li&gt;\\n        &lt;/ul&gt;\\n  \\n              &lt;/li&gt;\\n                &lt;li class=\"menu-item menu-item--expanded\"&gt;\\n        &lt;a href=\"/animal-health\" data-drupal-link-system-path=\"taxonomy/term/56\"&gt;Animal Health&lt;/a&gt;\\n                                &lt;ul class=\"menu\"&gt;\\n                    &lt;li class=\"menu-item\"&gt;\\n        &lt;a href=\"/animal-health/r-d\" data-drupal-link-system-path=\"taxonomy/term/61\"&gt;R&amp;amp;D&lt;/a&gt;\\n              &lt;/li&gt;\\n                &lt;li class=\"menu-item\"&gt;\\n        &lt;a href=\"/animal-health/m-a\" data-drupal-link-system-path=\"taxonomy/term/66\"&gt;M&amp;amp;A&lt;/a&gt;\\n              &lt;/li&gt;\\n                &lt;li class=\"menu-item\"&gt;\\n        &lt;a href=\"/animal-health/regulatory\" data-drupal-link-system-path=\"taxonomy/term/71\"&gt;Regulatory&lt;/a&gt;\\n              &lt;/li&gt;\\n                &lt;li class=\"menu-item\"&gt;\\n        &lt;a href=\"/animal-health/veterinarian\" data-drupal-link-system-path=\"taxonomy/term/76\"&gt;Veterinarian&lt;/a&gt;\\n              &lt;/li&gt;\\n                &lt;li class=\"menu-item\"&gt;\\n        &lt;a href=\"/animal-health/financials\" data-drupal-link-system-path=\"taxonomy/term/81\"&gt;Financials&lt;/a&gt;\\n              &lt;/li&gt;\\n                &lt;li class=\"menu-item\"&gt;\\n        &lt;a href=\"/animal-health/vaccines\" data-drupal-link-system-path=\"taxonomy/term/86\"&gt;Vaccines&lt;/a&gt;\\n              &lt;/li&gt;\\n        &lt;/ul&gt;\\n  \\n              &lt;/li&gt;\\n                &lt;li class=\"menu-item menu-item--expanded\"&gt;\\n        &lt;a href=\"/drug-delivery\" data-drupal-link-system-path=\"taxonomy/term/26\"&gt;Drug Delivery&lt;/a&gt;\\n                                &lt;ul class=\"menu\"&gt;\\n                    &lt;li class=\"menu-item\"&gt;\\n        &lt;a href=\"/drug-delivery/r-d\" data-drupal-link-system-path=\"taxonomy/term/31\"&gt;R&amp;amp;D&lt;/a&gt;\\n              &lt;/li&gt;\\n                &lt;li class=\"menu-item\"&gt;\\n        &lt;a href=\"/drug-delivery/regulatory\" data-drupal-link-system-path=\"taxonomy/term/41\"&gt;Regulatory&lt;/a&gt;\\n              &lt;/li&gt;\\n                &lt;li class=\"menu-item\"&gt;\\n        &lt;a href=\"/drug-delivery/partnering\" data-drupal-link-system-path=\"taxonomy/term/46\"&gt;Partnering&lt;/a&gt;\\n              &lt;/li&gt;\\n        &lt;/ul&gt;\\n  \\n              &lt;/li&gt;\\n                &lt;li class=\"menu-item menu-item--expanded\"&gt;\\n        &lt;a href=\"/vaccines\" data-drupal-link-system-path=\"taxonomy/term/1\"&gt;Vaccines&lt;/a&gt;\\n                                &lt;ul class=\"menu\"&gt;\\n                    &lt;li class=\"menu-item\"&gt;\\n        &lt;a href=\"/vaccines/deals\" data-drupal-link-system-path=\"taxonomy/term/11\"&gt;Deals&lt;/a&gt;\\n              &lt;/li&gt;\\n                &lt;li class=\"menu-item\"&gt;\\n        &lt;a href=\"/vaccines/infectious-diseases\" data-drupal-link-system-path=\"taxonomy/term/21\"&gt;Infectious Diseases&lt;/a&gt;\\n              &lt;/li&gt;\\n                &lt;li class=\"menu-item\"&gt;\\n        &lt;a href=\"/vaccines/r-d\" data-drupal-link-system-path=\"taxonomy/term/6\"&gt;R&amp;amp;D&lt;/a&gt;\\n              &lt;/li&gt;\\n                &lt;li class=\"menu-item\"&gt;\\n        &lt;a href=\"/vaccines/regulatory\" data-drupal-link-system-path=\"taxonomy/term/16\"&gt;Regulatory&lt;/a&gt;\\n              &lt;/li&gt;\\n        &lt;/ul&gt;\\n  \\n              &lt;/li&gt;\\n        &lt;/ul&gt;\\n  \\n\\n\\n  &lt;/nav&gt;\\n\\n  &lt;/div&gt;\\n\\n    &lt;/div&gt;\\n  &lt;/header&gt;\\n\\n  &lt;div id=\"help\"&gt;\\n    &lt;div class=\"wrapper\"&gt;\\n        &lt;div class=\"region region-help\"&gt;\\n    \\n\\n\\n  &lt;/div&gt;\\n\\n    &lt;/div&gt;\\n  &lt;/div&gt;\\n\\n&lt;main id=\"main\" role=\"main\"&gt;\\n      \\n  \\n  &lt;div id=\"content\"&gt;\\n    &lt;div class=\"taxonomy-primary\"&gt;&lt;div about=\"/pharma\" id=\"taxonomy-term-201\" class=\"taxonomy-term vocabulary-taxonomy\"&gt;\\n  \\n      &lt;h2&gt;&lt;a href=\"/pharma\"&gt;\\n            &lt;div&gt;Pharma&lt;/div&gt;\\n      &lt;/a&gt;&lt;/h2&gt;\\n    \\n  &lt;div class=\"content\"&gt;\\n    \\n  &lt;/div&gt;\\n&lt;/div&gt;\\n&lt;/div&gt;\\n    &lt;a id=\"main-content\" tabindex=\"-1\"&gt;&lt;/a&gt;      &lt;div class=\"region region-content\"&gt;\\n    &lt;div id=\"block-tektite-pharma-page-title\" class=\"block block-core block-page-title-block\"&gt;\\n  \\n    \\n      \\n  &lt;h1 class=\"page-title\"&gt;&lt;span property=\"schema:name\"&gt;Novo equipped to weather the storm in the U.S. diabetes market, CEO says&lt;/span&gt;\\n&lt;/h1&gt;\\n\\n\\n  &lt;/div&gt;\\n&lt;div id=\"block-tektite-pharma-content\" class=\"block block-system block-system-main-block\"&gt;\\n  \\n    \\n      \\n\\n&lt;article role=\"article\" about=\"/pharma/novo-equipped-to-weather-storm-u-s-diabetes-market-ceo-says\" typeof=\"schema:Article\" class=\"node node--type-article node--promoted node--view-mode-full\"&gt;\\n    &lt;div id=\"nodeid\" data-nid=\"360027\" style=\"display:none\"&gt;&lt;/div&gt;\\n\\n    \\n          &lt;span property=\"schema:name\" content=\"Novo equipped to weather the storm in the U.S. diabetes market, CEO says\" class=\"rdf-meta hidden\"&gt;&lt;/span&gt;\\n\\n\\n    &lt;footer class=\"node__meta\"&gt;\\n        &lt;div class=\"node__submitted\"&gt;\\n                            by                                    &lt;a href=\"/author/eric-palmer\"&gt;Eric Palmer&lt;/a&gt;                                | \\n            &lt;div&gt;&lt;time datetime=\"2016-10-28T14:02:31Z\" property=\"schema:datePublished\"&gt;Oct 28, 2016 10:02am&lt;/time&gt;\\n&lt;/div&gt;\\n      \\n                    &lt;/div&gt;\\n    &lt;/footer&gt;\\n\\n    &lt;div class=\"thumbnail-image\"&gt;\\n                                            \\n            &lt;div&gt;\\n            &lt;div&gt;    &lt;img srcset=\"http://qtxasset.com/styles/breakpoint_md_448px_w/s3fs/2016-09/larssorenson2.png?EUBmFK9Nuyfm7rawnyuNjnb6q8Sjxu.3&amp;amp;itok=cTmVpCrO 448w, http://qtxasset.com/styles/breakpoint_l_640px_w/s3fs/2016-09/larssorenson2.png?a25.Pul..nbxfwTPhriZzEknvNjx_taZ&amp;amp;itok=fZG8mRt1 640w, http://qtxasset.com/styles/breakpoint_xl_880px_w/s3fs/2016-09/larssorenson2.png?9jdR0gSKsYHj_bDxGbjXw8UYH265MnGc&amp;amp;itok=dylkZ5jr 800w\" sizes=\"(min-width:1220px) 880px, (min-width: 980px) and (max-width: 1219px) 640px, (min-width: 788px) 448px, min-width: 481px) 800px\" src=\"http://qtxasset.com/styles/breakpoint_sm_default_480px_w/s3fs/2016-09/larssorenson2.png?hp3AxghnUJdEC56RLg7xkkcR617UvGbm&amp;amp;itok=bycO9czJ\" alt=\"Lars Sorenson\" title=\"Lars Sorenson\" typeof=\"foaf:Image\" /&gt;\\n\\n\\n&lt;/div&gt;\\n      &lt;/div&gt;\\n      \\n            \\n            &lt;div class=\"caption\"&gt;\\n                            \\n                &lt;/div&gt;\\n                        &lt;/div&gt;\\n\\n    &lt;div class=\"node__container\"&gt;\\n                    &lt;div class=\"social-container stickem-container\"&gt;\\n                &lt;div class=\"social-share stickem\"&gt;&lt;span class=\"a2a_kit a2a_kit_size_32 addtoany_list\" data-a2a-url=\"http://www.fiercepharma.com/pharma/novo-equipped-to-weather-storm-u-s-diabetes-market-ceo-says\" data-a2a-title=\"Novo equipped to weather the storm in the U.S. diabetes market, CEO says\"&gt;&lt;a class=\"a2a_dd addtoany_share_save\" href=\"https://www.addtoany.com/share#url=http%3A%2F%2Fwww.fiercepharma.com%2Fpharma%2Fnovo-equipped-to-weather-storm-u-s-diabetes-market-ceo-says&amp;amp;title=Novo%20equipped%20to%20weather%20the%20storm%20in%20the%20U.S.%20diabetes%20market%2C%20CEO%20says\"&gt;&lt;/a&gt;&lt;a class=\"a2a_button_facebook\"&gt;&lt;/a&gt;\\r\\n&lt;a class=\"a2a_button_twitter\"&gt;&lt;/a&gt;\\r\\n&lt;a class=\"a2a_button_linkedin\"&gt;&lt;/a&gt;\\r\\n&lt;a class=\"a2a_button_email\"&gt;&lt;/a&gt;\\r\\n&lt;a class=\"a2a_button_print\"&gt;&lt;/a&gt;&lt;/span&gt;\\n&lt;/div&gt;\\n            &lt;/div&gt;\\n        \\n        &lt;div class=\"node__content\"&gt;\\n            \\n            &lt;div property=\"schema:articleBody\"&gt;&lt;p dir=\"ltr\"&gt;Novo Nordisk is facing a future of price decreases and pressured profits in the U.S., but the organization is equipped to thrive in such a hostile pricing environment, CEO Lars Sørensen insists. It will do that by calling on its experiences jousting with price regulators in Europe. &lt;/p&gt;\\n\\n&lt;p&gt;“We have been used to operating in such an environment in the EU, and in Japan,” Sørensen insisted today, pointing to two markets that for years have been tight-fisted in reimbursements while the U.S. was a haven of growth.&lt;/p&gt;\\n\\n&lt;p&gt;The answer came in response to a question posed point-blank to execs today during a call with analysts, as they reported that Novo's ($NOVO) operating profit fell 1% in Q3 2016 and for the year is now expected to be half of what the company had projected 8 months ago, 5% instead of 10%. That news whacked share prices 15% in early trading. An analyst wanted to know if the Danish company required a different structure and different people to make money in a tough market. Sørensen said that it did, insisting its commitment to the U.S. market was steadfast.&lt;/p&gt;\\n\\n&lt;p&gt;But Sørensen will not have to fight the battles there any longer. He is stepping down at year-end and is being replaced by &lt;a href=\"http://www.novonordisk.com/media/news-details.2038703.html\"&gt;Lars Fruergaard Jorgensen&lt;/a&gt;, who's currently the company's EVP and head of corporate development.&lt;/p&gt;\\n\\n&lt;p&gt;Jorgensen acknowledged that the U.S. market will be extremely tough in the near term, but growth in China and other parts of the world will help compensate until the U.S. market starts to turn around in 2018, he said.&lt;/p&gt;\\n\\n&lt;p&gt;“When we look across the world, the change in the operating environment is mainly in U.S. … We have to acknowledge we are not fully satisfied with the U.S. operations,” Jorgensen said. But the company has the right portfolio for a turnaround there and with “a restructuring in the U.S. operations, we will get a grip,” Jorgensen insisted.&lt;/p&gt;\\n\\n&lt;p&gt;That restructuring was announced in September, with 1,000 people worldwide being let go due to cut costs. Cuts will also come in R&amp;amp;D, although R&amp;amp;D spending will remain at about 13%, as the Danish drugmaker focuses on more innovative products that payers will cover. The job cuts will also hit the headquarters in Bagsvaerd, near Copenhagen, as well as the company’s commercial operations worldwide.&lt;/p&gt;\\n\\n&lt;p&gt;There were some bright spots in today’s report. Tresiba, the company’s new longer-acting product, grew 187% and sales of its GLP-1 drug, Victoza, were up 13%. There is also Saxenda, Novo’s entry in the weight-control market. In fact, Bernstein analyst Ronny Gal told investors today that Saxenda accounted for 16% of growth in the first 9 months and that it will be an “increasingly important product” going forward.&lt;/p&gt;\\n\\n&lt;p&gt;Like Novo, Gal told his clients that he expects strong growth going forward for GLP-1 meds, a market Novo shares with competitors. Novo and Sanofi are both developing new weekly combo meds in that category, although both have had consideration of their drugs delayed by the FDA.&lt;/p&gt;\\n\\n&lt;p&gt;He says it is reasonable to assume such growth but points out that Novo was not considering the \"worst case scenario.” While Novo execs said they did not expect payers to go to a “single source market” for GLP-1 drugs to extract deeper discounts, Gal does not rule it out. “If there is another cut to expectations this is likely where it comes from,” he told investors, suggesting that a really rocky midterm market for Novo could still get rockier.&lt;/p&gt;\\n\\n&lt;p dir=\"ltr\"&gt;- here’s the earnings &lt;a href=\"http://www.novonordisk.com/media/news-details.2052368.html\"&gt;release&lt;/a&gt;&lt;/p&gt;\\n\\n&lt;p dir=\"ltr\"&gt;&lt;strong&gt;Related Articles:&lt;/strong&gt;&lt;br /&gt;&lt;a href=\"http://www.fiercepharma.com/pharma/u-s-payer-pressures-force-novo-nordisk-to-cut-loose-1-000-staffers\"&gt;U.S. payer pressures force Novo Nordisk to cut loose 1,000 staffers&lt;/a&gt;&lt;br /&gt;&lt;a href=\"http://www.fiercepharma.com/pharma/novo-nordisk-chief-lars-rebien-sorensen-to-step-down-early-as-pricing-pressures-mount\"&gt;Novo Nordisk CEO Sorensen to step down early as pricing pressures mount&lt;/a&gt;&lt;br /&gt;&lt;a href=\"http://www.fiercepharma.com/marketing/draft-novo-nordisk-semaglutide\"&gt;Novo Nordisk stokes GLP-1 hopes as weekly semaglutide slashes heart risks by 26%&lt;/a&gt;&lt;br /&gt;&lt;a href=\"http://www.fiercepharma.com/pharma/express-scripts-bars-new-launches-from-lilly-merck-and-shuts-out-novo-for-2017\"&gt;Express Scripts bars new launches from Lilly, Merck and shuts out Novo for 2017&lt;/a&gt;&lt;br /&gt;&lt;a href=\"http://www.fiercepharma.com/pharma/sanofi-s-adlyxin-holds-a-slight-safety-edge-over-novo-s-victoza-report-finds\"&gt;Sanofi's Adlyxin holds a slight safety edge over Novo's Victoza, report finds&lt;/a&gt;&lt;br /&gt;&lt;a href=\"http://www.fiercepharma.com/pharma/head-start-for-novo-s-combo-med-xultophy-fda-delayed-it-instead\"&gt;That head start for Novo's combo med Xultophy? The FDA delayed it instead&lt;/a&gt;&lt;/p&gt;\\n&lt;/div&gt;\\n      \\n\\n                            &lt;div class=\"keywords-topics\"&gt;\\n                    &lt;strong&gt;Read more on&lt;/strong&gt;\\n                    &lt;div class=\"item-list--comma-list\"&gt;\\n                        &lt;a href=\"/topic/financials\" hreflang=\"und\"&gt;financials&lt;/a&gt;,                    &lt;a href=\"/keyword/novo-nordisk\" hreflang=\"und\"&gt;Novo Nordisk&lt;/a&gt;            &lt;/div&gt;\\n\\n                &lt;/div&gt;\\n            \\n        &lt;/div&gt;\\n    &lt;/div&gt;\\n\\n&lt;/article&gt;\\n\\n  &lt;/div&gt;\\n&lt;div id=\"block-tektitegenericarticlebottomadblock\" class=\"block block-tektite-generic-blocks block-tektite-generic-ad-article-bottom\"&gt;\\n  \\n    \\n                      &lt;div id='article-bottom'&gt;\\n                &lt;script type='text/javascript'&gt;\\n                document.addEventListener(\"googletagEvent\", function() {\\n                googletag.cmd.push(function() { googletag.display('article-bottom'); });\\n                });\\n                &lt;/script&gt;\\n                &lt;/div&gt;\\n  &lt;/div&gt;\\n&lt;div id=\"block-tektitetaboolablock\" class=\"block block-tektite-taboola block-tektite-taboola-block\"&gt;\\n  \\n    \\n                      &lt;div id='taboola-block'&gt;\\n                \\n                \\n                &lt;div id=\"taboola-below-article-thumbnails-internal\"&gt;&lt;/div&gt;\\n                &lt;script type=\"text/javascript\"&gt;\\n                window._taboola = window._taboola || [];\\n                _taboola.push({\\n                mode: 'organic-thumbnails-b',\\n                container: 'taboola-below-article-thumbnails-internal',\\n                placement: 'Below Article Thumbnails-internal',\\n                target_type: 'mix'\\n                });\\n                 &lt;/script&gt;\\n\\n                &lt;div id=\"taboola-below-article-thumbnails\"&gt;&lt;/div&gt;\\n                &lt;script type=\"text/javascript\"&gt;\\n                window._taboola = window._taboola || [];\\n                _taboola.push({\\n                mode: 'thumbnails-b',\\n                container: 'taboola-below-article-thumbnails',\\n                placement: 'Below Article Thumbnails',\\n                target_type: 'mix'\\n                });\\n                &lt;/script&gt;\\n\\n                \\n                &lt;/div&gt;\\n  &lt;/div&gt;\\n\\n  &lt;/div&gt;\\n\\n\\n      &lt;/div&gt;\\n\\n      &lt;aside id=\"sidebar-second\" role=\"complimentary\"&gt;\\n      &lt;section class=\"sidebar-container\"&gt;\\n          &lt;div class=\"region region-sidebar-second\"&gt;\\n    &lt;div id=\"block-tektitegenericadsidebarblock\" class=\"block block-tektite-generic-blocks block-tektite-generic-ad-sidebar\"&gt;\\n  \\n    \\n                      &lt;div id='sidebar-ad'&gt;\\n                  &lt;script type='text/javascript'&gt;\\n                    document.addEventListener(\"googletagEvent\", function() {\\n                      googletag.cmd.push(function() { googletag.display('sidebar-ad'); });\\n                    });\\n                  &lt;/script&gt;\\n                &lt;/div&gt;\\n  &lt;/div&gt;\\n&lt;div id=\"block-tektitegenericnewsletterblock\" class=\"block block-tektite-generic-blocks block-tektite-generic-newsletter-multi\"&gt;\\n  \\n    \\n      &lt;script src=\"//app-sj10.marketo.com/js/forms2/js/forms2.min.js\" defer&gt;&lt;/script&gt;&lt;form id='mktoForm_12997'&gt;&lt;/form&gt;\\n  &lt;/div&gt;\\n\\n  &lt;/div&gt;\\n\\n\\n                  &lt;div class=\"bottom\"&gt;\\n              &lt;div class=\"region region-sidebar-bottom\"&gt;\\n    &lt;div id=\"block-tektitegenericadsidebarblock2\" class=\"block block-tektite-generic-blocks block-tektite-generic-ad-sidebar2\"&gt;\\n  \\n    \\n                      &lt;div id='sidebar-ad2'&gt;\\n                  &lt;script type='text/javascript'&gt;\\n                    document.addEventListener(\"googletagEvent\", function() {\\n                      googletag.cmd.push(function() { googletag.display('sidebar-ad2'); });\\n                    });\\n                  &lt;/script&gt;\\n                &lt;/div&gt;\\n  &lt;/div&gt;\\n&lt;div id=\"block-popularcontentfromparsely\" class=\"block block-tektite-generic-blocks block-popular-content-from-parsely\"&gt;\\n  \\n      &lt;h2 class=\"block-title\"&gt;Popular Content &lt;/h2&gt;\\n    \\n      \\n  &lt;ul&gt;\\n         \\n      \\n      \\t&lt;li&gt;&lt;h3 class=\"list-title\"&gt;&lt;a href=\"http://www.fiercepharma.com/pharma/teva-poaches-lundbeck-chief-schultz-52m-package\"&gt;Teva lures Lundbeck chief Schultz with $52M package that makes him among pharma&amp;#039;s top paid&lt;/a&gt;&lt;/h3&gt; \\n      \\t\\t\\n      \\t\\tSep 12, 2017 \\n     \\t\\t&lt;/li&gt;\\n      \\t\\n\\n    \\t      \\n      \\n      \\t&lt;li&gt;&lt;h3 class=\"list-title\"&gt;&lt;a href=\"http://www.fiercepharma.com/pharma/corporate-shakeup-alexion-plans-hundreds-layoffs-and-hq-move\"&gt;Alexion plots hundreds of layoffs, HQ move in sweeping corporate revamp&lt;/a&gt;&lt;/h3&gt; \\n      \\t\\t\\n      \\t\\tSep 12, 2017 \\n     \\t\\t&lt;/li&gt;\\n      \\t\\n\\n    \\t      \\n      \\n      \\t&lt;li&gt;&lt;h3 class=\"list-title\"&gt;&lt;a href=\"http://www.fiercepharma.com/pharma/fda-says-tecentriq-won-t-lose-its-bladder-cancer-nod-despite-ph3-failure-roche\"&gt;FDA says Tecentriq won&amp;#039;t lose its bladder cancer nod despite phase 3 failure, Roche reports&lt;/a&gt;&lt;/h3&gt; \\n      \\t\\t\\n      \\t\\tSep 12, 2017 \\n     \\t\\t&lt;/li&gt;\\n      \\t\\n\\n    \\t      \\n      \\n      \\t&lt;li&gt;&lt;h3 class=\"list-title\"&gt;&lt;a href=\"http://www.fiercepharma.com/pharma/your-skinny-esmo-imfinzi-wows-incyte-unveils-opdivo-surprises-and-keytruda-piles-it\"&gt;ESMO need-to-know: Keytruda misses head and neck; Tagrisso wins; plus Lilly, BMS and more&lt;/a&gt;&lt;/h3&gt; \\n      \\t\\t\\n      \\t\\tSep 11, 2017 \\n     \\t\\t&lt;/li&gt;\\n      \\t\\n\\n    \\t      \\n      \\n      \\t&lt;li&gt;&lt;h3 class=\"list-title\"&gt;&lt;a href=\"http://www.fiercepharma.com/pharma/teva-makes-good-asset-sale-vows-1-1b-contraceptive-sale\"&gt;Teva makes good on asset-sale vows with $1.1B contraceptive sale&lt;/a&gt;&lt;/h3&gt; \\n      \\t\\t\\n      \\t\\tSep 11, 2017 \\n     \\t\\t&lt;/li&gt;\\n      \\t\\n\\n    \\t \\n\\n  &lt;/ul&gt;\\n\\n\\n  &lt;/div&gt;\\n&lt;div class=\"views-element-container block block-views block-views-blockauthor-block-1\" id=\"block-tektite-pharma-views-block-author-block-1\"&gt;\\n  \\n      &lt;h2 class=\"block-title\"&gt;About the Author&lt;/h2&gt;\\n    \\n      &lt;div&gt;&lt;div class=\"js-view-dom-id-979b6d1a9ef6307af51f042e01b5574675d34cc61eae439805760e8d153cc238\"&gt;\\n  \\n  \\n  \\n\\n  \\n  \\n  \\n\\n      &lt;div class=\"views-row\"&gt;\\n    &lt;div class=\"views-field views-field-field-author-image\"&gt;&lt;div class=\"field-content\"&gt;  &lt;a href=\"/author/eric-palmer\"&gt;&lt;img src=\"http://qtxasset.com/field/image/eric_palmer.jpg?7AC5xkzBdP_ZXOxsUhLnUle5j6.O2T30\" width=\"260\" height=\"260\" alt=\"Eric Palmer\" typeof=\"foaf:Image\" /&gt;\\n&lt;/a&gt;\\n&lt;/div&gt;&lt;/div&gt;&lt;div class=\"views-field views-field-title\"&gt;&lt;span class=\"field-content\"&gt;&lt;div class=\"author-block-info\"&gt;\\n&lt;div class=\"title\"&gt;&lt;a href=\"/author/eric-palmer\" hreflang=\"en\"&gt;Eric Palmer&lt;/a&gt;&lt;/div&gt;\\n&lt;div class=\"job\"&gt;Senior Editor&lt;/div&gt;\\n&lt;div class=\"email\"&gt;&lt;a href=\"mailto:epalmer@fiercemarkets.com\"&gt;epalmer@fiercemarkets.com&lt;/a&gt;&lt;/div&gt;\\n&lt;div class=\"twitter\"&gt;&lt;/div&gt;\\n&lt;div class=\"linkedin\"&gt;&lt;/div&gt;\\n&lt;div class=\"facebook\"&gt;&lt;/div&gt;\\n&lt;div class=\"instagram\"&gt;&lt;/div&gt;\\n&lt;/div&gt;&lt;/span&gt;&lt;/div&gt;\\n  &lt;/div&gt;\\n\\n  \\n  \\n\\n  \\n  \\n\\n  \\n  \\n&lt;/div&gt;\\n&lt;/div&gt;\\n\\n  &lt;/div&gt;\\n&lt;div id=\"block-tektitegenericadhouseblock\" class=\"block block-tektite-generic-blocks block-tektite-generic-ad-house\"&gt;\\n  \\n    \\n                      &lt;div id='sidebar-ad3'&gt;\\n                  &lt;script type='text/javascript'&gt;\\n                    document.addEventListener(\"googletagEvent\", function() {\\n                      googletag.cmd.push(function() { googletag.display('sidebar-ad3'); });\\n                    });\\n                  &lt;/script&gt;\\n                &lt;/div&gt;\\n  &lt;/div&gt;\\n\\n  &lt;/div&gt;\\n\\n          &lt;/div&gt;\\n              &lt;/section&gt;\\n    &lt;/aside&gt;\\n  &lt;/main&gt;\\n\\n\\n\\n  &lt;footer id=\"footer\" role=\"contentinfo\"&gt;\\n    &lt;div class=\"wrapper\"&gt;\\n        &lt;div class=\"region region-footer\"&gt;\\n    &lt;div id=\"block-tektitefooterblock\" class=\"block block-tektite-generic-blocks block-generic-footer-block\"&gt;\\n  \\n    \\n      &lt;div id=\"questex\"&gt;\\n    &lt;div class=\"footer-logo\"&gt;\\n        &lt;a class=\"logo\" href=\"http://questex.com\"&gt;\\n            &lt;img alt=\"\" src=\"/themes/custom/tektite/assets/images/footer-questex.svg\" /&gt;\\n        &lt;/a&gt;\\n    &lt;/div&gt;\\n    &lt;div class=\"social-icons\"&gt;\\n        &lt;a class=\"icon icon-facebook-official\" href='https://www.facebook.com/Questex-LLC-514978955241030/'&gt;&lt;/a&gt;\\n        &lt;a class=\"icon icon-twitter\" href='https://twitter.com/QuestexLLC'&gt;&lt;/a&gt;\\n        &lt;a class=\"icon icon-linkedin-squared\" href='https://www.linkedin.com/company/questex-media-group?trk=top_nav_home'&gt;&lt;/a&gt;\\n    &lt;/div&gt;​\\n&lt;/div&gt;\\n\\n\\n    &lt;ul class=\"menu\"&gt;\\n                    &lt;li&gt;&lt;a href=\"/\"&gt;\\n                    Home&lt;/a&gt;&lt;/li&gt;\\n\\n                    &lt;li&gt;&lt;a href=\"https://pages.questexweb.com/FiercePharma-Newsletter-Signup.html\"&gt;\\n                    Subscribe&lt;/a&gt;&lt;/li&gt;\\n\\n                    &lt;li&gt;&lt;a href=\"https://pages.questexweb.com/Manage-Subscriptions_Manage-Your-Subscriptions.html?\"&gt;\\n                    Manage Newsletter Subscriptions&lt;/a&gt;&lt;/li&gt;\\n\\n                    &lt;li&gt;&lt;a href=\"/advertise-us\"&gt;\\n                    Advertise&lt;/a&gt;&lt;/li&gt;\\n\\n                    &lt;li&gt;&lt;a href=\"/rss-feeds\"&gt;\\n                    RSS&lt;/a&gt;&lt;/li&gt;\\n\\n                    &lt;li&gt;&lt;a href=\"http://www.questex.com/privacy-policy\"&gt;\\n                    Privacy&lt;/a&gt;&lt;/li&gt;\\n\\n                    &lt;li&gt;&lt;a href=\"/about-us\"&gt;\\n                    About Us&lt;/a&gt;&lt;/li&gt;\\n\\n                    &lt;li&gt;&lt;a href=\"/contact\"&gt;\\n                    Contact&lt;/a&gt;&lt;/li&gt;\\n\\n        \\n    &lt;/ul&gt;\\n\\n&lt;p&gt;\\n  &lt;span&gt;© 2017 Questex LLC. All rights reserved.&lt;/span&gt;\\n  &lt;span&gt;275 Grove Street, Suite 2-130 Newton, MA 02466&lt;/span&gt;\\n  &lt;span&gt;Reproduction in whole or part is prohibited.&lt;/span&gt;\\n&lt;/p&gt;\\n\\n  &lt;/div&gt;\\n\\n  &lt;/div&gt;\\n\\n    &lt;/div&gt;\\n  &lt;/footer&gt;\\n\\n      \\n    &lt;/div&gt;\\n\\n    &lt;script type=\"application/json\" data-drupal-selector=\"drupal-settings-json\"&gt;{\"path\":{\"baseUrl\":\"\\/\",\"scriptPath\":null,\"pathPrefix\":\"\",\"currentPath\":\"node\\/360027\",\"currentPathIsAdmin\":false,\"isFront\":false,\"currentLanguage\":\"en\"},\"pluralDelimiter\":\"\\u0003\",\"ajaxPageState\":{\"libraries\":\"addtoany\\/addtoany,core\\/html5shiv,core\\/picturefill,qtx_tracking\\/recorder,system\\/base,tektite\\/global-css,tektite\\/global-js,tektite\\/theme-fonts,tektite\\/webfont.js,tektite_fierce\\/GTMscripts,tektite_fierce\\/fonts-js,tektite_fierce\\/marketo-js,tektite_fierce\\/override-css,tektite_fierce\\/override-js,views\\/views.module\",\"theme\":\"tektite_fierce\",\"theme_token\":null},\"ajaxTrustedUrl\":{\"form_action_p_pvdeGsVG5zNF_XLGPTvYSKCf43t8qZYSwcfZl2uzM\":true},\"tektite_fierce\":{\"gtm_key\":\"GTM-KLQFWCZ\",\"marketo_id\":\"12997\"},\"qtx_tracking\":{\"referral\":{\"comesFromSearchEngine\":\"false\"}},\"user\":{\"uid\":0,\"permissionsHash\":\"55f2fcabf143e91119fc5948c8acd644daabe1eb5a8e549c0bbc55f1fa50db1c\"}}&lt;/script&gt;\\n&lt;script src=\"/sites/fiercepharma/files/js/js_DdXIKt68jGany_F78Mxy_6Rv5aLF94bA6_npMbGnkV4.js\"&gt;&lt;/script&gt;\\n&lt;script src=\"/sites/fiercepharma/files/js/js_RAAkRjKDTRtA-hRvJnNtAsOejg9BJYVnpNFg-pHjLaI.js\"&gt;&lt;/script&gt;\\n&lt;script src=\"//static.addtoany.com/menu/page.js\" async&gt;&lt;/script&gt;\\n&lt;script src=\"/sites/fiercepharma/files/js/js_h46WxI_ZFc-5EIjP50SF3PiJ-JkJB5QSuAq-UN0jkXI.js\"&gt;&lt;/script&gt;\\n&lt;script src=\"//ajax.googleapis.com/ajax/libs/webfont/1.6.26/webfont.js\" async&gt;&lt;/script&gt;\\n&lt;script src=\"/sites/fiercepharma/files/js/js_kSvTRDeClTrCukoXnpcc-RGGguZfb5rGmky3VdXu6OA.js\" defer&gt;&lt;/script&gt;\\n\\n\\n    &lt;!-- Start Parse.ly Include: Standard --&gt;\\n    &lt;div id=\"parsely-root\" style=\"display: none\"&gt;\\n      &lt;div id=\"parsely-cfg\" data-parsely-site=\"fiercepharma.com\"&gt;&lt;/div&gt;\\n    &lt;/div&gt;\\n    &lt;script&gt;\\n    (function(s, p, d) {\\n      var h=d.location.protocol, i=p+\"-\"+s,\\n          e=d.getElementById(i), r=d.getElementById(p+\"-root\"),\\n          u=h===\"https:\"?\"d1z2jf7jlzjs58.cloudfront.net\"\\n          :\"static.\"+p+\".com\";\\n      if (e) return;\\n      e = d.createElement(s); e.id = i; e.async = true;\\n      e.src = h+\"//\"+u+\"/p.js\"; r.appendChild(e);\\n    })(\"script\", \"parsely\", document);\\n    &lt;/script&gt;\\n    &lt;!-- End Parse.ly Include --&gt;\\n\\n    &lt;!-- Start Taboola --&gt;\\n    &lt;script type=\"text/javascript\"&gt;\\n      window._taboola = window._taboola || [];\\n      _taboola.push({flush: true});\\n    &lt;/script&gt;\\n    &lt;!-- End Taboola --&gt;\\n\\n  &lt;script type=\"text/javascript\"&gt;window.NREUM||(NREUM={});NREUM.info={\"beacon\":\"bam.nr-data.net\",\"licenseKey\":\"44925d6b58\",\"applicationID\":\"51794171\",\"transactionName\":\"NFBaMhZVDRIHABUPCg0aeQUQXQwPSScTExUCWWQHEUAMEgcVBDkDDEdVOiJbEQw6IhQSChBUTgMiWxEMJBYICgEGRxVYFlENBQMRMQoEAFBQCQhQBhMgDBMLJABBUQkK\",\"queueTime\":0,\"applicationTime\":562,\"atts\":\"GBdZRF5PHhw=\",\"errorBeacon\":\"bam.nr-data.net\",\"agent\":\"\"}&lt;/script&gt;&lt;/body&gt;\\n&lt;/html&gt;\\n</td>\n",
       "    </tr>\n",
       "  </tbody>\n",
       "</table>\n",
       "</div>"
      ],
      "text/plain": [
       "   Webpage_id  \\\n",
       "0  1            \n",
       "1  2            \n",
       "\n",
       "                                                                                                                                                                                                                                                                                                                                                                                                                                                                                                                                                                                                                                                                                                                                                                                                                                                                                                                                                                                                                                                                                                                                                                                                                                                                                                                                                                                                                                                                                                                                                                                                                                                                                                                                                                                                                                                                                                                                                                                                                                                                                                                                                                                                                                                                                                                                                                                                                                                                                                                                                                                                                                                                                                                                                                                                                                                                                                                                                                                                                                                                                                                                                                                                                                                                                                                                                                                                                                                                                                                                                                                                                                                                                                                                                                                                                                                                                                                                                                                                                                                                                                                                                                                                                                                                                                                                                                                                                                                                                                                                                                                                                                                                                                                                                                                                                                                                                                                                                                                                                                                                                                                                                                                                                                                                                                                                                                                                                                                                                                                                                                                                                                                                                                                                                                                                                                                                                                                                                                                                                                                                                                                                                                                                                                                                                                                                                                                                                                                                                                                                                                                                                                                                                                                                                                                                                                                                                                                                                                                                                                                                                                                                                                                                                                                                                                                                                                                                                                                                                                                                                                                                                                                                                                                                                                                                                                                                                                                                                                                                                                                                                                                                                                                                                                                                                                                                                                                                                                                                                                                                                                                                                                                                                                                                                                                                                                                                                                                                                                                                                                                                                                                                                                                                                                                                                                                                                                                                                                                                                                                                                                                                                                                                                                                                                                                                                                                                                                                                                                                                                                                                                                                                                                                                                                                                                                                                                                                                                                                                                                                                                                                                                                                                                                                                                                                                                                                                                                                                                                                                                                                                                                                                                                                                                                                                                                                                                                                                                                                                                                                                                                                                                                                                                                                                                                                                                                                                                                                                                                                                                                                                                                                                                                                                                                                                                                                                                                                                                                                                                                                                                                                                                                                                                                                                                                                                                                                                                                                                                                                                                                                                                                                                                                                                                                                                                                                                                                                                                                                                                                                                                                                                                                                                                                                                                                                                                                                                                                                                                                                                                                                                                                                                                                                                                                                                                                                                                                                                                                                                                                                                                                                                                                                                                                                                                                                                                                                                                                                                                                                                                                                                                                                                                                                                                                                                                                                                                                                                                                                                                                                                                                                                                                                                                                                                                                                                                                                                                                                                                                                                                                                                                                                                                                                                                                                                                                                                                                                                                                                                                                                                                                                                                                                                                                                                                                                                                                                                                                                                                                                                                                                                                                                                                                                                                                                                                                                                                                                                                                                                                                                                                                                                                                                                                                                                                                                                                                                                                                                                                                                                                                                                                                                                                                                                                                                                                                                                                                                                                                                                                                                                                                                                                                                                                                                                                                                                                                                                                                                                                                                                                                                                                                                                                                                                                                                                                                                                                                                                                                                                                                                                                                                                                                                                                                                                                                                                                                                                                                                                                                                                                                                                                                                                                                                                                                                                                                                                                                                                                                                                                                                                                                                                                                                                                                                                                                                                                                                                                                                                                                                                                                                                                                                                                                                                                                                                                                                                                                                                                                                                                                                                                                                                                                                                                                                                                                                                                                                                                                                                                                                                                                                                                                                                                                                                                                                                                                                                                                                                                                                                                                                                                                                                                                                                                                                                                                                                                                                                                                                                                                                                                                                                                                                                                                                                                                                                                                                                                                                                                                                                                                                                                                                                                                                                                                                                                                                                                                                                                                                                                                                                                                                                                                                                                                                                                                                                                                                                                                                                                                                                                                                                                                                                                                                                                                                                                                                                                                                                                                                                                                                                                                                                                                                                                                                                                                                                                                                                                                                                                                                                                                                                                                                                                                                                                                                                                                                                                                                                                                                                                                                                                                                                                                                                                                                                                                                                                                                                                                                                                                                                                                                                                                                                                                                                                                                                                                                                                                                                                                                                                                                                                                                                                                                                                                                                                                                                                                                                                                                                                                                                                                                                                                                                                                                                                                                                                                                                                                                                                                                                                                                                                                                                                                                                                                                                                                                                                                                                                                                                                                                                                                                                                                                                                                                                                                                                                                                                                                                                                                                                                                                                                                                                                                                                                                                                                                                                                                                                                                                                                                                                                                                                                                                                                                                                                                                                                                                                                                                                                                                                                                                                                                                                                                                                                                                                                                                                                                                                                                                                                                                                                                                                                                                                                                                                                                                                                                                                                                                                                                                                                                                                                                                                                                                                                                                                                                                                                                                                                                                                                                                                                                                                                                                                                                                                                                                                                                                                                                                                                                                                                                                                                                                                                                                                                                                                                                                                                                                                                                                                                                                                                                                                                                                                                                                                                                                                                                                                                                                                                                                                                                                                                                                                                                                                                                                                                                                                                                                                                                                                                                                                                                                                                                                                                                                                                                                                                                                                                                                                                                                                                                                                                                                                                                                                                                                                                                                                                                                                                                                                                                                                                                                                                                                                                                                                                                                                                                                                                                                                                                                                                                                                                                                                                                                                                                                                                                                                                                                                                                                                                                                                                                                                                                                                                                                                                                                                                                                                                                                                                                                                                                                                                                                                                                                                                                                                                                                                                                                                                                                                                                                                                                                                                                                                                                                                                                                                                                                                                                                                                                                                                                                                                                                                                                                                                                                                                                                                                                                                                                                                                                                                                                                                                                                                                                                                                                                                                                                                                                                                                                                                                                                                                                                                                                                                                                                                                                                                                                                                                                                                                                                                                                                                                                                                                                                                                                                                                                                                                                                                                                                                                                                                                                                                                                                                                                                                                                                                                                                                                                                                                                                                                                                                                                                                                                                                                                                                                                                                                                                                                                                                                                                                                                                                                                                                                                                                                                                                                                                                                                                                                                                                                                                                                                                                                                                                                                                                                                                                                                                                                                                                                                                                                                                                                                                                                                                                                                                                                                                                                                                                                                                                                                                                                                                                                                                                                                                                                                                                                                                                                                                                                                                                                                                                                                                                                                                                                                                                                                                                                                                                                                                                                                                                                                                                                                                                                                                                                                                                                                                                                                                                                                                                                                                                                                                                                                                                                                                                                                                                                                                                                                                                                                                                                                                                                                                                                                                                                                                                                                                                                                                                                                                                                                                                                                                                                                                                                                                                                                                                                                                                                                                                                                                                                                                                                                                                                                                                                                                                                                                                                                                                                                                                                                                                                                                                                                                                                                                                                                                                                                                                                                                                                                                                                                                                                                                                                                                                                                                                                                                                                                                                                                                                                                                                                                                                                                                                                                                                                                                                                                                                                                                                                                                                                                                                                                                                                                                                                                                                                                                                                                                                                                                                                                                                                                                                                                                                                                                                                                                                                                                                                                                                                                                                                                                                                                                                                                                                                                                                                                                                                                                                                                                                                                                                                                                                                                                                                                                                                                                                                                                                                                                                                                                                                                                                                                                                                                                                                                                                                                                                                                                                                                                                                                                                                                                                                                                                                                                                                                                                                                                                                                                                                                                                                                                                                                                                                                                                                                                                                                                                                                                                                                                                                                                                                                                                                                                                                                                                                                                                                                                                                                                                                                                                                                                                                                                                                                                                                                                                                                                                                                                                                                                                                                                                                                                                                                                                                                                                                                                                                                                                                                                                                                                                                                                                                                                                                                                                                                                                                                                                                                                                                                                                                                                                                                                                                                                                                                                                                                                                                                                                                                                                                                                                                                                                                                                                                                                                                                                                                                                                                                                                                                                                                                                                                                                                                                                                                                                                                                                                                                                                                                                                                                                                                                                                                                                                                                                                                                                                                                                                                                                                                                                                                                                                                                                                                                                                                                                                                                                                                                                                                                                                                                                                                                                                                                                                                                                                                                                                                                                                                                                                                                                                                                                                                                                                                                                                                                                                                                                                                                                                                                                                                                                                                                                                                                                                                                                                                                                                                                                                                                                                                                                                                                                                                                                                                                                                                                                                                                                                                                                                                                                                                                                                                                                                                                                                                                                                                                                                                                                                                                                                                                                                                                                                                                                                                                                                                                                                                                                                                                                                                                                                                                                                                                                                                                                                                                                                                                                                                                                                                                                                                                                                                                                                                                                                                                                                                                                                                                                                                                                                                                                                                                                                                                                                                                                                                                                                                                                                                                                                                                                                                                                                                                                                                                                                                                                                                                                                                                                                                                                                                                                                                                                                                                                                                                                                                                                                                                                                                                                                                                                                                                                                                                                                                                                                                                                                                                                                                                                                                                                                                                                                                                                                                                                                                                                                                                                                                                                                                                                                                                                                                                                                                                                                                                                                                                                                                                                                                                                                                                                                                                                                                                                                                                                                                                                                                                                                                                                                                                                                                                                                                                                                                                                                                                                                                                                                                                                                                                                                                                                                                                                                                                                                                                                                                                                                                                                                                                                                                                                                                                                                                                                                                                                                                                                                                                                                                                                                                                                                                                                                                                                                                                                                                                                                                                                                                                                                                                                                                                                                                                                                                                                                                                                                                                                                                                                                                                                                                                                                                                                                                                                                                                                                                                                                                                                                                                                                                                                                                                                                                                                                                                                                                                                                                                                                                                                                                                                                                                                                                                                                                                                                                                                                                                                                                                                                                                                                                                                                                                                                                                                                                                                                                                                                                                                                                                                                                                                                                                                                                                                                                                                                                                                                                                                                                                                                                                                                                                                                                                                                                                                                                                                                                                                                                                                                                                                                                                                                                                                                                                                                                                                                                                                                                                                                                                                                                                                                                                                                                                                                                                                                                                                                                                                                                                                                                                                                                                                                                                                                                                                                                                                                                                                                                                                                                                                                                                                                                                                                                                                                                                                                                                                                                                                                                                                                                                                                                                                                                                        Html  \n",
       "0  <!DOCTYPE html>\\n<html lang=\"en\" dir=\"ltr\" xmlns:article=\"http://ogp.me/ns/article#\" xmlns:book=\"http://ogp.me/ns/book#\" xmlns:product=\"http://ogp.me/ns/product#\" xmlns:profile=\"http://ogp.me/ns/profile#\" xmlns:video=\"http://ogp.me/ns/video#\" prefix=\"content: http://purl.org/rss/1.0/modules/content/  dc: http://purl.org/dc/terms/  foaf: http://xmlns.com/foaf/0.1/  og: http://ogp.me/ns#  rdfs: http://www.w3.org/2000/01/rdf-schema#  schema: http://schema.org/  sioc: http://rdfs.org/sioc/ns#  sioct: http://rdfs.org/sioc/types#  skos: http://www.w3.org/2004/02/skos/core#  xsd: http://www.w3.org/2001/XMLSchema# \">\\n  <head>\\n    <meta charset=\"utf-8\" /><script type=\"text/javascript\">window.NREUM||(NREUM={}),__nr_require=function(e,n,t){function r(t){if(!n[t]){var o=n[t]={exports:{}};e[t][0].call(o.exports,function(n){var o=e[t][1][n];return r(o||n)},o,o.exports)}return n[t].exports}if(\"function\"==typeof __nr_require)return __nr_require;for(var o=0;o<t.length;o++)r(t[o]);return r}({1:[function(e,n,t){function r(){}function o(e,n,t){return function(){return i(e,[c.now()].concat(u(arguments)),n?null:this,t),n?void 0:this}}var i=e(\"handle\"),a=e(2),u=e(3),f=e(\"ee\").get(\"tracer\"),c=e(\"loader\"),s=NREUM;\"undefined\"==typeof window.newrelic&&(newrelic=s);var p=[\"setPageViewName\",\"setCustomAttribute\",\"setErrorHandler\",\"finished\",\"addToTrace\",\"inlineHit\",\"addRelease\"],d=\"api-\",l=d+\"ixn-\";a(p,function(e,n){s[n]=o(d+n,!0,\"api\")}),s.addPageAction=o(d+\"addPageAction\",!0),s.setCurrentRouteName=o(d+\"routeName\",!0),n.exports=newrelic,s.interaction=function(){return(new r).get()};var m=r.prototype={createTracer:function(e,n){var t={},r=this,o=\"function\"==typeof n;return i(l+\"tracer\",[c.now(),e,t],r),function(){if(f.emit((o?\"\":\"no-\")+\"fn-start\",[c.now(),r,o],t),o)try{return n.apply(this,arguments)}finally{f.emit(\"fn-end\",[c.now()],t)}}}};a(\"setName,setAttribute,save,ignore,onEnd,getContext,end,get\".split(\",\"),function(e,n){m[n]=o(l+n)}),newrelic.noticeError=function(e){\"string\"==typeof e&&(e=new Error(e)),i(\"err\",[e,c.now()])}},{}],2:[function(e,n,t){function r(e,n){var t=[],r=\"\",i=0;for(r in e)o.call(e,r)&&(t[i]=n(r,e[r]),i+=1);return t}var o=Object.prototype.hasOwnProperty;n.exports=r},{}],3:[function(e,n,t){function r(e,n,t){n||(n=0),\"undefined\"==typeof t&&(t=e?e.length:0);for(var r=-1,o=t-n||0,i=Array(o<0?0:o);++r<o;)i[r]=e[n+r];return i}n.exports=r},{}],4:[function(e,n,t){n.exports={exists:\"undefined\"!=typeof window.performance&&window.performance.timing&&\"undefined\"!=typeof window.performance.timing.navigationStart}},{}],ee:[function(e,n,t){function r(){}function o(e){function n(e){return e&&e instanceof r?e:e?f(e,u,i):i()}function t(t,r,o,i){if(!d.aborted||i){e&&e(t,r,o);for(var a=n(o),u=m(t),f=u.length,c=0;c<f;c++)u[c].apply(a,r);var p=s[y[t]];return p&&p.push([b,t,r,a]),a}}function l(e,n){v[e]=m(e).concat(n)}function m(e){return v[e]||[]}function w(e){return p[e]=p[e]||o(t)}function g(e,n){c(e,function(e,t){n=n||\"feature\",y[t]=n,n in s||(s[n]=[])})}var v={},y={},b={on:l,emit:t,get:w,listeners:m,context:n,buffer:g,abort:a,aborted:!1};return b}function i(){return new r}function a(){(s.api||s.feature)&&(d.aborted=!0,s=d.backlog={})}var u=\"nr@context\",f=e(\"gos\"),c=e(2),s={},p={},d=n.exports=o();d.backlog=s},{}],gos:[function(e,n,t){function r(e,n,t){if(o.call(e,n))return e[n];var r=t();if(Object.defineProperty&&Object.keys)try{return Object.defineProperty(e,n,{value:r,writable:!0,enumerable:!1}),r}catch(i){}return e[n]=r,r}var o=Object.prototype.hasOwnProperty;n.exports=r},{}],handle:[function(e,n,t){function r(e,n,t,r){o.buffer([e],r),o.emit(e,n,t)}var o=e(\"ee\").get(\"handle\");n.exports=r,r.ee=o},{}],id:[function(e,n,t){function r(e){var n=typeof e;return!e||\"object\"!==n&&\"function\"!==n?-1:e===window?0:a(e,i,function(){return o++})}var o=1,i=\"nr@id\",a=e(\"gos\");n.exports=r},{}],loader:[function(e,n,t){function r(){if(!x++){var e=h.info=NREUM.info,n=d.getElementsByTagName(\"script\")[0];if(setTimeout(s.abort,3e4),!(e&&e.licenseKey&&e.applicationID&&n))return s.abort();c(y,function(n,t){e[n]||(e[n]=t)}),f(\"mark\",[\"onload\",a()+h.offset],null,\"api\");var t=d.createElement(\"script\");t.src=\"https://\"+e.agent,n.parentNode.insertBefore(t,n)}}function o(){\"complete\"===d.readyState&&i()}function i(){f(\"mark\",[\"domContent\",a()+h.offset],null,\"api\")}function a(){return E.exists&&performance.now?Math.round(performance.now()):(u=Math.max((new Date).getTime(),u))-h.offset}var u=(new Date).getTime(),f=e(\"handle\"),c=e(2),s=e(\"ee\"),p=window,d=p.document,l=\"addEventListener\",m=\"attachEvent\",w=p.XMLHttpRequest,g=w&&w.prototype;NREUM.o={ST:setTimeout,SI:p.setImmediate,CT:clearTimeout,XHR:w,REQ:p.Request,EV:p.Event,PR:p.Promise,MO:p.MutationObserver};var v=\"\"+location,y={beacon:\"bam.nr-data.net\",errorBeacon:\"bam.nr-data.net\",agent:\"js-agent.newrelic.com/nr-1044.min.js\"},b=w&&g&&g[l]&&!/CriOS/.test(navigator.userAgent),h=n.exports={offset:u,now:a,origin:v,features:{},xhrWrappable:b};e(1),d[l]?(d[l](\"DOMContentLoaded\",i,!1),p[l](\"load\",r,!1)):(d[m](\"onreadystatechange\",o),p[m](\"onload\",r)),f(\"mark\",[\"firstbyte\",u],null,\"api\");var x=0,E=e(4)},{}]},{},[\"loader\"]);</script>\\n<script>const LIFT_SEGMENTS_KEY='lift-segments';Reader={getValueFromCookie:function(key){var b=window.document.cookie.match('(^|;)\\\\s*'+key+'\\\\s*=\\\\s*([^;]+)');return b?decodeURIComponent(b.pop()):'';},getLiftSegments:function(){return this.getValueFromCookie(LIFT_SEGMENTS_KEY);},getReferrerMetaTag:function(){return document.head.querySelector(\"[name=qtx-referrer]\");},isSearchEngineReferral:function(){var metaTag=this.getReferrerMetaTag();return metaTag!==null;}};var dataLayerValues={};var segments=Reader.getLiftSegments();if(segments){dataLayerValues.lftsegment=segments;}\\ndataLayerValues.qtxSearchEngineReferral=Reader.isSearchEngineReferral();dataLayer=[dataLayerValues];</script>\\n<meta itemprop=\"acquia_lift:content_title\" content=\"Tecfidera, Gilenya and Aubagio&#039;s 3-way battle for MS share is about to heat up\" />\\n<meta itemprop=\"acquia_lift:content_type\" content=\"article\" />\\n<meta itemprop=\"acquia_lift:page_type\" content=\"node page\" />\\n<meta itemprop=\"acquia_lift:content_section\" content=\"DTC Advertising,Digital and Social Media,--homepage--,Launches,Pharma,Marketing\" />\\n<meta itemprop=\"acquia_lift:content_keywords\" content=\"Aubagio,Biogen,Gilenya,Novartis,Sanofi,Tecfidera\" />\\n<meta itemprop=\"acquia_lift:post_id\" content=\"360096\" />\\n<meta itemprop=\"acquia_lift:published_date\" content=\"1477875886\" />\\n<meta itemprop=\"acquia_lift:persona\" content=\"\" />\\n<meta itemprop=\"acquia_lift:engagement_score\" content=\"1\" />\\n<meta itemprop=\"acquia_lift:author\" content=\"tracy\" />\\n<meta itemprop=\"acquia_lift:account_id\" content=\"FierceMarkets\" />\\n<meta itemprop=\"acquia_lift:site_id\" content=\"fiercepharma\" />\\n<meta itemprop=\"acquia_lift:liftAssetsURL\" content=\"https://lift3assets.lift.acquia.com/stable\" />\\n<meta itemprop=\"acquia_lift:contentReplacementMode\" content=\"untrusted\" />\\n<script src=\"https://lift3assets.lift.acquia.com/stable/lift.js\" defer></script>\\n<meta name=\"gtm-article\" content=\"360096\" />\\n<meta name=\"gtm-contenttype\" content=\"Article\" />\\n<meta name=\"gtm-keywords\" content=\"Sanofi, Aubagio, Tecfidera, Biogen, Novartis, Gilenya\" />\\n<meta name=\"gtm-topics\" content=\"multiple sclerosis, drug launch, generics, payer\" />\\n<meta name=\"title\" content=\"Tecfidera, Gilenya and Aubagio&#039;s 3-way battle for MS share is about to heat up | FiercePharma\" />\\n<meta name=\"parsely-author\" content=\"Tracy Staton\" />\\n<meta name=\"parsely-image-url\" content=\"\" />\\n<meta name=\"parsely-link\" content=\"http://www.fiercepharma.com/marketing/tecfidera-gilenya-and-aubagio-s-3-way-battle-for-ms-share-about-to-get-more-interesting\" />\\n<meta name=\"parsely-metadata\" content=\"article\" />\\n<meta name=\"parsely-pub-date\" content=\"2016-10-31T06:54:17-0400\" />\\n<meta name=\"parsely-tags\" content=\"Sanofi, Aubagio, Tecfidera, Biogen, Novartis, Gilenya, multiple sclerosis, drug launch, generics, payer\" />\\n<meta name=\"parsely-title\" content=\"Tecfidera, Gilenya and Aubagio&#039;s 3-way battle for MS share is about to heat up\" />\\n<meta name=\"parsely-type\" content=\"post\" />\\n<meta name=\"gtm-section\" content=\"Marketing\" />\\n<meta name=\"description\" content=\"Multiple sclerosis drugmakers are in a fix: These days, the U.S. market isn’t delivering the kind of growth that had been fueling big increases in sales. That spells an even more intense market-share battle ahead for pack leader Biogen, close second Novartis and the fast up-and-coming Sanofi.\" />\\n<meta name=\"keywords\" content=\"Sanofi, Aubagio, Tecfidera, Biogen, Novartis, Gilenya multiple sclerosis, drug launch, generics, payer\" />\\n<meta name=\"parsely-section\" content=\"Marketing\" />\\n<meta property=\"og:image\" content=\"http://qtxasset.com/2016-10/AubagioHiRes.jpg?9VUPHXPTCvnt3i2p85LAOR983r2HyGpU\" />\\n<meta name=\"referrer\" content=\"no-referrer\" />\\n<meta name=\"Generator\" content=\"Drupal 8 (https://www.drupal.org)\" />\\n<meta name=\"MobileOptimized\" content=\"width\" />\\n<meta name=\"HandheldFriendly\" content=\"true\" />\\n<meta name=\"viewport\" content=\"width=device-width, initial-scale=1.0\" />\\n<link rel=\"shortcut icon\" href=\"/themes/custom/tektite_fierce/favicon.ico\" type=\"image/vnd.microsoft.icon\" />\\n<link rel=\"alternate\" type=\"application/rss+xml\" href=\"http://www.fiercepharma.com/rss/xml\" />\\n<link rel=\"canonical\" href=\"/marketing/tecfidera-gilenya-and-aubagio-s-3-way-battle-for-ms-share-about-to-get-more-interesting\" />\\n<link rel=\"shortlink\" href=\"/node/360096\" />\\n<link rel=\"revision\" href=\"/marketing/tecfidera-gilenya-and-aubagio-s-3-way-battle-for-ms-share-about-to-get-more-interesting\" />\\n<script>(function(w,d,s,l,i){w[l]=w[l]||[];w[l].push({'gtm.start':new Date().getTime(),event:'gtm.js'});var f=d.getElementsByTagName(s)[0];var j=d.createElement(s);var dl=l!='dataLayer'?'&amp;l='+l:'';j.src='https://www.googletagmanager.com/gtm.js?id='+i+dl+'';j.async=true;f.parentNode.insertBefore(j,f);})(window,document,'script','dataLayer','GTM-KLQFWCZ');</script>\\n<script>window.a2a_config=window.a2a_config||{};a2a_config.callbacks=a2a_config.callbacks||[];a2a_config.templates=a2a_config.templates||{};a2a_config.onclick = 1;\\r\\na2a_config.orientation = \"down\";\\r\\na2a_config.icon_color = \"transparent\";\\r\\na2a_config.color_link_text = \"666666\";\\r\\na2a_config.color_link_text_hover = \"333333\";</script>\\n<style>.a2a_menu, .a2a_menu_find_container { border-radius: 0 !important; }\\r\\n.a2a_menu .a2a_mini_services a span { background-color: #666666 !important; }\\r\\n.a2a_menu .a2a_mini_services a:hover span { background-color: #333333 !important; }</style>\\n\\n    <title>Tecfidera, Gilenya and Aubagio&#039;s 3-way battle for MS share is about to heat up | FiercePharma</title>\\n    <link rel=\"stylesheet\" href=\"/sites/fiercepharma/files/css/css_SU4tYtYmriNajhtRxlkVqjjbKbVdHaFjVFd0gx5gDuM.css?ovgnfq\" media=\"all\" />\\n<link rel=\"stylesheet\" href=\"/sites/fiercepharma/files/css/css_4YxNtJUEdtogsWyzNkWYMeig_ib1DFtCI5hTWvg3_O0.css?ovgnfq\" media=\"all\" />\\n\\n\\n      <script type=\"text/javascript\">\\n          /*! modernizr 3.3.1 (Custom Build) | MIT *\\n * http://modernizr.com/download/?-details-inputtypes-touchevents-addtest-prefixes-setclasses-teststyles !*/\\n!function(e,t,n){function o(e,t){return typeof e===t}function i(){var e,t,n,i,s,a,r;for(var l in d)if(d.hasOwnProperty(l)){if(e=[],t=d[l],t.name&&(e.push(t.name.toLowerCase()),t.options&&t.options.aliases&&t.options.aliases.length))for(n=0;n<t.options.aliases.length;n++)e.push(t.options.aliases[n].toLowerCase());for(i=o(t.fn,\"function\")?t.fn():t.fn,s=0;s<e.length;s++)a=e[s],r=a.split(\".\"),1===r.length?Modernizr[r[0]]=i:(!Modernizr[r[0]]||Modernizr[r[0]]instanceof Boolean||(Modernizr[r[0]]=new Boolean(Modernizr[r[0]])),Modernizr[r[0]][r[1]]=i),u.push((i?\"\":\"no-\")+r.join(\"-\"))}}function s(e){var t=m.className,n=Modernizr._config.classPrefix||\"\";if(v&&(t=t.baseVal),Modernizr._config.enableJSClass){var o=new RegExp(\"(^|\\\\s)\"+n+\"no-js(\\\\s|$)\");t=t.replace(o,\"$1\"+n+\"js$2\")}Modernizr._config.enableClasses&&(t+=\" \"+n+e.join(\" \"+n),v?m.className.baseVal=t:m.className=t)}function a(e,t){if(\"object\"==typeof e)for(var n in e)h(e,n)&&a(n,e[n]);else{e=e.toLowerCase();var o=e.split(\".\"),i=Modernizr[o[0]];if(2==o.length&&(i=i[o[1]]),\"undefined\"!=typeof i)return Modernizr;t=\"function\"==typeof t?t():t,1==o.length?Modernizr[o[0]]=t:(!Modernizr[o[0]]||Modernizr[o[0]]instanceof Boolean||(Modernizr[o[0]]=new Boolean(Modernizr[o[0]])),Modernizr[o[0]][o[1]]=t),s([(t&&0!=t?\"\":\"no-\")+o.join(\"-\")]),Modernizr._trigger(e,t)}return Modernizr}function r(){return\"function\"!=typeof t.createElement?t.createElement(arguments[0]):v?t.createElementNS.call(t,\"http://www.w3.org/2000/svg\",arguments[0]):t.createElement.apply(t,arguments)}function l(){var e=t.body;return e||(e=r(v?\"svg\":\"body\"),e.fake=!0),e}function f(e,n,o,i){var s,a,f,u,d=\"modernizr\",c=r(\"div\"),p=l();if(parseInt(o,10))for(;o--;)f=r(\"div\"),f.id=i?i[o]:d+(o+1),c.appendChild(f);return s=r(\"style\"),s.type=\"text/css\",s.id=\"s\"+d,(p.fake?p:c).appendChild(s),p.appendChild(c),s.styleSheet?s.styleSheet.cssText=e:s.appendChild(t.createTextNode(e)),c.id=d,p.fake&&(p.style.background=\"\",p.style.overflow=\"hidden\",u=m.style.overflow,m.style.overflow=\"hidden\",m.appendChild(p)),a=n(c,e),p.fake?(p.parentNode.removeChild(p),m.style.overflow=u,m.offsetHeight):c.parentNode.removeChild(c),!!a}var u=[],d=[],c={_version:\"3.3.1\",_config:{classPrefix:\"\",enableClasses:!0,enableJSClass:!0,usePrefixes:!0},_q:[],on:function(e,t){var n=this;setTimeout(function(){t(n[e])},0)},addTest:function(e,t,n){d.push({name:e,fn:t,options:n})},addAsyncTest:function(e){d.push({name:null,fn:e})}},Modernizr=function(){};Modernizr.prototype=c,Modernizr=new Modernizr;var p=c._config.usePrefixes?\" -webkit- -moz- -o- -ms- \".split(\" \"):[\"\",\"\"];c._prefixes=p;var h,m=t.documentElement,v=\"svg\"===m.nodeName.toLowerCase();!function(){var e={}.hasOwnProperty;h=o(e,\"undefined\")||o(e.call,\"undefined\")?function(e,t){return t in e&&o(e.constructor.prototype[t],\"undefined\")}:function(t,n){return e.call(t,n)}}(),c._l={},c.on=function(e,t){this._l[e]||(this._l[e]=[]),this._l[e].push(t),Modernizr.hasOwnProperty(e)&&setTimeout(function(){Modernizr._trigger(e,Modernizr[e])},0)},c._trigger=function(e,t){if(this._l[e]){var n=this._l[e];setTimeout(function(){var e,o;for(e=0;e<n.length;e++)(o=n[e])(t)},0),delete this._l[e]}},Modernizr._q.push(function(){c.addTest=a});var y=r(\"input\"),g=\"search tel url email datetime date month week time datetime-local number range color\".split(\" \"),_={};Modernizr.inputtypes=function(e){for(var o,i,s,a=e.length,r=\"1)\",l=0;a>l;l++)y.setAttribute(\"type\",o=e[l]),s=\"text\"!==y.type&&\"style\"in y,s&&(y.value=r,y.style.cssText=\"position:absolute;visibility:hidden;\",/^range$/.test(o)&&y.style.WebkitAppearance!==n?(m.appendChild(y),i=t.defaultView,s=i.getComputedStyle&&\"textfield\"!==i.getComputedStyle(y,null).WebkitAppearance&&0!==y.offsetHeight,m.removeChild(y)):/^(search|tel)$/.test(o)||(s=/^(url|email)$/.test(o)?y.checkValidity&&y.checkValidity()===!1:y.value!=r)),_[e[l]]=!!s;return _}(g);var w=c.testStyles=f;Modernizr.addTest(\"touchevents\",function(){var n;if(\"ontouchstart\"in e||e.DocumentTouch&&t instanceof DocumentTouch)n=!0;else{var o=[\"@media (\",p.join(\"touch-enabled),(\"),\"heartz\",\")\",\"{#modernizr{top:9px;position:absolute}}\"].join(\"\");w(o,function(e){n=9===e.offsetTop})}return n}),Modernizr.addTest(\"details\",function(){var e,t=r(\"details\");return\"open\"in t?(w(\"#modernizr details{display:block}\",function(n){n.appendChild(t),t.innerHTML=\"<summary>a</summary>b\",e=t.offsetHeight,t.open=!0,e=e!=t.offsetHeight}),e):!1}),i(),s(u),delete c.addTest,delete c.addAsyncTest;for(var b=0;b<Modernizr._q.length;b++)Modernizr._q[b]();e.Modernizr=Modernizr}(window,document);\\n      </script>\\n\\n    \\n<!--[if lte IE 8]>\\n<script src=\"/sites/fiercepharma/files/js/js_VtafjXmRvoUgAzqzYTA3Wrjkx9wcWhjP0G4ZnnqRamA.js\"></script>\\n<![endif]-->\\n<script src=\"//use.typekit.net/bmi3gnp.js\" async defer></script>\\n<script src=\"/sites/fiercepharma/files/js/js_ozV2cpnXKyS-tjjiGBrrhmvVIfqVqBKSf9c4k8FrQpo.js\" async defer></script>\\n\\n\\n    <!-- Start Taboola -->\\n    <script type=\"text/javascript\">\\n      window._taboola = window._taboola || [];\\n      _taboola.push({article:'auto'});\\n      !function (e, f, u) {\\n        e.async = 1;\\n        e.src = u;\\n        f.parentNode.insertBefore(e, f);\\n      }(document.createElement('script'),\\n        document.getElementsByTagName('script')[0],\\n        '//cdn.taboola.com/libtrc/questex-network/loader.js');\\n    </script>\\n    <!-- End Taboola -->\\n\\n    <link rel=\"apple-touch-icon\" sizes=\"57x57\" href=\"/themes/custom/tektite_fierce/apple-touch-icon-57x57.png?v=wAAmkK2yLl\">\\n    <link rel=\"apple-touch-icon\" sizes=\"60x60\" href=\"/themes/custom/tektite_fierce/apple-touch-icon-60x60.png?v=wAAmkK2yLl\">\\n    <link rel=\"apple-touch-icon\" sizes=\"72x72\" href=\"/themes/custom/tektite_fierce/apple-touch-icon-72x72.png?v=wAAmkK2yLl\">\\n    <link rel=\"apple-touch-icon\" sizes=\"76x76\" href=\"/themes/custom/tektite_fierce/apple-touch-icon-76x76.png?v=wAAmkK2yLl\">\\n    <link rel=\"apple-touch-icon\" sizes=\"114x114\" href=\"/themes/custom/tektite_fierce/apple-touch-icon-114x114.png?v=wAAmkK2yLl\">\\n    <link rel=\"apple-touch-icon\" sizes=\"120x120\" href=\"/themes/custom/tektite_fierce/apple-touch-icon-120x120.png?v=wAAmkK2yLl\">\\n    <link rel=\"apple-touch-icon\" sizes=\"144x144\" href=\"/themes/custom/tektite_fierce/apple-touch-icon-144x144.png?v=wAAmkK2yLl\">\\n    <link rel=\"apple-touch-icon\" sizes=\"152x152\" href=\"/themes/custom/tektite_fierce/apple-touch-icon-152x152.png?v=wAAmkK2yLl\">\\n    <link rel=\"apple-touch-icon\" sizes=\"180x180\" href=\"/themes/custom/tektite_fierce/apple-touch-icon-180x180.png?v=wAAmkK2yLl\">\\n    <link rel=\"icon\" type=\"image/png\" href=\"/themes/custom/tektite_fierce/favicon-32x32.png?v=wAAmkK2yLl\" sizes=\"32x32\">\\n    <link rel=\"icon\" type=\"image/png\" href=\"/themes/custom/tektite_fierce/favicon-194x194.png?v=wAAmkK2yLl\" sizes=\"194x194\">\\n    <link rel=\"icon\" type=\"image/png\" href=\"/themes/custom/tektite_fierce/favicon-96x96.png?v=wAAmkK2yLl\" sizes=\"96x96\">\\n    <link rel=\"icon\" type=\"image/png\" href=\"/themes/custom/tektite_fierce/android-chrome-192x192.png?v=wAAmkK2yLl\" sizes=\"192x192\">\\n    <link rel=\"icon\" type=\"image/png\" href=\"/themes/custom/tektite_fierce/favicon-16x16.png?v=wAAmkK2yLl\" sizes=\"16x16\">\\n    <link rel=\"manifest\" href=\"/themes/custom/tektite_fierce/manifest.json?v=wAAmkK2yLl\">\\n    <link rel=\"mask-icon\" href=\"/themes/custom/tektite_fierce/safari-pinned-tab.svg?v=wAAmkK2yLl\" color=\"#002358\">\\n    <link rel=\"shortcut icon\" href=\"/themes/custom/tektite_fierce/favicon.ico?v=wAAmkK2yLl\">\\n    <meta name=\"msapplication-TileColor\" content=\"#da532c\">\\n    <meta name=\"msapplication-TileImage\" content=\"/themes/custom/tektite_fierce/mstile-144x144.png?v=wAAmkK2yLl\">\\n    <meta name=\"theme-color\" content=\"#ffffff\">\\n  </head>\\n\\n  <body class=\"sidebar-second path-node page-node-type-article\">\\n\\n    <div class=\"page-container\">\\n      <a href=\"#main-content\" class=\"visually-hidden focusable\">Skip to main content</a>\\n      <noscript><iframe src=\"https://www.googletagmanager.com/ns.html?id=GTM-KLQFWCZ\" height=\"0\" width=\"0\"></iframe></noscript>\\n      \\n<div id=\"scrollProgress\"></div>\\n\\n  <div id=\"header-top\">\\n    <div class=\"wrapper\">\\n        <div class=\"region region-header-top\">\\n    <div id=\"block-tektitegenericadinterstitialblock\" class=\"block block-tektite-generic-blocks block-tektite-generic-ad-interstitial\">\\n  \\n    \\n                      <div id='interstitial'>\\n                  <script type='text/javascript'>\\n                    document.addEventListener(\"googletagEvent\", function() {\\n                      googletag.cmd.push(function() { googletag.display('interstitial'); });\\n                    });\\n                  </script>\\n                </div>\\n  </div>\\n<div id=\"block-tektitegenericmobileadhesionadblock\" class=\"block block-tektite-generic-blocks block-tektite-generic-ad-mobile-adhesion\">\\n  \\n    \\n                      <div id='mobile-adhesion'>\\n                <script type='text/javascript'>\\n                document.addEventListener(\"googletagEvent\", function() {\\n                googletag.cmd.push(function() { googletag.display('mobile-adhesion'); });\\n                });\\n                </script>\\n                </div>\\n  </div>\\n<div id=\"block-tektitegenericadwallpaperblock\" class=\"block block-tektite-generic-blocks block-tektite-generic-ad-wallpaper\">\\n  \\n    \\n                      <div id='wallpaper'>\\n                  <script type='text/javascript'>\\n                    document.addEventListener(\"googletagEvent\", function() {\\n                      googletag.cmd.push(function() { googletag.display('wallpaper'); });\\n                    });\\n                  </script>\\n                </div>\\n  </div>\\n<div id=\"block-tektitegenericadheaderblock\" class=\"block block-tektite-generic-blocks block-tektite-generic-ad-header\">\\n  \\n    \\n                      <div id='header-ad-wrapper'>\\n                <div id='header-ad'>\\n                  <script type='text/javascript'>\\n                    document.addEventListener(\"googletagEvent\", function() {\\n                      googletag.cmd.push(function() { googletag.display('header-ad'); });\\n                    });\\n                  </script>\\n                </div>\\n                </div>\\n  </div>\\n\\n  </div>\\n\\n    </div>\\n  </div>\\n\\n  <header id=\"header\" role=\"banner\">\\n    <div class=\"wrapper\">\\n        <div class=\"region region-header\">\\n    <div id=\"block-tektitesocialshareblock\" class=\"block block-tektite-generic-blocks block-social-share-block\">\\n  \\n    \\n                                          <a class=\"icon icon-twitter\" href='https://twitter.com/fiercepharma'>Twitter</a>\\n                                            <a class=\"icon icon-linkedin-squared\" href='https://www.linkedin.com/groups/5042642'>LinkedIn</a>\\n                    \\n  </div>\\n<div class=\"search-api-page-block-form block block-search-api-page block-search-api-page-form-block\" data-drupal-selector=\"search-api-page-block-form\" autocomplete=\"off\" id=\"block-searchapipagesearchblockform\">\\n  \\n    \\n      <form action=\"/marketing/tecfidera-gilenya-and-aubagio-s-3-way-battle-for-ms-share-about-to-get-more-interesting\" method=\"post\" id=\"search-api-page-block-form\" accept-charset=\"UTF-8\">\\n  <div class=\"js-form-item form-item js-form-type-search form-type-search js-form-item-keys form-item-keys form-no-label\">\\n      <label for=\"edit-keys\" class=\"visually-hidden\">Search</label>\\n        <input title=\"Enter the terms you wish to search for.\" data-drupal-selector=\"edit-keys\" type=\"search\" id=\"edit-keys\" name=\"keys\" value=\"\" size=\"15\" maxlength=\"128\" class=\"form-search\" />\\n\\n        </div>\\n<input data-drupal-selector=\"form-qffrn6xa65cb8xcizkiokubdadwhoxg1-n7srlppari\" type=\"hidden\" name=\"form_build_id\" value=\"form-QffRn6XA65Cb8XciZkIokUbDADwhoXG1-n7SrLPparI\" />\\n<input data-drupal-selector=\"edit-search-api-page-block-form\" type=\"hidden\" name=\"form_id\" value=\"search_api_page_block_form\" />\\n<div data-drupal-selector=\"edit-actions\" class=\"form-actions js-form-wrapper form-wrapper\" id=\"edit-actions\"><input data-drupal-selector=\"edit-submit\" type=\"submit\" id=\"edit-submit\" name=\"op\" value=\"Search\" class=\"button js-form-submit form-submit\" />\\n</div>\\n\\n</form>\\n\\n  </div>\\n<nav role=\"navigation\" aria-labelledby=\"block-topmenu-menu\" id=\"block-topmenu\" class=\"block block-menu navigation menu--top-menu\">\\n            \\n  <h2 class=\"visually-hidden\" id=\"block-topmenu-menu\">Top Menu</h2>\\n  \\n\\n        \\n              <ul class=\"menu\">\\n                    <li class=\"menu-item\">\\n        <a href=\"http://www.fiercedrugdevforum.com/\">DDF 2017</a>\\n              </li>\\n                <li class=\"menu-item\">\\n        <a href=\"http://www.fiercebiotech.com/\">FierceBiotech</a>\\n              </li>\\n                <li class=\"menu-item\">\\n        <a href=\"http://jobs.fiercebiotech.com/\">Jobs</a>\\n              </li>\\n                <li class=\"menu-item\">\\n        <a href=\"/resources\" data-drupal-link-system-path=\"resources\">Resources</a>\\n              </li>\\n                <li class=\"menu-item\">\\n        <a href=\"/events\">Events</a>\\n              </li>\\n                <li class=\"menu-item\">\\n        <a href=\"https://pages.questexweb.com/FiercePharma-Newsletter-Signup.html\" title=\"Subscribe\">Subscribe</a>\\n              </li>\\n        </ul>\\n  \\n\\n\\n  </nav>\\n<div id=\"block-tektite-pharma-branding\" class=\"block block-system block-system-branding-block\">\\n  \\n    \\n              <div class=\"site-logo\">\\n            <a href=\"/\" title=\"Home\" rel=\"home\">\\n                <img src=\"/themes/custom/tektite_fierce/assets/images/logo/logo-pharma.svg\" alt=\"Home\"/>\\n            </a>\\n        </div>\\n    \\n    <div class=\"questex-logo\">\\n        <a href=\"http://questex.com\" target=\"_blank\" title=\"Questex\">\\n            <img src=\"/themes/custom/tektite/assets/images/logo-questex.svg\" alt=\"Questex\"/>\\n        </a>\\n    </div>\\n\\n    </div>\\n<nav role=\"navigation\" aria-labelledby=\"block-mainnavigation-menu\" id=\"block-mainnavigation\" class=\"block block-menu navigation menu--main\">\\n            \\n  <h2 class=\"visually-hidden\" id=\"block-mainnavigation-menu\">Main navigation</h2>\\n  \\n\\n        \\n              <ul class=\"menu\">\\n                    <li class=\"menu-item menu-item--expanded\">\\n        <a href=\"/pharma\" data-drupal-link-system-path=\"taxonomy/term/201\">Pharma</a>\\n                                <ul class=\"menu\">\\n                    <li class=\"menu-item\">\\n        <a href=\"/pharma/m-a\" data-drupal-link-system-path=\"taxonomy/term/206\">M&amp;A</a>\\n              </li>\\n                <li class=\"menu-item\">\\n        <a href=\"/pharma/regulatory\" data-drupal-link-system-path=\"taxonomy/term/211\">Regulatory</a>\\n              </li>\\n                <li class=\"menu-item\">\\n        <a href=\"/pharma/financials\" data-drupal-link-system-path=\"taxonomy/term/221\">Financials</a>\\n              </li>\\n                <li class=\"menu-item\">\\n        <a href=\"/pharma/corporate\" data-drupal-link-system-path=\"taxonomy/term/231\">Corporate</a>\\n              </li>\\n                <li class=\"menu-item\">\\n        <a href=\"/pharma/legal\" data-drupal-link-system-path=\"taxonomy/term/236\">Legal</a>\\n              </li>\\n        </ul>\\n  \\n              </li>\\n                <li class=\"menu-item menu-item--expanded\">\\n        <a href=\"/manufacturing\" data-drupal-link-system-path=\"taxonomy/term/166\">Manufacturing</a>\\n                                <ul class=\"menu\">\\n                    <li class=\"menu-item\">\\n        <a href=\"/manufacturing/m-a\" data-drupal-link-system-path=\"taxonomy/term/171\">M&amp;A</a>\\n              </li>\\n                <li class=\"menu-item\">\\n        <a href=\"/manufacturing/outsourcing\" data-drupal-link-system-path=\"taxonomy/term/176\">Outsourcing</a>\\n              </li>\\n                <li class=\"menu-item\">\\n        <a href=\"/manufacturing/regulatory\" data-drupal-link-system-path=\"taxonomy/term/181\">Regulatory</a>\\n              </li>\\n                <li class=\"menu-item\">\\n        <a href=\"/manufacturing/supply-chain\" data-drupal-link-system-path=\"taxonomy/term/186\">Supply Chain</a>\\n              </li>\\n                <li class=\"menu-item\">\\n        <a href=\"/manufacturing/partnering\" data-drupal-link-system-path=\"taxonomy/term/196\">Partnering</a>\\n              </li>\\n                <li class=\"menu-item\">\\n        <a href=\"/manufacturing/drug-safety\" data-drupal-link-system-path=\"taxonomy/term/191\">Drug Safety</a>\\n              </li>\\n        </ul>\\n  \\n              </li>\\n                <li class=\"menu-item menu-item--expanded\">\\n        <a href=\"/marketing\" data-drupal-link-system-path=\"taxonomy/term/126\">Marketing</a>\\n                                <ul class=\"menu\">\\n                    <li class=\"menu-item\">\\n        <a href=\"/marketing/regulatory\" data-drupal-link-system-path=\"taxonomy/term/356\">Regulatory</a>\\n              </li>\\n                <li class=\"menu-item\">\\n        <a href=\"/marketing/dtc-advertising\" data-drupal-link-system-path=\"taxonomy/term/131\">DTC Advertising</a>\\n              </li>\\n                <li class=\"menu-item\">\\n        <a href=\"/marketing/digital-and-social-media\" data-drupal-link-system-path=\"taxonomy/term/141\">Digital and Social Media</a>\\n              </li>\\n                <li class=\"menu-item\">\\n        <a href=\"/marketing/data-and-analytics\" data-drupal-link-system-path=\"taxonomy/term/151\">Data and Analytics</a>\\n              </li>\\n                <li class=\"menu-item\">\\n        <a href=\"/marketing/launches\" data-drupal-link-system-path=\"taxonomy/term/161\">Launches</a>\\n              </li>\\n        </ul>\\n  \\n              </li>\\n                <li class=\"menu-item menu-item--expanded\">\\n        <a href=\"/pharma-asia\" data-drupal-link-system-path=\"taxonomy/term/91\">Pharma Asia</a>\\n                                <ul class=\"menu\">\\n                    <li class=\"menu-item\">\\n        <a href=\"/pharma-asia/m-a\" data-drupal-link-system-path=\"taxonomy/term/96\">M&amp;A</a>\\n              </li>\\n                <li class=\"menu-item\">\\n        <a href=\"/pharma-asia/r-d\" data-drupal-link-system-path=\"taxonomy/term/101\">R&amp;D</a>\\n              </li>\\n                <li class=\"menu-item\">\\n        <a href=\"/pharma-asia/regulatory\" data-drupal-link-system-path=\"taxonomy/term/106\">Regulatory</a>\\n              </li>\\n                <li class=\"menu-item\">\\n        <a href=\"/pharma-asia/sales-and-marketing\" data-drupal-link-system-path=\"taxonomy/term/111\">Sales and Marketing</a>\\n              </li>\\n                <li class=\"menu-item\">\\n        <a href=\"/pharma-asia/financials\" data-drupal-link-system-path=\"taxonomy/term/121\">Financials</a>\\n              </li>\\n                <li class=\"menu-item\">\\n        <a href=\"/pharma-asia/manufacturing\" data-drupal-link-system-path=\"taxonomy/term/33286\">Manufacturing</a>\\n              </li>\\n        </ul>\\n  \\n              </li>\\n                <li class=\"menu-item menu-item--expanded\">\\n        <a href=\"/animal-health\" data-drupal-link-system-path=\"taxonomy/term/56\">Animal Health</a>\\n                                <ul class=\"menu\">\\n                    <li class=\"menu-item\">\\n        <a href=\"/animal-health/r-d\" data-drupal-link-system-path=\"taxonomy/term/61\">R&amp;D</a>\\n              </li>\\n                <li class=\"menu-item\">\\n        <a href=\"/animal-health/m-a\" data-drupal-link-system-path=\"taxonomy/term/66\">M&amp;A</a>\\n              </li>\\n                <li class=\"menu-item\">\\n        <a href=\"/animal-health/regulatory\" data-drupal-link-system-path=\"taxonomy/term/71\">Regulatory</a>\\n              </li>\\n                <li class=\"menu-item\">\\n        <a href=\"/animal-health/veterinarian\" data-drupal-link-system-path=\"taxonomy/term/76\">Veterinarian</a>\\n              </li>\\n                <li class=\"menu-item\">\\n        <a href=\"/animal-health/financials\" data-drupal-link-system-path=\"taxonomy/term/81\">Financials</a>\\n              </li>\\n                <li class=\"menu-item\">\\n        <a href=\"/animal-health/vaccines\" data-drupal-link-system-path=\"taxonomy/term/86\">Vaccines</a>\\n              </li>\\n        </ul>\\n  \\n              </li>\\n                <li class=\"menu-item menu-item--expanded\">\\n        <a href=\"/drug-delivery\" data-drupal-link-system-path=\"taxonomy/term/26\">Drug Delivery</a>\\n                                <ul class=\"menu\">\\n                    <li class=\"menu-item\">\\n        <a href=\"/drug-delivery/r-d\" data-drupal-link-system-path=\"taxonomy/term/31\">R&amp;D</a>\\n              </li>\\n                <li class=\"menu-item\">\\n        <a href=\"/drug-delivery/regulatory\" data-drupal-link-system-path=\"taxonomy/term/41\">Regulatory</a>\\n              </li>\\n                <li class=\"menu-item\">\\n        <a href=\"/drug-delivery/partnering\" data-drupal-link-system-path=\"taxonomy/term/46\">Partnering</a>\\n              </li>\\n        </ul>\\n  \\n              </li>\\n                <li class=\"menu-item menu-item--expanded\">\\n        <a href=\"/vaccines\" data-drupal-link-system-path=\"taxonomy/term/1\">Vaccines</a>\\n                                <ul class=\"menu\">\\n                    <li class=\"menu-item\">\\n        <a href=\"/vaccines/deals\" data-drupal-link-system-path=\"taxonomy/term/11\">Deals</a>\\n              </li>\\n                <li class=\"menu-item\">\\n        <a href=\"/vaccines/infectious-diseases\" data-drupal-link-system-path=\"taxonomy/term/21\">Infectious Diseases</a>\\n              </li>\\n                <li class=\"menu-item\">\\n        <a href=\"/vaccines/r-d\" data-drupal-link-system-path=\"taxonomy/term/6\">R&amp;D</a>\\n              </li>\\n                <li class=\"menu-item\">\\n        <a href=\"/vaccines/regulatory\" data-drupal-link-system-path=\"taxonomy/term/16\">Regulatory</a>\\n              </li>\\n        </ul>\\n  \\n              </li>\\n        </ul>\\n  \\n\\n\\n  </nav>\\n<nav role=\"navigation\" aria-labelledby=\"block-mainnavigation-mobile-menu\" id=\"block-mainnavigation-mobile\" class=\"block block-menu navigation menu--main\">\\n            \\n  <h2 class=\"visually-hidden\" id=\"block-mainnavigation-mobile-menu\">Main navigation - Mobile</h2>\\n  \\n\\n        \\n              <ul class=\"menu\">\\n                    <li class=\"menu-item menu-item--expanded\">\\n        <a href=\"/pharma\" data-drupal-link-system-path=\"taxonomy/term/201\">Pharma</a>\\n                                <ul class=\"menu\">\\n                    <li class=\"menu-item\">\\n        <a href=\"/pharma/m-a\" data-drupal-link-system-path=\"taxonomy/term/206\">M&amp;A</a>\\n              </li>\\n                <li class=\"menu-item\">\\n        <a href=\"/pharma/regulatory\" data-drupal-link-system-path=\"taxonomy/term/211\">Regulatory</a>\\n              </li>\\n                <li class=\"menu-item\">\\n        <a href=\"/pharma/financials\" data-drupal-link-system-path=\"taxonomy/term/221\">Financials</a>\\n              </li>\\n                <li class=\"menu-item\">\\n        <a href=\"/pharma/corporate\" data-drupal-link-system-path=\"taxonomy/term/231\">Corporate</a>\\n              </li>\\n                <li class=\"menu-item\">\\n        <a href=\"/pharma/legal\" data-drupal-link-system-path=\"taxonomy/term/236\">Legal</a>\\n              </li>\\n        </ul>\\n  \\n              </li>\\n                <li class=\"menu-item menu-item--expanded\">\\n        <a href=\"/manufacturing\" data-drupal-link-system-path=\"taxonomy/term/166\">Manufacturing</a>\\n                                <ul class=\"menu\">\\n                    <li class=\"menu-item\">\\n        <a href=\"/manufacturing/m-a\" data-drupal-link-system-path=\"taxonomy/term/171\">M&amp;A</a>\\n              </li>\\n                <li class=\"menu-item\">\\n        <a href=\"/manufacturing/outsourcing\" data-drupal-link-system-path=\"taxonomy/term/176\">Outsourcing</a>\\n              </li>\\n                <li class=\"menu-item\">\\n        <a href=\"/manufacturing/regulatory\" data-drupal-link-system-path=\"taxonomy/term/181\">Regulatory</a>\\n              </li>\\n                <li class=\"menu-item\">\\n        <a href=\"/manufacturing/supply-chain\" data-drupal-link-system-path=\"taxonomy/term/186\">Supply Chain</a>\\n              </li>\\n                <li class=\"menu-item\">\\n        <a href=\"/manufacturing/partnering\" data-drupal-link-system-path=\"taxonomy/term/196\">Partnering</a>\\n              </li>\\n                <li class=\"menu-item\">\\n        <a href=\"/manufacturing/drug-safety\" data-drupal-link-system-path=\"taxonomy/term/191\">Drug Safety</a>\\n              </li>\\n        </ul>\\n  \\n              </li>\\n                <li class=\"menu-item menu-item--expanded\">\\n        <a href=\"/marketing\" data-drupal-link-system-path=\"taxonomy/term/126\">Marketing</a>\\n                                <ul class=\"menu\">\\n                    <li class=\"menu-item\">\\n        <a href=\"/marketing/regulatory\" data-drupal-link-system-path=\"taxonomy/term/356\">Regulatory</a>\\n              </li>\\n                <li class=\"menu-item\">\\n        <a href=\"/marketing/dtc-advertising\" data-drupal-link-system-path=\"taxonomy/term/131\">DTC Advertising</a>\\n              </li>\\n                <li class=\"menu-item\">\\n        <a href=\"/marketing/digital-and-social-media\" data-drupal-link-system-path=\"taxonomy/term/141\">Digital and Social Media</a>\\n              </li>\\n                <li class=\"menu-item\">\\n        <a href=\"/marketing/data-and-analytics\" data-drupal-link-system-path=\"taxonomy/term/151\">Data and Analytics</a>\\n              </li>\\n                <li class=\"menu-item\">\\n        <a href=\"/marketing/launches\" data-drupal-link-system-path=\"taxonomy/term/161\">Launches</a>\\n              </li>\\n        </ul>\\n  \\n              </li>\\n                <li class=\"menu-item menu-item--expanded\">\\n        <a href=\"/pharma-asia\" data-drupal-link-system-path=\"taxonomy/term/91\">Pharma Asia</a>\\n                                <ul class=\"menu\">\\n                    <li class=\"menu-item\">\\n        <a href=\"/pharma-asia/m-a\" data-drupal-link-system-path=\"taxonomy/term/96\">M&amp;A</a>\\n              </li>\\n                <li class=\"menu-item\">\\n        <a href=\"/pharma-asia/r-d\" data-drupal-link-system-path=\"taxonomy/term/101\">R&amp;D</a>\\n              </li>\\n                <li class=\"menu-item\">\\n        <a href=\"/pharma-asia/regulatory\" data-drupal-link-system-path=\"taxonomy/term/106\">Regulatory</a>\\n              </li>\\n                <li class=\"menu-item\">\\n        <a href=\"/pharma-asia/sales-and-marketing\" data-drupal-link-system-path=\"taxonomy/term/111\">Sales and Marketing</a>\\n              </li>\\n                <li class=\"menu-item\">\\n        <a href=\"/pharma-asia/financials\" data-drupal-link-system-path=\"taxonomy/term/121\">Financials</a>\\n              </li>\\n                <li class=\"menu-item\">\\n        <a href=\"/pharma-asia/manufacturing\" data-drupal-link-system-path=\"taxonomy/term/33286\">Manufacturing</a>\\n              </li>\\n        </ul>\\n  \\n              </li>\\n                <li class=\"menu-item menu-item--expanded\">\\n        <a href=\"/animal-health\" data-drupal-link-system-path=\"taxonomy/term/56\">Animal Health</a>\\n                                <ul class=\"menu\">\\n                    <li class=\"menu-item\">\\n        <a href=\"/animal-health/r-d\" data-drupal-link-system-path=\"taxonomy/term/61\">R&amp;D</a>\\n              </li>\\n                <li class=\"menu-item\">\\n        <a href=\"/animal-health/m-a\" data-drupal-link-system-path=\"taxonomy/term/66\">M&amp;A</a>\\n              </li>\\n                <li class=\"menu-item\">\\n        <a href=\"/animal-health/regulatory\" data-drupal-link-system-path=\"taxonomy/term/71\">Regulatory</a>\\n              </li>\\n                <li class=\"menu-item\">\\n        <a href=\"/animal-health/veterinarian\" data-drupal-link-system-path=\"taxonomy/term/76\">Veterinarian</a>\\n              </li>\\n                <li class=\"menu-item\">\\n        <a href=\"/animal-health/financials\" data-drupal-link-system-path=\"taxonomy/term/81\">Financials</a>\\n              </li>\\n                <li class=\"menu-item\">\\n        <a href=\"/animal-health/vaccines\" data-drupal-link-system-path=\"taxonomy/term/86\">Vaccines</a>\\n              </li>\\n        </ul>\\n  \\n              </li>\\n                <li class=\"menu-item menu-item--expanded\">\\n        <a href=\"/drug-delivery\" data-drupal-link-system-path=\"taxonomy/term/26\">Drug Delivery</a>\\n                                <ul class=\"menu\">\\n                    <li class=\"menu-item\">\\n        <a href=\"/drug-delivery/r-d\" data-drupal-link-system-path=\"taxonomy/term/31\">R&amp;D</a>\\n              </li>\\n                <li class=\"menu-item\">\\n        <a href=\"/drug-delivery/regulatory\" data-drupal-link-system-path=\"taxonomy/term/41\">Regulatory</a>\\n              </li>\\n                <li class=\"menu-item\">\\n        <a href=\"/drug-delivery/partnering\" data-drupal-link-system-path=\"taxonomy/term/46\">Partnering</a>\\n              </li>\\n        </ul>\\n  \\n              </li>\\n                <li class=\"menu-item menu-item--expanded\">\\n        <a href=\"/vaccines\" data-drupal-link-system-path=\"taxonomy/term/1\">Vaccines</a>\\n                                <ul class=\"menu\">\\n                    <li class=\"menu-item\">\\n        <a href=\"/vaccines/deals\" data-drupal-link-system-path=\"taxonomy/term/11\">Deals</a>\\n              </li>\\n                <li class=\"menu-item\">\\n        <a href=\"/vaccines/infectious-diseases\" data-drupal-link-system-path=\"taxonomy/term/21\">Infectious Diseases</a>\\n              </li>\\n                <li class=\"menu-item\">\\n        <a href=\"/vaccines/r-d\" data-drupal-link-system-path=\"taxonomy/term/6\">R&amp;D</a>\\n              </li>\\n                <li class=\"menu-item\">\\n        <a href=\"/vaccines/regulatory\" data-drupal-link-system-path=\"taxonomy/term/16\">Regulatory</a>\\n              </li>\\n        </ul>\\n  \\n              </li>\\n        </ul>\\n  \\n\\n\\n  </nav>\\n\\n  </div>\\n\\n    </div>\\n  </header>\\n\\n  <div id=\"help\">\\n    <div class=\"wrapper\">\\n        <div class=\"region region-help\">\\n    \\n\\n\\n  </div>\\n\\n    </div>\\n  </div>\\n\\n<main id=\"main\" role=\"main\">\\n      \\n  \\n  <div id=\"content\">\\n    <div class=\"taxonomy-primary\"><div about=\"/marketing\" id=\"taxonomy-term-126\" class=\"taxonomy-term vocabulary-taxonomy\">\\n  \\n      <h2><a href=\"/marketing\">\\n            <div>Marketing</div>\\n      </a></h2>\\n    \\n  <div class=\"content\">\\n    \\n  </div>\\n</div>\\n</div>\\n    <a id=\"main-content\" tabindex=\"-1\"></a>      <div class=\"region region-content\">\\n    <div id=\"block-tektite-pharma-page-title\" class=\"block block-core block-page-title-block\">\\n  \\n    \\n      \\n  <h1 class=\"page-title\"><span property=\"schema:name\">Tecfidera, Gilenya and Aubagio&#039;s 3-way battle for MS share is about to heat up</span>\\n</h1>\\n\\n\\n  </div>\\n<div id=\"block-tektite-pharma-content\" class=\"block block-system block-system-main-block\">\\n  \\n    \\n      \\n\\n<article role=\"article\" about=\"/marketing/tecfidera-gilenya-and-aubagio-s-3-way-battle-for-ms-share-about-to-get-more-interesting\" typeof=\"schema:Article\" class=\"node node--type-article node--promoted node--view-mode-full\">\\n    <div id=\"nodeid\" data-nid=\"360096\" style=\"display:none\"></div>\\n\\n    \\n          <span property=\"schema:name\" content=\"Tecfidera, Gilenya and Aubagio&#039;s 3-way battle for MS share is about to heat up\" class=\"rdf-meta hidden\"></span>\\n\\n\\n    <footer class=\"node__meta\">\\n        <div class=\"node__submitted\">\\n                            by                                    <a href=\"/author/tracy-staton\">Tracy Staton</a>                                | \\n            <div><time datetime=\"2016-10-31T10:54:17Z\" property=\"schema:datePublished\">Oct 31, 2016 6:54am</time>\\n</div>\\n      \\n                    </div>\\n    </footer>\\n\\n    <div class=\"thumbnail-image\">\\n                                            \\n            <div>\\n            <div>    <img srcset=\"http://qtxasset.com/styles/breakpoint_md_448px_w/s3fs/2016-10/AubagioHiRes.jpg?ET_NtbtD7HjpJMK87s.lvy34GT0IObkS&amp;itok=XOvwBmjY 448w, http://qtxasset.com/styles/breakpoint_l_640px_w/s3fs/2016-10/AubagioHiRes.jpg?3DFKlgg6SthfXwfRkLvKVvLObBBr1iQr&amp;itok=VOrOZoF- 640w, http://qtxasset.com/styles/breakpoint_sm_800px_w/s3fs/2016-10/AubagioHiRes.jpg?8tzT8EG3O_RzdDxcgXSlpNbAdOJ8dsyS&amp;itok=7-Lr5QZY 800w, http://qtxasset.com/styles/breakpoint_xl_880px_w/s3fs/2016-10/AubagioHiRes.jpg?h9zDDRdULDgBc.iXvPvki8MvyNsQm6_2&amp;itok=riLfXSuq 880w\" sizes=\"(min-width:1220px) 880px, (min-width: 980px) and (max-width: 1219px) 640px, (min-width: 788px) 448px, min-width: 481px) 800px\" src=\"http://qtxasset.com/styles/breakpoint_sm_default_480px_w/s3fs/2016-10/AubagioHiRes.jpg?CGxDlKfg0trkAa771.JcaWxfWwX9z8hr&amp;itok=Unng66oF\" alt=\"\" typeof=\"foaf:Image\" />\\n\\n\\n</div>\\n      </div>\\n      \\n            \\n            <div class=\"caption\">\\n                            \\n                </div>\\n                        </div>\\n\\n    <div class=\"node__container\">\\n                    <div class=\"social-container stickem-container\">\\n                <div class=\"social-share stickem\"><span class=\"a2a_kit a2a_kit_size_32 addtoany_list\" data-a2a-url=\"http://www.fiercepharma.com/marketing/tecfidera-gilenya-and-aubagio-s-3-way-battle-for-ms-share-about-to-get-more-interesting\" data-a2a-title=\"Tecfidera, Gilenya and Aubagio&#039;s 3-way battle for MS share is about to heat up\"><a class=\"a2a_dd addtoany_share_save\" href=\"https://www.addtoany.com/share#url=http%3A%2F%2Fwww.fiercepharma.com%2Fmarketing%2Ftecfidera-gilenya-and-aubagio-s-3-way-battle-for-ms-share-about-to-get-more-interesting&amp;title=Tecfidera%2C%20Gilenya%20and%20Aubagio%26%23039%3Bs%203-way%20battle%20for%20MS%20share%20is%20about%20to%20heat%20up\"></a><a class=\"a2a_button_facebook\"></a>\\r\\n<a class=\"a2a_button_twitter\"></a>\\r\\n<a class=\"a2a_button_linkedin\"></a>\\r\\n<a class=\"a2a_button_email\"></a>\\r\\n<a class=\"a2a_button_print\"></a></span>\\n</div>\\n            </div>\\n        \\n        <div class=\"node__content\">\\n            \\n            <div property=\"schema:articleBody\"><p>Multiple sclerosis drugmakers are in a fix: These days, the U.S. market isn’t delivering the kind of growth that had been fueling big increases in sales.</p>\\n\\n<p>For high-flying pills from Biogen (Tecfidera) and Novartis (Gilenya), that could mean an unwelcome comedown. It definitely means  the coming market-share battle will grow even more competitive than before. If the quickest way to grow sales is to steal share, you can bet Tecfidera and Gilenya--and their up-and-coming rival med from Sanofi, Aubagio--will be working hard to do just that.</p>\\n\\n<p>Thing is, Biogen isn’t on that sort of growth trajectory. It’s the market leader--with 51% share of the oral market and 20% of MS overall, as EVP Michel Vounatsos hastened to point out during the company’s earnings call with analysts last week. But Tecfidera’s 10% growth during the <a href=\"http://newsroom.biogen.com/press-release/investor-relations/biogen-reports-record-third-quarter-2016-revenues-30-billion\">quarter</a> largely depended on <a href=\"http://www.fiercepharma.com/pharma/amgen-bids-farewell-to-enbrel-price-hikes-and-big-sales-boosts-they-brought\">price increases</a>, the company disclosed in a securities filing the next day.</p>\\n\\n<p>Gilenya, on the other hand, grew by 15%, and in its earnings <a href=\"https://www.novartis.com/news/media-releases/novartis-delivered-solid-third-quarter-growth-products1-offsetting-gleevec\">announcement</a>, the Swiss drugmaker said that growth wasn’t based on price, but volume. That’s not to say Gilenya doesn’t have some troubling signs in its Q3 stats; pharma chief Paul Hudson said script numbers have been “broadly flat but a little bit down”--which suggests the overall market slowdown hasn’t been without its effect on Gilenya, too.</p>\\n\\n<p>Neither Biogen nor Novartis plans to stick with the status quo. Biogen is grappling with Tecfidera’s gastrointestinal side effects, and various MS specialists are working on ways to manage that; 22% of Tecfidera patients quit because of GI issues, and keeping patients on therapy would obviously help sales. </p>\\n\\n<p>The Tecfidera team is pilot-testing a new “engagement model” at top treatment centers, with plans to roll it out by January. “The team in the U.S. is all up and running,” Vounatsos said during the call. “I’m very pleased to see the perception improvement, and now we have to continue to execute.”</p>\\n\\n<p>On the advertising side, Biogen recently backed off a <a href=\"http://www.fiercepharma.com/marketing/biogen-s-controversial-tecfidera-ad-about-to-meet-its-end\">TV campaign</a> that had stirred up some controversy in the MS community, and the company said at the time that it didn’t plan more television in the immediate future, though it is running other DTC promos. </p>\\n\\n<p>Novartis is running with its Hey MS, Take This! <a href=\"http://www.gilenya.com/loadHeyMS.do?method=loadMessage\">campaign</a> for Gilenya, which launched in 2014 and has since won kudos--and made inroads--particularly with its digital and social media work. Besides print and web video, the campaign invites patients to “tell relapsing MS exactly where to go,” and many have, both on the campaign’s website and via social media. They’ve also shared what they do to manage their MS.</p>\\n\\n<div data-oembed-url=\"https://www.youtube.com/watch?feature=player_detailpage&amp;v=zTdJe-tz-rg#t=13\">\\n<div>\\n<div style=\"left: 0px; width: 100%; height: 0px; position: relative; padding-bottom: 56.2493%;\"><iframe allowfullscreen=\"\" frameborder=\"0\" src=\"https://www.youtube.com/embed/zTdJe-tz-rg?wmode=transparent&amp;rel=0&amp;autohide=1&amp;showinfo=0&amp;enablejsapi=1&amp;start=13\" style=\"top: 0px; left: 0px; width: 100%; height: 100%; position: absolute;\"></iframe></div>\\n</div>\\n</div>\\n\\n<p>Novartis apparently believes that Gilenya DTC and salesforce work, coupled with a steady stream of new data, will keep the brand’s volume growing enough to avoid using price as a driver. The company has “some sensible plans” for growth, without “a big impact ... on price,” Hudson said during the Q3 call. “We are ...  looking forward to the energy into Q4,” he said.</p>\\n\\n<p>Meanwhile, the big leaper of the quarter was Aubagio, Sanofi’s slow-to-start entry in the class. Sales of that drug <a href=\"http://mediaroom.sanofi.com/sanofi-announces-strong-q3-2016-results/\">grew</a> by almost 50% to 334 million euros during the quarter--and that was driven by growth in the U.S. Its 9-month revenue amounted to 928 million euros, a 57% hike. The French drugmaker quickly bragged that Aubagio is the “fastest-growing oral disease modifying therapy” in MS, with a U.S. share of 9%--far far below Tecfidera’s, but rising. This time last year, Sanofi was happy to report it had captured a 6% share.</p>\\n\\n<p>What’s spurring Aubagio on? The company has been running a <a href=\"https://takeactionms.aubagio.com\">campaign</a> with Revenge star Madeleine Stowe since late 2014, for one; the actor has been traveling across the U.S. doing awareness events. The Lights! Camera! Take Action! partnership most recently rolled out a series of “webisodes” featuring Stowe in interviews with MS patients--a common theme in awareness campaigns--but also with nurses, physical therapists and others with advice for MS patients and their caregivers.</p>\\n\\n<div data-oembed-url=\"http://d384furucdjr2f.cloudfront.net/genzyme/takeactionms/Genzyme_Webisodes_Episode%201_PR6432_090716_540p.mp4\">\\n<div>\\n<div style=\"left: 0px; width: 100%; height: 0px; position: relative; padding-bottom: 56.25%;\"><iframe allowfullscreen=\"\" frameborder=\"0\" src=\"//cdn.iframe.ly/api/iframe?url=http%3A%2F%2Fd384furucdjr2f.cloudfront.net%2Fgenzyme%2Ftakeactionms%2FGenzyme_Webisodes_Episode%25201_PR6432_090716_540p.mp4&amp;key=5a82ccc8caa9bb33ac6f2d668fcf304b\" style=\"top: 0px; left: 0px; width: 100%; height: 100%; position: absolute;\"></iframe></div>\\n</div>\\n</div>\\n\\n<p>The drug's brand website also has a share-your-story channel, and Sanofi has put other promo work under a tagline, \"Aubagio quiets MS.\" The company has set out a goal of €2 billion in sales by 2020 for its entire franchise; if Aubagio and its fellow med Lemtrada keep delivering as they are, the company could actually hit that target sooner. \"In MS, we continued to gain share, and sales from the franchise are now approaching €2 billion on an annualized basis,\" CEO Olivier Brandicourt said during the company's Q3 call.</p>\\n\\n<p>Biogen’s Vounatsos may have summed it up for the entire oral market when he pledged to fight the good fight on Tecfidera last week. “The base of the market is certainly lower than what we have estimated in our assumptions, but it's not an excuse for not increasing share,” he said.</p>\\n\\n<p>There’s a confounding factor, however: The group of oral treatments may get some unwanted rivals in a few years. Novartis could face earlier-than-expected Gilenya generics, thanks to some recent patent decisions. As early as 2019, in fact--and that would give these three meds just a few more years to divvy up share just among themselves. Add to that the<a href=\"http://www.fiercepharma.com/pharma/payers-keep-squeeze-ms-drugmakers-and-they-may-just-take-their-tactics-elsewhere\"> payer pressure </a>that's increasingly a problem, and the price-increase growth option looks even less likely.</p>\\n\\n<p><strong>Related Articles:</strong><br /><a href=\"http://www.fiercepharma.com/pharma/amgen-bids-farewell-to-enbrel-price-hikes-and-big-sales-boosts-they-brought\">Biogen’s Tecfidera, Amgen’s Enbrel tell a tale of pricing power and weakness</a><br /><a href=\"http://www.fiercepharma.com/marketing/novartis-could-have-a-blockbuster-ms-market-all-to-itself-thanks-to-new-spms-beating\">Novartis could snag a blockbuster MS market all for itself, just in time to fight Gilenya generics</a><br /><a href=\"http://www.fiercepharma.com/marketing/biogen-s-controversial-tecfidera-ad-about-to-meet-its-end\">Biogen's controversial Tecfidera ad is about to meet its end</a><br /><a href=\"http://www.fiercepharma.com/marketing/biogen-sees-new-tecfidera-buzz-as-dtc-marketing-push-kicks\">Biogen sees new Tecfidera buzz as DTC, marketing push kicks in</a><br /><a href=\"http://www.fiercepharma.com/marketing/buoyed-by-rising-tide-of-aubagio-scripts-sanofi-aims-for-€2b-ms-sales\">Buoyed by rising tide of Aubagio scripts, Sanofi aims for €2B in MS sales</a><br /><a href=\"http://www.fiercepharma.com/legal/early-gilenya-generics-now-spell-trouble-for-rival-ms-drugs\">Early Gilenya generics now spell trouble for rival MS drugs</a></p>\\n</div>\\n      \\n\\n                            <div class=\"keywords-topics\">\\n                    <strong>Read more on</strong>\\n                    <div class=\"item-list--comma-list\">\\n                        <a href=\"/topic/multiple-sclerosis\" hreflang=\"und\">multiple sclerosis</a>,                    <a href=\"/topic/drug-launch\" hreflang=\"und\">drug launch</a>,                    <a href=\"/topic/generics\" hreflang=\"und\">generics</a>,                    <a href=\"/topic/payer\" hreflang=\"und\">payer</a>,                    <a href=\"/keyword/sanofi\" hreflang=\"und\">Sanofi</a>,                    <a href=\"/keyword/aubagio\" hreflang=\"und\">Aubagio</a>,                    <a href=\"/keyword/tecfidera\" hreflang=\"und\">Tecfidera</a>,                    <a href=\"/keyword/biogen\" hreflang=\"und\">Biogen</a>,                    <a href=\"/keyword/novartis\" hreflang=\"und\">Novartis</a>,                    <a href=\"/keyword/gilenya\" hreflang=\"und\">Gilenya</a>            </div>\\n\\n                </div>\\n            \\n        </div>\\n    </div>\\n\\n</article>\\n\\n  </div>\\n<div id=\"block-tektitegenericarticlebottomadblock\" class=\"block block-tektite-generic-blocks block-tektite-generic-ad-article-bottom\">\\n  \\n    \\n                      <div id='article-bottom'>\\n                <script type='text/javascript'>\\n                document.addEventListener(\"googletagEvent\", function() {\\n                googletag.cmd.push(function() { googletag.display('article-bottom'); });\\n                });\\n                </script>\\n                </div>\\n  </div>\\n<div id=\"block-tektitetaboolablock\" class=\"block block-tektite-taboola block-tektite-taboola-block\">\\n  \\n    \\n                      <div id='taboola-block'>\\n                \\n                \\n                <div id=\"taboola-below-article-thumbnails-internal\"></div>\\n                <script type=\"text/javascript\">\\n                window._taboola = window._taboola || [];\\n                _taboola.push({\\n                mode: 'organic-thumbnails-b',\\n                container: 'taboola-below-article-thumbnails-internal',\\n                placement: 'Below Article Thumbnails-internal',\\n                target_type: 'mix'\\n                });\\n                 </script>\\n\\n                <div id=\"taboola-below-article-thumbnails\"></div>\\n                <script type=\"text/javascript\">\\n                window._taboola = window._taboola || [];\\n                _taboola.push({\\n                mode: 'thumbnails-b',\\n                container: 'taboola-below-article-thumbnails',\\n                placement: 'Below Article Thumbnails',\\n                target_type: 'mix'\\n                });\\n                </script>\\n\\n                \\n                </div>\\n  </div>\\n\\n  </div>\\n\\n\\n      </div>\\n\\n      <aside id=\"sidebar-second\" role=\"complimentary\">\\n      <section class=\"sidebar-container\">\\n          <div class=\"region region-sidebar-second\">\\n    <div id=\"block-tektitegenericadsidebarblock\" class=\"block block-tektite-generic-blocks block-tektite-generic-ad-sidebar\">\\n  \\n    \\n                      <div id='sidebar-ad'>\\n                  <script type='text/javascript'>\\n                    document.addEventListener(\"googletagEvent\", function() {\\n                      googletag.cmd.push(function() { googletag.display('sidebar-ad'); });\\n                    });\\n                  </script>\\n                </div>\\n  </div>\\n<div id=\"block-tektitegenericnewsletterblock\" class=\"block block-tektite-generic-blocks block-tektite-generic-newsletter-multi\">\\n  \\n    \\n      <script src=\"//app-sj10.marketo.com/js/forms2/js/forms2.min.js\" defer></script><form id='mktoForm_12997'></form>\\n  </div>\\n\\n  </div>\\n\\n\\n                  <div class=\"bottom\">\\n              <div class=\"region region-sidebar-bottom\">\\n    <div id=\"block-tektitegenericadsidebarblock2\" class=\"block block-tektite-generic-blocks block-tektite-generic-ad-sidebar2\">\\n  \\n    \\n                      <div id='sidebar-ad2'>\\n                  <script type='text/javascript'>\\n                    document.addEventListener(\"googletagEvent\", function() {\\n                      googletag.cmd.push(function() { googletag.display('sidebar-ad2'); });\\n                    });\\n                  </script>\\n                </div>\\n  </div>\\n<div id=\"block-popularcontentfromparsely\" class=\"block block-tektite-generic-blocks block-popular-content-from-parsely\">\\n  \\n      <h2 class=\"block-title\">Popular Content </h2>\\n    \\n      \\n  <ul>\\n         \\n      \\n      \\t<li><h3 class=\"list-title\"><a href=\"http://www.fiercepharma.com/marketing/pfizer-puts-hemophilia-spin-ultrapopular-minecraft-to-educate-young-patients\">Pfizer puts hemophilia spin on ultrapopular Minecraft to educate young patients</a></h3> \\n      \\t\\t\\n      \\t\\tSep 06, 2017 \\n     \\t\\t</li>\\n      \\t\\n\\n    \\t      \\n      \\n      \\t<li><h3 class=\"list-title\"><a href=\"http://www.fiercepharma.com/marketing/clinical-trial-company-enlists-pharma-and-biopharma-for-patient-empowerment-campaign\">Takeda, Johnson &amp; Johnson and more join Clara Health&#039;s Boston-based patient empowerment push</a></h3> \\n      \\t\\t\\n      \\t\\tSep 06, 2017 \\n     \\t\\t</li>\\n      \\t\\n\\n    \\t      \\n      \\n      \\t<li><h3 class=\"list-title\"><a href=\"http://www.fiercepharma.com/marketing/empathy-at-work-gsk-extends-excedrin-migraine-campaign-to-include-sufferers-job\">Empathy at work: GlaxoSmithKline extends Excedrin Migraine campaign to include sufferers on the job</a></h3> \\n      \\t\\t\\n      \\t\\tSep 04, 2017 \\n     \\t\\t</li>\\n      \\t\\n\\n    \\t      \\n      \\n      \\t<li><h3 class=\"list-title\"><a href=\"http://www.fiercepharma.com/marketing/what-s-world-s-best-pharma-market-to-allergan-s-ceo-one-s-easy\">What&#039;s the world&#039;s best pharma market? To Allergan&#039;s CEO, that one&#039;s easy</a></h3> \\n      \\t\\t\\n      \\t\\tAug 07, 2017 \\n     \\t\\t</li>\\n      \\t\\n\\n    \\t      \\n      \\n      \\t<li><h3 class=\"list-title\"><a href=\"http://www.fiercepharma.com/marketing/roche-nets-new-actemra-nod-to-treat-deadly-car-t-response\">Roche nets new Actemra nod to treat deadly CAR-T response</a></h3> \\n      \\t\\t\\n      \\t\\tSep 01, 2017 \\n     \\t\\t</li>\\n      \\t\\n\\n    \\t \\n\\n  </ul>\\n\\n\\n  </div>\\n<div class=\"views-element-container block block-views block-views-blockauthor-block-1\" id=\"block-tektite-pharma-views-block-author-block-1\">\\n  \\n      <h2 class=\"block-title\">About the Author</h2>\\n    \\n      <div><div class=\"js-view-dom-id-e15ad7c9de40a25f8bc27640a5c06c372f1fed1aeb54adcc9250092c91251388\">\\n  \\n  \\n  \\n\\n  \\n  \\n  \\n\\n      <div class=\"views-row\">\\n    <div class=\"views-field views-field-field-author-image\"><div class=\"field-content\">  <a href=\"/author/tracy-staton\"><img src=\"http://qtxasset.com/field/image/tstaton.jpg?ueVlW0PYLevSZZ.YABlg26ybeimkq80D\" width=\"260\" height=\"260\" alt=\"Tracy Staton\" typeof=\"foaf:Image\" />\\n</a>\\n</div></div><div class=\"views-field views-field-title\"><span class=\"field-content\"><div class=\"author-block-info\">\\n<div class=\"title\"><a href=\"/author/tracy-staton\" hreflang=\"en\">Tracy Staton</a></div>\\n<div class=\"job\">Editor-in-Chief</div>\\n<div class=\"email\"><a href=\"mailto:tracy@fiercemarkets.com\">tracy@fiercemarkets.com</a></div>\\n<div class=\"twitter\"><a href=\"https://twitter.com/TracyStaton\" target=\"_blank\">https://twitter.com/TracyStaton</a></div>\\n<div class=\"linkedin\"></div>\\n<div class=\"facebook\"></div>\\n<div class=\"instagram\"></div>\\n</div></span></div>\\n  </div>\\n\\n  \\n  \\n\\n  \\n  \\n\\n  \\n  \\n</div>\\n</div>\\n\\n  </div>\\n<div id=\"block-tektitegenericadhouseblock\" class=\"block block-tektite-generic-blocks block-tektite-generic-ad-house\">\\n  \\n    \\n                      <div id='sidebar-ad3'>\\n                  <script type='text/javascript'>\\n                    document.addEventListener(\"googletagEvent\", function() {\\n                      googletag.cmd.push(function() { googletag.display('sidebar-ad3'); });\\n                    });\\n                  </script>\\n                </div>\\n  </div>\\n\\n  </div>\\n\\n          </div>\\n              </section>\\n    </aside>\\n  </main>\\n\\n\\n\\n  <footer id=\"footer\" role=\"contentinfo\">\\n    <div class=\"wrapper\">\\n        <div class=\"region region-footer\">\\n    <div id=\"block-tektitefooterblock\" class=\"block block-tektite-generic-blocks block-generic-footer-block\">\\n  \\n    \\n      <div id=\"questex\">\\n    <div class=\"footer-logo\">\\n        <a class=\"logo\" href=\"http://questex.com\">\\n            <img alt=\"\" src=\"/themes/custom/tektite/assets/images/footer-questex.svg\" />\\n        </a>\\n    </div>\\n    <div class=\"social-icons\">\\n        <a class=\"icon icon-facebook-official\" href='https://www.facebook.com/Questex-LLC-514978955241030/'></a>\\n        <a class=\"icon icon-twitter\" href='https://twitter.com/QuestexLLC'></a>\\n        <a class=\"icon icon-linkedin-squared\" href='https://www.linkedin.com/company/questex-media-group?trk=top_nav_home'></a>\\n    </div>​\\n</div>\\n\\n\\n    <ul class=\"menu\">\\n                    <li><a href=\"/\">\\n                    Home</a></li>\\n\\n                    <li><a href=\"https://pages.questexweb.com/FiercePharma-Newsletter-Signup.html\">\\n                    Subscribe</a></li>\\n\\n                    <li><a href=\"https://pages.questexweb.com/Manage-Subscriptions_Manage-Your-Subscriptions.html?\">\\n                    Manage Newsletter Subscriptions</a></li>\\n\\n                    <li><a href=\"/advertise-us\">\\n                    Advertise</a></li>\\n\\n                    <li><a href=\"/rss-feeds\">\\n                    RSS</a></li>\\n\\n                    <li><a href=\"http://www.questex.com/privacy-policy\">\\n                    Privacy</a></li>\\n\\n                    <li><a href=\"/about-us\">\\n                    About Us</a></li>\\n\\n                    <li><a href=\"/contact\">\\n                    Contact</a></li>\\n\\n        \\n    </ul>\\n\\n<p>\\n  <span>© 2017 Questex LLC. All rights reserved.</span>\\n  <span>275 Grove Street, Suite 2-130 Newton, MA 02466</span>\\n  <span>Reproduction in whole or part is prohibited.</span>\\n</p>\\n\\n  </div>\\n\\n  </div>\\n\\n    </div>\\n  </footer>\\n\\n      \\n    </div>\\n\\n    <script type=\"application/json\" data-drupal-selector=\"drupal-settings-json\">{\"path\":{\"baseUrl\":\"\\/\",\"scriptPath\":null,\"pathPrefix\":\"\",\"currentPath\":\"node\\/360096\",\"currentPathIsAdmin\":false,\"isFront\":false,\"currentLanguage\":\"en\"},\"pluralDelimiter\":\"\\u0003\",\"ajaxPageState\":{\"libraries\":\"addtoany\\/addtoany,core\\/html5shiv,core\\/picturefill,qtx_tracking\\/recorder,system\\/base,tektite\\/global-css,tektite\\/global-js,tektite\\/theme-fonts,tektite\\/webfont.js,tektite_fierce\\/GTMscripts,tektite_fierce\\/fonts-js,tektite_fierce\\/marketo-js,tektite_fierce\\/override-css,tektite_fierce\\/override-js,views\\/views.module\",\"theme\":\"tektite_fierce\",\"theme_token\":null},\"ajaxTrustedUrl\":{\"form_action_p_pvdeGsVG5zNF_XLGPTvYSKCf43t8qZYSwcfZl2uzM\":true},\"tektite_fierce\":{\"gtm_key\":\"GTM-KLQFWCZ\",\"marketo_id\":\"12997\"},\"qtx_tracking\":{\"referral\":{\"comesFromSearchEngine\":\"false\"}},\"user\":{\"uid\":0,\"permissionsHash\":\"55f2fcabf143e91119fc5948c8acd644daabe1eb5a8e549c0bbc55f1fa50db1c\"}}</script>\\n<script src=\"/sites/fiercepharma/files/js/js_DdXIKt68jGany_F78Mxy_6Rv5aLF94bA6_npMbGnkV4.js\"></script>\\n<script src=\"/sites/fiercepharma/files/js/js_RAAkRjKDTRtA-hRvJnNtAsOejg9BJYVnpNFg-pHjLaI.js\"></script>\\n<script src=\"//static.addtoany.com/menu/page.js\" async></script>\\n<script src=\"/sites/fiercepharma/files/js/js_h46WxI_ZFc-5EIjP50SF3PiJ-JkJB5QSuAq-UN0jkXI.js\"></script>\\n<script src=\"//ajax.googleapis.com/ajax/libs/webfont/1.6.26/webfont.js\" async></script>\\n<script src=\"/sites/fiercepharma/files/js/js_kSvTRDeClTrCukoXnpcc-RGGguZfb5rGmky3VdXu6OA.js\" defer></script>\\n\\n\\n    <!-- Start Parse.ly Include: Standard -->\\n    <div id=\"parsely-root\" style=\"display: none\">\\n      <div id=\"parsely-cfg\" data-parsely-site=\"fiercepharma.com\"></div>\\n    </div>\\n    <script>\\n    (function(s, p, d) {\\n      var h=d.location.protocol, i=p+\"-\"+s,\\n          e=d.getElementById(i), r=d.getElementById(p+\"-root\"),\\n          u=h===\"https:\"?\"d1z2jf7jlzjs58.cloudfront.net\"\\n          :\"static.\"+p+\".com\";\\n      if (e) return;\\n      e = d.createElement(s); e.id = i; e.async = true;\\n      e.src = h+\"//\"+u+\"/p.js\"; r.appendChild(e);\\n    })(\"script\", \"parsely\", document);\\n    </script>\\n    <!-- End Parse.ly Include -->\\n\\n    <!-- Start Taboola -->\\n    <script type=\"text/javascript\">\\n      window._taboola = window._taboola || [];\\n      _taboola.push({flush: true});\\n    </script>\\n    <!-- End Taboola -->\\n\\n  <script type=\"text/javascript\">window.NREUM||(NREUM={});NREUM.info={\"beacon\":\"bam.nr-data.net\",\"licenseKey\":\"44925d6b58\",\"applicationID\":\"51794171\",\"transactionName\":\"NFBaMhZVDRIHABUPCg0aeQUQXQwPSScTExUCWWQHEUAMEgcVBDkDDEdVOiJbEQw6IhQSChBUTgMiWxEMJBYICgEGRxVYFlENBQMRMQoEAFBQCQhQBhMgDBMLJABBUQkK\",\"queueTime\":0,\"applicationTime\":424,\"atts\":\"GBdZRF5PHhw=\",\"errorBeacon\":\"bam.nr-data.net\",\"agent\":\"\"}</script></body>\\n</html>\\n  \n",
       "1  <!DOCTYPE html>\\n<html lang=\"en\" dir=\"ltr\" xmlns:article=\"http://ogp.me/ns/article#\" xmlns:book=\"http://ogp.me/ns/book#\" xmlns:product=\"http://ogp.me/ns/product#\" xmlns:profile=\"http://ogp.me/ns/profile#\" xmlns:video=\"http://ogp.me/ns/video#\" prefix=\"content: http://purl.org/rss/1.0/modules/content/  dc: http://purl.org/dc/terms/  foaf: http://xmlns.com/foaf/0.1/  og: http://ogp.me/ns#  rdfs: http://www.w3.org/2000/01/rdf-schema#  schema: http://schema.org/  sioc: http://rdfs.org/sioc/ns#  sioct: http://rdfs.org/sioc/types#  skos: http://www.w3.org/2004/02/skos/core#  xsd: http://www.w3.org/2001/XMLSchema# \">\\n  <head>\\n    <meta charset=\"utf-8\" /><script type=\"text/javascript\">window.NREUM||(NREUM={}),__nr_require=function(e,n,t){function r(t){if(!n[t]){var o=n[t]={exports:{}};e[t][0].call(o.exports,function(n){var o=e[t][1][n];return r(o||n)},o,o.exports)}return n[t].exports}if(\"function\"==typeof __nr_require)return __nr_require;for(var o=0;o<t.length;o++)r(t[o]);return r}({1:[function(e,n,t){function r(){}function o(e,n,t){return function(){return i(e,[c.now()].concat(u(arguments)),n?null:this,t),n?void 0:this}}var i=e(\"handle\"),a=e(2),u=e(3),f=e(\"ee\").get(\"tracer\"),c=e(\"loader\"),s=NREUM;\"undefined\"==typeof window.newrelic&&(newrelic=s);var p=[\"setPageViewName\",\"setCustomAttribute\",\"setErrorHandler\",\"finished\",\"addToTrace\",\"inlineHit\",\"addRelease\"],d=\"api-\",l=d+\"ixn-\";a(p,function(e,n){s[n]=o(d+n,!0,\"api\")}),s.addPageAction=o(d+\"addPageAction\",!0),s.setCurrentRouteName=o(d+\"routeName\",!0),n.exports=newrelic,s.interaction=function(){return(new r).get()};var m=r.prototype={createTracer:function(e,n){var t={},r=this,o=\"function\"==typeof n;return i(l+\"tracer\",[c.now(),e,t],r),function(){if(f.emit((o?\"\":\"no-\")+\"fn-start\",[c.now(),r,o],t),o)try{return n.apply(this,arguments)}finally{f.emit(\"fn-end\",[c.now()],t)}}}};a(\"setName,setAttribute,save,ignore,onEnd,getContext,end,get\".split(\",\"),function(e,n){m[n]=o(l+n)}),newrelic.noticeError=function(e){\"string\"==typeof e&&(e=new Error(e)),i(\"err\",[e,c.now()])}},{}],2:[function(e,n,t){function r(e,n){var t=[],r=\"\",i=0;for(r in e)o.call(e,r)&&(t[i]=n(r,e[r]),i+=1);return t}var o=Object.prototype.hasOwnProperty;n.exports=r},{}],3:[function(e,n,t){function r(e,n,t){n||(n=0),\"undefined\"==typeof t&&(t=e?e.length:0);for(var r=-1,o=t-n||0,i=Array(o<0?0:o);++r<o;)i[r]=e[n+r];return i}n.exports=r},{}],4:[function(e,n,t){n.exports={exists:\"undefined\"!=typeof window.performance&&window.performance.timing&&\"undefined\"!=typeof window.performance.timing.navigationStart}},{}],ee:[function(e,n,t){function r(){}function o(e){function n(e){return e&&e instanceof r?e:e?f(e,u,i):i()}function t(t,r,o,i){if(!d.aborted||i){e&&e(t,r,o);for(var a=n(o),u=m(t),f=u.length,c=0;c<f;c++)u[c].apply(a,r);var p=s[y[t]];return p&&p.push([b,t,r,a]),a}}function l(e,n){v[e]=m(e).concat(n)}function m(e){return v[e]||[]}function w(e){return p[e]=p[e]||o(t)}function g(e,n){c(e,function(e,t){n=n||\"feature\",y[t]=n,n in s||(s[n]=[])})}var v={},y={},b={on:l,emit:t,get:w,listeners:m,context:n,buffer:g,abort:a,aborted:!1};return b}function i(){return new r}function a(){(s.api||s.feature)&&(d.aborted=!0,s=d.backlog={})}var u=\"nr@context\",f=e(\"gos\"),c=e(2),s={},p={},d=n.exports=o();d.backlog=s},{}],gos:[function(e,n,t){function r(e,n,t){if(o.call(e,n))return e[n];var r=t();if(Object.defineProperty&&Object.keys)try{return Object.defineProperty(e,n,{value:r,writable:!0,enumerable:!1}),r}catch(i){}return e[n]=r,r}var o=Object.prototype.hasOwnProperty;n.exports=r},{}],handle:[function(e,n,t){function r(e,n,t,r){o.buffer([e],r),o.emit(e,n,t)}var o=e(\"ee\").get(\"handle\");n.exports=r,r.ee=o},{}],id:[function(e,n,t){function r(e){var n=typeof e;return!e||\"object\"!==n&&\"function\"!==n?-1:e===window?0:a(e,i,function(){return o++})}var o=1,i=\"nr@id\",a=e(\"gos\");n.exports=r},{}],loader:[function(e,n,t){function r(){if(!x++){var e=h.info=NREUM.info,n=d.getElementsByTagName(\"script\")[0];if(setTimeout(s.abort,3e4),!(e&&e.licenseKey&&e.applicationID&&n))return s.abort();c(y,function(n,t){e[n]||(e[n]=t)}),f(\"mark\",[\"onload\",a()+h.offset],null,\"api\");var t=d.createElement(\"script\");t.src=\"https://\"+e.agent,n.parentNode.insertBefore(t,n)}}function o(){\"complete\"===d.readyState&&i()}function i(){f(\"mark\",[\"domContent\",a()+h.offset],null,\"api\")}function a(){return E.exists&&performance.now?Math.round(performance.now()):(u=Math.max((new Date).getTime(),u))-h.offset}var u=(new Date).getTime(),f=e(\"handle\"),c=e(2),s=e(\"ee\"),p=window,d=p.document,l=\"addEventListener\",m=\"attachEvent\",w=p.XMLHttpRequest,g=w&&w.prototype;NREUM.o={ST:setTimeout,SI:p.setImmediate,CT:clearTimeout,XHR:w,REQ:p.Request,EV:p.Event,PR:p.Promise,MO:p.MutationObserver};var v=\"\"+location,y={beacon:\"bam.nr-data.net\",errorBeacon:\"bam.nr-data.net\",agent:\"js-agent.newrelic.com/nr-1044.min.js\"},b=w&&g&&g[l]&&!/CriOS/.test(navigator.userAgent),h=n.exports={offset:u,now:a,origin:v,features:{},xhrWrappable:b};e(1),d[l]?(d[l](\"DOMContentLoaded\",i,!1),p[l](\"load\",r,!1)):(d[m](\"onreadystatechange\",o),p[m](\"onload\",r)),f(\"mark\",[\"firstbyte\",u],null,\"api\");var x=0,E=e(4)},{}]},{},[\"loader\"]);</script>\\n<script>const LIFT_SEGMENTS_KEY='lift-segments';Reader={getValueFromCookie:function(key){var b=window.document.cookie.match('(^|;)\\\\s*'+key+'\\\\s*=\\\\s*([^;]+)');return b?decodeURIComponent(b.pop()):'';},getLiftSegments:function(){return this.getValueFromCookie(LIFT_SEGMENTS_KEY);},getReferrerMetaTag:function(){return document.head.querySelector(\"[name=qtx-referrer]\");},isSearchEngineReferral:function(){var metaTag=this.getReferrerMetaTag();return metaTag!==null;}};var dataLayerValues={};var segments=Reader.getLiftSegments();if(segments){dataLayerValues.lftsegment=segments;}\\ndataLayerValues.qtxSearchEngineReferral=Reader.isSearchEngineReferral();dataLayer=[dataLayerValues];</script>\\n<meta itemprop=\"acquia_lift:content_title\" content=\"Novo equipped to weather the storm in the U.S. diabetes market, CEO says\" />\\n<meta itemprop=\"acquia_lift:content_type\" content=\"article\" />\\n<meta itemprop=\"acquia_lift:page_type\" content=\"node page\" />\\n<meta itemprop=\"acquia_lift:content_section\" content=\"Financials,--homepage--,Pharma\" />\\n<meta itemprop=\"acquia_lift:content_keywords\" content=\"Novo Nordisk\" />\\n<meta itemprop=\"acquia_lift:post_id\" content=\"360027\" />\\n<meta itemprop=\"acquia_lift:published_date\" content=\"1477664531\" />\\n<meta itemprop=\"acquia_lift:persona\" content=\"\" />\\n<meta itemprop=\"acquia_lift:engagement_score\" content=\"1\" />\\n<meta itemprop=\"acquia_lift:author\" content=\"epalmer\" />\\n<meta itemprop=\"acquia_lift:account_id\" content=\"FierceMarkets\" />\\n<meta itemprop=\"acquia_lift:site_id\" content=\"fiercepharma\" />\\n<meta itemprop=\"acquia_lift:liftAssetsURL\" content=\"https://lift3assets.lift.acquia.com/stable\" />\\n<meta itemprop=\"acquia_lift:contentReplacementMode\" content=\"untrusted\" />\\n<script src=\"https://lift3assets.lift.acquia.com/stable/lift.js\" defer></script>\\n<meta name=\"gtm-article\" content=\"360027\" />\\n<meta name=\"gtm-contenttype\" content=\"Article\" />\\n<meta name=\"gtm-keywords\" content=\"Novo Nordisk\" />\\n<meta name=\"gtm-topics\" content=\"financials\" />\\n<meta name=\"title\" content=\"Novo equipped to weather the storm in the U.S. diabetes market, CEO says | FiercePharma\" />\\n<meta name=\"parsely-author\" content=\"Eric Palmer\" />\\n<meta name=\"parsely-image-url\" content=\"\" />\\n<meta name=\"parsely-link\" content=\"http://www.fiercepharma.com/pharma/novo-equipped-to-weather-storm-u-s-diabetes-market-ceo-says\" />\\n<meta name=\"parsely-metadata\" content=\"article\" />\\n<meta name=\"parsely-pub-date\" content=\"2016-10-28T10:02:31-0400\" />\\n<meta name=\"parsely-tags\" content=\"Novo Nordisk, financials\" />\\n<meta name=\"parsely-title\" content=\"Novo equipped to weather the storm in the U.S. diabetes market, CEO says\" />\\n<meta name=\"parsely-type\" content=\"post\" />\\n<meta name=\"gtm-section\" content=\"Pharma\" />\\n<meta name=\"description\" content=\"Novo Nordisk is facing a future of price decreases and pressured profits in the U.S., but the organization is equipped to thrive in such a hostile pricing environment, CEO Lars Sørensen insists. It will do that by calling on its experience in Europe.\" />\\n<meta name=\"keywords\" content=\"Novo Nordisk financials\" />\\n<meta name=\"parsely-section\" content=\"Pharma\" />\\n<meta property=\"og:image\" content=\"http://qtxasset.com/2016-09/larssorenson2.png?k0cU5ns8L7HApUMj1PnmwIK0o.9oJdu2\" />\\n<meta name=\"referrer\" content=\"no-referrer\" />\\n<meta name=\"Generator\" content=\"Drupal 8 (https://www.drupal.org)\" />\\n<meta name=\"MobileOptimized\" content=\"width\" />\\n<meta name=\"HandheldFriendly\" content=\"true\" />\\n<meta name=\"viewport\" content=\"width=device-width, initial-scale=1.0\" />\\n<link rel=\"shortcut icon\" href=\"/themes/custom/tektite_fierce/favicon.ico\" type=\"image/vnd.microsoft.icon\" />\\n<link rel=\"alternate\" type=\"application/rss+xml\" href=\"http://www.fiercepharma.com/rss/xml\" />\\n<link rel=\"canonical\" href=\"/pharma/novo-equipped-to-weather-storm-u-s-diabetes-market-ceo-says\" />\\n<link rel=\"shortlink\" href=\"/node/360027\" />\\n<link rel=\"revision\" href=\"/pharma/novo-equipped-to-weather-storm-u-s-diabetes-market-ceo-says\" />\\n<script>(function(w,d,s,l,i){w[l]=w[l]||[];w[l].push({'gtm.start':new Date().getTime(),event:'gtm.js'});var f=d.getElementsByTagName(s)[0];var j=d.createElement(s);var dl=l!='dataLayer'?'&amp;l='+l:'';j.src='https://www.googletagmanager.com/gtm.js?id='+i+dl+'';j.async=true;f.parentNode.insertBefore(j,f);})(window,document,'script','dataLayer','GTM-KLQFWCZ');</script>\\n<script>window.a2a_config=window.a2a_config||{};a2a_config.callbacks=a2a_config.callbacks||[];a2a_config.templates=a2a_config.templates||{};a2a_config.onclick = 1;\\r\\na2a_config.orientation = \"down\";\\r\\na2a_config.icon_color = \"transparent\";\\r\\na2a_config.color_link_text = \"666666\";\\r\\na2a_config.color_link_text_hover = \"333333\";</script>\\n<style>.a2a_menu, .a2a_menu_find_container { border-radius: 0 !important; }\\r\\n.a2a_menu .a2a_mini_services a span { background-color: #666666 !important; }\\r\\n.a2a_menu .a2a_mini_services a:hover span { background-color: #333333 !important; }</style>\\n\\n    <title>Novo equipped to weather the storm in the U.S. diabetes market, CEO says | FiercePharma</title>\\n    <link rel=\"stylesheet\" href=\"/sites/fiercepharma/files/css/css_SU4tYtYmriNajhtRxlkVqjjbKbVdHaFjVFd0gx5gDuM.css?ovgnfq\" media=\"all\" />\\n<link rel=\"stylesheet\" href=\"/sites/fiercepharma/files/css/css_4YxNtJUEdtogsWyzNkWYMeig_ib1DFtCI5hTWvg3_O0.css?ovgnfq\" media=\"all\" />\\n\\n\\n      <script type=\"text/javascript\">\\n          /*! modernizr 3.3.1 (Custom Build) | MIT *\\n * http://modernizr.com/download/?-details-inputtypes-touchevents-addtest-prefixes-setclasses-teststyles !*/\\n!function(e,t,n){function o(e,t){return typeof e===t}function i(){var e,t,n,i,s,a,r;for(var l in d)if(d.hasOwnProperty(l)){if(e=[],t=d[l],t.name&&(e.push(t.name.toLowerCase()),t.options&&t.options.aliases&&t.options.aliases.length))for(n=0;n<t.options.aliases.length;n++)e.push(t.options.aliases[n].toLowerCase());for(i=o(t.fn,\"function\")?t.fn():t.fn,s=0;s<e.length;s++)a=e[s],r=a.split(\".\"),1===r.length?Modernizr[r[0]]=i:(!Modernizr[r[0]]||Modernizr[r[0]]instanceof Boolean||(Modernizr[r[0]]=new Boolean(Modernizr[r[0]])),Modernizr[r[0]][r[1]]=i),u.push((i?\"\":\"no-\")+r.join(\"-\"))}}function s(e){var t=m.className,n=Modernizr._config.classPrefix||\"\";if(v&&(t=t.baseVal),Modernizr._config.enableJSClass){var o=new RegExp(\"(^|\\\\s)\"+n+\"no-js(\\\\s|$)\");t=t.replace(o,\"$1\"+n+\"js$2\")}Modernizr._config.enableClasses&&(t+=\" \"+n+e.join(\" \"+n),v?m.className.baseVal=t:m.className=t)}function a(e,t){if(\"object\"==typeof e)for(var n in e)h(e,n)&&a(n,e[n]);else{e=e.toLowerCase();var o=e.split(\".\"),i=Modernizr[o[0]];if(2==o.length&&(i=i[o[1]]),\"undefined\"!=typeof i)return Modernizr;t=\"function\"==typeof t?t():t,1==o.length?Modernizr[o[0]]=t:(!Modernizr[o[0]]||Modernizr[o[0]]instanceof Boolean||(Modernizr[o[0]]=new Boolean(Modernizr[o[0]])),Modernizr[o[0]][o[1]]=t),s([(t&&0!=t?\"\":\"no-\")+o.join(\"-\")]),Modernizr._trigger(e,t)}return Modernizr}function r(){return\"function\"!=typeof t.createElement?t.createElement(arguments[0]):v?t.createElementNS.call(t,\"http://www.w3.org/2000/svg\",arguments[0]):t.createElement.apply(t,arguments)}function l(){var e=t.body;return e||(e=r(v?\"svg\":\"body\"),e.fake=!0),e}function f(e,n,o,i){var s,a,f,u,d=\"modernizr\",c=r(\"div\"),p=l();if(parseInt(o,10))for(;o--;)f=r(\"div\"),f.id=i?i[o]:d+(o+1),c.appendChild(f);return s=r(\"style\"),s.type=\"text/css\",s.id=\"s\"+d,(p.fake?p:c).appendChild(s),p.appendChild(c),s.styleSheet?s.styleSheet.cssText=e:s.appendChild(t.createTextNode(e)),c.id=d,p.fake&&(p.style.background=\"\",p.style.overflow=\"hidden\",u=m.style.overflow,m.style.overflow=\"hidden\",m.appendChild(p)),a=n(c,e),p.fake?(p.parentNode.removeChild(p),m.style.overflow=u,m.offsetHeight):c.parentNode.removeChild(c),!!a}var u=[],d=[],c={_version:\"3.3.1\",_config:{classPrefix:\"\",enableClasses:!0,enableJSClass:!0,usePrefixes:!0},_q:[],on:function(e,t){var n=this;setTimeout(function(){t(n[e])},0)},addTest:function(e,t,n){d.push({name:e,fn:t,options:n})},addAsyncTest:function(e){d.push({name:null,fn:e})}},Modernizr=function(){};Modernizr.prototype=c,Modernizr=new Modernizr;var p=c._config.usePrefixes?\" -webkit- -moz- -o- -ms- \".split(\" \"):[\"\",\"\"];c._prefixes=p;var h,m=t.documentElement,v=\"svg\"===m.nodeName.toLowerCase();!function(){var e={}.hasOwnProperty;h=o(e,\"undefined\")||o(e.call,\"undefined\")?function(e,t){return t in e&&o(e.constructor.prototype[t],\"undefined\")}:function(t,n){return e.call(t,n)}}(),c._l={},c.on=function(e,t){this._l[e]||(this._l[e]=[]),this._l[e].push(t),Modernizr.hasOwnProperty(e)&&setTimeout(function(){Modernizr._trigger(e,Modernizr[e])},0)},c._trigger=function(e,t){if(this._l[e]){var n=this._l[e];setTimeout(function(){var e,o;for(e=0;e<n.length;e++)(o=n[e])(t)},0),delete this._l[e]}},Modernizr._q.push(function(){c.addTest=a});var y=r(\"input\"),g=\"search tel url email datetime date month week time datetime-local number range color\".split(\" \"),_={};Modernizr.inputtypes=function(e){for(var o,i,s,a=e.length,r=\"1)\",l=0;a>l;l++)y.setAttribute(\"type\",o=e[l]),s=\"text\"!==y.type&&\"style\"in y,s&&(y.value=r,y.style.cssText=\"position:absolute;visibility:hidden;\",/^range$/.test(o)&&y.style.WebkitAppearance!==n?(m.appendChild(y),i=t.defaultView,s=i.getComputedStyle&&\"textfield\"!==i.getComputedStyle(y,null).WebkitAppearance&&0!==y.offsetHeight,m.removeChild(y)):/^(search|tel)$/.test(o)||(s=/^(url|email)$/.test(o)?y.checkValidity&&y.checkValidity()===!1:y.value!=r)),_[e[l]]=!!s;return _}(g);var w=c.testStyles=f;Modernizr.addTest(\"touchevents\",function(){var n;if(\"ontouchstart\"in e||e.DocumentTouch&&t instanceof DocumentTouch)n=!0;else{var o=[\"@media (\",p.join(\"touch-enabled),(\"),\"heartz\",\")\",\"{#modernizr{top:9px;position:absolute}}\"].join(\"\");w(o,function(e){n=9===e.offsetTop})}return n}),Modernizr.addTest(\"details\",function(){var e,t=r(\"details\");return\"open\"in t?(w(\"#modernizr details{display:block}\",function(n){n.appendChild(t),t.innerHTML=\"<summary>a</summary>b\",e=t.offsetHeight,t.open=!0,e=e!=t.offsetHeight}),e):!1}),i(),s(u),delete c.addTest,delete c.addAsyncTest;for(var b=0;b<Modernizr._q.length;b++)Modernizr._q[b]();e.Modernizr=Modernizr}(window,document);\\n      </script>\\n\\n    \\n<!--[if lte IE 8]>\\n<script src=\"/sites/fiercepharma/files/js/js_VtafjXmRvoUgAzqzYTA3Wrjkx9wcWhjP0G4ZnnqRamA.js\"></script>\\n<![endif]-->\\n<script src=\"//use.typekit.net/bmi3gnp.js\" async defer></script>\\n<script src=\"/sites/fiercepharma/files/js/js_ozV2cpnXKyS-tjjiGBrrhmvVIfqVqBKSf9c4k8FrQpo.js\" async defer></script>\\n\\n\\n    <!-- Start Taboola -->\\n    <script type=\"text/javascript\">\\n      window._taboola = window._taboola || [];\\n      _taboola.push({article:'auto'});\\n      !function (e, f, u) {\\n        e.async = 1;\\n        e.src = u;\\n        f.parentNode.insertBefore(e, f);\\n      }(document.createElement('script'),\\n        document.getElementsByTagName('script')[0],\\n        '//cdn.taboola.com/libtrc/questex-network/loader.js');\\n    </script>\\n    <!-- End Taboola -->\\n\\n    <link rel=\"apple-touch-icon\" sizes=\"57x57\" href=\"/themes/custom/tektite_fierce/apple-touch-icon-57x57.png?v=wAAmkK2yLl\">\\n    <link rel=\"apple-touch-icon\" sizes=\"60x60\" href=\"/themes/custom/tektite_fierce/apple-touch-icon-60x60.png?v=wAAmkK2yLl\">\\n    <link rel=\"apple-touch-icon\" sizes=\"72x72\" href=\"/themes/custom/tektite_fierce/apple-touch-icon-72x72.png?v=wAAmkK2yLl\">\\n    <link rel=\"apple-touch-icon\" sizes=\"76x76\" href=\"/themes/custom/tektite_fierce/apple-touch-icon-76x76.png?v=wAAmkK2yLl\">\\n    <link rel=\"apple-touch-icon\" sizes=\"114x114\" href=\"/themes/custom/tektite_fierce/apple-touch-icon-114x114.png?v=wAAmkK2yLl\">\\n    <link rel=\"apple-touch-icon\" sizes=\"120x120\" href=\"/themes/custom/tektite_fierce/apple-touch-icon-120x120.png?v=wAAmkK2yLl\">\\n    <link rel=\"apple-touch-icon\" sizes=\"144x144\" href=\"/themes/custom/tektite_fierce/apple-touch-icon-144x144.png?v=wAAmkK2yLl\">\\n    <link rel=\"apple-touch-icon\" sizes=\"152x152\" href=\"/themes/custom/tektite_fierce/apple-touch-icon-152x152.png?v=wAAmkK2yLl\">\\n    <link rel=\"apple-touch-icon\" sizes=\"180x180\" href=\"/themes/custom/tektite_fierce/apple-touch-icon-180x180.png?v=wAAmkK2yLl\">\\n    <link rel=\"icon\" type=\"image/png\" href=\"/themes/custom/tektite_fierce/favicon-32x32.png?v=wAAmkK2yLl\" sizes=\"32x32\">\\n    <link rel=\"icon\" type=\"image/png\" href=\"/themes/custom/tektite_fierce/favicon-194x194.png?v=wAAmkK2yLl\" sizes=\"194x194\">\\n    <link rel=\"icon\" type=\"image/png\" href=\"/themes/custom/tektite_fierce/favicon-96x96.png?v=wAAmkK2yLl\" sizes=\"96x96\">\\n    <link rel=\"icon\" type=\"image/png\" href=\"/themes/custom/tektite_fierce/android-chrome-192x192.png?v=wAAmkK2yLl\" sizes=\"192x192\">\\n    <link rel=\"icon\" type=\"image/png\" href=\"/themes/custom/tektite_fierce/favicon-16x16.png?v=wAAmkK2yLl\" sizes=\"16x16\">\\n    <link rel=\"manifest\" href=\"/themes/custom/tektite_fierce/manifest.json?v=wAAmkK2yLl\">\\n    <link rel=\"mask-icon\" href=\"/themes/custom/tektite_fierce/safari-pinned-tab.svg?v=wAAmkK2yLl\" color=\"#002358\">\\n    <link rel=\"shortcut icon\" href=\"/themes/custom/tektite_fierce/favicon.ico?v=wAAmkK2yLl\">\\n    <meta name=\"msapplication-TileColor\" content=\"#da532c\">\\n    <meta name=\"msapplication-TileImage\" content=\"/themes/custom/tektite_fierce/mstile-144x144.png?v=wAAmkK2yLl\">\\n    <meta name=\"theme-color\" content=\"#ffffff\">\\n  </head>\\n\\n  <body class=\"sidebar-second path-node page-node-type-article\">\\n\\n    <div class=\"page-container\">\\n      <a href=\"#main-content\" class=\"visually-hidden focusable\">Skip to main content</a>\\n      <noscript><iframe src=\"https://www.googletagmanager.com/ns.html?id=GTM-KLQFWCZ\" height=\"0\" width=\"0\"></iframe></noscript>\\n      \\n<div id=\"scrollProgress\"></div>\\n\\n  <div id=\"header-top\">\\n    <div class=\"wrapper\">\\n        <div class=\"region region-header-top\">\\n    <div id=\"block-tektitegenericadinterstitialblock\" class=\"block block-tektite-generic-blocks block-tektite-generic-ad-interstitial\">\\n  \\n    \\n                      <div id='interstitial'>\\n                  <script type='text/javascript'>\\n                    document.addEventListener(\"googletagEvent\", function() {\\n                      googletag.cmd.push(function() { googletag.display('interstitial'); });\\n                    });\\n                  </script>\\n                </div>\\n  </div>\\n<div id=\"block-tektitegenericmobileadhesionadblock\" class=\"block block-tektite-generic-blocks block-tektite-generic-ad-mobile-adhesion\">\\n  \\n    \\n                      <div id='mobile-adhesion'>\\n                <script type='text/javascript'>\\n                document.addEventListener(\"googletagEvent\", function() {\\n                googletag.cmd.push(function() { googletag.display('mobile-adhesion'); });\\n                });\\n                </script>\\n                </div>\\n  </div>\\n<div id=\"block-tektitegenericadwallpaperblock\" class=\"block block-tektite-generic-blocks block-tektite-generic-ad-wallpaper\">\\n  \\n    \\n                      <div id='wallpaper'>\\n                  <script type='text/javascript'>\\n                    document.addEventListener(\"googletagEvent\", function() {\\n                      googletag.cmd.push(function() { googletag.display('wallpaper'); });\\n                    });\\n                  </script>\\n                </div>\\n  </div>\\n<div id=\"block-tektitegenericadheaderblock\" class=\"block block-tektite-generic-blocks block-tektite-generic-ad-header\">\\n  \\n    \\n                      <div id='header-ad-wrapper'>\\n                <div id='header-ad'>\\n                  <script type='text/javascript'>\\n                    document.addEventListener(\"googletagEvent\", function() {\\n                      googletag.cmd.push(function() { googletag.display('header-ad'); });\\n                    });\\n                  </script>\\n                </div>\\n                </div>\\n  </div>\\n\\n  </div>\\n\\n    </div>\\n  </div>\\n\\n  <header id=\"header\" role=\"banner\">\\n    <div class=\"wrapper\">\\n        <div class=\"region region-header\">\\n    <div id=\"block-tektitesocialshareblock\" class=\"block block-tektite-generic-blocks block-social-share-block\">\\n  \\n    \\n                                          <a class=\"icon icon-twitter\" href='https://twitter.com/fiercepharma'>Twitter</a>\\n                                            <a class=\"icon icon-linkedin-squared\" href='https://www.linkedin.com/groups/5042642'>LinkedIn</a>\\n                    \\n  </div>\\n<div class=\"search-api-page-block-form block block-search-api-page block-search-api-page-form-block\" data-drupal-selector=\"search-api-page-block-form\" autocomplete=\"off\" id=\"block-searchapipagesearchblockform\">\\n  \\n    \\n      <form action=\"/pharma/novo-equipped-to-weather-storm-u-s-diabetes-market-ceo-says\" method=\"post\" id=\"search-api-page-block-form\" accept-charset=\"UTF-8\">\\n  <div class=\"js-form-item form-item js-form-type-search form-type-search js-form-item-keys form-item-keys form-no-label\">\\n      <label for=\"edit-keys\" class=\"visually-hidden\">Search</label>\\n        <input title=\"Enter the terms you wish to search for.\" data-drupal-selector=\"edit-keys\" type=\"search\" id=\"edit-keys\" name=\"keys\" value=\"\" size=\"15\" maxlength=\"128\" class=\"form-search\" />\\n\\n        </div>\\n<input data-drupal-selector=\"form-5stba1k3ulrcg9iru9d9wmabn3vidrmwv4ue1mxvzlm\" type=\"hidden\" name=\"form_build_id\" value=\"form-5StbA1K3ulRcG9IrU9d9WmAbN3vidrmwv4UE1MxVzlM\" />\\n<input data-drupal-selector=\"edit-search-api-page-block-form\" type=\"hidden\" name=\"form_id\" value=\"search_api_page_block_form\" />\\n<div data-drupal-selector=\"edit-actions\" class=\"form-actions js-form-wrapper form-wrapper\" id=\"edit-actions\"><input data-drupal-selector=\"edit-submit\" type=\"submit\" id=\"edit-submit\" name=\"op\" value=\"Search\" class=\"button js-form-submit form-submit\" />\\n</div>\\n\\n</form>\\n\\n  </div>\\n<nav role=\"navigation\" aria-labelledby=\"block-topmenu-menu\" id=\"block-topmenu\" class=\"block block-menu navigation menu--top-menu\">\\n            \\n  <h2 class=\"visually-hidden\" id=\"block-topmenu-menu\">Top Menu</h2>\\n  \\n\\n        \\n              <ul class=\"menu\">\\n                    <li class=\"menu-item\">\\n        <a href=\"http://www.fiercedrugdevforum.com/\">DDF 2017</a>\\n              </li>\\n                <li class=\"menu-item\">\\n        <a href=\"http://www.fiercebiotech.com/\">FierceBiotech</a>\\n              </li>\\n                <li class=\"menu-item\">\\n        <a href=\"http://jobs.fiercebiotech.com/\">Jobs</a>\\n              </li>\\n                <li class=\"menu-item\">\\n        <a href=\"/resources\" data-drupal-link-system-path=\"resources\">Resources</a>\\n              </li>\\n                <li class=\"menu-item\">\\n        <a href=\"/events\">Events</a>\\n              </li>\\n                <li class=\"menu-item\">\\n        <a href=\"https://pages.questexweb.com/FiercePharma-Newsletter-Signup.html\" title=\"Subscribe\">Subscribe</a>\\n              </li>\\n        </ul>\\n  \\n\\n\\n  </nav>\\n<div id=\"block-tektite-pharma-branding\" class=\"block block-system block-system-branding-block\">\\n  \\n    \\n              <div class=\"site-logo\">\\n            <a href=\"/\" title=\"Home\" rel=\"home\">\\n                <img src=\"/themes/custom/tektite_fierce/assets/images/logo/logo-pharma.svg\" alt=\"Home\"/>\\n            </a>\\n        </div>\\n    \\n    <div class=\"questex-logo\">\\n        <a href=\"http://questex.com\" target=\"_blank\" title=\"Questex\">\\n            <img src=\"/themes/custom/tektite/assets/images/logo-questex.svg\" alt=\"Questex\"/>\\n        </a>\\n    </div>\\n\\n    </div>\\n<nav role=\"navigation\" aria-labelledby=\"block-mainnavigation-menu\" id=\"block-mainnavigation\" class=\"block block-menu navigation menu--main\">\\n            \\n  <h2 class=\"visually-hidden\" id=\"block-mainnavigation-menu\">Main navigation</h2>\\n  \\n\\n        \\n              <ul class=\"menu\">\\n                    <li class=\"menu-item menu-item--expanded\">\\n        <a href=\"/pharma\" data-drupal-link-system-path=\"taxonomy/term/201\">Pharma</a>\\n                                <ul class=\"menu\">\\n                    <li class=\"menu-item\">\\n        <a href=\"/pharma/m-a\" data-drupal-link-system-path=\"taxonomy/term/206\">M&amp;A</a>\\n              </li>\\n                <li class=\"menu-item\">\\n        <a href=\"/pharma/regulatory\" data-drupal-link-system-path=\"taxonomy/term/211\">Regulatory</a>\\n              </li>\\n                <li class=\"menu-item\">\\n        <a href=\"/pharma/financials\" data-drupal-link-system-path=\"taxonomy/term/221\">Financials</a>\\n              </li>\\n                <li class=\"menu-item\">\\n        <a href=\"/pharma/corporate\" data-drupal-link-system-path=\"taxonomy/term/231\">Corporate</a>\\n              </li>\\n                <li class=\"menu-item\">\\n        <a href=\"/pharma/legal\" data-drupal-link-system-path=\"taxonomy/term/236\">Legal</a>\\n              </li>\\n        </ul>\\n  \\n              </li>\\n                <li class=\"menu-item menu-item--expanded\">\\n        <a href=\"/manufacturing\" data-drupal-link-system-path=\"taxonomy/term/166\">Manufacturing</a>\\n                                <ul class=\"menu\">\\n                    <li class=\"menu-item\">\\n        <a href=\"/manufacturing/m-a\" data-drupal-link-system-path=\"taxonomy/term/171\">M&amp;A</a>\\n              </li>\\n                <li class=\"menu-item\">\\n        <a href=\"/manufacturing/outsourcing\" data-drupal-link-system-path=\"taxonomy/term/176\">Outsourcing</a>\\n              </li>\\n                <li class=\"menu-item\">\\n        <a href=\"/manufacturing/regulatory\" data-drupal-link-system-path=\"taxonomy/term/181\">Regulatory</a>\\n              </li>\\n                <li class=\"menu-item\">\\n        <a href=\"/manufacturing/supply-chain\" data-drupal-link-system-path=\"taxonomy/term/186\">Supply Chain</a>\\n              </li>\\n                <li class=\"menu-item\">\\n        <a href=\"/manufacturing/partnering\" data-drupal-link-system-path=\"taxonomy/term/196\">Partnering</a>\\n              </li>\\n                <li class=\"menu-item\">\\n        <a href=\"/manufacturing/drug-safety\" data-drupal-link-system-path=\"taxonomy/term/191\">Drug Safety</a>\\n              </li>\\n        </ul>\\n  \\n              </li>\\n                <li class=\"menu-item menu-item--expanded\">\\n        <a href=\"/marketing\" data-drupal-link-system-path=\"taxonomy/term/126\">Marketing</a>\\n                                <ul class=\"menu\">\\n                    <li class=\"menu-item\">\\n        <a href=\"/marketing/regulatory\" data-drupal-link-system-path=\"taxonomy/term/356\">Regulatory</a>\\n              </li>\\n                <li class=\"menu-item\">\\n        <a href=\"/marketing/dtc-advertising\" data-drupal-link-system-path=\"taxonomy/term/131\">DTC Advertising</a>\\n              </li>\\n                <li class=\"menu-item\">\\n        <a href=\"/marketing/digital-and-social-media\" data-drupal-link-system-path=\"taxonomy/term/141\">Digital and Social Media</a>\\n              </li>\\n                <li class=\"menu-item\">\\n        <a href=\"/marketing/data-and-analytics\" data-drupal-link-system-path=\"taxonomy/term/151\">Data and Analytics</a>\\n              </li>\\n                <li class=\"menu-item\">\\n        <a href=\"/marketing/launches\" data-drupal-link-system-path=\"taxonomy/term/161\">Launches</a>\\n              </li>\\n        </ul>\\n  \\n              </li>\\n                <li class=\"menu-item menu-item--expanded\">\\n        <a href=\"/pharma-asia\" data-drupal-link-system-path=\"taxonomy/term/91\">Pharma Asia</a>\\n                                <ul class=\"menu\">\\n                    <li class=\"menu-item\">\\n        <a href=\"/pharma-asia/m-a\" data-drupal-link-system-path=\"taxonomy/term/96\">M&amp;A</a>\\n              </li>\\n                <li class=\"menu-item\">\\n        <a href=\"/pharma-asia/r-d\" data-drupal-link-system-path=\"taxonomy/term/101\">R&amp;D</a>\\n              </li>\\n                <li class=\"menu-item\">\\n        <a href=\"/pharma-asia/regulatory\" data-drupal-link-system-path=\"taxonomy/term/106\">Regulatory</a>\\n              </li>\\n                <li class=\"menu-item\">\\n        <a href=\"/pharma-asia/sales-and-marketing\" data-drupal-link-system-path=\"taxonomy/term/111\">Sales and Marketing</a>\\n              </li>\\n                <li class=\"menu-item\">\\n        <a href=\"/pharma-asia/financials\" data-drupal-link-system-path=\"taxonomy/term/121\">Financials</a>\\n              </li>\\n                <li class=\"menu-item\">\\n        <a href=\"/pharma-asia/manufacturing\" data-drupal-link-system-path=\"taxonomy/term/33286\">Manufacturing</a>\\n              </li>\\n        </ul>\\n  \\n              </li>\\n                <li class=\"menu-item menu-item--expanded\">\\n        <a href=\"/animal-health\" data-drupal-link-system-path=\"taxonomy/term/56\">Animal Health</a>\\n                                <ul class=\"menu\">\\n                    <li class=\"menu-item\">\\n        <a href=\"/animal-health/r-d\" data-drupal-link-system-path=\"taxonomy/term/61\">R&amp;D</a>\\n              </li>\\n                <li class=\"menu-item\">\\n        <a href=\"/animal-health/m-a\" data-drupal-link-system-path=\"taxonomy/term/66\">M&amp;A</a>\\n              </li>\\n                <li class=\"menu-item\">\\n        <a href=\"/animal-health/regulatory\" data-drupal-link-system-path=\"taxonomy/term/71\">Regulatory</a>\\n              </li>\\n                <li class=\"menu-item\">\\n        <a href=\"/animal-health/veterinarian\" data-drupal-link-system-path=\"taxonomy/term/76\">Veterinarian</a>\\n              </li>\\n                <li class=\"menu-item\">\\n        <a href=\"/animal-health/financials\" data-drupal-link-system-path=\"taxonomy/term/81\">Financials</a>\\n              </li>\\n                <li class=\"menu-item\">\\n        <a href=\"/animal-health/vaccines\" data-drupal-link-system-path=\"taxonomy/term/86\">Vaccines</a>\\n              </li>\\n        </ul>\\n  \\n              </li>\\n                <li class=\"menu-item menu-item--expanded\">\\n        <a href=\"/drug-delivery\" data-drupal-link-system-path=\"taxonomy/term/26\">Drug Delivery</a>\\n                                <ul class=\"menu\">\\n                    <li class=\"menu-item\">\\n        <a href=\"/drug-delivery/r-d\" data-drupal-link-system-path=\"taxonomy/term/31\">R&amp;D</a>\\n              </li>\\n                <li class=\"menu-item\">\\n        <a href=\"/drug-delivery/regulatory\" data-drupal-link-system-path=\"taxonomy/term/41\">Regulatory</a>\\n              </li>\\n                <li class=\"menu-item\">\\n        <a href=\"/drug-delivery/partnering\" data-drupal-link-system-path=\"taxonomy/term/46\">Partnering</a>\\n              </li>\\n        </ul>\\n  \\n              </li>\\n                <li class=\"menu-item menu-item--expanded\">\\n        <a href=\"/vaccines\" data-drupal-link-system-path=\"taxonomy/term/1\">Vaccines</a>\\n                                <ul class=\"menu\">\\n                    <li class=\"menu-item\">\\n        <a href=\"/vaccines/deals\" data-drupal-link-system-path=\"taxonomy/term/11\">Deals</a>\\n              </li>\\n                <li class=\"menu-item\">\\n        <a href=\"/vaccines/infectious-diseases\" data-drupal-link-system-path=\"taxonomy/term/21\">Infectious Diseases</a>\\n              </li>\\n                <li class=\"menu-item\">\\n        <a href=\"/vaccines/r-d\" data-drupal-link-system-path=\"taxonomy/term/6\">R&amp;D</a>\\n              </li>\\n                <li class=\"menu-item\">\\n        <a href=\"/vaccines/regulatory\" data-drupal-link-system-path=\"taxonomy/term/16\">Regulatory</a>\\n              </li>\\n        </ul>\\n  \\n              </li>\\n        </ul>\\n  \\n\\n\\n  </nav>\\n<nav role=\"navigation\" aria-labelledby=\"block-mainnavigation-mobile-menu\" id=\"block-mainnavigation-mobile\" class=\"block block-menu navigation menu--main\">\\n            \\n  <h2 class=\"visually-hidden\" id=\"block-mainnavigation-mobile-menu\">Main navigation - Mobile</h2>\\n  \\n\\n        \\n              <ul class=\"menu\">\\n                    <li class=\"menu-item menu-item--expanded\">\\n        <a href=\"/pharma\" data-drupal-link-system-path=\"taxonomy/term/201\">Pharma</a>\\n                                <ul class=\"menu\">\\n                    <li class=\"menu-item\">\\n        <a href=\"/pharma/m-a\" data-drupal-link-system-path=\"taxonomy/term/206\">M&amp;A</a>\\n              </li>\\n                <li class=\"menu-item\">\\n        <a href=\"/pharma/regulatory\" data-drupal-link-system-path=\"taxonomy/term/211\">Regulatory</a>\\n              </li>\\n                <li class=\"menu-item\">\\n        <a href=\"/pharma/financials\" data-drupal-link-system-path=\"taxonomy/term/221\">Financials</a>\\n              </li>\\n                <li class=\"menu-item\">\\n        <a href=\"/pharma/corporate\" data-drupal-link-system-path=\"taxonomy/term/231\">Corporate</a>\\n              </li>\\n                <li class=\"menu-item\">\\n        <a href=\"/pharma/legal\" data-drupal-link-system-path=\"taxonomy/term/236\">Legal</a>\\n              </li>\\n        </ul>\\n  \\n              </li>\\n                <li class=\"menu-item menu-item--expanded\">\\n        <a href=\"/manufacturing\" data-drupal-link-system-path=\"taxonomy/term/166\">Manufacturing</a>\\n                                <ul class=\"menu\">\\n                    <li class=\"menu-item\">\\n        <a href=\"/manufacturing/m-a\" data-drupal-link-system-path=\"taxonomy/term/171\">M&amp;A</a>\\n              </li>\\n                <li class=\"menu-item\">\\n        <a href=\"/manufacturing/outsourcing\" data-drupal-link-system-path=\"taxonomy/term/176\">Outsourcing</a>\\n              </li>\\n                <li class=\"menu-item\">\\n        <a href=\"/manufacturing/regulatory\" data-drupal-link-system-path=\"taxonomy/term/181\">Regulatory</a>\\n              </li>\\n                <li class=\"menu-item\">\\n        <a href=\"/manufacturing/supply-chain\" data-drupal-link-system-path=\"taxonomy/term/186\">Supply Chain</a>\\n              </li>\\n                <li class=\"menu-item\">\\n        <a href=\"/manufacturing/partnering\" data-drupal-link-system-path=\"taxonomy/term/196\">Partnering</a>\\n              </li>\\n                <li class=\"menu-item\">\\n        <a href=\"/manufacturing/drug-safety\" data-drupal-link-system-path=\"taxonomy/term/191\">Drug Safety</a>\\n              </li>\\n        </ul>\\n  \\n              </li>\\n                <li class=\"menu-item menu-item--expanded\">\\n        <a href=\"/marketing\" data-drupal-link-system-path=\"taxonomy/term/126\">Marketing</a>\\n                                <ul class=\"menu\">\\n                    <li class=\"menu-item\">\\n        <a href=\"/marketing/regulatory\" data-drupal-link-system-path=\"taxonomy/term/356\">Regulatory</a>\\n              </li>\\n                <li class=\"menu-item\">\\n        <a href=\"/marketing/dtc-advertising\" data-drupal-link-system-path=\"taxonomy/term/131\">DTC Advertising</a>\\n              </li>\\n                <li class=\"menu-item\">\\n        <a href=\"/marketing/digital-and-social-media\" data-drupal-link-system-path=\"taxonomy/term/141\">Digital and Social Media</a>\\n              </li>\\n                <li class=\"menu-item\">\\n        <a href=\"/marketing/data-and-analytics\" data-drupal-link-system-path=\"taxonomy/term/151\">Data and Analytics</a>\\n              </li>\\n                <li class=\"menu-item\">\\n        <a href=\"/marketing/launches\" data-drupal-link-system-path=\"taxonomy/term/161\">Launches</a>\\n              </li>\\n        </ul>\\n  \\n              </li>\\n                <li class=\"menu-item menu-item--expanded\">\\n        <a href=\"/pharma-asia\" data-drupal-link-system-path=\"taxonomy/term/91\">Pharma Asia</a>\\n                                <ul class=\"menu\">\\n                    <li class=\"menu-item\">\\n        <a href=\"/pharma-asia/m-a\" data-drupal-link-system-path=\"taxonomy/term/96\">M&amp;A</a>\\n              </li>\\n                <li class=\"menu-item\">\\n        <a href=\"/pharma-asia/r-d\" data-drupal-link-system-path=\"taxonomy/term/101\">R&amp;D</a>\\n              </li>\\n                <li class=\"menu-item\">\\n        <a href=\"/pharma-asia/regulatory\" data-drupal-link-system-path=\"taxonomy/term/106\">Regulatory</a>\\n              </li>\\n                <li class=\"menu-item\">\\n        <a href=\"/pharma-asia/sales-and-marketing\" data-drupal-link-system-path=\"taxonomy/term/111\">Sales and Marketing</a>\\n              </li>\\n                <li class=\"menu-item\">\\n        <a href=\"/pharma-asia/financials\" data-drupal-link-system-path=\"taxonomy/term/121\">Financials</a>\\n              </li>\\n                <li class=\"menu-item\">\\n        <a href=\"/pharma-asia/manufacturing\" data-drupal-link-system-path=\"taxonomy/term/33286\">Manufacturing</a>\\n              </li>\\n        </ul>\\n  \\n              </li>\\n                <li class=\"menu-item menu-item--expanded\">\\n        <a href=\"/animal-health\" data-drupal-link-system-path=\"taxonomy/term/56\">Animal Health</a>\\n                                <ul class=\"menu\">\\n                    <li class=\"menu-item\">\\n        <a href=\"/animal-health/r-d\" data-drupal-link-system-path=\"taxonomy/term/61\">R&amp;D</a>\\n              </li>\\n                <li class=\"menu-item\">\\n        <a href=\"/animal-health/m-a\" data-drupal-link-system-path=\"taxonomy/term/66\">M&amp;A</a>\\n              </li>\\n                <li class=\"menu-item\">\\n        <a href=\"/animal-health/regulatory\" data-drupal-link-system-path=\"taxonomy/term/71\">Regulatory</a>\\n              </li>\\n                <li class=\"menu-item\">\\n        <a href=\"/animal-health/veterinarian\" data-drupal-link-system-path=\"taxonomy/term/76\">Veterinarian</a>\\n              </li>\\n                <li class=\"menu-item\">\\n        <a href=\"/animal-health/financials\" data-drupal-link-system-path=\"taxonomy/term/81\">Financials</a>\\n              </li>\\n                <li class=\"menu-item\">\\n        <a href=\"/animal-health/vaccines\" data-drupal-link-system-path=\"taxonomy/term/86\">Vaccines</a>\\n              </li>\\n        </ul>\\n  \\n              </li>\\n                <li class=\"menu-item menu-item--expanded\">\\n        <a href=\"/drug-delivery\" data-drupal-link-system-path=\"taxonomy/term/26\">Drug Delivery</a>\\n                                <ul class=\"menu\">\\n                    <li class=\"menu-item\">\\n        <a href=\"/drug-delivery/r-d\" data-drupal-link-system-path=\"taxonomy/term/31\">R&amp;D</a>\\n              </li>\\n                <li class=\"menu-item\">\\n        <a href=\"/drug-delivery/regulatory\" data-drupal-link-system-path=\"taxonomy/term/41\">Regulatory</a>\\n              </li>\\n                <li class=\"menu-item\">\\n        <a href=\"/drug-delivery/partnering\" data-drupal-link-system-path=\"taxonomy/term/46\">Partnering</a>\\n              </li>\\n        </ul>\\n  \\n              </li>\\n                <li class=\"menu-item menu-item--expanded\">\\n        <a href=\"/vaccines\" data-drupal-link-system-path=\"taxonomy/term/1\">Vaccines</a>\\n                                <ul class=\"menu\">\\n                    <li class=\"menu-item\">\\n        <a href=\"/vaccines/deals\" data-drupal-link-system-path=\"taxonomy/term/11\">Deals</a>\\n              </li>\\n                <li class=\"menu-item\">\\n        <a href=\"/vaccines/infectious-diseases\" data-drupal-link-system-path=\"taxonomy/term/21\">Infectious Diseases</a>\\n              </li>\\n                <li class=\"menu-item\">\\n        <a href=\"/vaccines/r-d\" data-drupal-link-system-path=\"taxonomy/term/6\">R&amp;D</a>\\n              </li>\\n                <li class=\"menu-item\">\\n        <a href=\"/vaccines/regulatory\" data-drupal-link-system-path=\"taxonomy/term/16\">Regulatory</a>\\n              </li>\\n        </ul>\\n  \\n              </li>\\n        </ul>\\n  \\n\\n\\n  </nav>\\n\\n  </div>\\n\\n    </div>\\n  </header>\\n\\n  <div id=\"help\">\\n    <div class=\"wrapper\">\\n        <div class=\"region region-help\">\\n    \\n\\n\\n  </div>\\n\\n    </div>\\n  </div>\\n\\n<main id=\"main\" role=\"main\">\\n      \\n  \\n  <div id=\"content\">\\n    <div class=\"taxonomy-primary\"><div about=\"/pharma\" id=\"taxonomy-term-201\" class=\"taxonomy-term vocabulary-taxonomy\">\\n  \\n      <h2><a href=\"/pharma\">\\n            <div>Pharma</div>\\n      </a></h2>\\n    \\n  <div class=\"content\">\\n    \\n  </div>\\n</div>\\n</div>\\n    <a id=\"main-content\" tabindex=\"-1\"></a>      <div class=\"region region-content\">\\n    <div id=\"block-tektite-pharma-page-title\" class=\"block block-core block-page-title-block\">\\n  \\n    \\n      \\n  <h1 class=\"page-title\"><span property=\"schema:name\">Novo equipped to weather the storm in the U.S. diabetes market, CEO says</span>\\n</h1>\\n\\n\\n  </div>\\n<div id=\"block-tektite-pharma-content\" class=\"block block-system block-system-main-block\">\\n  \\n    \\n      \\n\\n<article role=\"article\" about=\"/pharma/novo-equipped-to-weather-storm-u-s-diabetes-market-ceo-says\" typeof=\"schema:Article\" class=\"node node--type-article node--promoted node--view-mode-full\">\\n    <div id=\"nodeid\" data-nid=\"360027\" style=\"display:none\"></div>\\n\\n    \\n          <span property=\"schema:name\" content=\"Novo equipped to weather the storm in the U.S. diabetes market, CEO says\" class=\"rdf-meta hidden\"></span>\\n\\n\\n    <footer class=\"node__meta\">\\n        <div class=\"node__submitted\">\\n                            by                                    <a href=\"/author/eric-palmer\">Eric Palmer</a>                                | \\n            <div><time datetime=\"2016-10-28T14:02:31Z\" property=\"schema:datePublished\">Oct 28, 2016 10:02am</time>\\n</div>\\n      \\n                    </div>\\n    </footer>\\n\\n    <div class=\"thumbnail-image\">\\n                                            \\n            <div>\\n            <div>    <img srcset=\"http://qtxasset.com/styles/breakpoint_md_448px_w/s3fs/2016-09/larssorenson2.png?EUBmFK9Nuyfm7rawnyuNjnb6q8Sjxu.3&amp;itok=cTmVpCrO 448w, http://qtxasset.com/styles/breakpoint_l_640px_w/s3fs/2016-09/larssorenson2.png?a25.Pul..nbxfwTPhriZzEknvNjx_taZ&amp;itok=fZG8mRt1 640w, http://qtxasset.com/styles/breakpoint_xl_880px_w/s3fs/2016-09/larssorenson2.png?9jdR0gSKsYHj_bDxGbjXw8UYH265MnGc&amp;itok=dylkZ5jr 800w\" sizes=\"(min-width:1220px) 880px, (min-width: 980px) and (max-width: 1219px) 640px, (min-width: 788px) 448px, min-width: 481px) 800px\" src=\"http://qtxasset.com/styles/breakpoint_sm_default_480px_w/s3fs/2016-09/larssorenson2.png?hp3AxghnUJdEC56RLg7xkkcR617UvGbm&amp;itok=bycO9czJ\" alt=\"Lars Sorenson\" title=\"Lars Sorenson\" typeof=\"foaf:Image\" />\\n\\n\\n</div>\\n      </div>\\n      \\n            \\n            <div class=\"caption\">\\n                            \\n                </div>\\n                        </div>\\n\\n    <div class=\"node__container\">\\n                    <div class=\"social-container stickem-container\">\\n                <div class=\"social-share stickem\"><span class=\"a2a_kit a2a_kit_size_32 addtoany_list\" data-a2a-url=\"http://www.fiercepharma.com/pharma/novo-equipped-to-weather-storm-u-s-diabetes-market-ceo-says\" data-a2a-title=\"Novo equipped to weather the storm in the U.S. diabetes market, CEO says\"><a class=\"a2a_dd addtoany_share_save\" href=\"https://www.addtoany.com/share#url=http%3A%2F%2Fwww.fiercepharma.com%2Fpharma%2Fnovo-equipped-to-weather-storm-u-s-diabetes-market-ceo-says&amp;title=Novo%20equipped%20to%20weather%20the%20storm%20in%20the%20U.S.%20diabetes%20market%2C%20CEO%20says\"></a><a class=\"a2a_button_facebook\"></a>\\r\\n<a class=\"a2a_button_twitter\"></a>\\r\\n<a class=\"a2a_button_linkedin\"></a>\\r\\n<a class=\"a2a_button_email\"></a>\\r\\n<a class=\"a2a_button_print\"></a></span>\\n</div>\\n            </div>\\n        \\n        <div class=\"node__content\">\\n            \\n            <div property=\"schema:articleBody\"><p dir=\"ltr\">Novo Nordisk is facing a future of price decreases and pressured profits in the U.S., but the organization is equipped to thrive in such a hostile pricing environment, CEO Lars Sørensen insists. It will do that by calling on its experiences jousting with price regulators in Europe. </p>\\n\\n<p>“We have been used to operating in such an environment in the EU, and in Japan,” Sørensen insisted today, pointing to two markets that for years have been tight-fisted in reimbursements while the U.S. was a haven of growth.</p>\\n\\n<p>The answer came in response to a question posed point-blank to execs today during a call with analysts, as they reported that Novo's ($NOVO) operating profit fell 1% in Q3 2016 and for the year is now expected to be half of what the company had projected 8 months ago, 5% instead of 10%. That news whacked share prices 15% in early trading. An analyst wanted to know if the Danish company required a different structure and different people to make money in a tough market. Sørensen said that it did, insisting its commitment to the U.S. market was steadfast.</p>\\n\\n<p>But Sørensen will not have to fight the battles there any longer. He is stepping down at year-end and is being replaced by <a href=\"http://www.novonordisk.com/media/news-details.2038703.html\">Lars Fruergaard Jorgensen</a>, who's currently the company's EVP and head of corporate development.</p>\\n\\n<p>Jorgensen acknowledged that the U.S. market will be extremely tough in the near term, but growth in China and other parts of the world will help compensate until the U.S. market starts to turn around in 2018, he said.</p>\\n\\n<p>“When we look across the world, the change in the operating environment is mainly in U.S. … We have to acknowledge we are not fully satisfied with the U.S. operations,” Jorgensen said. But the company has the right portfolio for a turnaround there and with “a restructuring in the U.S. operations, we will get a grip,” Jorgensen insisted.</p>\\n\\n<p>That restructuring was announced in September, with 1,000 people worldwide being let go due to cut costs. Cuts will also come in R&amp;D, although R&amp;D spending will remain at about 13%, as the Danish drugmaker focuses on more innovative products that payers will cover. The job cuts will also hit the headquarters in Bagsvaerd, near Copenhagen, as well as the company’s commercial operations worldwide.</p>\\n\\n<p>There were some bright spots in today’s report. Tresiba, the company’s new longer-acting product, grew 187% and sales of its GLP-1 drug, Victoza, were up 13%. There is also Saxenda, Novo’s entry in the weight-control market. In fact, Bernstein analyst Ronny Gal told investors today that Saxenda accounted for 16% of growth in the first 9 months and that it will be an “increasingly important product” going forward.</p>\\n\\n<p>Like Novo, Gal told his clients that he expects strong growth going forward for GLP-1 meds, a market Novo shares with competitors. Novo and Sanofi are both developing new weekly combo meds in that category, although both have had consideration of their drugs delayed by the FDA.</p>\\n\\n<p>He says it is reasonable to assume such growth but points out that Novo was not considering the \"worst case scenario.” While Novo execs said they did not expect payers to go to a “single source market” for GLP-1 drugs to extract deeper discounts, Gal does not rule it out. “If there is another cut to expectations this is likely where it comes from,” he told investors, suggesting that a really rocky midterm market for Novo could still get rockier.</p>\\n\\n<p dir=\"ltr\">- here’s the earnings <a href=\"http://www.novonordisk.com/media/news-details.2052368.html\">release</a></p>\\n\\n<p dir=\"ltr\"><strong>Related Articles:</strong><br /><a href=\"http://www.fiercepharma.com/pharma/u-s-payer-pressures-force-novo-nordisk-to-cut-loose-1-000-staffers\">U.S. payer pressures force Novo Nordisk to cut loose 1,000 staffers</a><br /><a href=\"http://www.fiercepharma.com/pharma/novo-nordisk-chief-lars-rebien-sorensen-to-step-down-early-as-pricing-pressures-mount\">Novo Nordisk CEO Sorensen to step down early as pricing pressures mount</a><br /><a href=\"http://www.fiercepharma.com/marketing/draft-novo-nordisk-semaglutide\">Novo Nordisk stokes GLP-1 hopes as weekly semaglutide slashes heart risks by 26%</a><br /><a href=\"http://www.fiercepharma.com/pharma/express-scripts-bars-new-launches-from-lilly-merck-and-shuts-out-novo-for-2017\">Express Scripts bars new launches from Lilly, Merck and shuts out Novo for 2017</a><br /><a href=\"http://www.fiercepharma.com/pharma/sanofi-s-adlyxin-holds-a-slight-safety-edge-over-novo-s-victoza-report-finds\">Sanofi's Adlyxin holds a slight safety edge over Novo's Victoza, report finds</a><br /><a href=\"http://www.fiercepharma.com/pharma/head-start-for-novo-s-combo-med-xultophy-fda-delayed-it-instead\">That head start for Novo's combo med Xultophy? The FDA delayed it instead</a></p>\\n</div>\\n      \\n\\n                            <div class=\"keywords-topics\">\\n                    <strong>Read more on</strong>\\n                    <div class=\"item-list--comma-list\">\\n                        <a href=\"/topic/financials\" hreflang=\"und\">financials</a>,                    <a href=\"/keyword/novo-nordisk\" hreflang=\"und\">Novo Nordisk</a>            </div>\\n\\n                </div>\\n            \\n        </div>\\n    </div>\\n\\n</article>\\n\\n  </div>\\n<div id=\"block-tektitegenericarticlebottomadblock\" class=\"block block-tektite-generic-blocks block-tektite-generic-ad-article-bottom\">\\n  \\n    \\n                      <div id='article-bottom'>\\n                <script type='text/javascript'>\\n                document.addEventListener(\"googletagEvent\", function() {\\n                googletag.cmd.push(function() { googletag.display('article-bottom'); });\\n                });\\n                </script>\\n                </div>\\n  </div>\\n<div id=\"block-tektitetaboolablock\" class=\"block block-tektite-taboola block-tektite-taboola-block\">\\n  \\n    \\n                      <div id='taboola-block'>\\n                \\n                \\n                <div id=\"taboola-below-article-thumbnails-internal\"></div>\\n                <script type=\"text/javascript\">\\n                window._taboola = window._taboola || [];\\n                _taboola.push({\\n                mode: 'organic-thumbnails-b',\\n                container: 'taboola-below-article-thumbnails-internal',\\n                placement: 'Below Article Thumbnails-internal',\\n                target_type: 'mix'\\n                });\\n                 </script>\\n\\n                <div id=\"taboola-below-article-thumbnails\"></div>\\n                <script type=\"text/javascript\">\\n                window._taboola = window._taboola || [];\\n                _taboola.push({\\n                mode: 'thumbnails-b',\\n                container: 'taboola-below-article-thumbnails',\\n                placement: 'Below Article Thumbnails',\\n                target_type: 'mix'\\n                });\\n                </script>\\n\\n                \\n                </div>\\n  </div>\\n\\n  </div>\\n\\n\\n      </div>\\n\\n      <aside id=\"sidebar-second\" role=\"complimentary\">\\n      <section class=\"sidebar-container\">\\n          <div class=\"region region-sidebar-second\">\\n    <div id=\"block-tektitegenericadsidebarblock\" class=\"block block-tektite-generic-blocks block-tektite-generic-ad-sidebar\">\\n  \\n    \\n                      <div id='sidebar-ad'>\\n                  <script type='text/javascript'>\\n                    document.addEventListener(\"googletagEvent\", function() {\\n                      googletag.cmd.push(function() { googletag.display('sidebar-ad'); });\\n                    });\\n                  </script>\\n                </div>\\n  </div>\\n<div id=\"block-tektitegenericnewsletterblock\" class=\"block block-tektite-generic-blocks block-tektite-generic-newsletter-multi\">\\n  \\n    \\n      <script src=\"//app-sj10.marketo.com/js/forms2/js/forms2.min.js\" defer></script><form id='mktoForm_12997'></form>\\n  </div>\\n\\n  </div>\\n\\n\\n                  <div class=\"bottom\">\\n              <div class=\"region region-sidebar-bottom\">\\n    <div id=\"block-tektitegenericadsidebarblock2\" class=\"block block-tektite-generic-blocks block-tektite-generic-ad-sidebar2\">\\n  \\n    \\n                      <div id='sidebar-ad2'>\\n                  <script type='text/javascript'>\\n                    document.addEventListener(\"googletagEvent\", function() {\\n                      googletag.cmd.push(function() { googletag.display('sidebar-ad2'); });\\n                    });\\n                  </script>\\n                </div>\\n  </div>\\n<div id=\"block-popularcontentfromparsely\" class=\"block block-tektite-generic-blocks block-popular-content-from-parsely\">\\n  \\n      <h2 class=\"block-title\">Popular Content </h2>\\n    \\n      \\n  <ul>\\n         \\n      \\n      \\t<li><h3 class=\"list-title\"><a href=\"http://www.fiercepharma.com/pharma/teva-poaches-lundbeck-chief-schultz-52m-package\">Teva lures Lundbeck chief Schultz with $52M package that makes him among pharma&#039;s top paid</a></h3> \\n      \\t\\t\\n      \\t\\tSep 12, 2017 \\n     \\t\\t</li>\\n      \\t\\n\\n    \\t      \\n      \\n      \\t<li><h3 class=\"list-title\"><a href=\"http://www.fiercepharma.com/pharma/corporate-shakeup-alexion-plans-hundreds-layoffs-and-hq-move\">Alexion plots hundreds of layoffs, HQ move in sweeping corporate revamp</a></h3> \\n      \\t\\t\\n      \\t\\tSep 12, 2017 \\n     \\t\\t</li>\\n      \\t\\n\\n    \\t      \\n      \\n      \\t<li><h3 class=\"list-title\"><a href=\"http://www.fiercepharma.com/pharma/fda-says-tecentriq-won-t-lose-its-bladder-cancer-nod-despite-ph3-failure-roche\">FDA says Tecentriq won&#039;t lose its bladder cancer nod despite phase 3 failure, Roche reports</a></h3> \\n      \\t\\t\\n      \\t\\tSep 12, 2017 \\n     \\t\\t</li>\\n      \\t\\n\\n    \\t      \\n      \\n      \\t<li><h3 class=\"list-title\"><a href=\"http://www.fiercepharma.com/pharma/your-skinny-esmo-imfinzi-wows-incyte-unveils-opdivo-surprises-and-keytruda-piles-it\">ESMO need-to-know: Keytruda misses head and neck; Tagrisso wins; plus Lilly, BMS and more</a></h3> \\n      \\t\\t\\n      \\t\\tSep 11, 2017 \\n     \\t\\t</li>\\n      \\t\\n\\n    \\t      \\n      \\n      \\t<li><h3 class=\"list-title\"><a href=\"http://www.fiercepharma.com/pharma/teva-makes-good-asset-sale-vows-1-1b-contraceptive-sale\">Teva makes good on asset-sale vows with $1.1B contraceptive sale</a></h3> \\n      \\t\\t\\n      \\t\\tSep 11, 2017 \\n     \\t\\t</li>\\n      \\t\\n\\n    \\t \\n\\n  </ul>\\n\\n\\n  </div>\\n<div class=\"views-element-container block block-views block-views-blockauthor-block-1\" id=\"block-tektite-pharma-views-block-author-block-1\">\\n  \\n      <h2 class=\"block-title\">About the Author</h2>\\n    \\n      <div><div class=\"js-view-dom-id-979b6d1a9ef6307af51f042e01b5574675d34cc61eae439805760e8d153cc238\">\\n  \\n  \\n  \\n\\n  \\n  \\n  \\n\\n      <div class=\"views-row\">\\n    <div class=\"views-field views-field-field-author-image\"><div class=\"field-content\">  <a href=\"/author/eric-palmer\"><img src=\"http://qtxasset.com/field/image/eric_palmer.jpg?7AC5xkzBdP_ZXOxsUhLnUle5j6.O2T30\" width=\"260\" height=\"260\" alt=\"Eric Palmer\" typeof=\"foaf:Image\" />\\n</a>\\n</div></div><div class=\"views-field views-field-title\"><span class=\"field-content\"><div class=\"author-block-info\">\\n<div class=\"title\"><a href=\"/author/eric-palmer\" hreflang=\"en\">Eric Palmer</a></div>\\n<div class=\"job\">Senior Editor</div>\\n<div class=\"email\"><a href=\"mailto:epalmer@fiercemarkets.com\">epalmer@fiercemarkets.com</a></div>\\n<div class=\"twitter\"></div>\\n<div class=\"linkedin\"></div>\\n<div class=\"facebook\"></div>\\n<div class=\"instagram\"></div>\\n</div></span></div>\\n  </div>\\n\\n  \\n  \\n\\n  \\n  \\n\\n  \\n  \\n</div>\\n</div>\\n\\n  </div>\\n<div id=\"block-tektitegenericadhouseblock\" class=\"block block-tektite-generic-blocks block-tektite-generic-ad-house\">\\n  \\n    \\n                      <div id='sidebar-ad3'>\\n                  <script type='text/javascript'>\\n                    document.addEventListener(\"googletagEvent\", function() {\\n                      googletag.cmd.push(function() { googletag.display('sidebar-ad3'); });\\n                    });\\n                  </script>\\n                </div>\\n  </div>\\n\\n  </div>\\n\\n          </div>\\n              </section>\\n    </aside>\\n  </main>\\n\\n\\n\\n  <footer id=\"footer\" role=\"contentinfo\">\\n    <div class=\"wrapper\">\\n        <div class=\"region region-footer\">\\n    <div id=\"block-tektitefooterblock\" class=\"block block-tektite-generic-blocks block-generic-footer-block\">\\n  \\n    \\n      <div id=\"questex\">\\n    <div class=\"footer-logo\">\\n        <a class=\"logo\" href=\"http://questex.com\">\\n            <img alt=\"\" src=\"/themes/custom/tektite/assets/images/footer-questex.svg\" />\\n        </a>\\n    </div>\\n    <div class=\"social-icons\">\\n        <a class=\"icon icon-facebook-official\" href='https://www.facebook.com/Questex-LLC-514978955241030/'></a>\\n        <a class=\"icon icon-twitter\" href='https://twitter.com/QuestexLLC'></a>\\n        <a class=\"icon icon-linkedin-squared\" href='https://www.linkedin.com/company/questex-media-group?trk=top_nav_home'></a>\\n    </div>​\\n</div>\\n\\n\\n    <ul class=\"menu\">\\n                    <li><a href=\"/\">\\n                    Home</a></li>\\n\\n                    <li><a href=\"https://pages.questexweb.com/FiercePharma-Newsletter-Signup.html\">\\n                    Subscribe</a></li>\\n\\n                    <li><a href=\"https://pages.questexweb.com/Manage-Subscriptions_Manage-Your-Subscriptions.html?\">\\n                    Manage Newsletter Subscriptions</a></li>\\n\\n                    <li><a href=\"/advertise-us\">\\n                    Advertise</a></li>\\n\\n                    <li><a href=\"/rss-feeds\">\\n                    RSS</a></li>\\n\\n                    <li><a href=\"http://www.questex.com/privacy-policy\">\\n                    Privacy</a></li>\\n\\n                    <li><a href=\"/about-us\">\\n                    About Us</a></li>\\n\\n                    <li><a href=\"/contact\">\\n                    Contact</a></li>\\n\\n        \\n    </ul>\\n\\n<p>\\n  <span>© 2017 Questex LLC. All rights reserved.</span>\\n  <span>275 Grove Street, Suite 2-130 Newton, MA 02466</span>\\n  <span>Reproduction in whole or part is prohibited.</span>\\n</p>\\n\\n  </div>\\n\\n  </div>\\n\\n    </div>\\n  </footer>\\n\\n      \\n    </div>\\n\\n    <script type=\"application/json\" data-drupal-selector=\"drupal-settings-json\">{\"path\":{\"baseUrl\":\"\\/\",\"scriptPath\":null,\"pathPrefix\":\"\",\"currentPath\":\"node\\/360027\",\"currentPathIsAdmin\":false,\"isFront\":false,\"currentLanguage\":\"en\"},\"pluralDelimiter\":\"\\u0003\",\"ajaxPageState\":{\"libraries\":\"addtoany\\/addtoany,core\\/html5shiv,core\\/picturefill,qtx_tracking\\/recorder,system\\/base,tektite\\/global-css,tektite\\/global-js,tektite\\/theme-fonts,tektite\\/webfont.js,tektite_fierce\\/GTMscripts,tektite_fierce\\/fonts-js,tektite_fierce\\/marketo-js,tektite_fierce\\/override-css,tektite_fierce\\/override-js,views\\/views.module\",\"theme\":\"tektite_fierce\",\"theme_token\":null},\"ajaxTrustedUrl\":{\"form_action_p_pvdeGsVG5zNF_XLGPTvYSKCf43t8qZYSwcfZl2uzM\":true},\"tektite_fierce\":{\"gtm_key\":\"GTM-KLQFWCZ\",\"marketo_id\":\"12997\"},\"qtx_tracking\":{\"referral\":{\"comesFromSearchEngine\":\"false\"}},\"user\":{\"uid\":0,\"permissionsHash\":\"55f2fcabf143e91119fc5948c8acd644daabe1eb5a8e549c0bbc55f1fa50db1c\"}}</script>\\n<script src=\"/sites/fiercepharma/files/js/js_DdXIKt68jGany_F78Mxy_6Rv5aLF94bA6_npMbGnkV4.js\"></script>\\n<script src=\"/sites/fiercepharma/files/js/js_RAAkRjKDTRtA-hRvJnNtAsOejg9BJYVnpNFg-pHjLaI.js\"></script>\\n<script src=\"//static.addtoany.com/menu/page.js\" async></script>\\n<script src=\"/sites/fiercepharma/files/js/js_h46WxI_ZFc-5EIjP50SF3PiJ-JkJB5QSuAq-UN0jkXI.js\"></script>\\n<script src=\"//ajax.googleapis.com/ajax/libs/webfont/1.6.26/webfont.js\" async></script>\\n<script src=\"/sites/fiercepharma/files/js/js_kSvTRDeClTrCukoXnpcc-RGGguZfb5rGmky3VdXu6OA.js\" defer></script>\\n\\n\\n    <!-- Start Parse.ly Include: Standard -->\\n    <div id=\"parsely-root\" style=\"display: none\">\\n      <div id=\"parsely-cfg\" data-parsely-site=\"fiercepharma.com\"></div>\\n    </div>\\n    <script>\\n    (function(s, p, d) {\\n      var h=d.location.protocol, i=p+\"-\"+s,\\n          e=d.getElementById(i), r=d.getElementById(p+\"-root\"),\\n          u=h===\"https:\"?\"d1z2jf7jlzjs58.cloudfront.net\"\\n          :\"static.\"+p+\".com\";\\n      if (e) return;\\n      e = d.createElement(s); e.id = i; e.async = true;\\n      e.src = h+\"//\"+u+\"/p.js\"; r.appendChild(e);\\n    })(\"script\", \"parsely\", document);\\n    </script>\\n    <!-- End Parse.ly Include -->\\n\\n    <!-- Start Taboola -->\\n    <script type=\"text/javascript\">\\n      window._taboola = window._taboola || [];\\n      _taboola.push({flush: true});\\n    </script>\\n    <!-- End Taboola -->\\n\\n  <script type=\"text/javascript\">window.NREUM||(NREUM={});NREUM.info={\"beacon\":\"bam.nr-data.net\",\"licenseKey\":\"44925d6b58\",\"applicationID\":\"51794171\",\"transactionName\":\"NFBaMhZVDRIHABUPCg0aeQUQXQwPSScTExUCWWQHEUAMEgcVBDkDDEdVOiJbEQw6IhQSChBUTgMiWxEMJBYICgEGRxVYFlENBQMRMQoEAFBQCQhQBhMgDBMLJABBUQkK\",\"queueTime\":0,\"applicationTime\":562,\"atts\":\"GBdZRF5PHhw=\",\"errorBeacon\":\"bam.nr-data.net\",\"agent\":\"\"}</script></body>\\n</html>\\n                                                                                                                                                                                                                                                                                                                                                                                                                                                                                                                                                                                                                                                                                                                                                                                                                                                                                                                                                                                                                                                                                                                                                                                                                                                                                                                                                                                                                                                                                                                                                                                                                                                                                                                                                                                                                                                                                                                                                                                                                                                                                                                                                                                                                                                                                                                                                                                                                                                                                                                                                                                                                                                                                                                                                                                                                                                                                                                                                                                                                                                                                                                                                                                                                                                                                                                                                                                                                                                                                                                                                                                                                                                                                                                                                                                                                                                                                                                                                                                                                                                                                                                                                                                                                                                                                                                                                                                                                                                                                                                                                                                                                                                                                                                                                                                                                                                                                                                                                                                                                                                                                                                                                                                                                                                                                                                                                                    "
      ]
     },
     "execution_count": 4,
     "metadata": {},
     "output_type": "execute_result"
    }
   ],
   "source": [
    "html_chunk.head(2)"
   ]
  },
  {
   "cell_type": "code",
   "execution_count": 26,
   "metadata": {
    "collapsed": true
   },
   "outputs": [],
   "source": [
    "def make_BOW(ht):\n",
    "    import pandas as pd\n",
    "    pd.set_option('display.max_colwidth', -1)\n",
    "    import re, nltk\n",
    "    from bs4 import BeautifulSoup\n",
    "    match = re.compile(r'\\\\n')\n",
    "    ht = match.sub(r'', str(ht))\n",
    "    match = re.compile(r'\\\\r')\n",
    "    ht = match.sub(r'', ht)\n",
    "    match = re.compile(r'\\\\t')\n",
    "    ht = match.sub(r'', ht)\n",
    "    soup = BeautifulSoup(ht, 'html.parser')\n",
    "    bag = \"\"\n",
    "    for i in soup.find_all('a'):\n",
    "        bag = bag + i.text+\" \"\n",
    "    bag_nn = [i for i,j in nltk.pos_tag(nltk.word_tokenize(bag)) if (j in ('NNP','NP', 'NNS')) and (len(i) > 2)][:10]\n",
    "    return \" \".join(set(bag_nn))"
   ]
  },
  {
   "cell_type": "code",
   "execution_count": 6,
   "metadata": {
    "collapsed": true
   },
   "outputs": [],
   "source": [
    "#make_BOW(html_chunk.get_chunk(1).Html)"
   ]
  },
  {
   "cell_type": "code",
   "execution_count": 21,
   "metadata": {
    "collapsed": true
   },
   "outputs": [],
   "source": [
    "for i in range(html_chunk.shape[0]):\n",
    "    html_chunk.loc[i,\"keywords\"] = make_BOW(html_chunk.loc[i,\"Html\"])"
   ]
  },
  {
   "cell_type": "code",
   "execution_count": 22,
   "metadata": {
    "collapsed": true
   },
   "outputs": [],
   "source": [
    "html_chunk1 = html_chunk.loc[:,[\"Webpage_id\", \"keywords\"]]"
   ]
  },
  {
   "cell_type": "code",
   "execution_count": 23,
   "metadata": {},
   "outputs": [
    {
     "data": {
      "text/html": [
       "<div>\n",
       "<style>\n",
       "    .dataframe thead tr:only-child th {\n",
       "        text-align: right;\n",
       "    }\n",
       "\n",
       "    .dataframe thead th {\n",
       "        text-align: left;\n",
       "    }\n",
       "\n",
       "    .dataframe tbody tr th {\n",
       "        vertical-align: top;\n",
       "    }\n",
       "</style>\n",
       "<table border=\"1\" class=\"dataframe\">\n",
       "  <thead>\n",
       "    <tr style=\"text-align: right;\">\n",
       "      <th></th>\n",
       "      <th>Webpage_id</th>\n",
       "      <th>keywords</th>\n",
       "    </tr>\n",
       "  </thead>\n",
       "  <tbody>\n",
       "    <tr>\n",
       "      <th>0</th>\n",
       "      <td>1</td>\n",
       "      <td>Jobs Aubagio FierceBiotech Outsourcing increases Migraine Clara drugs Biogen Sanofi Allergan Subscriptions Vaccines Animal Launches Partnering DDF Regulatory GlaxoSmithKline Roche Minecraft kicks Marketing Legal CEO Supply sufferers scripts Drug Financials Digital Social Gilenya generics Newsletter RSS Media Diseases Advertising LinkedIn Staton Health Corporate Sales DTC Chain Safety Amgen Novartis Tecfidera Contact Infectious Actemra Delivery Deals nets Asia sales CAR-T Privacy Johnson Skip Advertise Home Tracy join Manage Pfizer Empathy Events Manufacturing Enbrel Analytics patients Takeda Buoyed Subscribe Twitter Data Excedrin Pharma</td>\n",
       "    </tr>\n",
       "    <tr>\n",
       "      <th>1</th>\n",
       "      <td>2</td>\n",
       "      <td>FDA Express Animal launches DDF Regulatory Roche Home RSS Media Xultophy Sales Chain Safety Skip Sorensen Manage risks Palmer Manufacturing Analytics Data Nordisk Jobs FierceBiotech Sanofi U.S. Adlyxin Launches CEO Legal Contact Social Newsletter Novo DTC Teva Infectious Delivery hundreds Deals GLP-1 Events Merck Alexion Pharma pressures Outsourcing vows Tagrisso Victoza Jorgensen Vaccines Eric Supply Digital Financials Scripts Advertising slashes Health financials BMS Lilly layoffs Asia Advertise Tecentriq Partnering Lars Subscriptions Marketing Drug Diseases Schultz LinkedIn ESMO Corporate Fruergaard Keytruda staffers Privacy plots Lundbeck Subscribe Twitter</td>\n",
       "    </tr>\n",
       "  </tbody>\n",
       "</table>\n",
       "</div>"
      ],
      "text/plain": [
       "   Webpage_id  \\\n",
       "0  1            \n",
       "1  2            \n",
       "\n",
       "                                                                                                                                                                                                                                                                                                                                                                                                                                                                                                                                                                                                                                                                                       keywords  \n",
       "0  Jobs Aubagio FierceBiotech Outsourcing increases Migraine Clara drugs Biogen Sanofi Allergan Subscriptions Vaccines Animal Launches Partnering DDF Regulatory GlaxoSmithKline Roche Minecraft kicks Marketing Legal CEO Supply sufferers scripts Drug Financials Digital Social Gilenya generics Newsletter RSS Media Diseases Advertising LinkedIn Staton Health Corporate Sales DTC Chain Safety Amgen Novartis Tecfidera Contact Infectious Actemra Delivery Deals nets Asia sales CAR-T Privacy Johnson Skip Advertise Home Tracy join Manage Pfizer Empathy Events Manufacturing Enbrel Analytics patients Takeda Buoyed Subscribe Twitter Data Excedrin Pharma                          \n",
       "1  FDA Express Animal launches DDF Regulatory Roche Home RSS Media Xultophy Sales Chain Safety Skip Sorensen Manage risks Palmer Manufacturing Analytics Data Nordisk Jobs FierceBiotech Sanofi U.S. Adlyxin Launches CEO Legal Contact Social Newsletter Novo DTC Teva Infectious Delivery hundreds Deals GLP-1 Events Merck Alexion Pharma pressures Outsourcing vows Tagrisso Victoza Jorgensen Vaccines Eric Supply Digital Financials Scripts Advertising slashes Health financials BMS Lilly layoffs Asia Advertise Tecentriq Partnering Lars Subscriptions Marketing Drug Diseases Schultz LinkedIn ESMO Corporate Fruergaard Keytruda staffers Privacy plots Lundbeck Subscribe Twitter  "
      ]
     },
     "execution_count": 23,
     "metadata": {},
     "output_type": "execute_result"
    }
   ],
   "source": [
    "html_chunk1.head(2)"
   ]
  },
  {
   "cell_type": "code",
   "execution_count": 34,
   "metadata": {},
   "outputs": [
    {
     "data": {
      "text/plain": [
       "Index(['Webpage_id', 'keywords'], dtype='object')"
      ]
     },
     "execution_count": 34,
     "metadata": {},
     "output_type": "execute_result"
    }
   ],
   "source": [
    "html_chunk1.columns"
   ]
  },
  {
   "cell_type": "code",
   "execution_count": 25,
   "metadata": {
    "collapsed": true
   },
   "outputs": [],
   "source": [
    "train_final = pd.merge(train, html_chunk1,on=\"Webpage_id\")"
   ]
  },
  {
   "cell_type": "code",
   "execution_count": 47,
   "metadata": {},
   "outputs": [
    {
     "data": {
      "text/html": [
       "<div>\n",
       "<style>\n",
       "    .dataframe thead tr:only-child th {\n",
       "        text-align: right;\n",
       "    }\n",
       "\n",
       "    .dataframe thead th {\n",
       "        text-align: left;\n",
       "    }\n",
       "\n",
       "    .dataframe tbody tr th {\n",
       "        vertical-align: top;\n",
       "    }\n",
       "</style>\n",
       "<table border=\"1\" class=\"dataframe\">\n",
       "  <thead>\n",
       "    <tr style=\"text-align: right;\">\n",
       "      <th></th>\n",
       "      <th>Webpage_id</th>\n",
       "      <th>Domain</th>\n",
       "      <th>Url</th>\n",
       "      <th>Tag</th>\n",
       "      <th>keywords</th>\n",
       "    </tr>\n",
       "  </thead>\n",
       "  <tbody>\n",
       "    <tr>\n",
       "      <th>0</th>\n",
       "      <td>1</td>\n",
       "      <td>www.fiercepharma.com</td>\n",
       "      <td>http://www.fiercepharma.com/marketing/tecfidera-gilenya-and-aubagio-s-3-way-battle-for-ms-share-about-to-get-more-interesting</td>\n",
       "      <td>news</td>\n",
       "      <td>Jobs Aubagio FierceBiotech Outsourcing increases Migraine Clara drugs Biogen Sanofi Allergan Subscriptions Vaccines Animal Launches Partnering DDF Regulatory GlaxoSmithKline Roche Minecraft kicks Marketing Legal CEO Supply sufferers scripts Drug Financials Digital Social Gilenya generics Newsletter RSS Media Diseases Advertising LinkedIn Staton Health Corporate Sales DTC Chain Safety Amgen Novartis Tecfidera Contact Infectious Actemra Delivery Deals nets Asia sales CAR-T Privacy Johnson Skip Advertise Home Tracy join Manage Pfizer Empathy Events Manufacturing Enbrel Analytics patients Takeda Buoyed Subscribe Twitter Data Excedrin Pharma</td>\n",
       "    </tr>\n",
       "    <tr>\n",
       "      <th>1</th>\n",
       "      <td>2</td>\n",
       "      <td>www.fiercepharma.com</td>\n",
       "      <td>http://www.fiercepharma.com/pharma/novo-equipped-to-weather-storm-u-s-diabetes-market-ceo-says</td>\n",
       "      <td>news</td>\n",
       "      <td>FDA Express Animal launches DDF Regulatory Roche Home RSS Media Xultophy Sales Chain Safety Skip Sorensen Manage risks Palmer Manufacturing Analytics Data Nordisk Jobs FierceBiotech Sanofi U.S. Adlyxin Launches CEO Legal Contact Social Newsletter Novo DTC Teva Infectious Delivery hundreds Deals GLP-1 Events Merck Alexion Pharma pressures Outsourcing vows Tagrisso Victoza Jorgensen Vaccines Eric Supply Digital Financials Scripts Advertising slashes Health financials BMS Lilly layoffs Asia Advertise Tecentriq Partnering Lars Subscriptions Marketing Drug Diseases Schultz LinkedIn ESMO Corporate Fruergaard Keytruda staffers Privacy plots Lundbeck Subscribe Twitter</td>\n",
       "    </tr>\n",
       "    <tr>\n",
       "      <th>2</th>\n",
       "      <td>3</td>\n",
       "      <td>www.fiercepharma.com</td>\n",
       "      <td>http://www.fiercepharma.com/pharma/another-exec-departs-troubled-endo-and-time-it-s-for-another-drugmaker</td>\n",
       "      <td>news</td>\n",
       "      <td>FDA Animal DDF Regulatory Bristol-Myers Home deaths RSS Abbott employees Media Sales Chain Safety Par Skip Manage DOJ Starboard Silva Manufacturing Analytics Data Jobs FierceBiotech Opdivo VRX shares Launches ENDP Pearson CEO Legal Squibb Contact Social Newsletter suits decimates investors Novo DTC strikes Infectious Delivery Deals Survival jobs Events Michael Pharma Campanelli Outsourcing Victoza Vaccines Endo Valeant Supply Digital Financials Advertising Health Senator Insys Lilly talks Asia Advertise DEPO injectables Carly Partnering whistleblowers documents people Subscriptions Marketing Drug Diseases LinkedIn Corporate Keytruda Helfand savings Privacy Depomed trials Subscribe Twitter</td>\n",
       "    </tr>\n",
       "    <tr>\n",
       "      <th>3</th>\n",
       "      <td>4</td>\n",
       "      <td>www.fiercepharma.com</td>\n",
       "      <td>http://www.fiercepharma.com/pharma/teva-buy-biosim-specialist-celltrion-it-wouldn-t-say-no</td>\n",
       "      <td>news</td>\n",
       "      <td>FDA Animal DDF Regulatory Bristol-Myers Roche Home deaths RSS employees Media Sales Chain Safety Rituxan Skip Manage DOJ Manufacturing Analytics Data Jobs FierceBiotech Opdivo shares Celltrion Remicade U.S. Launches lows Legal Lonza Squibb Contact Social Newsletter suits Novo DTC Teva Infectious Delivery Deals Herceptin Survival AstraZeneca jobs Events rights Subscribe Pharma Outsourcing Victoza Pharmaceutical Vaccines Supply Digital Financials generics Advertising Health Senator Insys Lilly Asia Advertise Carly Pfizer Partnering whistleblowers documents Subscriptions Marketing Can Drug Diseases LinkedIn Corporate biosimilars Keytruda Helfand savings Privacy trends lots trials Mylan Twitter</td>\n",
       "    </tr>\n",
       "    <tr>\n",
       "      <th>4</th>\n",
       "      <td>5</td>\n",
       "      <td>www.fiercepharma.com</td>\n",
       "      <td>http://www.fiercepharma.com/marketing/actress-marissa-tomei-partners-allergan-restasis-to-drive-dry-eye-awareness</td>\n",
       "      <td>news</td>\n",
       "      <td>Jobs FierceBiotech Outsourcing FDA Migraine Clara Xiidra Allergan CEO Subscriptions Vaccines Animal Aniston Launches Partnering DDF Regulatory GlaxoSmithKline Roche Oculeve Bulik Marketing Legal Jennifer Supply Minecraft sufferers Drug Financials Digital Social Home Newsletter RSS Contact Media Diseases Advertising LinkedIn Health Corporate Sales DTC Chain Safety Infectious Restasis Actemra Delivery Deals Asia Privacy CAR-T Johnson Skip Advertise join Manage Pfizer Empathy Beth Snyder Events Manufacturing patients Analytics Takeda Shire Subscribe Twitter Data Excedrin Pharma</td>\n",
       "    </tr>\n",
       "  </tbody>\n",
       "</table>\n",
       "</div>"
      ],
      "text/plain": [
       "   Webpage_id                Domain  \\\n",
       "0  1           www.fiercepharma.com   \n",
       "1  2           www.fiercepharma.com   \n",
       "2  3           www.fiercepharma.com   \n",
       "3  4           www.fiercepharma.com   \n",
       "4  5           www.fiercepharma.com   \n",
       "\n",
       "                                                                                                                             Url  \\\n",
       "0  http://www.fiercepharma.com/marketing/tecfidera-gilenya-and-aubagio-s-3-way-battle-for-ms-share-about-to-get-more-interesting   \n",
       "1  http://www.fiercepharma.com/pharma/novo-equipped-to-weather-storm-u-s-diabetes-market-ceo-says                                  \n",
       "2  http://www.fiercepharma.com/pharma/another-exec-departs-troubled-endo-and-time-it-s-for-another-drugmaker                       \n",
       "3  http://www.fiercepharma.com/pharma/teva-buy-biosim-specialist-celltrion-it-wouldn-t-say-no                                      \n",
       "4  http://www.fiercepharma.com/marketing/actress-marissa-tomei-partners-allergan-restasis-to-drive-dry-eye-awareness               \n",
       "\n",
       "    Tag  \\\n",
       "0  news   \n",
       "1  news   \n",
       "2  news   \n",
       "3  news   \n",
       "4  news   \n",
       "\n",
       "                                                                                                                                                                                                                                                                                                                                                                                                                                                                                                                                                                                                                                                                                                                      keywords  \n",
       "0  Jobs Aubagio FierceBiotech Outsourcing increases Migraine Clara drugs Biogen Sanofi Allergan Subscriptions Vaccines Animal Launches Partnering DDF Regulatory GlaxoSmithKline Roche Minecraft kicks Marketing Legal CEO Supply sufferers scripts Drug Financials Digital Social Gilenya generics Newsletter RSS Media Diseases Advertising LinkedIn Staton Health Corporate Sales DTC Chain Safety Amgen Novartis Tecfidera Contact Infectious Actemra Delivery Deals nets Asia sales CAR-T Privacy Johnson Skip Advertise Home Tracy join Manage Pfizer Empathy Events Manufacturing Enbrel Analytics patients Takeda Buoyed Subscribe Twitter Data Excedrin Pharma                                                         \n",
       "1  FDA Express Animal launches DDF Regulatory Roche Home RSS Media Xultophy Sales Chain Safety Skip Sorensen Manage risks Palmer Manufacturing Analytics Data Nordisk Jobs FierceBiotech Sanofi U.S. Adlyxin Launches CEO Legal Contact Social Newsletter Novo DTC Teva Infectious Delivery hundreds Deals GLP-1 Events Merck Alexion Pharma pressures Outsourcing vows Tagrisso Victoza Jorgensen Vaccines Eric Supply Digital Financials Scripts Advertising slashes Health financials BMS Lilly layoffs Asia Advertise Tecentriq Partnering Lars Subscriptions Marketing Drug Diseases Schultz LinkedIn ESMO Corporate Fruergaard Keytruda staffers Privacy plots Lundbeck Subscribe Twitter                                 \n",
       "2  FDA Animal DDF Regulatory Bristol-Myers Home deaths RSS Abbott employees Media Sales Chain Safety Par Skip Manage DOJ Starboard Silva Manufacturing Analytics Data Jobs FierceBiotech Opdivo VRX shares Launches ENDP Pearson CEO Legal Squibb Contact Social Newsletter suits decimates investors Novo DTC strikes Infectious Delivery Deals Survival jobs Events Michael Pharma Campanelli Outsourcing Victoza Vaccines Endo Valeant Supply Digital Financials Advertising Health Senator Insys Lilly talks Asia Advertise DEPO injectables Carly Partnering whistleblowers documents people Subscriptions Marketing Drug Diseases LinkedIn Corporate Keytruda Helfand savings Privacy Depomed trials Subscribe Twitter    \n",
       "3  FDA Animal DDF Regulatory Bristol-Myers Roche Home deaths RSS employees Media Sales Chain Safety Rituxan Skip Manage DOJ Manufacturing Analytics Data Jobs FierceBiotech Opdivo shares Celltrion Remicade U.S. Launches lows Legal Lonza Squibb Contact Social Newsletter suits Novo DTC Teva Infectious Delivery Deals Herceptin Survival AstraZeneca jobs Events rights Subscribe Pharma Outsourcing Victoza Pharmaceutical Vaccines Supply Digital Financials generics Advertising Health Senator Insys Lilly Asia Advertise Carly Pfizer Partnering whistleblowers documents Subscriptions Marketing Can Drug Diseases LinkedIn Corporate biosimilars Keytruda Helfand savings Privacy trends lots trials Mylan Twitter  \n",
       "4  Jobs FierceBiotech Outsourcing FDA Migraine Clara Xiidra Allergan CEO Subscriptions Vaccines Animal Aniston Launches Partnering DDF Regulatory GlaxoSmithKline Roche Oculeve Bulik Marketing Legal Jennifer Supply Minecraft sufferers Drug Financials Digital Social Home Newsletter RSS Contact Media Diseases Advertising LinkedIn Health Corporate Sales DTC Chain Safety Infectious Restasis Actemra Delivery Deals Asia Privacy CAR-T Johnson Skip Advertise join Manage Pfizer Empathy Beth Snyder Events Manufacturing patients Analytics Takeda Shire Subscribe Twitter Data Excedrin Pharma                                                                                                                        "
      ]
     },
     "execution_count": 47,
     "metadata": {},
     "output_type": "execute_result"
    }
   ],
   "source": [
    "train_final.head()"
   ]
  },
  {
   "cell_type": "code",
   "execution_count": 53,
   "metadata": {},
   "outputs": [
    {
     "data": {
      "text/plain": [
       "'http://www.prnewswire.com/news-releases/juris-master-program-for-non-lawyers-now-offering-online-study-for-health-care-and-business-concentrations-300391087.html'"
      ]
     },
     "execution_count": 53,
     "metadata": {},
     "output_type": "execute_result"
    }
   ],
   "source": [
    "z = train_final.loc[234,\"Url\"]\n",
    "z"
   ]
  },
  {
   "cell_type": "code",
   "execution_count": 58,
   "metadata": {},
   "outputs": [
    {
     "data": {
      "text/plain": [
       "['www.prnewswire.com',\n",
       " 'news-releases',\n",
       " 'juris-master-program-for-non-lawyers-now-offering-online-study-for-health-care-and-business-concentrations-300391087.html']"
      ]
     },
     "execution_count": 58,
     "metadata": {},
     "output_type": "execute_result"
    }
   ],
   "source": [
    "z.split(\"/\")[2:]"
   ]
  },
  {
   "cell_type": "code",
   "execution_count": 62,
   "metadata": {},
   "outputs": [
    {
     "data": {
      "text/plain": [
       "'www.prnewswire.com news-releases juris-master-program-for-non-lawyers-now-offering-online-study-for-health-care-and-business-concentrations-300391087.html'"
      ]
     },
     "execution_count": 62,
     "metadata": {},
     "output_type": "execute_result"
    }
   ],
   "source": [
    "np.unique(\" \".join(z.split(\"/\")[2:]))[0]"
   ]
  },
  {
   "cell_type": "code",
   "execution_count": 59,
   "metadata": {},
   "outputs": [
    {
     "data": {
      "text/plain": [
       "'juris master program for non lawyers now offering online study for health care and business concentrations 300391087 html'"
      ]
     },
     "execution_count": 59,
     "metadata": {},
     "output_type": "execute_result"
    }
   ],
   "source": [
    "import re\n",
    "match = re.compile(r'\\W')\n",
    "match.sub(r' ', z.split(\"/\")[2:][2])"
   ]
  },
  {
   "cell_type": "code",
   "execution_count": 63,
   "metadata": {
    "collapsed": true
   },
   "outputs": [],
   "source": [
    "for i in range(train_final.shape[0]):\n",
    "    z = train_final.loc[i,\"Url\"]\n",
    "    z = np.unique(\" \".join(z.split(\"/\")[2:]))[0]\n",
    "    match = re.compile(r'\\W')\n",
    "    train_final.loc[i,\"domain_url_info\"] = match.sub(r' ', z)"
   ]
  },
  {
   "cell_type": "code",
   "execution_count": 64,
   "metadata": {},
   "outputs": [
    {
     "data": {
      "text/html": [
       "<div>\n",
       "<style>\n",
       "    .dataframe thead tr:only-child th {\n",
       "        text-align: right;\n",
       "    }\n",
       "\n",
       "    .dataframe thead th {\n",
       "        text-align: left;\n",
       "    }\n",
       "\n",
       "    .dataframe tbody tr th {\n",
       "        vertical-align: top;\n",
       "    }\n",
       "</style>\n",
       "<table border=\"1\" class=\"dataframe\">\n",
       "  <thead>\n",
       "    <tr style=\"text-align: right;\">\n",
       "      <th></th>\n",
       "      <th>Webpage_id</th>\n",
       "      <th>Domain</th>\n",
       "      <th>Url</th>\n",
       "      <th>Tag</th>\n",
       "      <th>keywords</th>\n",
       "      <th>domain_url_info</th>\n",
       "    </tr>\n",
       "  </thead>\n",
       "  <tbody>\n",
       "    <tr>\n",
       "      <th>0</th>\n",
       "      <td>1</td>\n",
       "      <td>www.fiercepharma.com</td>\n",
       "      <td>http://www.fiercepharma.com/marketing/tecfidera-gilenya-and-aubagio-s-3-way-battle-for-ms-share-about-to-get-more-interesting</td>\n",
       "      <td>news</td>\n",
       "      <td>Jobs Aubagio FierceBiotech Outsourcing increases Migraine Clara drugs Biogen Sanofi Allergan Subscriptions Vaccines Animal Launches Partnering DDF Regulatory GlaxoSmithKline Roche Minecraft kicks Marketing Legal CEO Supply sufferers scripts Drug Financials Digital Social Gilenya generics Newsletter RSS Media Diseases Advertising LinkedIn Staton Health Corporate Sales DTC Chain Safety Amgen Novartis Tecfidera Contact Infectious Actemra Delivery Deals nets Asia sales CAR-T Privacy Johnson Skip Advertise Home Tracy join Manage Pfizer Empathy Events Manufacturing Enbrel Analytics patients Takeda Buoyed Subscribe Twitter Data Excedrin Pharma</td>\n",
       "      <td>www fiercepharma com marketing tecfidera gilenya and aubagio s 3 way battle for ms share about to get more interesting</td>\n",
       "    </tr>\n",
       "    <tr>\n",
       "      <th>1</th>\n",
       "      <td>2</td>\n",
       "      <td>www.fiercepharma.com</td>\n",
       "      <td>http://www.fiercepharma.com/pharma/novo-equipped-to-weather-storm-u-s-diabetes-market-ceo-says</td>\n",
       "      <td>news</td>\n",
       "      <td>FDA Express Animal launches DDF Regulatory Roche Home RSS Media Xultophy Sales Chain Safety Skip Sorensen Manage risks Palmer Manufacturing Analytics Data Nordisk Jobs FierceBiotech Sanofi U.S. Adlyxin Launches CEO Legal Contact Social Newsletter Novo DTC Teva Infectious Delivery hundreds Deals GLP-1 Events Merck Alexion Pharma pressures Outsourcing vows Tagrisso Victoza Jorgensen Vaccines Eric Supply Digital Financials Scripts Advertising slashes Health financials BMS Lilly layoffs Asia Advertise Tecentriq Partnering Lars Subscriptions Marketing Drug Diseases Schultz LinkedIn ESMO Corporate Fruergaard Keytruda staffers Privacy plots Lundbeck Subscribe Twitter</td>\n",
       "      <td>www fiercepharma com pharma novo equipped to weather storm u s diabetes market ceo says</td>\n",
       "    </tr>\n",
       "    <tr>\n",
       "      <th>2</th>\n",
       "      <td>3</td>\n",
       "      <td>www.fiercepharma.com</td>\n",
       "      <td>http://www.fiercepharma.com/pharma/another-exec-departs-troubled-endo-and-time-it-s-for-another-drugmaker</td>\n",
       "      <td>news</td>\n",
       "      <td>FDA Animal DDF Regulatory Bristol-Myers Home deaths RSS Abbott employees Media Sales Chain Safety Par Skip Manage DOJ Starboard Silva Manufacturing Analytics Data Jobs FierceBiotech Opdivo VRX shares Launches ENDP Pearson CEO Legal Squibb Contact Social Newsletter suits decimates investors Novo DTC strikes Infectious Delivery Deals Survival jobs Events Michael Pharma Campanelli Outsourcing Victoza Vaccines Endo Valeant Supply Digital Financials Advertising Health Senator Insys Lilly talks Asia Advertise DEPO injectables Carly Partnering whistleblowers documents people Subscriptions Marketing Drug Diseases LinkedIn Corporate Keytruda Helfand savings Privacy Depomed trials Subscribe Twitter</td>\n",
       "      <td>www fiercepharma com pharma another exec departs troubled endo and time it s for another drugmaker</td>\n",
       "    </tr>\n",
       "    <tr>\n",
       "      <th>3</th>\n",
       "      <td>4</td>\n",
       "      <td>www.fiercepharma.com</td>\n",
       "      <td>http://www.fiercepharma.com/pharma/teva-buy-biosim-specialist-celltrion-it-wouldn-t-say-no</td>\n",
       "      <td>news</td>\n",
       "      <td>FDA Animal DDF Regulatory Bristol-Myers Roche Home deaths RSS employees Media Sales Chain Safety Rituxan Skip Manage DOJ Manufacturing Analytics Data Jobs FierceBiotech Opdivo shares Celltrion Remicade U.S. Launches lows Legal Lonza Squibb Contact Social Newsletter suits Novo DTC Teva Infectious Delivery Deals Herceptin Survival AstraZeneca jobs Events rights Subscribe Pharma Outsourcing Victoza Pharmaceutical Vaccines Supply Digital Financials generics Advertising Health Senator Insys Lilly Asia Advertise Carly Pfizer Partnering whistleblowers documents Subscriptions Marketing Can Drug Diseases LinkedIn Corporate biosimilars Keytruda Helfand savings Privacy trends lots trials Mylan Twitter</td>\n",
       "      <td>www fiercepharma com pharma teva buy biosim specialist celltrion it wouldn t say no</td>\n",
       "    </tr>\n",
       "    <tr>\n",
       "      <th>4</th>\n",
       "      <td>5</td>\n",
       "      <td>www.fiercepharma.com</td>\n",
       "      <td>http://www.fiercepharma.com/marketing/actress-marissa-tomei-partners-allergan-restasis-to-drive-dry-eye-awareness</td>\n",
       "      <td>news</td>\n",
       "      <td>Jobs FierceBiotech Outsourcing FDA Migraine Clara Xiidra Allergan CEO Subscriptions Vaccines Animal Aniston Launches Partnering DDF Regulatory GlaxoSmithKline Roche Oculeve Bulik Marketing Legal Jennifer Supply Minecraft sufferers Drug Financials Digital Social Home Newsletter RSS Contact Media Diseases Advertising LinkedIn Health Corporate Sales DTC Chain Safety Infectious Restasis Actemra Delivery Deals Asia Privacy CAR-T Johnson Skip Advertise join Manage Pfizer Empathy Beth Snyder Events Manufacturing patients Analytics Takeda Shire Subscribe Twitter Data Excedrin Pharma</td>\n",
       "      <td>www fiercepharma com marketing actress marissa tomei partners allergan restasis to drive dry eye awareness</td>\n",
       "    </tr>\n",
       "  </tbody>\n",
       "</table>\n",
       "</div>"
      ],
      "text/plain": [
       "   Webpage_id                Domain  \\\n",
       "0  1           www.fiercepharma.com   \n",
       "1  2           www.fiercepharma.com   \n",
       "2  3           www.fiercepharma.com   \n",
       "3  4           www.fiercepharma.com   \n",
       "4  5           www.fiercepharma.com   \n",
       "\n",
       "                                                                                                                             Url  \\\n",
       "0  http://www.fiercepharma.com/marketing/tecfidera-gilenya-and-aubagio-s-3-way-battle-for-ms-share-about-to-get-more-interesting   \n",
       "1  http://www.fiercepharma.com/pharma/novo-equipped-to-weather-storm-u-s-diabetes-market-ceo-says                                  \n",
       "2  http://www.fiercepharma.com/pharma/another-exec-departs-troubled-endo-and-time-it-s-for-another-drugmaker                       \n",
       "3  http://www.fiercepharma.com/pharma/teva-buy-biosim-specialist-celltrion-it-wouldn-t-say-no                                      \n",
       "4  http://www.fiercepharma.com/marketing/actress-marissa-tomei-partners-allergan-restasis-to-drive-dry-eye-awareness               \n",
       "\n",
       "    Tag  \\\n",
       "0  news   \n",
       "1  news   \n",
       "2  news   \n",
       "3  news   \n",
       "4  news   \n",
       "\n",
       "                                                                                                                                                                                                                                                                                                                                                                                                                                                                                                                                                                                                                                                                                                                      keywords  \\\n",
       "0  Jobs Aubagio FierceBiotech Outsourcing increases Migraine Clara drugs Biogen Sanofi Allergan Subscriptions Vaccines Animal Launches Partnering DDF Regulatory GlaxoSmithKline Roche Minecraft kicks Marketing Legal CEO Supply sufferers scripts Drug Financials Digital Social Gilenya generics Newsletter RSS Media Diseases Advertising LinkedIn Staton Health Corporate Sales DTC Chain Safety Amgen Novartis Tecfidera Contact Infectious Actemra Delivery Deals nets Asia sales CAR-T Privacy Johnson Skip Advertise Home Tracy join Manage Pfizer Empathy Events Manufacturing Enbrel Analytics patients Takeda Buoyed Subscribe Twitter Data Excedrin Pharma                                                          \n",
       "1  FDA Express Animal launches DDF Regulatory Roche Home RSS Media Xultophy Sales Chain Safety Skip Sorensen Manage risks Palmer Manufacturing Analytics Data Nordisk Jobs FierceBiotech Sanofi U.S. Adlyxin Launches CEO Legal Contact Social Newsletter Novo DTC Teva Infectious Delivery hundreds Deals GLP-1 Events Merck Alexion Pharma pressures Outsourcing vows Tagrisso Victoza Jorgensen Vaccines Eric Supply Digital Financials Scripts Advertising slashes Health financials BMS Lilly layoffs Asia Advertise Tecentriq Partnering Lars Subscriptions Marketing Drug Diseases Schultz LinkedIn ESMO Corporate Fruergaard Keytruda staffers Privacy plots Lundbeck Subscribe Twitter                                  \n",
       "2  FDA Animal DDF Regulatory Bristol-Myers Home deaths RSS Abbott employees Media Sales Chain Safety Par Skip Manage DOJ Starboard Silva Manufacturing Analytics Data Jobs FierceBiotech Opdivo VRX shares Launches ENDP Pearson CEO Legal Squibb Contact Social Newsletter suits decimates investors Novo DTC strikes Infectious Delivery Deals Survival jobs Events Michael Pharma Campanelli Outsourcing Victoza Vaccines Endo Valeant Supply Digital Financials Advertising Health Senator Insys Lilly talks Asia Advertise DEPO injectables Carly Partnering whistleblowers documents people Subscriptions Marketing Drug Diseases LinkedIn Corporate Keytruda Helfand savings Privacy Depomed trials Subscribe Twitter     \n",
       "3  FDA Animal DDF Regulatory Bristol-Myers Roche Home deaths RSS employees Media Sales Chain Safety Rituxan Skip Manage DOJ Manufacturing Analytics Data Jobs FierceBiotech Opdivo shares Celltrion Remicade U.S. Launches lows Legal Lonza Squibb Contact Social Newsletter suits Novo DTC Teva Infectious Delivery Deals Herceptin Survival AstraZeneca jobs Events rights Subscribe Pharma Outsourcing Victoza Pharmaceutical Vaccines Supply Digital Financials generics Advertising Health Senator Insys Lilly Asia Advertise Carly Pfizer Partnering whistleblowers documents Subscriptions Marketing Can Drug Diseases LinkedIn Corporate biosimilars Keytruda Helfand savings Privacy trends lots trials Mylan Twitter   \n",
       "4  Jobs FierceBiotech Outsourcing FDA Migraine Clara Xiidra Allergan CEO Subscriptions Vaccines Animal Aniston Launches Partnering DDF Regulatory GlaxoSmithKline Roche Oculeve Bulik Marketing Legal Jennifer Supply Minecraft sufferers Drug Financials Digital Social Home Newsletter RSS Contact Media Diseases Advertising LinkedIn Health Corporate Sales DTC Chain Safety Infectious Restasis Actemra Delivery Deals Asia Privacy CAR-T Johnson Skip Advertise join Manage Pfizer Empathy Beth Snyder Events Manufacturing patients Analytics Takeda Shire Subscribe Twitter Data Excedrin Pharma                                                                                                                         \n",
       "\n",
       "                                                                                                          domain_url_info  \n",
       "0  www fiercepharma com marketing tecfidera gilenya and aubagio s 3 way battle for ms share about to get more interesting  \n",
       "1  www fiercepharma com pharma novo equipped to weather storm u s diabetes market ceo says                                 \n",
       "2  www fiercepharma com pharma another exec departs troubled endo and time it s for another drugmaker                      \n",
       "3  www fiercepharma com pharma teva buy biosim specialist celltrion it wouldn t say no                                     \n",
       "4  www fiercepharma com marketing actress marissa tomei partners allergan restasis to drive dry eye awareness              "
      ]
     },
     "execution_count": 64,
     "metadata": {},
     "output_type": "execute_result"
    }
   ],
   "source": [
    "train_final.head(5)"
   ]
  },
  {
   "cell_type": "code",
   "execution_count": 67,
   "metadata": {
    "collapsed": true
   },
   "outputs": [],
   "source": [
    "train_final1 = train_final.loc[:, [\"Webpage_id\", \"domain_url_info\", \"keywords\", \"Tag\"]]"
   ]
  },
  {
   "cell_type": "code",
   "execution_count": 68,
   "metadata": {},
   "outputs": [
    {
     "data": {
      "text/html": [
       "<div>\n",
       "<style>\n",
       "    .dataframe thead tr:only-child th {\n",
       "        text-align: right;\n",
       "    }\n",
       "\n",
       "    .dataframe thead th {\n",
       "        text-align: left;\n",
       "    }\n",
       "\n",
       "    .dataframe tbody tr th {\n",
       "        vertical-align: top;\n",
       "    }\n",
       "</style>\n",
       "<table border=\"1\" class=\"dataframe\">\n",
       "  <thead>\n",
       "    <tr style=\"text-align: right;\">\n",
       "      <th></th>\n",
       "      <th>Webpage_id</th>\n",
       "      <th>domain_url_info</th>\n",
       "      <th>keywords</th>\n",
       "      <th>Tag</th>\n",
       "    </tr>\n",
       "  </thead>\n",
       "  <tbody>\n",
       "    <tr>\n",
       "      <th>0</th>\n",
       "      <td>1</td>\n",
       "      <td>www fiercepharma com marketing tecfidera gilenya and aubagio s 3 way battle for ms share about to get more interesting</td>\n",
       "      <td>Jobs Aubagio FierceBiotech Outsourcing increases Migraine Clara drugs Biogen Sanofi Allergan Subscriptions Vaccines Animal Launches Partnering DDF Regulatory GlaxoSmithKline Roche Minecraft kicks Marketing Legal CEO Supply sufferers scripts Drug Financials Digital Social Gilenya generics Newsletter RSS Media Diseases Advertising LinkedIn Staton Health Corporate Sales DTC Chain Safety Amgen Novartis Tecfidera Contact Infectious Actemra Delivery Deals nets Asia sales CAR-T Privacy Johnson Skip Advertise Home Tracy join Manage Pfizer Empathy Events Manufacturing Enbrel Analytics patients Takeda Buoyed Subscribe Twitter Data Excedrin Pharma</td>\n",
       "      <td>news</td>\n",
       "    </tr>\n",
       "    <tr>\n",
       "      <th>1</th>\n",
       "      <td>2</td>\n",
       "      <td>www fiercepharma com pharma novo equipped to weather storm u s diabetes market ceo says</td>\n",
       "      <td>FDA Express Animal launches DDF Regulatory Roche Home RSS Media Xultophy Sales Chain Safety Skip Sorensen Manage risks Palmer Manufacturing Analytics Data Nordisk Jobs FierceBiotech Sanofi U.S. Adlyxin Launches CEO Legal Contact Social Newsletter Novo DTC Teva Infectious Delivery hundreds Deals GLP-1 Events Merck Alexion Pharma pressures Outsourcing vows Tagrisso Victoza Jorgensen Vaccines Eric Supply Digital Financials Scripts Advertising slashes Health financials BMS Lilly layoffs Asia Advertise Tecentriq Partnering Lars Subscriptions Marketing Drug Diseases Schultz LinkedIn ESMO Corporate Fruergaard Keytruda staffers Privacy plots Lundbeck Subscribe Twitter</td>\n",
       "      <td>news</td>\n",
       "    </tr>\n",
       "    <tr>\n",
       "      <th>2</th>\n",
       "      <td>3</td>\n",
       "      <td>www fiercepharma com pharma another exec departs troubled endo and time it s for another drugmaker</td>\n",
       "      <td>FDA Animal DDF Regulatory Bristol-Myers Home deaths RSS Abbott employees Media Sales Chain Safety Par Skip Manage DOJ Starboard Silva Manufacturing Analytics Data Jobs FierceBiotech Opdivo VRX shares Launches ENDP Pearson CEO Legal Squibb Contact Social Newsletter suits decimates investors Novo DTC strikes Infectious Delivery Deals Survival jobs Events Michael Pharma Campanelli Outsourcing Victoza Vaccines Endo Valeant Supply Digital Financials Advertising Health Senator Insys Lilly talks Asia Advertise DEPO injectables Carly Partnering whistleblowers documents people Subscriptions Marketing Drug Diseases LinkedIn Corporate Keytruda Helfand savings Privacy Depomed trials Subscribe Twitter</td>\n",
       "      <td>news</td>\n",
       "    </tr>\n",
       "    <tr>\n",
       "      <th>3</th>\n",
       "      <td>4</td>\n",
       "      <td>www fiercepharma com pharma teva buy biosim specialist celltrion it wouldn t say no</td>\n",
       "      <td>FDA Animal DDF Regulatory Bristol-Myers Roche Home deaths RSS employees Media Sales Chain Safety Rituxan Skip Manage DOJ Manufacturing Analytics Data Jobs FierceBiotech Opdivo shares Celltrion Remicade U.S. Launches lows Legal Lonza Squibb Contact Social Newsletter suits Novo DTC Teva Infectious Delivery Deals Herceptin Survival AstraZeneca jobs Events rights Subscribe Pharma Outsourcing Victoza Pharmaceutical Vaccines Supply Digital Financials generics Advertising Health Senator Insys Lilly Asia Advertise Carly Pfizer Partnering whistleblowers documents Subscriptions Marketing Can Drug Diseases LinkedIn Corporate biosimilars Keytruda Helfand savings Privacy trends lots trials Mylan Twitter</td>\n",
       "      <td>news</td>\n",
       "    </tr>\n",
       "    <tr>\n",
       "      <th>4</th>\n",
       "      <td>5</td>\n",
       "      <td>www fiercepharma com marketing actress marissa tomei partners allergan restasis to drive dry eye awareness</td>\n",
       "      <td>Jobs FierceBiotech Outsourcing FDA Migraine Clara Xiidra Allergan CEO Subscriptions Vaccines Animal Aniston Launches Partnering DDF Regulatory GlaxoSmithKline Roche Oculeve Bulik Marketing Legal Jennifer Supply Minecraft sufferers Drug Financials Digital Social Home Newsletter RSS Contact Media Diseases Advertising LinkedIn Health Corporate Sales DTC Chain Safety Infectious Restasis Actemra Delivery Deals Asia Privacy CAR-T Johnson Skip Advertise join Manage Pfizer Empathy Beth Snyder Events Manufacturing patients Analytics Takeda Shire Subscribe Twitter Data Excedrin Pharma</td>\n",
       "      <td>news</td>\n",
       "    </tr>\n",
       "  </tbody>\n",
       "</table>\n",
       "</div>"
      ],
      "text/plain": [
       "   Webpage_id  \\\n",
       "0  1            \n",
       "1  2            \n",
       "2  3            \n",
       "3  4            \n",
       "4  5            \n",
       "\n",
       "                                                                                                          domain_url_info  \\\n",
       "0  www fiercepharma com marketing tecfidera gilenya and aubagio s 3 way battle for ms share about to get more interesting   \n",
       "1  www fiercepharma com pharma novo equipped to weather storm u s diabetes market ceo says                                  \n",
       "2  www fiercepharma com pharma another exec departs troubled endo and time it s for another drugmaker                       \n",
       "3  www fiercepharma com pharma teva buy biosim specialist celltrion it wouldn t say no                                      \n",
       "4  www fiercepharma com marketing actress marissa tomei partners allergan restasis to drive dry eye awareness               \n",
       "\n",
       "                                                                                                                                                                                                                                                                                                                                                                                                                                                                                                                                                                                                                                                                                                                      keywords  \\\n",
       "0  Jobs Aubagio FierceBiotech Outsourcing increases Migraine Clara drugs Biogen Sanofi Allergan Subscriptions Vaccines Animal Launches Partnering DDF Regulatory GlaxoSmithKline Roche Minecraft kicks Marketing Legal CEO Supply sufferers scripts Drug Financials Digital Social Gilenya generics Newsletter RSS Media Diseases Advertising LinkedIn Staton Health Corporate Sales DTC Chain Safety Amgen Novartis Tecfidera Contact Infectious Actemra Delivery Deals nets Asia sales CAR-T Privacy Johnson Skip Advertise Home Tracy join Manage Pfizer Empathy Events Manufacturing Enbrel Analytics patients Takeda Buoyed Subscribe Twitter Data Excedrin Pharma                                                          \n",
       "1  FDA Express Animal launches DDF Regulatory Roche Home RSS Media Xultophy Sales Chain Safety Skip Sorensen Manage risks Palmer Manufacturing Analytics Data Nordisk Jobs FierceBiotech Sanofi U.S. Adlyxin Launches CEO Legal Contact Social Newsletter Novo DTC Teva Infectious Delivery hundreds Deals GLP-1 Events Merck Alexion Pharma pressures Outsourcing vows Tagrisso Victoza Jorgensen Vaccines Eric Supply Digital Financials Scripts Advertising slashes Health financials BMS Lilly layoffs Asia Advertise Tecentriq Partnering Lars Subscriptions Marketing Drug Diseases Schultz LinkedIn ESMO Corporate Fruergaard Keytruda staffers Privacy plots Lundbeck Subscribe Twitter                                  \n",
       "2  FDA Animal DDF Regulatory Bristol-Myers Home deaths RSS Abbott employees Media Sales Chain Safety Par Skip Manage DOJ Starboard Silva Manufacturing Analytics Data Jobs FierceBiotech Opdivo VRX shares Launches ENDP Pearson CEO Legal Squibb Contact Social Newsletter suits decimates investors Novo DTC strikes Infectious Delivery Deals Survival jobs Events Michael Pharma Campanelli Outsourcing Victoza Vaccines Endo Valeant Supply Digital Financials Advertising Health Senator Insys Lilly talks Asia Advertise DEPO injectables Carly Partnering whistleblowers documents people Subscriptions Marketing Drug Diseases LinkedIn Corporate Keytruda Helfand savings Privacy Depomed trials Subscribe Twitter     \n",
       "3  FDA Animal DDF Regulatory Bristol-Myers Roche Home deaths RSS employees Media Sales Chain Safety Rituxan Skip Manage DOJ Manufacturing Analytics Data Jobs FierceBiotech Opdivo shares Celltrion Remicade U.S. Launches lows Legal Lonza Squibb Contact Social Newsletter suits Novo DTC Teva Infectious Delivery Deals Herceptin Survival AstraZeneca jobs Events rights Subscribe Pharma Outsourcing Victoza Pharmaceutical Vaccines Supply Digital Financials generics Advertising Health Senator Insys Lilly Asia Advertise Carly Pfizer Partnering whistleblowers documents Subscriptions Marketing Can Drug Diseases LinkedIn Corporate biosimilars Keytruda Helfand savings Privacy trends lots trials Mylan Twitter   \n",
       "4  Jobs FierceBiotech Outsourcing FDA Migraine Clara Xiidra Allergan CEO Subscriptions Vaccines Animal Aniston Launches Partnering DDF Regulatory GlaxoSmithKline Roche Oculeve Bulik Marketing Legal Jennifer Supply Minecraft sufferers Drug Financials Digital Social Home Newsletter RSS Contact Media Diseases Advertising LinkedIn Health Corporate Sales DTC Chain Safety Infectious Restasis Actemra Delivery Deals Asia Privacy CAR-T Johnson Skip Advertise join Manage Pfizer Empathy Beth Snyder Events Manufacturing patients Analytics Takeda Shire Subscribe Twitter Data Excedrin Pharma                                                                                                                         \n",
       "\n",
       "    Tag  \n",
       "0  news  \n",
       "1  news  \n",
       "2  news  \n",
       "3  news  \n",
       "4  news  "
      ]
     },
     "execution_count": 68,
     "metadata": {},
     "output_type": "execute_result"
    }
   ],
   "source": [
    "train_final1.head()"
   ]
  },
  {
   "cell_type": "code",
   "execution_count": 69,
   "metadata": {
    "collapsed": true
   },
   "outputs": [],
   "source": [
    "train_final1.to_csv(\"train_final1.csv\")"
   ]
  },
  {
   "cell_type": "code",
   "execution_count": 71,
   "metadata": {},
   "outputs": [
    {
     "data": {
      "text/html": [
       "<div>\n",
       "<style>\n",
       "    .dataframe thead tr:only-child th {\n",
       "        text-align: right;\n",
       "    }\n",
       "\n",
       "    .dataframe thead th {\n",
       "        text-align: left;\n",
       "    }\n",
       "\n",
       "    .dataframe tbody tr th {\n",
       "        vertical-align: top;\n",
       "    }\n",
       "</style>\n",
       "<table border=\"1\" class=\"dataframe\">\n",
       "  <thead>\n",
       "    <tr style=\"text-align: right;\">\n",
       "      <th></th>\n",
       "      <th>Webpage_id</th>\n",
       "      <th>Domain</th>\n",
       "      <th>Url</th>\n",
       "    </tr>\n",
       "  </thead>\n",
       "  <tbody>\n",
       "    <tr>\n",
       "      <th>0</th>\n",
       "      <td>31</td>\n",
       "      <td>isrctn.com</td>\n",
       "      <td>http://www.isrctn.com/ISRCTN57801413</td>\n",
       "    </tr>\n",
       "    <tr>\n",
       "      <th>1</th>\n",
       "      <td>32</td>\n",
       "      <td>www.clinicaltrialsregister.eu</td>\n",
       "      <td>https://www.clinicaltrialsregister.eu/ctr-search/trial/2006-006214-16/GB</td>\n",
       "    </tr>\n",
       "    <tr>\n",
       "      <th>2</th>\n",
       "      <td>33</td>\n",
       "      <td>www.clinicaltrialsregister.eu</td>\n",
       "      <td>https://www.clinicaltrialsregister.eu/ctr-search/trial/2006-004265-34/LT</td>\n",
       "    </tr>\n",
       "    <tr>\n",
       "      <th>3</th>\n",
       "      <td>34</td>\n",
       "      <td>www.clinicaltrialsregister.eu</td>\n",
       "      <td>https://www.clinicaltrialsregister.eu/ctr-search/trial/2010-022183-12/IT</td>\n",
       "    </tr>\n",
       "    <tr>\n",
       "      <th>4</th>\n",
       "      <td>35</td>\n",
       "      <td>www.clinicaltrialsregister.eu</td>\n",
       "      <td>https://www.clinicaltrialsregister.eu/ctr-search/trial/2010-021349-36/NL</td>\n",
       "    </tr>\n",
       "  </tbody>\n",
       "</table>\n",
       "</div>"
      ],
      "text/plain": [
       "   Webpage_id                         Domain  \\\n",
       "0  31          isrctn.com                      \n",
       "1  32          www.clinicaltrialsregister.eu   \n",
       "2  33          www.clinicaltrialsregister.eu   \n",
       "3  34          www.clinicaltrialsregister.eu   \n",
       "4  35          www.clinicaltrialsregister.eu   \n",
       "\n",
       "                                                                        Url  \n",
       "0  http://www.isrctn.com/ISRCTN57801413                                      \n",
       "1  https://www.clinicaltrialsregister.eu/ctr-search/trial/2006-006214-16/GB  \n",
       "2  https://www.clinicaltrialsregister.eu/ctr-search/trial/2006-004265-34/LT  \n",
       "3  https://www.clinicaltrialsregister.eu/ctr-search/trial/2010-022183-12/IT  \n",
       "4  https://www.clinicaltrialsregister.eu/ctr-search/trial/2010-021349-36/NL  "
      ]
     },
     "execution_count": 71,
     "metadata": {},
     "output_type": "execute_result"
    }
   ],
   "source": [
    "test = pd.read_csv(\"test_nvPHrOx.csv\")\n",
    "test.head()"
   ]
  },
  {
   "cell_type": "code",
   "execution_count": 72,
   "metadata": {},
   "outputs": [
    {
     "data": {
      "text/plain": [
       "25787"
      ]
     },
     "execution_count": 72,
     "metadata": {},
     "output_type": "execute_result"
    }
   ],
   "source": [
    "test_final = pd.merge(test, html_chunk1,on=\"Webpage_id\")"
   ]
  },
  {
   "cell_type": "code",
   "execution_count": 75,
   "metadata": {
    "collapsed": true
   },
   "outputs": [],
   "source": [
    "from dask.distributed import Client\n",
    "import dask.dataframe as dd\n",
    "import dask_ml.joblib\n",
    "from sklearn.externals.joblib import parallel_backend\n",
    "client = Client()"
   ]
  },
  {
   "cell_type": "code",
   "execution_count": 1,
   "metadata": {
    "collapsed": true
   },
   "outputs": [],
   "source": [
    "#with parallel_backend('dask'):\n",
    "#    dd = pd.read_csv(\"./train/html_data.csv\")"
   ]
  },
  {
   "cell_type": "code",
   "execution_count": 5,
   "metadata": {},
   "outputs": [
    {
     "data": {
      "text/html": [
       "<div>\n",
       "<style>\n",
       "    .dataframe thead tr:only-child th {\n",
       "        text-align: right;\n",
       "    }\n",
       "\n",
       "    .dataframe thead th {\n",
       "        text-align: left;\n",
       "    }\n",
       "\n",
       "    .dataframe tbody tr th {\n",
       "        vertical-align: top;\n",
       "    }\n",
       "</style>\n",
       "<table border=\"1\" class=\"dataframe\">\n",
       "  <thead>\n",
       "    <tr style=\"text-align: right;\">\n",
       "      <th></th>\n",
       "      <th>id</th>\n",
       "      <th>name</th>\n",
       "    </tr>\n",
       "  </thead>\n",
       "  <tbody>\n",
       "    <tr>\n",
       "      <th>0</th>\n",
       "      <td>1</td>\n",
       "      <td>a</td>\n",
       "    </tr>\n",
       "    <tr>\n",
       "      <th>1</th>\n",
       "      <td>2</td>\n",
       "      <td>b</td>\n",
       "    </tr>\n",
       "    <tr>\n",
       "      <th>2</th>\n",
       "      <td>3</td>\n",
       "      <td>c</td>\n",
       "    </tr>\n",
       "    <tr>\n",
       "      <th>3</th>\n",
       "      <td>4</td>\n",
       "      <td>d</td>\n",
       "    </tr>\n",
       "  </tbody>\n",
       "</table>\n",
       "</div>"
      ],
      "text/plain": [
       "   id name\n",
       "0  1   a  \n",
       "1  2   b  \n",
       "2  3   c  \n",
       "3  4   d  "
      ]
     },
     "execution_count": 5,
     "metadata": {},
     "output_type": "execute_result"
    }
   ],
   "source": [
    "fd = pd.DataFrame({'id' :[1,2,3,4],\"name\":['a','b','c','d']})\n",
    "fd"
   ]
  },
  {
   "cell_type": "code",
   "execution_count": 7,
   "metadata": {
    "collapsed": true
   },
   "outputs": [],
   "source": [
    "fd.to_csv(\"fd.csv\")"
   ]
  },
  {
   "cell_type": "code",
   "execution_count": 47,
   "metadata": {
    "collapsed": true
   },
   "outputs": [],
   "source": [
    "import csv\n",
    "file_reader= open('fd.csv', \"rt\", encoding='ascii')\n",
    "read = csv.reader(file_reader)"
   ]
  },
  {
   "cell_type": "code",
   "execution_count": 52,
   "metadata": {},
   "outputs": [
    {
     "name": "stdout",
     "output_type": "stream",
     "text": [
      "['', 'id', 'name']\n",
      "['0', '1', 'a']\n",
      "['1', '2', 'b']\n",
      "['2', '3', 'c']\n",
      "['3', '4', 'd']\n"
     ]
    }
   ],
   "source": [
    "for row in read:\n",
    "    print(row)"
   ]
  },
  {
   "cell_type": "code",
   "execution_count": null,
   "metadata": {
    "collapsed": true
   },
   "outputs": [],
   "source": []
  },
  {
   "cell_type": "code",
   "execution_count": 54,
   "metadata": {
    "collapsed": true
   },
   "outputs": [],
   "source": [
    "#make a empty data to add HTML_data in it\n",
    "html_final = pd.DataFrame()\n",
    "html_final.Columns = ['Webpage_id','keywords']"
   ]
  },
  {
   "cell_type": "code",
   "execution_count": 59,
   "metadata": {},
   "outputs": [
    {
     "data": {
      "text/plain": [
       "100000000"
      ]
     },
     "execution_count": 59,
     "metadata": {},
     "output_type": "execute_result"
    }
   ],
   "source": [
    "import sys\n",
    "csv.field_size_limit(100000000)\n",
    "#csv.field_size_limit(sys.maxsize)"
   ]
  },
  {
   "cell_type": "code",
   "execution_count": 60,
   "metadata": {
    "collapsed": true
   },
   "outputs": [],
   "source": [
    "import csv\n",
    "file_reader= open('./train/html_data.csv', \"rt\", encoding='utf8')\n",
    "read = csv.reader(file_reader)"
   ]
  },
  {
   "cell_type": "code",
   "execution_count": 61,
   "metadata": {
    "collapsed": true
   },
   "outputs": [],
   "source": [
    "i = 0\n",
    "for row in read:\n",
    "    html_final.loc[i,\"Webpage_id\"] = row[0]\n",
    "    html_final.loc[i,\"keywords\"] = make_BOW(row[1])\n",
    "    i += 1"
   ]
  },
  {
   "cell_type": "code",
   "execution_count": 64,
   "metadata": {
    "collapsed": true
   },
   "outputs": [],
   "source": [
    "html_final.to_csv(\"html_csv.csv\")"
   ]
  },
  {
   "cell_type": "code",
   "execution_count": 65,
   "metadata": {},
   "outputs": [
    {
     "data": {
      "text/plain": [
       "(79346, 2)"
      ]
     },
     "execution_count": 65,
     "metadata": {},
     "output_type": "execute_result"
    }
   ],
   "source": [
    "html_final.shape"
   ]
  },
  {
   "cell_type": "code",
   "execution_count": 66,
   "metadata": {},
   "outputs": [
    {
     "data": {
      "text/plain": [
       "(53447, 4)"
      ]
     },
     "execution_count": 66,
     "metadata": {},
     "output_type": "execute_result"
    }
   ],
   "source": [
    "train.shape"
   ]
  },
  {
   "cell_type": "code",
   "execution_count": null,
   "metadata": {
    "collapsed": true
   },
   "outputs": [],
   "source": []
  },
  {
   "cell_type": "code",
   "execution_count": 72,
   "metadata": {},
   "outputs": [
    {
     "data": {
      "text/plain": [
       "Index(['Webpage_id', 'Domain', 'Url', 'Tag'], dtype='object')"
      ]
     },
     "execution_count": 72,
     "metadata": {},
     "output_type": "execute_result"
    }
   ],
   "source": [
    "train.columns"
   ]
  },
  {
   "cell_type": "code",
   "execution_count": 74,
   "metadata": {},
   "outputs": [
    {
     "data": {
      "text/plain": [
       "Index(['Webpage_id', 'keywords'], dtype='object')"
      ]
     },
     "execution_count": 74,
     "metadata": {},
     "output_type": "execute_result"
    }
   ],
   "source": [
    "html_final.columns"
   ]
  },
  {
   "cell_type": "code",
   "execution_count": 76,
   "metadata": {},
   "outputs": [
    {
     "data": {
      "text/html": [
       "<div>\n",
       "<style>\n",
       "    .dataframe thead tr:only-child th {\n",
       "        text-align: right;\n",
       "    }\n",
       "\n",
       "    .dataframe thead th {\n",
       "        text-align: left;\n",
       "    }\n",
       "\n",
       "    .dataframe tbody tr th {\n",
       "        vertical-align: top;\n",
       "    }\n",
       "</style>\n",
       "<table border=\"1\" class=\"dataframe\">\n",
       "  <thead>\n",
       "    <tr style=\"text-align: right;\">\n",
       "      <th></th>\n",
       "      <th>Webpage_id</th>\n",
       "      <th>keywords</th>\n",
       "    </tr>\n",
       "  </thead>\n",
       "  <tbody>\n",
       "    <tr>\n",
       "      <th>1</th>\n",
       "      <td>1</td>\n",
       "      <td>FierceBiotech Subscribe Pharma Skip LinkedIn Twitter Events DDF Jobs Regulatory</td>\n",
       "    </tr>\n",
       "    <tr>\n",
       "      <th>2</th>\n",
       "      <td>2</td>\n",
       "      <td>FierceBiotech Subscribe Pharma Skip LinkedIn Twitter Events DDF Jobs Regulatory</td>\n",
       "    </tr>\n",
       "    <tr>\n",
       "      <th>3</th>\n",
       "      <td>3</td>\n",
       "      <td>FierceBiotech Subscribe Pharma Skip LinkedIn Twitter Events DDF Jobs Regulatory</td>\n",
       "    </tr>\n",
       "    <tr>\n",
       "      <th>4</th>\n",
       "      <td>4</td>\n",
       "      <td>FierceBiotech Subscribe Pharma Skip LinkedIn Twitter Events DDF Jobs Regulatory</td>\n",
       "    </tr>\n",
       "    <tr>\n",
       "      <th>5</th>\n",
       "      <td>5</td>\n",
       "      <td>FierceBiotech Subscribe Pharma Skip LinkedIn Twitter Events DDF Jobs Regulatory</td>\n",
       "    </tr>\n",
       "  </tbody>\n",
       "</table>\n",
       "</div>"
      ],
      "text/plain": [
       "  Webpage_id  \\\n",
       "1  1           \n",
       "2  2           \n",
       "3  3           \n",
       "4  4           \n",
       "5  5           \n",
       "\n",
       "                                                                          keywords  \n",
       "1  FierceBiotech Subscribe Pharma Skip LinkedIn Twitter Events DDF Jobs Regulatory  \n",
       "2  FierceBiotech Subscribe Pharma Skip LinkedIn Twitter Events DDF Jobs Regulatory  \n",
       "3  FierceBiotech Subscribe Pharma Skip LinkedIn Twitter Events DDF Jobs Regulatory  \n",
       "4  FierceBiotech Subscribe Pharma Skip LinkedIn Twitter Events DDF Jobs Regulatory  \n",
       "5  FierceBiotech Subscribe Pharma Skip LinkedIn Twitter Events DDF Jobs Regulatory  "
      ]
     },
     "execution_count": 76,
     "metadata": {},
     "output_type": "execute_result"
    }
   ],
   "source": [
    "html_final = html_final.loc[1:,:]\n",
    "html_final.head()"
   ]
  },
  {
   "cell_type": "code",
   "execution_count": 77,
   "metadata": {},
   "outputs": [
    {
     "data": {
      "text/html": [
       "<div>\n",
       "<style>\n",
       "    .dataframe thead tr:only-child th {\n",
       "        text-align: right;\n",
       "    }\n",
       "\n",
       "    .dataframe thead th {\n",
       "        text-align: left;\n",
       "    }\n",
       "\n",
       "    .dataframe tbody tr th {\n",
       "        vertical-align: top;\n",
       "    }\n",
       "</style>\n",
       "<table border=\"1\" class=\"dataframe\">\n",
       "  <thead>\n",
       "    <tr style=\"text-align: right;\">\n",
       "      <th></th>\n",
       "      <th>Webpage_id</th>\n",
       "      <th>Domain</th>\n",
       "      <th>Url</th>\n",
       "      <th>Tag</th>\n",
       "    </tr>\n",
       "  </thead>\n",
       "  <tbody>\n",
       "    <tr>\n",
       "      <th>0</th>\n",
       "      <td>1</td>\n",
       "      <td>www.fiercepharma.com</td>\n",
       "      <td>http://www.fiercepharma.com/marketing/tecfidera-gilenya-and-aubagio-s-3-way-battle-for-ms-share-about-to-get-more-interesting</td>\n",
       "      <td>news</td>\n",
       "    </tr>\n",
       "    <tr>\n",
       "      <th>1</th>\n",
       "      <td>2</td>\n",
       "      <td>www.fiercepharma.com</td>\n",
       "      <td>http://www.fiercepharma.com/pharma/novo-equipped-to-weather-storm-u-s-diabetes-market-ceo-says</td>\n",
       "      <td>news</td>\n",
       "    </tr>\n",
       "    <tr>\n",
       "      <th>2</th>\n",
       "      <td>3</td>\n",
       "      <td>www.fiercepharma.com</td>\n",
       "      <td>http://www.fiercepharma.com/pharma/another-exec-departs-troubled-endo-and-time-it-s-for-another-drugmaker</td>\n",
       "      <td>news</td>\n",
       "    </tr>\n",
       "    <tr>\n",
       "      <th>3</th>\n",
       "      <td>4</td>\n",
       "      <td>www.fiercepharma.com</td>\n",
       "      <td>http://www.fiercepharma.com/pharma/teva-buy-biosim-specialist-celltrion-it-wouldn-t-say-no</td>\n",
       "      <td>news</td>\n",
       "    </tr>\n",
       "    <tr>\n",
       "      <th>4</th>\n",
       "      <td>5</td>\n",
       "      <td>www.fiercepharma.com</td>\n",
       "      <td>http://www.fiercepharma.com/marketing/actress-marissa-tomei-partners-allergan-restasis-to-drive-dry-eye-awareness</td>\n",
       "      <td>news</td>\n",
       "    </tr>\n",
       "  </tbody>\n",
       "</table>\n",
       "</div>"
      ],
      "text/plain": [
       "   Webpage_id                Domain  \\\n",
       "0  1           www.fiercepharma.com   \n",
       "1  2           www.fiercepharma.com   \n",
       "2  3           www.fiercepharma.com   \n",
       "3  4           www.fiercepharma.com   \n",
       "4  5           www.fiercepharma.com   \n",
       "\n",
       "                                                                                                                             Url  \\\n",
       "0  http://www.fiercepharma.com/marketing/tecfidera-gilenya-and-aubagio-s-3-way-battle-for-ms-share-about-to-get-more-interesting   \n",
       "1  http://www.fiercepharma.com/pharma/novo-equipped-to-weather-storm-u-s-diabetes-market-ceo-says                                  \n",
       "2  http://www.fiercepharma.com/pharma/another-exec-departs-troubled-endo-and-time-it-s-for-another-drugmaker                       \n",
       "3  http://www.fiercepharma.com/pharma/teva-buy-biosim-specialist-celltrion-it-wouldn-t-say-no                                      \n",
       "4  http://www.fiercepharma.com/marketing/actress-marissa-tomei-partners-allergan-restasis-to-drive-dry-eye-awareness               \n",
       "\n",
       "    Tag  \n",
       "0  news  \n",
       "1  news  \n",
       "2  news  \n",
       "3  news  \n",
       "4  news  "
      ]
     },
     "execution_count": 77,
     "metadata": {},
     "output_type": "execute_result"
    }
   ],
   "source": [
    "train.head()"
   ]
  },
  {
   "cell_type": "code",
   "execution_count": 90,
   "metadata": {},
   "outputs": [
    {
     "name": "stdout",
     "output_type": "stream",
     "text": [
      "<class 'pandas.core.frame.DataFrame'>\n",
      "Int64Index: 79345 entries, 1 to 79345\n",
      "Data columns (total 2 columns):\n",
      "Webpage_id    79345 non-null int64\n",
      "keywords      79345 non-null object\n",
      "dtypes: int64(1), object(1)\n",
      "memory usage: 1.8+ MB\n"
     ]
    }
   ],
   "source": [
    "html_final[['Webpage_id']] = html_final[['Webpage_id']].astype(np.int64)\n",
    "html_final.info()"
   ]
  },
  {
   "cell_type": "code",
   "execution_count": 91,
   "metadata": {
    "collapsed": true
   },
   "outputs": [],
   "source": [
    "train_final2 = pd.merge(train, html_final,how = 'left',on =[\"Webpage_id\"])"
   ]
  },
  {
   "cell_type": "code",
   "execution_count": 92,
   "metadata": {},
   "outputs": [
    {
     "data": {
      "text/html": [
       "<div>\n",
       "<style>\n",
       "    .dataframe thead tr:only-child th {\n",
       "        text-align: right;\n",
       "    }\n",
       "\n",
       "    .dataframe thead th {\n",
       "        text-align: left;\n",
       "    }\n",
       "\n",
       "    .dataframe tbody tr th {\n",
       "        vertical-align: top;\n",
       "    }\n",
       "</style>\n",
       "<table border=\"1\" class=\"dataframe\">\n",
       "  <thead>\n",
       "    <tr style=\"text-align: right;\">\n",
       "      <th></th>\n",
       "      <th>Webpage_id</th>\n",
       "      <th>Domain</th>\n",
       "      <th>Url</th>\n",
       "      <th>Tag</th>\n",
       "      <th>keywords</th>\n",
       "    </tr>\n",
       "  </thead>\n",
       "  <tbody>\n",
       "    <tr>\n",
       "      <th>0</th>\n",
       "      <td>1</td>\n",
       "      <td>www.fiercepharma.com</td>\n",
       "      <td>http://www.fiercepharma.com/marketing/tecfidera-gilenya-and-aubagio-s-3-way-battle-for-ms-share-about-to-get-more-interesting</td>\n",
       "      <td>news</td>\n",
       "      <td>FierceBiotech Subscribe Pharma Skip LinkedIn Twitter Events DDF Jobs Regulatory</td>\n",
       "    </tr>\n",
       "    <tr>\n",
       "      <th>1</th>\n",
       "      <td>2</td>\n",
       "      <td>www.fiercepharma.com</td>\n",
       "      <td>http://www.fiercepharma.com/pharma/novo-equipped-to-weather-storm-u-s-diabetes-market-ceo-says</td>\n",
       "      <td>news</td>\n",
       "      <td>FierceBiotech Subscribe Pharma Skip LinkedIn Twitter Events DDF Jobs Regulatory</td>\n",
       "    </tr>\n",
       "  </tbody>\n",
       "</table>\n",
       "</div>"
      ],
      "text/plain": [
       "   Webpage_id                Domain  \\\n",
       "0  1           www.fiercepharma.com   \n",
       "1  2           www.fiercepharma.com   \n",
       "\n",
       "                                                                                                                             Url  \\\n",
       "0  http://www.fiercepharma.com/marketing/tecfidera-gilenya-and-aubagio-s-3-way-battle-for-ms-share-about-to-get-more-interesting   \n",
       "1  http://www.fiercepharma.com/pharma/novo-equipped-to-weather-storm-u-s-diabetes-market-ceo-says                                  \n",
       "\n",
       "    Tag  \\\n",
       "0  news   \n",
       "1  news   \n",
       "\n",
       "                                                                          keywords  \n",
       "0  FierceBiotech Subscribe Pharma Skip LinkedIn Twitter Events DDF Jobs Regulatory  \n",
       "1  FierceBiotech Subscribe Pharma Skip LinkedIn Twitter Events DDF Jobs Regulatory  "
      ]
     },
     "execution_count": 92,
     "metadata": {},
     "output_type": "execute_result"
    }
   ],
   "source": [
    "train_final2.head(2)"
   ]
  },
  {
   "cell_type": "code",
   "execution_count": 95,
   "metadata": {
    "collapsed": true
   },
   "outputs": [],
   "source": [
    "import re\n",
    "for i in range(train_final2.shape[0]):\n",
    "    z = train_final2.loc[i,\"Url\"]\n",
    "    z = np.unique(\" \".join(z.split(\"/\")[2:]))[0]\n",
    "    match = re.compile(r'\\W')\n",
    "    train_final2.loc[i,\"domain_url_info\"] = match.sub(r' ', z)"
   ]
  },
  {
   "cell_type": "code",
   "execution_count": 96,
   "metadata": {},
   "outputs": [
    {
     "data": {
      "text/html": [
       "<div>\n",
       "<style>\n",
       "    .dataframe thead tr:only-child th {\n",
       "        text-align: right;\n",
       "    }\n",
       "\n",
       "    .dataframe thead th {\n",
       "        text-align: left;\n",
       "    }\n",
       "\n",
       "    .dataframe tbody tr th {\n",
       "        vertical-align: top;\n",
       "    }\n",
       "</style>\n",
       "<table border=\"1\" class=\"dataframe\">\n",
       "  <thead>\n",
       "    <tr style=\"text-align: right;\">\n",
       "      <th></th>\n",
       "      <th>Webpage_id</th>\n",
       "      <th>Domain</th>\n",
       "      <th>Url</th>\n",
       "      <th>Tag</th>\n",
       "      <th>keywords</th>\n",
       "      <th>domain_url_info</th>\n",
       "    </tr>\n",
       "  </thead>\n",
       "  <tbody>\n",
       "    <tr>\n",
       "      <th>0</th>\n",
       "      <td>1</td>\n",
       "      <td>www.fiercepharma.com</td>\n",
       "      <td>http://www.fiercepharma.com/marketing/tecfidera-gilenya-and-aubagio-s-3-way-battle-for-ms-share-about-to-get-more-interesting</td>\n",
       "      <td>news</td>\n",
       "      <td>FierceBiotech Subscribe Pharma Skip LinkedIn Twitter Events DDF Jobs Regulatory</td>\n",
       "      <td>www fiercepharma com marketing tecfidera gilenya and aubagio s 3 way battle for ms share about to get more interesting</td>\n",
       "    </tr>\n",
       "    <tr>\n",
       "      <th>1</th>\n",
       "      <td>2</td>\n",
       "      <td>www.fiercepharma.com</td>\n",
       "      <td>http://www.fiercepharma.com/pharma/novo-equipped-to-weather-storm-u-s-diabetes-market-ceo-says</td>\n",
       "      <td>news</td>\n",
       "      <td>FierceBiotech Subscribe Pharma Skip LinkedIn Twitter Events DDF Jobs Regulatory</td>\n",
       "      <td>www fiercepharma com pharma novo equipped to weather storm u s diabetes market ceo says</td>\n",
       "    </tr>\n",
       "    <tr>\n",
       "      <th>2</th>\n",
       "      <td>3</td>\n",
       "      <td>www.fiercepharma.com</td>\n",
       "      <td>http://www.fiercepharma.com/pharma/another-exec-departs-troubled-endo-and-time-it-s-for-another-drugmaker</td>\n",
       "      <td>news</td>\n",
       "      <td>FierceBiotech Subscribe Pharma Skip LinkedIn Twitter Events DDF Jobs Regulatory</td>\n",
       "      <td>www fiercepharma com pharma another exec departs troubled endo and time it s for another drugmaker</td>\n",
       "    </tr>\n",
       "    <tr>\n",
       "      <th>3</th>\n",
       "      <td>4</td>\n",
       "      <td>www.fiercepharma.com</td>\n",
       "      <td>http://www.fiercepharma.com/pharma/teva-buy-biosim-specialist-celltrion-it-wouldn-t-say-no</td>\n",
       "      <td>news</td>\n",
       "      <td>FierceBiotech Subscribe Pharma Skip LinkedIn Twitter Events DDF Jobs Regulatory</td>\n",
       "      <td>www fiercepharma com pharma teva buy biosim specialist celltrion it wouldn t say no</td>\n",
       "    </tr>\n",
       "    <tr>\n",
       "      <th>4</th>\n",
       "      <td>5</td>\n",
       "      <td>www.fiercepharma.com</td>\n",
       "      <td>http://www.fiercepharma.com/marketing/actress-marissa-tomei-partners-allergan-restasis-to-drive-dry-eye-awareness</td>\n",
       "      <td>news</td>\n",
       "      <td>FierceBiotech Subscribe Pharma Skip LinkedIn Twitter Events DDF Jobs Regulatory</td>\n",
       "      <td>www fiercepharma com marketing actress marissa tomei partners allergan restasis to drive dry eye awareness</td>\n",
       "    </tr>\n",
       "  </tbody>\n",
       "</table>\n",
       "</div>"
      ],
      "text/plain": [
       "   Webpage_id                Domain  \\\n",
       "0  1           www.fiercepharma.com   \n",
       "1  2           www.fiercepharma.com   \n",
       "2  3           www.fiercepharma.com   \n",
       "3  4           www.fiercepharma.com   \n",
       "4  5           www.fiercepharma.com   \n",
       "\n",
       "                                                                                                                             Url  \\\n",
       "0  http://www.fiercepharma.com/marketing/tecfidera-gilenya-and-aubagio-s-3-way-battle-for-ms-share-about-to-get-more-interesting   \n",
       "1  http://www.fiercepharma.com/pharma/novo-equipped-to-weather-storm-u-s-diabetes-market-ceo-says                                  \n",
       "2  http://www.fiercepharma.com/pharma/another-exec-departs-troubled-endo-and-time-it-s-for-another-drugmaker                       \n",
       "3  http://www.fiercepharma.com/pharma/teva-buy-biosim-specialist-celltrion-it-wouldn-t-say-no                                      \n",
       "4  http://www.fiercepharma.com/marketing/actress-marissa-tomei-partners-allergan-restasis-to-drive-dry-eye-awareness               \n",
       "\n",
       "    Tag  \\\n",
       "0  news   \n",
       "1  news   \n",
       "2  news   \n",
       "3  news   \n",
       "4  news   \n",
       "\n",
       "                                                                          keywords  \\\n",
       "0  FierceBiotech Subscribe Pharma Skip LinkedIn Twitter Events DDF Jobs Regulatory   \n",
       "1  FierceBiotech Subscribe Pharma Skip LinkedIn Twitter Events DDF Jobs Regulatory   \n",
       "2  FierceBiotech Subscribe Pharma Skip LinkedIn Twitter Events DDF Jobs Regulatory   \n",
       "3  FierceBiotech Subscribe Pharma Skip LinkedIn Twitter Events DDF Jobs Regulatory   \n",
       "4  FierceBiotech Subscribe Pharma Skip LinkedIn Twitter Events DDF Jobs Regulatory   \n",
       "\n",
       "                                                                                                          domain_url_info  \n",
       "0  www fiercepharma com marketing tecfidera gilenya and aubagio s 3 way battle for ms share about to get more interesting  \n",
       "1  www fiercepharma com pharma novo equipped to weather storm u s diabetes market ceo says                                 \n",
       "2  www fiercepharma com pharma another exec departs troubled endo and time it s for another drugmaker                      \n",
       "3  www fiercepharma com pharma teva buy biosim specialist celltrion it wouldn t say no                                     \n",
       "4  www fiercepharma com marketing actress marissa tomei partners allergan restasis to drive dry eye awareness              "
      ]
     },
     "execution_count": 96,
     "metadata": {},
     "output_type": "execute_result"
    }
   ],
   "source": [
    "train_final2.head()"
   ]
  },
  {
   "cell_type": "code",
   "execution_count": 98,
   "metadata": {
    "collapsed": true
   },
   "outputs": [],
   "source": [
    "train_final1 = train_final2.loc[:, [\"Webpage_id\", \"domain_url_info\", \"keywords\", \"Tag\"]]"
   ]
  },
  {
   "cell_type": "code",
   "execution_count": 99,
   "metadata": {},
   "outputs": [
    {
     "data": {
      "text/html": [
       "<div>\n",
       "<style>\n",
       "    .dataframe thead tr:only-child th {\n",
       "        text-align: right;\n",
       "    }\n",
       "\n",
       "    .dataframe thead th {\n",
       "        text-align: left;\n",
       "    }\n",
       "\n",
       "    .dataframe tbody tr th {\n",
       "        vertical-align: top;\n",
       "    }\n",
       "</style>\n",
       "<table border=\"1\" class=\"dataframe\">\n",
       "  <thead>\n",
       "    <tr style=\"text-align: right;\">\n",
       "      <th></th>\n",
       "      <th>Webpage_id</th>\n",
       "      <th>domain_url_info</th>\n",
       "      <th>keywords</th>\n",
       "      <th>Tag</th>\n",
       "    </tr>\n",
       "  </thead>\n",
       "  <tbody>\n",
       "    <tr>\n",
       "      <th>0</th>\n",
       "      <td>1</td>\n",
       "      <td>www fiercepharma com marketing tecfidera gilenya and aubagio s 3 way battle for ms share about to get more interesting</td>\n",
       "      <td>FierceBiotech Subscribe Pharma Skip LinkedIn Twitter Events DDF Jobs Regulatory</td>\n",
       "      <td>news</td>\n",
       "    </tr>\n",
       "    <tr>\n",
       "      <th>1</th>\n",
       "      <td>2</td>\n",
       "      <td>www fiercepharma com pharma novo equipped to weather storm u s diabetes market ceo says</td>\n",
       "      <td>FierceBiotech Subscribe Pharma Skip LinkedIn Twitter Events DDF Jobs Regulatory</td>\n",
       "      <td>news</td>\n",
       "    </tr>\n",
       "    <tr>\n",
       "      <th>2</th>\n",
       "      <td>3</td>\n",
       "      <td>www fiercepharma com pharma another exec departs troubled endo and time it s for another drugmaker</td>\n",
       "      <td>FierceBiotech Subscribe Pharma Skip LinkedIn Twitter Events DDF Jobs Regulatory</td>\n",
       "      <td>news</td>\n",
       "    </tr>\n",
       "    <tr>\n",
       "      <th>3</th>\n",
       "      <td>4</td>\n",
       "      <td>www fiercepharma com pharma teva buy biosim specialist celltrion it wouldn t say no</td>\n",
       "      <td>FierceBiotech Subscribe Pharma Skip LinkedIn Twitter Events DDF Jobs Regulatory</td>\n",
       "      <td>news</td>\n",
       "    </tr>\n",
       "    <tr>\n",
       "      <th>4</th>\n",
       "      <td>5</td>\n",
       "      <td>www fiercepharma com marketing actress marissa tomei partners allergan restasis to drive dry eye awareness</td>\n",
       "      <td>FierceBiotech Subscribe Pharma Skip LinkedIn Twitter Events DDF Jobs Regulatory</td>\n",
       "      <td>news</td>\n",
       "    </tr>\n",
       "  </tbody>\n",
       "</table>\n",
       "</div>"
      ],
      "text/plain": [
       "   Webpage_id  \\\n",
       "0  1            \n",
       "1  2            \n",
       "2  3            \n",
       "3  4            \n",
       "4  5            \n",
       "\n",
       "                                                                                                          domain_url_info  \\\n",
       "0  www fiercepharma com marketing tecfidera gilenya and aubagio s 3 way battle for ms share about to get more interesting   \n",
       "1  www fiercepharma com pharma novo equipped to weather storm u s diabetes market ceo says                                  \n",
       "2  www fiercepharma com pharma another exec departs troubled endo and time it s for another drugmaker                       \n",
       "3  www fiercepharma com pharma teva buy biosim specialist celltrion it wouldn t say no                                      \n",
       "4  www fiercepharma com marketing actress marissa tomei partners allergan restasis to drive dry eye awareness               \n",
       "\n",
       "                                                                          keywords  \\\n",
       "0  FierceBiotech Subscribe Pharma Skip LinkedIn Twitter Events DDF Jobs Regulatory   \n",
       "1  FierceBiotech Subscribe Pharma Skip LinkedIn Twitter Events DDF Jobs Regulatory   \n",
       "2  FierceBiotech Subscribe Pharma Skip LinkedIn Twitter Events DDF Jobs Regulatory   \n",
       "3  FierceBiotech Subscribe Pharma Skip LinkedIn Twitter Events DDF Jobs Regulatory   \n",
       "4  FierceBiotech Subscribe Pharma Skip LinkedIn Twitter Events DDF Jobs Regulatory   \n",
       "\n",
       "    Tag  \n",
       "0  news  \n",
       "1  news  \n",
       "2  news  \n",
       "3  news  \n",
       "4  news  "
      ]
     },
     "execution_count": 99,
     "metadata": {},
     "output_type": "execute_result"
    }
   ],
   "source": [
    "train_final1.head()"
   ]
  },
  {
   "cell_type": "code",
   "execution_count": 100,
   "metadata": {},
   "outputs": [
    {
     "data": {
      "text/html": [
       "<div>\n",
       "<style>\n",
       "    .dataframe thead tr:only-child th {\n",
       "        text-align: right;\n",
       "    }\n",
       "\n",
       "    .dataframe thead th {\n",
       "        text-align: left;\n",
       "    }\n",
       "\n",
       "    .dataframe tbody tr th {\n",
       "        vertical-align: top;\n",
       "    }\n",
       "</style>\n",
       "<table border=\"1\" class=\"dataframe\">\n",
       "  <thead>\n",
       "    <tr style=\"text-align: right;\">\n",
       "      <th></th>\n",
       "      <th>Webpage_id</th>\n",
       "      <th>Domain</th>\n",
       "      <th>Url</th>\n",
       "    </tr>\n",
       "  </thead>\n",
       "  <tbody>\n",
       "    <tr>\n",
       "      <th>0</th>\n",
       "      <td>31</td>\n",
       "      <td>isrctn.com</td>\n",
       "      <td>http://www.isrctn.com/ISRCTN57801413</td>\n",
       "    </tr>\n",
       "    <tr>\n",
       "      <th>1</th>\n",
       "      <td>32</td>\n",
       "      <td>www.clinicaltrialsregister.eu</td>\n",
       "      <td>https://www.clinicaltrialsregister.eu/ctr-search/trial/2006-006214-16/GB</td>\n",
       "    </tr>\n",
       "    <tr>\n",
       "      <th>2</th>\n",
       "      <td>33</td>\n",
       "      <td>www.clinicaltrialsregister.eu</td>\n",
       "      <td>https://www.clinicaltrialsregister.eu/ctr-search/trial/2006-004265-34/LT</td>\n",
       "    </tr>\n",
       "    <tr>\n",
       "      <th>3</th>\n",
       "      <td>34</td>\n",
       "      <td>www.clinicaltrialsregister.eu</td>\n",
       "      <td>https://www.clinicaltrialsregister.eu/ctr-search/trial/2010-022183-12/IT</td>\n",
       "    </tr>\n",
       "    <tr>\n",
       "      <th>4</th>\n",
       "      <td>35</td>\n",
       "      <td>www.clinicaltrialsregister.eu</td>\n",
       "      <td>https://www.clinicaltrialsregister.eu/ctr-search/trial/2010-021349-36/NL</td>\n",
       "    </tr>\n",
       "  </tbody>\n",
       "</table>\n",
       "</div>"
      ],
      "text/plain": [
       "   Webpage_id                         Domain  \\\n",
       "0  31          isrctn.com                      \n",
       "1  32          www.clinicaltrialsregister.eu   \n",
       "2  33          www.clinicaltrialsregister.eu   \n",
       "3  34          www.clinicaltrialsregister.eu   \n",
       "4  35          www.clinicaltrialsregister.eu   \n",
       "\n",
       "                                                                        Url  \n",
       "0  http://www.isrctn.com/ISRCTN57801413                                      \n",
       "1  https://www.clinicaltrialsregister.eu/ctr-search/trial/2006-006214-16/GB  \n",
       "2  https://www.clinicaltrialsregister.eu/ctr-search/trial/2006-004265-34/LT  \n",
       "3  https://www.clinicaltrialsregister.eu/ctr-search/trial/2010-022183-12/IT  \n",
       "4  https://www.clinicaltrialsregister.eu/ctr-search/trial/2010-021349-36/NL  "
      ]
     },
     "execution_count": 100,
     "metadata": {},
     "output_type": "execute_result"
    }
   ],
   "source": [
    "train_final1.to_csv('train_final1.csv')\n",
    "test = pd.read_csv(\"test_nvPHrOx.csv\")\n",
    "test.head()"
   ]
  },
  {
   "cell_type": "code",
   "execution_count": 101,
   "metadata": {
    "collapsed": true
   },
   "outputs": [],
   "source": [
    "test_final1 = pd.merge(test, html_final,how = 'left',on =[\"Webpage_id\"])\n",
    "import re\n",
    "for i in range(test_final1.shape[0]):\n",
    "    z = test_final1.loc[i,\"Url\"]\n",
    "    z = np.unique(\" \".join(z.split(\"/\")[2:]))[0]\n",
    "    match = re.compile(r'\\W')\n",
    "    test_final1.loc[i,\"domain_url_info\"] = match.sub(r' ', z)\n",
    "\n",
    "test_final1 = test_final1.loc[:, [\"Webpage_id\", \"domain_url_info\", \"keywords\"]]   "
   ]
  },
  {
   "cell_type": "code",
   "execution_count": 102,
   "metadata": {},
   "outputs": [
    {
     "data": {
      "text/html": [
       "<div>\n",
       "<style>\n",
       "    .dataframe thead tr:only-child th {\n",
       "        text-align: right;\n",
       "    }\n",
       "\n",
       "    .dataframe thead th {\n",
       "        text-align: left;\n",
       "    }\n",
       "\n",
       "    .dataframe tbody tr th {\n",
       "        vertical-align: top;\n",
       "    }\n",
       "</style>\n",
       "<table border=\"1\" class=\"dataframe\">\n",
       "  <thead>\n",
       "    <tr style=\"text-align: right;\">\n",
       "      <th></th>\n",
       "      <th>Webpage_id</th>\n",
       "      <th>domain_url_info</th>\n",
       "      <th>keywords</th>\n",
       "    </tr>\n",
       "  </thead>\n",
       "  <tbody>\n",
       "    <tr>\n",
       "      <th>0</th>\n",
       "      <td>31</td>\n",
       "      <td>www isrctn com ISRCTN57801413</td>\n",
       "      <td>studies Login Previous Trial Sign Back View Search Register Advanced</td>\n",
       "    </tr>\n",
       "    <tr>\n",
       "      <th>1</th>\n",
       "      <td>32</td>\n",
       "      <td>www clinicaltrialsregister eu ctr search trial 2006 006214 16 GB</td>\n",
       "      <td>Contacts trials Clinical authorities National sponsors Search Home Help Data</td>\n",
       "    </tr>\n",
       "    <tr>\n",
       "      <th>2</th>\n",
       "      <td>33</td>\n",
       "      <td>www clinicaltrialsregister eu ctr search trial 2006 004265 34 LT</td>\n",
       "      <td>Contacts trials Clinical authorities National sponsors Search Home Help Data</td>\n",
       "    </tr>\n",
       "    <tr>\n",
       "      <th>3</th>\n",
       "      <td>34</td>\n",
       "      <td>www clinicaltrialsregister eu ctr search trial 2010 022183 12 IT</td>\n",
       "      <td>Contacts trials Clinical authorities National sponsors Search Home Help Data</td>\n",
       "    </tr>\n",
       "    <tr>\n",
       "      <th>4</th>\n",
       "      <td>35</td>\n",
       "      <td>www clinicaltrialsregister eu ctr search trial 2010 021349 36 NL</td>\n",
       "      <td>Contacts trials Clinical authorities National sponsors Search Home Help Data</td>\n",
       "    </tr>\n",
       "  </tbody>\n",
       "</table>\n",
       "</div>"
      ],
      "text/plain": [
       "   Webpage_id  \\\n",
       "0  31           \n",
       "1  32           \n",
       "2  33           \n",
       "3  34           \n",
       "4  35           \n",
       "\n",
       "                                                    domain_url_info  \\\n",
       "0  www isrctn com ISRCTN57801413                                      \n",
       "1  www clinicaltrialsregister eu ctr search trial 2006 006214 16 GB   \n",
       "2  www clinicaltrialsregister eu ctr search trial 2006 004265 34 LT   \n",
       "3  www clinicaltrialsregister eu ctr search trial 2010 022183 12 IT   \n",
       "4  www clinicaltrialsregister eu ctr search trial 2010 021349 36 NL   \n",
       "\n",
       "                                                                       keywords  \n",
       "0  studies Login Previous Trial Sign Back View Search Register Advanced          \n",
       "1  Contacts trials Clinical authorities National sponsors Search Home Help Data  \n",
       "2  Contacts trials Clinical authorities National sponsors Search Home Help Data  \n",
       "3  Contacts trials Clinical authorities National sponsors Search Home Help Data  \n",
       "4  Contacts trials Clinical authorities National sponsors Search Home Help Data  "
      ]
     },
     "execution_count": 102,
     "metadata": {},
     "output_type": "execute_result"
    }
   ],
   "source": [
    "test_final1.head()"
   ]
  },
  {
   "cell_type": "code",
   "execution_count": 104,
   "metadata": {},
   "outputs": [
    {
     "data": {
      "text/plain": [
       "(25787, 3)"
      ]
     },
     "execution_count": 104,
     "metadata": {},
     "output_type": "execute_result"
    }
   ],
   "source": [
    "test_final1.shape"
   ]
  },
  {
   "cell_type": "code",
   "execution_count": 106,
   "metadata": {},
   "outputs": [
    {
     "data": {
      "text/plain": [
       "['news',\n",
       " 'forum',\n",
       " 'conferences',\n",
       " 'guidelines',\n",
       " 'clinicalTrials',\n",
       " 'publication',\n",
       " 'profile',\n",
       " 'others',\n",
       " 'thesis']"
      ]
     },
     "execution_count": 106,
     "metadata": {},
     "output_type": "execute_result"
    }
   ],
   "source": [
    "list(set(train_final1.Tag))"
   ]
  },
  {
   "cell_type": "code",
   "execution_count": 108,
   "metadata": {},
   "outputs": [
    {
     "name": "stderr",
     "output_type": "stream",
     "text": [
      "C:\\Users\\hp\\AppData\\Local\\Continuum\\Anaconda3\\lib\\site-packages\\ipykernel\\__main__.py:1: FutureWarning: Categorical.from_array is deprecated, use Categorical instead\n",
      "  if __name__ == '__main__':\n"
     ]
    }
   ],
   "source": [
    "train_final1['c'] = pd.Categorical.from_array(train_final1.Tag).codes"
   ]
  },
  {
   "cell_type": "code",
   "execution_count": 109,
   "metadata": {},
   "outputs": [
    {
     "data": {
      "text/html": [
       "<div>\n",
       "<style>\n",
       "    .dataframe thead tr:only-child th {\n",
       "        text-align: right;\n",
       "    }\n",
       "\n",
       "    .dataframe thead th {\n",
       "        text-align: left;\n",
       "    }\n",
       "\n",
       "    .dataframe tbody tr th {\n",
       "        vertical-align: top;\n",
       "    }\n",
       "</style>\n",
       "<table border=\"1\" class=\"dataframe\">\n",
       "  <thead>\n",
       "    <tr style=\"text-align: right;\">\n",
       "      <th></th>\n",
       "      <th>Webpage_id</th>\n",
       "      <th>domain_url_info</th>\n",
       "      <th>keywords</th>\n",
       "      <th>Tag</th>\n",
       "      <th>c</th>\n",
       "    </tr>\n",
       "  </thead>\n",
       "  <tbody>\n",
       "    <tr>\n",
       "      <th>0</th>\n",
       "      <td>1</td>\n",
       "      <td>www fiercepharma com marketing tecfidera gilenya and aubagio s 3 way battle for ms share about to get more interesting</td>\n",
       "      <td>FierceBiotech Subscribe Pharma Skip LinkedIn Twitter Events DDF Jobs Regulatory</td>\n",
       "      <td>news</td>\n",
       "      <td>4</td>\n",
       "    </tr>\n",
       "    <tr>\n",
       "      <th>1</th>\n",
       "      <td>2</td>\n",
       "      <td>www fiercepharma com pharma novo equipped to weather storm u s diabetes market ceo says</td>\n",
       "      <td>FierceBiotech Subscribe Pharma Skip LinkedIn Twitter Events DDF Jobs Regulatory</td>\n",
       "      <td>news</td>\n",
       "      <td>4</td>\n",
       "    </tr>\n",
       "    <tr>\n",
       "      <th>2</th>\n",
       "      <td>3</td>\n",
       "      <td>www fiercepharma com pharma another exec departs troubled endo and time it s for another drugmaker</td>\n",
       "      <td>FierceBiotech Subscribe Pharma Skip LinkedIn Twitter Events DDF Jobs Regulatory</td>\n",
       "      <td>news</td>\n",
       "      <td>4</td>\n",
       "    </tr>\n",
       "    <tr>\n",
       "      <th>3</th>\n",
       "      <td>4</td>\n",
       "      <td>www fiercepharma com pharma teva buy biosim specialist celltrion it wouldn t say no</td>\n",
       "      <td>FierceBiotech Subscribe Pharma Skip LinkedIn Twitter Events DDF Jobs Regulatory</td>\n",
       "      <td>news</td>\n",
       "      <td>4</td>\n",
       "    </tr>\n",
       "    <tr>\n",
       "      <th>4</th>\n",
       "      <td>5</td>\n",
       "      <td>www fiercepharma com marketing actress marissa tomei partners allergan restasis to drive dry eye awareness</td>\n",
       "      <td>FierceBiotech Subscribe Pharma Skip LinkedIn Twitter Events DDF Jobs Regulatory</td>\n",
       "      <td>news</td>\n",
       "      <td>4</td>\n",
       "    </tr>\n",
       "  </tbody>\n",
       "</table>\n",
       "</div>"
      ],
      "text/plain": [
       "   Webpage_id  \\\n",
       "0  1            \n",
       "1  2            \n",
       "2  3            \n",
       "3  4            \n",
       "4  5            \n",
       "\n",
       "                                                                                                          domain_url_info  \\\n",
       "0  www fiercepharma com marketing tecfidera gilenya and aubagio s 3 way battle for ms share about to get more interesting   \n",
       "1  www fiercepharma com pharma novo equipped to weather storm u s diabetes market ceo says                                  \n",
       "2  www fiercepharma com pharma another exec departs troubled endo and time it s for another drugmaker                       \n",
       "3  www fiercepharma com pharma teva buy biosim specialist celltrion it wouldn t say no                                      \n",
       "4  www fiercepharma com marketing actress marissa tomei partners allergan restasis to drive dry eye awareness               \n",
       "\n",
       "                                                                          keywords  \\\n",
       "0  FierceBiotech Subscribe Pharma Skip LinkedIn Twitter Events DDF Jobs Regulatory   \n",
       "1  FierceBiotech Subscribe Pharma Skip LinkedIn Twitter Events DDF Jobs Regulatory   \n",
       "2  FierceBiotech Subscribe Pharma Skip LinkedIn Twitter Events DDF Jobs Regulatory   \n",
       "3  FierceBiotech Subscribe Pharma Skip LinkedIn Twitter Events DDF Jobs Regulatory   \n",
       "4  FierceBiotech Subscribe Pharma Skip LinkedIn Twitter Events DDF Jobs Regulatory   \n",
       "\n",
       "    Tag  c  \n",
       "0  news  4  \n",
       "1  news  4  \n",
       "2  news  4  \n",
       "3  news  4  \n",
       "4  news  4  "
      ]
     },
     "execution_count": 109,
     "metadata": {},
     "output_type": "execute_result"
    }
   ],
   "source": [
    "train_final1.head()"
   ]
  },
  {
   "cell_type": "code",
   "execution_count": 111,
   "metadata": {
    "collapsed": true
   },
   "outputs": [],
   "source": [
    "X_train = train_final1.keywords.values"
   ]
  },
  {
   "cell_type": "code",
   "execution_count": null,
   "metadata": {
    "collapsed": true
   },
   "outputs": [],
   "source": []
  },
  {
   "cell_type": "code",
   "execution_count": null,
   "metadata": {
    "collapsed": true
   },
   "outputs": [],
   "source": []
  },
  {
   "cell_type": "code",
   "execution_count": 110,
   "metadata": {
    "collapsed": true
   },
   "outputs": [],
   "source": [
    "from sklearn.feature_extraction.text import TfidfVectorizer"
   ]
  },
  {
   "cell_type": "code",
   "execution_count": 113,
   "metadata": {},
   "outputs": [
    {
     "name": "stderr",
     "output_type": "stream",
     "text": [
      "C:\\Users\\hp\\AppData\\Local\\Continuum\\Anaconda3\\lib\\site-packages\\sklearn\\feature_extraction\\text.py:1089: FutureWarning: Conversion of the second argument of issubdtype from `float` to `np.floating` is deprecated. In future, it will be treated as `np.float64 == np.dtype(float).type`.\n",
      "  if hasattr(X, 'dtype') and np.issubdtype(X.dtype, np.float):\n"
     ]
    }
   ],
   "source": [
    "vectorizer = TfidfVectorizer(min_df = 3, ngram_range=[1,3])\n",
    "X_train_transformed = vectorizer.fit_transform(X_train)"
   ]
  },
  {
   "cell_type": "code",
   "execution_count": 120,
   "metadata": {},
   "outputs": [
    {
     "name": "stderr",
     "output_type": "stream",
     "text": [
      "C:\\Users\\hp\\AppData\\Local\\Continuum\\Anaconda3\\lib\\site-packages\\sklearn\\feature_extraction\\text.py:1089: FutureWarning: Conversion of the second argument of issubdtype from `float` to `np.floating` is deprecated. In future, it will be treated as `np.float64 == np.dtype(float).type`.\n",
      "  if hasattr(X, 'dtype') and np.issubdtype(X.dtype, np.float):\n"
     ]
    }
   ],
   "source": [
    "from sklearn.linear_model import LogisticRegression\n",
    "X_test = test_final1.keywords.values\n",
    "X_test_transformed = vectorizer.transform(X_test)\n",
    "y_train = train_final1.Tag.values\n",
    "clf = LogisticRegression(C=100)\n",
    "clf.fit(X_train_transformed, y_train)\n",
    "y_predicted1 = clf.predict(X_test_transformed)"
   ]
  },
  {
   "cell_type": "code",
   "execution_count": 123,
   "metadata": {
    "collapsed": true
   },
   "outputs": [],
   "source": [
    "res = pd.DataFrame(y_predicted1)\n",
    "res.to_csv(\"res.csv\")"
   ]
  },
  {
   "cell_type": "code",
   "execution_count": 124,
   "metadata": {},
   "outputs": [
    {
     "name": "stderr",
     "output_type": "stream",
     "text": [
      "C:\\Users\\hp\\AppData\\Local\\Continuum\\Anaconda3\\lib\\site-packages\\sklearn\\feature_extraction\\text.py:1089: FutureWarning: Conversion of the second argument of issubdtype from `float` to `np.floating` is deprecated. In future, it will be treated as `np.float64 == np.dtype(float).type`.\n",
      "  if hasattr(X, 'dtype') and np.issubdtype(X.dtype, np.float):\n"
     ]
    }
   ],
   "source": [
    "from sklearn.naive_bayes import MultinomialNB\n",
    "vectorizer = TfidfVectorizer(min_df=3)\n",
    "X_train_transformed = vectorizer.fit_transform(X_train)\n",
    "X_test = test_final1.keywords.values\n",
    "X_test_transformed = vectorizer.transform(X_test)\n",
    "y_train = train_final1.Tag.values\n",
    "clf = MultinomialNB(alpha=0.1)\n",
    "clf.fit(X_train_transformed, y_train)\n",
    "# y_predicted_prob = clf.predict_proba(X_test_transformed)[:, 1]\n",
    "y_predicted1 = clf.predict(X_test_transformed)"
   ]
  },
  {
   "cell_type": "code",
   "execution_count": 125,
   "metadata": {
    "collapsed": true
   },
   "outputs": [],
   "source": [
    "res = pd.DataFrame(y_predicted1)\n",
    "res.to_csv(\"res.csv\")"
   ]
  },
  {
   "cell_type": "code",
   "execution_count": 146,
   "metadata": {},
   "outputs": [
    {
     "data": {
      "text/html": [
       "<div>\n",
       "<style>\n",
       "    .dataframe thead tr:only-child th {\n",
       "        text-align: right;\n",
       "    }\n",
       "\n",
       "    .dataframe thead th {\n",
       "        text-align: left;\n",
       "    }\n",
       "\n",
       "    .dataframe tbody tr th {\n",
       "        vertical-align: top;\n",
       "    }\n",
       "</style>\n",
       "<table border=\"1\" class=\"dataframe\">\n",
       "  <thead>\n",
       "    <tr style=\"text-align: right;\">\n",
       "      <th></th>\n",
       "      <th>Webpage_id</th>\n",
       "      <th>domain_url_info</th>\n",
       "      <th>keywords</th>\n",
       "      <th>Tag</th>\n",
       "      <th>c</th>\n",
       "    </tr>\n",
       "  </thead>\n",
       "  <tbody>\n",
       "    <tr>\n",
       "      <th>0</th>\n",
       "      <td>1</td>\n",
       "      <td>www fiercepharma com marketing tecfidera gilenya and aubagio s 3 way battle for ms share about to get more interesting</td>\n",
       "      <td>FierceBiotech Subscribe Pharma Skip LinkedIn Twitter Events DDF Jobs Regulatory</td>\n",
       "      <td>news</td>\n",
       "      <td>4</td>\n",
       "    </tr>\n",
       "  </tbody>\n",
       "</table>\n",
       "</div>"
      ],
      "text/plain": [
       "   Webpage_id  \\\n",
       "0  1            \n",
       "\n",
       "                                                                                                          domain_url_info  \\\n",
       "0  www fiercepharma com marketing tecfidera gilenya and aubagio s 3 way battle for ms share about to get more interesting   \n",
       "\n",
       "                                                                          keywords  \\\n",
       "0  FierceBiotech Subscribe Pharma Skip LinkedIn Twitter Events DDF Jobs Regulatory   \n",
       "\n",
       "    Tag  c  \n",
       "0  news  4  "
      ]
     },
     "execution_count": 146,
     "metadata": {},
     "output_type": "execute_result"
    }
   ],
   "source": [
    "train_final1.head(1)"
   ]
  },
  {
   "cell_type": "code",
   "execution_count": 147,
   "metadata": {
    "collapsed": true
   },
   "outputs": [],
   "source": [
    "##using two columns\n",
    "X_train2 = train_final1[[\"domain_url_info\", \"keywords\"]].values"
   ]
  },
  {
   "cell_type": "code",
   "execution_count": null,
   "metadata": {
    "collapsed": true
   },
   "outputs": [],
   "source": []
  },
  {
   "cell_type": "code",
   "execution_count": 148,
   "metadata": {},
   "outputs": [],
   "source": [
    "X_test = test_final1[[\"domain_url_info\", \"keywords\"]].values\n",
    "y_train = train_final1.Tag.values"
   ]
  },
  {
   "cell_type": "code",
   "execution_count": null,
   "metadata": {},
   "outputs": [],
   "source": []
  },
  {
   "cell_type": "code",
   "execution_count": 156,
   "metadata": {},
   "outputs": [],
   "source": [
    "#for i in range(train_final1.shape[0]):\n",
    "#    train_final1.loc[i,\"combined_text\"] = train_final1.loc[i,\"domain_url_info\"] +\" \"+train_final1.loc[i,\"keywords\"]\n",
    "    \n",
    "for i in range(test_final1.shape[0]):\n",
    "    test_final1.loc[i,\"combined_text\"] = test_final1.loc[i,\"domain_url_info\"] +\" \"+test_final1.loc[i,\"keywords\"]"
   ]
  },
  {
   "cell_type": "code",
   "execution_count": 157,
   "metadata": {},
   "outputs": [
    {
     "name": "stderr",
     "output_type": "stream",
     "text": [
      "C:\\Users\\hp\\AppData\\Local\\Continuum\\Anaconda3\\lib\\site-packages\\sklearn\\feature_extraction\\text.py:1089: FutureWarning: Conversion of the second argument of issubdtype from `float` to `np.floating` is deprecated. In future, it will be treated as `np.float64 == np.dtype(float).type`.\n",
      "  if hasattr(X, 'dtype') and np.issubdtype(X.dtype, np.float):\n"
     ]
    }
   ],
   "source": [
    "from sklearn.naive_bayes import MultinomialNB\n",
    "from sklearn.linear_model import LogisticRegression\n",
    "X_train = train_final1.combined_text.values\n",
    "X_test = test_final1.combined_text.values\n",
    "X_train_transformed = vectorizer.fit_transform(X_train)\n",
    "X_test_transformed = vectorizer.transform(X_test)\n",
    "vectorizer = TfidfVectorizer(min_df=3,ngram_range = [1,3])\n",
    "clf = LogisticRegression(C=100)\n",
    "clf.fit(X_train_transformed, y_train)\n",
    "# y_predicted_prob = clf.predict_proba(X_test_transformed)[:, 1]\n",
    "y_predicted1 = clf.predict(X_test_transformed)"
   ]
  },
  {
   "cell_type": "code",
   "execution_count": 158,
   "metadata": {
    "collapsed": true
   },
   "outputs": [],
   "source": [
    "res = pd.DataFrame(y_predicted1)\n",
    "res.to_csv(\"res.csv\")"
   ]
  },
  {
   "cell_type": "code",
   "execution_count": 159,
   "metadata": {},
   "outputs": [
    {
     "data": {
      "text/html": [
       "<div>\n",
       "<style>\n",
       "    .dataframe thead tr:only-child th {\n",
       "        text-align: right;\n",
       "    }\n",
       "\n",
       "    .dataframe thead th {\n",
       "        text-align: left;\n",
       "    }\n",
       "\n",
       "    .dataframe tbody tr th {\n",
       "        vertical-align: top;\n",
       "    }\n",
       "</style>\n",
       "<table border=\"1\" class=\"dataframe\">\n",
       "  <thead>\n",
       "    <tr style=\"text-align: right;\">\n",
       "      <th></th>\n",
       "      <th>Webpage_id</th>\n",
       "      <th>domain_url_info</th>\n",
       "      <th>keywords</th>\n",
       "      <th>Tag</th>\n",
       "      <th>c</th>\n",
       "      <th>combined_text</th>\n",
       "    </tr>\n",
       "  </thead>\n",
       "  <tbody>\n",
       "    <tr>\n",
       "      <th>0</th>\n",
       "      <td>1</td>\n",
       "      <td>www fiercepharma com marketing tecfidera gilenya and aubagio s 3 way battle for ms share about to get more interesting</td>\n",
       "      <td>FierceBiotech Subscribe Pharma Skip LinkedIn Twitter Events DDF Jobs Regulatory</td>\n",
       "      <td>news</td>\n",
       "      <td>4</td>\n",
       "      <td>www fiercepharma com marketing tecfidera gilenya and aubagio s 3 way battle for ms share about to get more interesting FierceBiotech Subscribe Pharma Skip LinkedIn Twitter Events DDF Jobs Regulatory</td>\n",
       "    </tr>\n",
       "    <tr>\n",
       "      <th>1</th>\n",
       "      <td>2</td>\n",
       "      <td>www fiercepharma com pharma novo equipped to weather storm u s diabetes market ceo says</td>\n",
       "      <td>FierceBiotech Subscribe Pharma Skip LinkedIn Twitter Events DDF Jobs Regulatory</td>\n",
       "      <td>news</td>\n",
       "      <td>4</td>\n",
       "      <td>www fiercepharma com pharma novo equipped to weather storm u s diabetes market ceo says FierceBiotech Subscribe Pharma Skip LinkedIn Twitter Events DDF Jobs Regulatory</td>\n",
       "    </tr>\n",
       "  </tbody>\n",
       "</table>\n",
       "</div>"
      ],
      "text/plain": [
       "   Webpage_id  \\\n",
       "0  1            \n",
       "1  2            \n",
       "\n",
       "                                                                                                          domain_url_info  \\\n",
       "0  www fiercepharma com marketing tecfidera gilenya and aubagio s 3 way battle for ms share about to get more interesting   \n",
       "1  www fiercepharma com pharma novo equipped to weather storm u s diabetes market ceo says                                  \n",
       "\n",
       "                                                                          keywords  \\\n",
       "0  FierceBiotech Subscribe Pharma Skip LinkedIn Twitter Events DDF Jobs Regulatory   \n",
       "1  FierceBiotech Subscribe Pharma Skip LinkedIn Twitter Events DDF Jobs Regulatory   \n",
       "\n",
       "    Tag  c  \\\n",
       "0  news  4   \n",
       "1  news  4   \n",
       "\n",
       "                                                                                                                                                                                            combined_text  \n",
       "0  www fiercepharma com marketing tecfidera gilenya and aubagio s 3 way battle for ms share about to get more interesting FierceBiotech Subscribe Pharma Skip LinkedIn Twitter Events DDF Jobs Regulatory  \n",
       "1  www fiercepharma com pharma novo equipped to weather storm u s diabetes market ceo says FierceBiotech Subscribe Pharma Skip LinkedIn Twitter Events DDF Jobs Regulatory                                 "
      ]
     },
     "execution_count": 159,
     "metadata": {},
     "output_type": "execute_result"
    }
   ],
   "source": [
    "train_final1.head(2)"
   ]
  },
  {
   "cell_type": "code",
   "execution_count": null,
   "metadata": {
    "collapsed": true
   },
   "outputs": [],
   "source": []
  },
  {
   "cell_type": "code",
   "execution_count": 160,
   "metadata": {},
   "outputs": [
    {
     "name": "stderr",
     "output_type": "stream",
     "text": [
      "C:\\Users\\hp\\AppData\\Local\\Continuum\\Anaconda3\\lib\\site-packages\\sklearn\\feature_extraction\\text.py:1089: FutureWarning: Conversion of the second argument of issubdtype from `float` to `np.floating` is deprecated. In future, it will be treated as `np.float64 == np.dtype(float).type`.\n",
      "  if hasattr(X, 'dtype') and np.issubdtype(X.dtype, np.float):\n"
     ]
    }
   ],
   "source": [
    "from sklearn.naive_bayes import MultinomialNB\n",
    "X_train = train_final1.combined_text.values\n",
    "X_test = test_final1.combined_text.values\n",
    "X_train_transformed = vectorizer.fit_transform(X_train)\n",
    "X_test_transformed = vectorizer.transform(X_test)\n",
    "vectorizer = TfidfVectorizer(min_df=3,ngram_range = [1,3])\n",
    "#clf = LogisticRegression(C=100)\n",
    "clf = MultinomialNB(alpha=0.1)\n",
    "clf.fit(X_train_transformed, y_train)\n",
    "# y_predicted_prob = clf.predict_proba(X_test_transformed)[:, 1]\n",
    "y_predicted1 = clf.predict(X_test_transformed)\n",
    "res = pd.DataFrame(y_predicted1)\n",
    "res.to_csv(\"res1.csv\")"
   ]
  },
  {
   "cell_type": "code",
   "execution_count": 161,
   "metadata": {
    "collapsed": true
   },
   "outputs": [],
   "source": [
    "from sklearn.feature_extraction.text import CountVectorizer"
   ]
  },
  {
   "cell_type": "code",
   "execution_count": 165,
   "metadata": {},
   "outputs": [],
   "source": [
    "from sklearn.naive_bayes import MultinomialNB\n",
    "vectorizer = CountVectorizer()\n",
    "#X_train = train_final1.combined_text.values\n",
    "#X_test = test_final1.combined_text.values\n",
    "X_train_transformed = vectorizer.fit_transform(X_train)\n",
    "X_test_transformed = vectorizer.transform(X_test)\n",
    "clf = LogisticRegression(C=100)\n",
    "#clf = MultinomialNB(alpha=0.1)\n",
    "clf.fit(X_train_transformed, y_train)\n",
    "# y_predicted_prob = clf.predict_proba(X_test_transformed)[:, 1]\n",
    "y_predicted1 = clf.predict(X_test_transformed)\n",
    "res = pd.DataFrame(y_predicted1)\n",
    "res.to_csv(\"res1.csv\")"
   ]
  },
  {
   "cell_type": "code",
   "execution_count": null,
   "metadata": {},
   "outputs": [],
   "source": []
  },
  {
   "cell_type": "code",
   "execution_count": null,
   "metadata": {
    "collapsed": true
   },
   "outputs": [],
   "source": []
  },
  {
   "cell_type": "code",
   "execution_count": null,
   "metadata": {
    "collapsed": true
   },
   "outputs": [],
   "source": []
  },
  {
   "cell_type": "code",
   "execution_count": 180,
   "metadata": {
    "collapsed": true
   },
   "outputs": [],
   "source": [
    "import pandas as pd\n",
    "from sklearn import linear_model\n",
    "from sklearn.ensemble import VotingClassifier\n",
    "from sklearn.feature_extraction.text import CountVectorizer, TfidfVectorizer\n",
    " \n",
    "from sklearn.naive_bayes import MultinomialNB\n",
    "from sklearn.pipeline import Pipeline\n",
    " \n",
    "unigram_log_pipe = Pipeline([\n",
    "    ('cv', CountVectorizer(stop_words='english',ngram_range=(1, 3))),\n",
    "    ('logreg', linear_model.LogisticRegression(C =100))\n",
    "])\n",
    " \n",
    "ngram_pipe = Pipeline([\n",
    "    ('cv', CountVectorizer(ngram_range=(1, 3))),\n",
    "    ('mnb', MultinomialNB(alpha = 0.1))\n",
    "])\n",
    " \n",
    "tfidf_pipe = Pipeline([\n",
    "    ('tfidf', TfidfVectorizer(min_df=3,\n",
    "                              ngram_range=(1, 3),\n",
    "                              stop_words='english')),\n",
    "    ('mnb', MultinomialNB(alpha = 0.1))\n",
    "])\n",
    " \n",
    "classifiers = [\n",
    "    (\"ngram\", ngram_pipe),\n",
    "    (\"unigram\", unigram_log_pipe),\n",
    "    (\"tfidf\", tfidf_pipe),\n",
    "]\n",
    " \n",
    "mixed_pipe = Pipeline([\n",
    "    (\"voting\", VotingClassifier(classifiers, voting=\"soft\"))\n",
    "])"
   ]
  },
  {
   "cell_type": "code",
   "execution_count": 181,
   "metadata": {},
   "outputs": [
    {
     "name": "stdout",
     "output_type": "stream",
     "text": [
      "Fitting 3 folds for each of 7 candidates, totalling 21 fits\n"
     ]
    },
    {
     "name": "stderr",
     "output_type": "stream",
     "text": [
      "[Parallel(n_jobs=-1)]: Done   5 tasks      | elapsed:  3.0min\n",
      "[Parallel(n_jobs=-1)]: Done  10 tasks      | elapsed:  4.5min\n",
      "[Parallel(n_jobs=-1)]: Done  17 out of  21 | elapsed:  7.3min remaining:  1.7min\n",
      "[Parallel(n_jobs=-1)]: Done  21 out of  21 | elapsed:  8.1min finished\n",
      "C:\\Users\\hp\\AppData\\Local\\Continuum\\Anaconda3\\lib\\site-packages\\sklearn\\feature_extraction\\text.py:1089: FutureWarning: Conversion of the second argument of issubdtype from `float` to `np.floating` is deprecated. In future, it will be treated as `np.float64 == np.dtype(float).type`.\n",
      "  if hasattr(X, 'dtype') and np.issubdtype(X.dtype, np.float):\n"
     ]
    },
    {
     "name": "stdout",
     "output_type": "stream",
     "text": [
      "{'voting__weights': [0, 0, 1]} 0.5927367298445189\n",
      "{'voting__weights': [0, 1, 0]} 0.6313170056317473\n",
      "{'voting__weights': [0, 1, 1]} 0.6214567702583869\n",
      "{'voting__weights': [1, 0, 0]} 0.6009691844256927\n",
      "{'voting__weights': [1, 0, 1]} 0.6056654255617715\n",
      "{'voting__weights': [1, 1, 0]} 0.6150391977098808\n",
      "{'voting__weights': [1, 1, 1]} 0.6095010009916366\n",
      "Best score: 0.631\n",
      "Best parameters set:\n",
      "\tvoting__weights: [0, 1, 0]\n"
     ]
    }
   ],
   "source": [
    "from sklearn.model_selection import GridSearchCV\n",
    " \n",
    "def combinations_on_off(num_classifiers):\n",
    "    return [[int(x) for x in list(\"{0:0b}\".format(i).zfill(num_classifiers))]\n",
    "            for i in range(1, 2 ** num_classifiers)]\n",
    " \n",
    "param_grid = dict(\n",
    "    voting__weights=combinations_on_off(len(classifiers))\n",
    ")\n",
    " \n",
    "\n",
    "y = y_train\n",
    "X = X_train\n",
    " \n",
    "grid_search = GridSearchCV(mixed_pipe, param_grid=param_grid, n_jobs=-1, verbose=10)\n",
    " \n",
    "grid_search.fit(X, y)\n",
    " \n",
    "cv_results = grid_search.cv_results_\n",
    " \n",
    "for mean_score, params in zip(cv_results[\"mean_test_score\"], cv_results[\"params\"]):\n",
    "    print(params, mean_score)\n",
    "\n",
    "print(\"Best score: %0.3f\" % grid_search.best_score_)\n",
    "print(\"Best parameters set:\")\n",
    "best_parameters = grid_search.best_estimator_.get_params()\n",
    "for param_name in sorted(param_grid.keys()):\n",
    "    print(\"\\t%s: %r\" % (param_name, best_parameters[param_name]))"
   ]
  },
  {
   "cell_type": "code",
   "execution_count": 177,
   "metadata": {},
   "outputs": [
    {
     "name": "stderr",
     "output_type": "stream",
     "text": [
      "C:\\Users\\hp\\AppData\\Local\\Continuum\\Anaconda3\\lib\\site-packages\\sklearn\\feature_extraction\\text.py:1089: FutureWarning: Conversion of the second argument of issubdtype from `float` to `np.floating` is deprecated. In future, it will be treated as `np.float64 == np.dtype(float).type`.\n",
      "  if hasattr(X, 'dtype') and np.issubdtype(X.dtype, np.float):\n",
      "C:\\Users\\hp\\AppData\\Local\\Continuum\\Anaconda3\\lib\\site-packages\\sklearn\\preprocessing\\label.py:151: DeprecationWarning: The truth value of an empty array is ambiguous. Returning False, but in future this will result in an error. Use `array.size > 0` to check that an array is not empty.\n",
      "  if diff:\n"
     ]
    }
   ],
   "source": [
    "y_predicted1 = grid_search.predict(X_test)"
   ]
  },
  {
   "cell_type": "code",
   "execution_count": null,
   "metadata": {},
   "outputs": [],
   "source": []
  },
  {
   "cell_type": "code",
   "execution_count": 179,
   "metadata": {
    "collapsed": true
   },
   "outputs": [],
   "source": [
    "res = pd.DataFrame(y_predicted1)\n",
    "res.to_csv(\"res3.csv\")"
   ]
  }
 ],
 "metadata": {
  "kernelspec": {
   "display_name": "Python [conda env:Anaconda3]",
   "language": "python",
   "name": "conda-env-Anaconda3-py"
  },
  "language_info": {
   "codemirror_mode": {
    "name": "ipython",
    "version": 3
   },
   "file_extension": ".py",
   "mimetype": "text/x-python",
   "name": "python",
   "nbconvert_exporter": "python",
   "pygments_lexer": "ipython3",
   "version": "3.5.4"
  }
 },
 "nbformat": 4,
 "nbformat_minor": 2
}
