{
 "cells": [
  {
   "cell_type": "code",
   "execution_count": 1,
   "metadata": {},
   "outputs": [],
   "source": [
    "import pandas as pd"
   ]
  },
  {
   "cell_type": "code",
   "execution_count": 2,
   "metadata": {},
   "outputs": [],
   "source": [
    "df_train = pd.read_csv('train/train.csv')"
   ]
  },
  {
   "cell_type": "code",
   "execution_count": 2,
   "metadata": {},
   "outputs": [],
   "source": [
    "df_html = pd.read_csv('train/html_data.csv')"
   ]
  },
  {
   "cell_type": "code",
   "execution_count": 3,
   "metadata": {},
   "outputs": [
    {
     "data": {
      "text/plain": [
       "79345"
      ]
     },
     "execution_count": 3,
     "metadata": {},
     "output_type": "execute_result"
    }
   ],
   "source": [
    "len(df_htmlml)"
   ]
  },
  {
   "cell_type": "code",
   "execution_count": null,
   "metadata": {},
   "outputs": [],
   "source": [
    "df_test = pd.read_csv('predict_test.csv')"
   ]
  },
  {
   "cell_type": "code",
   "execution_count": null,
   "metadata": {},
   "outputs": [],
   "source": [
    "df_train.head()"
   ]
  },
  {
   "cell_type": "code",
   "execution_count": null,
   "metadata": {},
   "outputs": [],
   "source": [
    "len(df_train['Domain'].unique())"
   ]
  },
  {
   "cell_type": "code",
   "execution_count": null,
   "metadata": {
    "scrolled": false
   },
   "outputs": [],
   "source": [
    "df_train['Domain'].value_counts()"
   ]
  },
  {
   "cell_type": "code",
   "execution_count": null,
   "metadata": {},
   "outputs": [],
   "source": [
    "len(df_train)"
   ]
  },
  {
   "cell_type": "code",
   "execution_count": null,
   "metadata": {},
   "outputs": [],
   "source": [
    "df_test.head()"
   ]
  },
  {
   "cell_type": "code",
   "execution_count": null,
   "metadata": {},
   "outputs": [],
   "source": [
    "len(df_test['Domain'].unique())"
   ]
  },
  {
   "cell_type": "code",
   "execution_count": null,
   "metadata": {},
   "outputs": [],
   "source": [
    "df_test['Domain'].value_counts()"
   ]
  },
  {
   "cell_type": "code",
   "execution_count": null,
   "metadata": {},
   "outputs": [],
   "source": [
    "df_html['Html']"
   ]
  },
  {
   "cell_type": "code",
   "execution_count": 14,
   "metadata": {
    "scrolled": true
   },
   "outputs": [
    {
     "data": {
      "text/html": [
       "<div>\n",
       "<style scoped>\n",
       "    .dataframe tbody tr th:only-of-type {\n",
       "        vertical-align: middle;\n",
       "    }\n",
       "\n",
       "    .dataframe tbody tr th {\n",
       "        vertical-align: top;\n",
       "    }\n",
       "\n",
       "    .dataframe thead th {\n",
       "        text-align: right;\n",
       "    }\n",
       "</style>\n",
       "<table border=\"1\" class=\"dataframe\">\n",
       "  <thead>\n",
       "    <tr style=\"text-align: right;\">\n",
       "      <th></th>\n",
       "      <th>Webpage_id</th>\n",
       "      <th>Html</th>\n",
       "    </tr>\n",
       "  </thead>\n",
       "  <tbody>\n",
       "    <tr>\n",
       "      <th>0</th>\n",
       "      <td>1</td>\n",
       "      <td>&lt;!DOCTYPE html&gt;\\n&lt;html lang=\"en\" dir=\"ltr\" xml...</td>\n",
       "    </tr>\n",
       "    <tr>\n",
       "      <th>1</th>\n",
       "      <td>2</td>\n",
       "      <td>&lt;!DOCTYPE html&gt;\\n&lt;html lang=\"en\" dir=\"ltr\" xml...</td>\n",
       "    </tr>\n",
       "    <tr>\n",
       "      <th>2</th>\n",
       "      <td>3</td>\n",
       "      <td>&lt;!DOCTYPE html&gt;\\n&lt;html lang=\"en\" dir=\"ltr\" xml...</td>\n",
       "    </tr>\n",
       "    <tr>\n",
       "      <th>3</th>\n",
       "      <td>4</td>\n",
       "      <td>&lt;!DOCTYPE html&gt;\\n&lt;html lang=\"en\" dir=\"ltr\" xml...</td>\n",
       "    </tr>\n",
       "    <tr>\n",
       "      <th>4</th>\n",
       "      <td>5</td>\n",
       "      <td>&lt;!DOCTYPE html&gt;\\n&lt;html lang=\"en\" dir=\"ltr\" xml...</td>\n",
       "    </tr>\n",
       "  </tbody>\n",
       "</table>\n",
       "</div>"
      ],
      "text/plain": [
       "   Webpage_id                                               Html\n",
       "0           1  <!DOCTYPE html>\\n<html lang=\"en\" dir=\"ltr\" xml...\n",
       "1           2  <!DOCTYPE html>\\n<html lang=\"en\" dir=\"ltr\" xml...\n",
       "2           3  <!DOCTYPE html>\\n<html lang=\"en\" dir=\"ltr\" xml...\n",
       "3           4  <!DOCTYPE html>\\n<html lang=\"en\" dir=\"ltr\" xml...\n",
       "4           5  <!DOCTYPE html>\\n<html lang=\"en\" dir=\"ltr\" xml..."
      ]
     },
     "execution_count": 14,
     "metadata": {},
     "output_type": "execute_result"
    }
   ],
   "source": [
    "df_html.head()"
   ]
  },
  {
   "cell_type": "code",
   "execution_count": 15,
   "metadata": {
    "scrolled": true
   },
   "outputs": [
    {
     "name": "stdout",
     "output_type": "stream",
     "text": [
      "'<!DOCTYPE html>\\n<html lang=\"en\" dir=\"ltr\" xmlns:article=\"http://ogp.me/ns/article#\" xmlns:book=\"http://ogp.me/ns/book#\" xmlns:product=\"http://ogp.me/ns/product#\" xmlns:profile=\"http://ogp.me/ns/profile#\" xmlns:video=\"http://ogp.me/ns/video#\" prefix=\"content: http://purl.org/rss/1.0/modules/content/  dc: http://purl.org/dc/terms/  foaf: http://xmlns.com/foaf/0.1/  og: http://ogp.me/ns#  rdfs: http://www.w3.org/2000/01/rdf-schema#  schema: http://schema.org/  sioc: http://rdfs.org/sioc/ns#  sioct: http://rdfs.org/sioc/types#  skos: http://www.w3.org/2004/02/skos/core#  xsd: http://www.w3.org/2001/XMLSchema# \">\\n  <head>\\n    <meta charset=\"utf-8\" /><script type=\"text/javascript\">window.NREUM||(NREUM={}),__nr_require=function(e,n,t){function r(t){if(!n[t]){var o=n[t]={exports:{}};e[t][0].call(o.exports,function(n){var o=e[t][1][n];return r(o||n)},o,o.exports)}return n[t].exports}if(\"function\"==typeof __nr_require)return __nr_require;for(var o=0;o<t.length;o++)r(t[o]);return r}({1:[function(e,n,t){function r(){}function o(e,n,t){return function(){return i(e,[c.now()].concat(u(arguments)),n?null:this,t),n?void 0:this}}var i=e(\"handle\"),a=e(2),u=e(3),f=e(\"ee\").get(\"tracer\"),c=e(\"loader\"),s=NREUM;\"undefined\"==typeof window.newrelic&&(newrelic=s);var p=[\"setPageViewName\",\"setCustomAttribute\",\"setErrorHandler\",\"finished\",\"addToTrace\",\"inlineHit\",\"addRelease\"],d=\"api-\",l=d+\"ixn-\";a(p,function(e,n){s[n]=o(d+n,!0,\"api\")}),s.addPageAction=o(d+\"addPageAction\",!0),s.setCurrentRouteName=o(d+\"routeName\",!0),n.exports=newrelic,s.interaction=function(){return(new r).get()};var m=r.prototype={createTracer:function(e,n){var t={},r=this,o=\"function\"==typeof n;return i(l+\"tracer\",[c.now(),e,t],r),function(){if(f.emit((o?\"\":\"no-\")+\"fn-start\",[c.now(),r,o],t),o)try{return n.apply(this,arguments)}finally{f.emit(\"fn-end\",[c.now()],t)}}}};a(\"setName,setAttribute,save,ignore,onEnd,getContext,end,get\".split(\",\"),function(e,n){m[n]=o(l+n)}),newrelic.noticeError=function(e){\"string\"==typeof e&&(e=new Error(e)),i(\"err\",[e,c.now()])}},{}],2:[function(e,n,t){function r(e,n){var t=[],r=\"\",i=0;for(r in e)o.call(e,r)&&(t[i]=n(r,e[r]),i+=1);return t}var o=Object.prototype.hasOwnProperty;n.exports=r},{}],3:[function(e,n,t){function r(e,n,t){n||(n=0),\"undefined\"==typeof t&&(t=e?e.length:0);for(var r=-1,o=t-n||0,i=Array(o<0?0:o);++r<o;)i[r]=e[n+r];return i}n.exports=r},{}],4:[function(e,n,t){n.exports={exists:\"undefined\"!=typeof window.performance&&window.performance.timing&&\"undefined\"!=typeof window.performance.timing.navigationStart}},{}],ee:[function(e,n,t){function r(){}function o(e){function n(e){return e&&e instanceof r?e:e?f(e,u,i):i()}function t(t,r,o,i){if(!d.aborted||i){e&&e(t,r,o);for(var a=n(o),u=m(t),f=u.length,c=0;c<f;c++)u[c].apply(a,r);var p=s[y[t]];return p&&p.push([b,t,r,a]),a}}function l(e,n){v[e]=m(e).concat(n)}function m(e){return v[e]||[]}function w(e){return p[e]=p[e]||o(t)}function g(e,n){c(e,function(e,t){n=n||\"feature\",y[t]=n,n in s||(s[n]=[])})}var v={},y={},b={on:l,emit:t,get:w,listeners:m,context:n,buffer:g,abort:a,aborted:!1};return b}function i(){return new r}function a(){(s.api||s.feature)&&(d.aborted=!0,s=d.backlog={})}var u=\"nr@context\",f=e(\"gos\"),c=e(2),s={},p={},d=n.exports=o();d.backlog=s},{}],gos:[function(e,n,t){function r(e,n,t){if(o.call(e,n))return e[n];var r=t();if(Object.defineProperty&&Object.keys)try{return Object.defineProperty(e,n,{value:r,writable:!0,enumerable:!1}),r}catch(i){}return e[n]=r,r}var o=Object.prototype.hasOwnProperty;n.exports=r},{}],handle:[function(e,n,t){function r(e,n,t,r){o.buffer([e],r),o.emit(e,n,t)}var o=e(\"ee\").get(\"handle\");n.exports=r,r.ee=o},{}],id:[function(e,n,t){function r(e){var n=typeof e;return!e||\"object\"!==n&&\"function\"!==n?-1:e===window?0:a(e,i,function(){return o++})}var o=1,i=\"nr@id\",a=e(\"gos\");n.exports=r},{}],loader:[function(e,n,t){function r(){if(!x++){var e=h.info=NREUM.info,n=d.getElementsByTagName(\"script\")[0];if(setTimeout(s.abort,3e4),!(e&&e.licenseKey&&e.applicationID&&n))return s.abort();c(y,function(n,t){e[n]||(e[n]=t)}),f(\"mark\",[\"onload\",a()+h.offset],null,\"api\");var t=d.createElement(\"script\");t.src=\"https://\"+e.agent,n.parentNode.insertBefore(t,n)}}function o(){\"complete\"===d.readyState&&i()}function i(){f(\"mark\",[\"domContent\",a()+h.offset],null,\"api\")}function a(){return E.exists&&performance.now?Math.round(performance.now()):(u=Math.max((new Date).getTime(),u))-h.offset}var u=(new Date).getTime(),f=e(\"handle\"),c=e(2),s=e(\"ee\"),p=window,d=p.document,l=\"addEventListener\",m=\"attachEvent\",w=p.XMLHttpRequest,g=w&&w.prototype;NREUM.o={ST:setTimeout,SI:p.setImmediate,CT:clearTimeout,XHR:w,REQ:p.Request,EV:p.Event,PR:p.Promise,MO:p.MutationObserver};var v=\"\"+location,y={beacon:\"bam.nr-data.net\",errorBeacon:\"bam.nr-data.net\",agent:\"js-agent.newrelic.com/nr-1044.min.js\"},b=w&&g&&g[l]&&!/CriOS/.test(navigator.userAgent),h=n.exports={offset:u,now:a,origin:v,features:{},xhrWrappable:b};e(1),d[l]?(d[l](\"DOMContentLoaded\",i,!1),p[l](\"load\",r,!1)):(d[m](\"onreadystatechange\",o),p[m](\"onload\",r)),f(\"mark\",[\"firstbyte\",u],null,\"api\");var x=0,E=e(4)},{}]},{},[\"loader\"]);</script>\\n<script>const LIFT_SEGMENTS_KEY=\\'lift-segments\\';Reader={getValueFromCookie:function(key){var b=window.document.cookie.match(\\'(^|;)\\\\\\\\s*\\'+key+\\'\\\\\\\\s*=\\\\\\\\s*([^;]+)\\');return b?decodeURIComponent(b.pop()):\\'\\';},getLiftSegments:function(){return this.getValueFromCookie(LIFT_SEGMENTS_KEY);},getReferrerMetaTag:function(){return document.head.querySelector(\"[name=qtx-referrer]\");},isSearchEngineReferral:function(){var metaTag=this.getReferrerMetaTag();return metaTag!==null;}};var dataLayerValues={};var segments=Reader.getLiftSegments();if(segments){dataLayerValues.lftsegment=segments;}\\ndataLayerValues.qtxSearchEngineReferral=Reader.isSearchEngineReferral();dataLayer=[dataLayerValues];</script>\\n<meta itemprop=\"acquia_lift:content_title\" content=\"Tecfidera, Gilenya and Aubagio&#039;s 3-way battle for MS share is about to heat up\" />\\n<meta itemprop=\"acquia_lift:content_type\" content=\"article\" />\\n<meta itemprop=\"acquia_lift:page_type\" content=\"node page\" />\\n<meta itemprop=\"acquia_lift:content_section\" content=\"DTC Advertising,Digital and Social Media,--homepage--,Launches,Pharma,Marketing\" />\\n<meta itemprop=\"acquia_lift:content_keywords\" content=\"Aubagio,Biogen,Gilenya,Novartis,Sanofi,Tecfidera\" />\\n<meta itemprop=\"acquia_lift:post_id\" content=\"360096\" />\\n<meta itemprop=\"acquia_lift:published_date\" content=\"1477875886\" />\\n<meta itemprop=\"acquia_lift:persona\" content=\"\" />\\n<meta itemprop=\"acquia_lift:engagement_score\" content=\"1\" />\\n<meta itemprop=\"acquia_lift:author\" content=\"tracy\" />\\n<meta itemprop=\"acquia_lift:account_id\" content=\"FierceMarkets\" />\\n<meta itemprop=\"acquia_lift:site_id\" content=\"fiercepharma\" />\\n<meta itemprop=\"acquia_lift:liftAssetsURL\" content=\"https://lift3assets.lift.acquia.com/stable\" />\\n<meta itemprop=\"acquia_lift:contentReplacementMode\" content=\"untrusted\" />\\n<script src=\"https://lift3assets.lift.acquia.com/stable/lift.js\" defer></script>\\n<meta name=\"gtm-article\" content=\"360096\" />\\n<meta name=\"gtm-contenttype\" content=\"Article\" />\\n<meta name=\"gtm-keywords\" content=\"Sanofi, Aubagio, Tecfidera, Biogen, Novartis, Gilenya\" />\\n<meta name=\"gtm-topics\" content=\"multiple sclerosis, drug launch, generics, payer\" />\\n<meta name=\"title\" content=\"Tecfidera, Gilenya and Aubagio&#039;s 3-way battle for MS share is about to heat up | FiercePharma\" />\\n<meta name=\"parsely-author\" content=\"Tracy Staton\" />\\n<meta name=\"parsely-image-url\" content=\"\" />\\n<meta name=\"parsely-link\" content=\"http://www.fiercepharma.com/marketing/tecfidera-gilenya-and-aubagio-s-3-way-battle-for-ms-share-about-to-get-more-interesting\" />\\n<meta name=\"parsely-metadata\" content=\"article\" />\\n<meta name=\"parsely-pub-date\" content=\"2016-10-31T06:54:17-0400\" />\\n<meta name=\"parsely-tags\" content=\"Sanofi, Aubagio, Tecfidera, Biogen, Novartis, Gilenya, multiple sclerosis, drug launch, generics, payer\" />\\n<meta name=\"parsely-title\" content=\"Tecfidera, Gilenya and Aubagio&#039;s 3-way battle for MS share is about to heat up\" />\\n<meta name=\"parsely-type\" content=\"post\" />\\n<meta name=\"gtm-section\" content=\"Marketing\" />\\n<meta name=\"description\" content=\"Multiple sclerosis drugmakers are in a fix: These days, the U.S. market isn\\xe2\\x80\\x99t delivering the kind of growth that had been fueling big increases in sales. That spells an even more intense market-share battle ahead for pack leader Biogen, close second Novartis and the fast up-and-coming Sanofi.\" />\\n<meta name=\"keywords\" content=\"Sanofi, Aubagio, Tecfidera, Biogen, Novartis, Gilenya multiple sclerosis, drug launch, generics, payer\" />\\n<meta name=\"parsely-section\" content=\"Marketing\" />\\n<meta property=\"og:image\" content=\"http://qtxasset.com/2016-10/AubagioHiRes.jpg?9VUPHXPTCvnt3i2p85LAOR983r2HyGpU\" />\\n<meta name=\"referrer\" content=\"no-referrer\" />\\n<meta name=\"Generator\" content=\"Drupal 8 (https://www.drupal.org)\" />\\n<meta name=\"MobileOptimized\" content=\"width\" />\\n<meta name=\"HandheldFriendly\" content=\"true\" />\\n<meta name=\"viewport\" content=\"width=device-width, initial-scale=1.0\" />\\n<link rel=\"shortcut icon\" href=\"/themes/custom/tektite_fierce/favicon.ico\" type=\"image/vnd.microsoft.icon\" />\\n<link rel=\"alternate\" type=\"application/rss+xml\" href=\"http://www.fiercepharma.com/rss/xml\" />\\n<link rel=\"canonical\" href=\"/marketing/tecfidera-gilenya-and-aubagio-s-3-way-battle-for-ms-share-about-to-get-more-interesting\" />\\n<link rel=\"shortlink\" href=\"/node/360096\" />\\n<link rel=\"revision\" href=\"/marketing/tecfidera-gilenya-and-aubagio-s-3-way-battle-for-ms-share-about-to-get-more-interesting\" />\\n<script>(function(w,d,s,l,i){w[l]=w[l]||[];w[l].push({\\'gtm.start\\':new Date().getTime(),event:\\'gtm.js\\'});var f=d.getElementsByTagName(s)[0];var j=d.createElement(s);var dl=l!=\\'dataLayer\\'?\\'&amp;l=\\'+l:\\'\\';j.src=\\'https://www.googletagmanager.com/gtm.js?id=\\'+i+dl+\\'\\';j.async=true;f.parentNode.insertBefore(j,f);})(window,document,\\'script\\',\\'dataLayer\\',\\'GTM-KLQFWCZ\\');</script>\\n<script>window.a2a_config=window.a2a_config||{};a2a_config.callbacks=a2a_config.callbacks||[];a2a_config.templates=a2a_config.templates||{};a2a_config.onclick = 1;\\r\\na2a_config.orientation = \"down\";\\r\\na2a_config.icon_color = \"transparent\";\\r\\na2a_config.color_link_text = \"666666\";\\r\\na2a_config.color_link_text_hover = \"333333\";</script>\\n<style>.a2a_menu, .a2a_menu_find_container { border-radius: 0 !important; }\\r\\n.a2a_menu .a2a_mini_services a span { background-color: #666666 !important; }\\r\\n.a2a_menu .a2a_mini_services a:hover span { background-color: #333333 !important; }</style>\\n\\n    <title>Tecfidera, Gilenya and Aubagio&#039;s 3-way battle for MS share is about to heat up | FiercePharma</title>\\n    <link rel=\"stylesheet\" href=\"/sites/fiercepharma/files/css/css_SU4tYtYmriNajhtRxlkVqjjbKbVdHaFjVFd0gx5gDuM.css?ovgnfq\" media=\"all\" />\\n<link rel=\"stylesheet\" href=\"/sites/fiercepharma/files/css/css_4YxNtJUEdtogsWyzNkWYMeig_ib1DFtCI5hTWvg3_O0.css?ovgnfq\" media=\"all\" />\\n\\n\\n      <script type=\"text/javascript\">\\n          /*! modernizr 3.3.1 (Custom Build) | MIT *\\n * http://modernizr.com/download/?-details-inputtypes-touchevents-addtest-prefixes-setclasses-teststyles !*/\\n!function(e,t,n){function o(e,t){return typeof e===t}function i(){var e,t,n,i,s,a,r;for(var l in d)if(d.hasOwnProperty(l)){if(e=[],t=d[l],t.name&&(e.push(t.name.toLowerCase()),t.options&&t.options.aliases&&t.options.aliases.length))for(n=0;n<t.options.aliases.length;n++)e.push(t.options.aliases[n].toLowerCase());for(i=o(t.fn,\"function\")?t.fn():t.fn,s=0;s<e.length;s++)a=e[s],r=a.split(\".\"),1===r.length?Modernizr[r[0]]=i:(!Modernizr[r[0]]||Modernizr[r[0]]instanceof Boolean||(Modernizr[r[0]]=new Boolean(Modernizr[r[0]])),Modernizr[r[0]][r[1]]=i),u.push((i?\"\":\"no-\")+r.join(\"-\"))}}function s(e){var t=m.className,n=Modernizr._config.classPrefix||\"\";if(v&&(t=t.baseVal),Modernizr._config.enableJSClass){var o=new RegExp(\"(^|\\\\\\\\s)\"+n+\"no-js(\\\\\\\\s|$)\");t=t.replace(o,\"$1\"+n+\"js$2\")}Modernizr._config.enableClasses&&(t+=\" \"+n+e.join(\" \"+n),v?m.className.baseVal=t:m.className=t)}function a(e,t){if(\"object\"==typeof e)for(var n in e)h(e,n)&&a(n,e[n]);else{e=e.toLowerCase();var o=e.split(\".\"),i=Modernizr[o[0]];if(2==o.length&&(i=i[o[1]]),\"undefined\"!=typeof i)return Modernizr;t=\"function\"==typeof t?t():t,1==o.length?Modernizr[o[0]]=t:(!Modernizr[o[0]]||Modernizr[o[0]]instanceof Boolean||(Modernizr[o[0]]=new Boolean(Modernizr[o[0]])),Modernizr[o[0]][o[1]]=t),s([(t&&0!=t?\"\":\"no-\")+o.join(\"-\")]),Modernizr._trigger(e,t)}return Modernizr}function r(){return\"function\"!=typeof t.createElement?t.createElement(arguments[0]):v?t.createElementNS.call(t,\"http://www.w3.org/2000/svg\",arguments[0]):t.createElement.apply(t,arguments)}function l(){var e=t.body;return e||(e=r(v?\"svg\":\"body\"),e.fake=!0),e}function f(e,n,o,i){var s,a,f,u,d=\"modernizr\",c=r(\"div\"),p=l();if(parseInt(o,10))for(;o--;)f=r(\"div\"),f.id=i?i[o]:d+(o+1),c.appendChild(f);return s=r(\"style\"),s.type=\"text/css\",s.id=\"s\"+d,(p.fake?p:c).appendChild(s),p.appendChild(c),s.styleSheet?s.styleSheet.cssText=e:s.appendChild(t.createTextNode(e)),c.id=d,p.fake&&(p.style.background=\"\",p.style.overflow=\"hidden\",u=m.style.overflow,m.style.overflow=\"hidden\",m.appendChild(p)),a=n(c,e),p.fake?(p.parentNode.removeChild(p),m.style.overflow=u,m.offsetHeight):c.parentNode.removeChild(c),!!a}var u=[],d=[],c={_version:\"3.3.1\",_config:{classPrefix:\"\",enableClasses:!0,enableJSClass:!0,usePrefixes:!0},_q:[],on:function(e,t){var n=this;setTimeout(function(){t(n[e])},0)},addTest:function(e,t,n){d.push({name:e,fn:t,options:n})},addAsyncTest:function(e){d.push({name:null,fn:e})}},Modernizr=function(){};Modernizr.prototype=c,Modernizr=new Modernizr;var p=c._config.usePrefixes?\" -webkit- -moz- -o- -ms- \".split(\" \"):[\"\",\"\"];c._prefixes=p;var h,m=t.documentElement,v=\"svg\"===m.nodeName.toLowerCase();!function(){var e={}.hasOwnProperty;h=o(e,\"undefined\")||o(e.call,\"undefined\")?function(e,t){return t in e&&o(e.constructor.prototype[t],\"undefined\")}:function(t,n){return e.call(t,n)}}(),c._l={},c.on=function(e,t){this._l[e]||(this._l[e]=[]),this._l[e].push(t),Modernizr.hasOwnProperty(e)&&setTimeout(function(){Modernizr._trigger(e,Modernizr[e])},0)},c._trigger=function(e,t){if(this._l[e]){var n=this._l[e];setTimeout(function(){var e,o;for(e=0;e<n.length;e++)(o=n[e])(t)},0),delete this._l[e]}},Modernizr._q.push(function(){c.addTest=a});var y=r(\"input\"),g=\"search tel url email datetime date month week time datetime-local number range color\".split(\" \"),_={};Modernizr.inputtypes=function(e){for(var o,i,s,a=e.length,r=\"1)\",l=0;a>l;l++)y.setAttribute(\"type\",o=e[l]),s=\"text\"!==y.type&&\"style\"in y,s&&(y.value=r,y.style.cssText=\"position:absolute;visibility:hidden;\",/^range$/.test(o)&&y.style.WebkitAppearance!==n?(m.appendChild(y),i=t.defaultView,s=i.getComputedStyle&&\"textfield\"!==i.getComputedStyle(y,null).WebkitAppearance&&0!==y.offsetHeight,m.removeChild(y)):/^(search|tel)$/.test(o)||(s=/^(url|email)$/.test(o)?y.checkValidity&&y.checkValidity()===!1:y.value!=r)),_[e[l]]=!!s;return _}(g);var w=c.testStyles=f;Modernizr.addTest(\"touchevents\",function(){var n;if(\"ontouchstart\"in e||e.DocumentTouch&&t instanceof DocumentTouch)n=!0;else{var o=[\"@media (\",p.join(\"touch-enabled),(\"),\"heartz\",\")\",\"{#modernizr{top:9px;position:absolute}}\"].join(\"\");w(o,function(e){n=9===e.offsetTop})}return n}),Modernizr.addTest(\"details\",function(){var e,t=r(\"details\");return\"open\"in t?(w(\"#modernizr details{display:block}\",function(n){n.appendChild(t),t.innerHTML=\"<summary>a</summary>b\",e=t.offsetHeight,t.open=!0,e=e!=t.offsetHeight}),e):!1}),i(),s(u),delete c.addTest,delete c.addAsyncTest;for(var b=0;b<Modernizr._q.length;b++)Modernizr._q[b]();e.Modernizr=Modernizr}(window,document);\\n      </script>\\n\\n    \\n<!--[if lte IE 8]>\\n<script src=\"/sites/fiercepharma/files/js/js_VtafjXmRvoUgAzqzYTA3Wrjkx9wcWhjP0G4ZnnqRamA.js\"></script>\\n<![endif]-->\\n<script src=\"//use.typekit.net/bmi3gnp.js\" async defer></script>\\n<script src=\"/sites/fiercepharma/files/js/js_ozV2cpnXKyS-tjjiGBrrhmvVIfqVqBKSf9c4k8FrQpo.js\" async defer></script>\\n\\n\\n    <!-- Start Taboola -->\\n    <script type=\"text/javascript\">\\n      window._taboola = window._taboola || [];\\n      _taboola.push({article:\\'auto\\'});\\n      !function (e, f, u) {\\n        e.async = 1;\\n        e.src = u;\\n        f.parentNode.insertBefore(e, f);\\n      }(document.createElement(\\'script\\'),\\n        document.getElementsByTagName(\\'script\\')[0],\\n        \\'//cdn.taboola.com/libtrc/questex-network/loader.js\\');\\n    </script>\\n    <!-- End Taboola -->\\n\\n    <link rel=\"apple-touch-icon\" sizes=\"57x57\" href=\"/themes/custom/tektite_fierce/apple-touch-icon-57x57.png?v=wAAmkK2yLl\">\\n    <link rel=\"apple-touch-icon\" sizes=\"60x60\" href=\"/themes/custom/tektite_fierce/apple-touch-icon-60x60.png?v=wAAmkK2yLl\">\\n    <link rel=\"apple-touch-icon\" sizes=\"72x72\" href=\"/themes/custom/tektite_fierce/apple-touch-icon-72x72.png?v=wAAmkK2yLl\">\\n    <link rel=\"apple-touch-icon\" sizes=\"76x76\" href=\"/themes/custom/tektite_fierce/apple-touch-icon-76x76.png?v=wAAmkK2yLl\">\\n    <link rel=\"apple-touch-icon\" sizes=\"114x114\" href=\"/themes/custom/tektite_fierce/apple-touch-icon-114x114.png?v=wAAmkK2yLl\">\\n    <link rel=\"apple-touch-icon\" sizes=\"120x120\" href=\"/themes/custom/tektite_fierce/apple-touch-icon-120x120.png?v=wAAmkK2yLl\">\\n    <link rel=\"apple-touch-icon\" sizes=\"144x144\" href=\"/themes/custom/tektite_fierce/apple-touch-icon-144x144.png?v=wAAmkK2yLl\">\\n    <link rel=\"apple-touch-icon\" sizes=\"152x152\" href=\"/themes/custom/tektite_fierce/apple-touch-icon-152x152.png?v=wAAmkK2yLl\">\\n    <link rel=\"apple-touch-icon\" sizes=\"180x180\" href=\"/themes/custom/tektite_fierce/apple-touch-icon-180x180.png?v=wAAmkK2yLl\">\\n    <link rel=\"icon\" type=\"image/png\" href=\"/themes/custom/tektite_fierce/favicon-32x32.png?v=wAAmkK2yLl\" sizes=\"32x32\">\\n    <link rel=\"icon\" type=\"image/png\" href=\"/themes/custom/tektite_fierce/favicon-194x194.png?v=wAAmkK2yLl\" sizes=\"194x194\">\\n    <link rel=\"icon\" type=\"image/png\" href=\"/themes/custom/tektite_fierce/favicon-96x96.png?v=wAAmkK2yLl\" sizes=\"96x96\">\\n    <link rel=\"icon\" type=\"image/png\" href=\"/themes/custom/tektite_fierce/android-chrome-192x192.png?v=wAAmkK2yLl\" sizes=\"192x192\">\\n    <link rel=\"icon\" type=\"image/png\" href=\"/themes/custom/tektite_fierce/favicon-16x16.png?v=wAAmkK2yLl\" sizes=\"16x16\">\\n    <link rel=\"manifest\" href=\"/themes/custom/tektite_fierce/manifest.json?v=wAAmkK2yLl\">\\n    <link rel=\"mask-icon\" href=\"/themes/custom/tektite_fierce/safari-pinned-tab.svg?v=wAAmkK2yLl\" color=\"#002358\">\\n    <link rel=\"shortcut icon\" href=\"/themes/custom/tektite_fierce/favicon.ico?v=wAAmkK2yLl\">\\n    <meta name=\"msapplication-TileColor\" content=\"#da532c\">\\n    <meta name=\"msapplication-TileImage\" content=\"/themes/custom/tektite_fierce/mstile-144x144.png?v=wAAmkK2yLl\">\\n    <meta name=\"theme-color\" content=\"#ffffff\">\\n  </head>\\n\\n  <body class=\"sidebar-second path-node page-node-type-article\">\\n\\n    <div class=\"page-container\">\\n      <a href=\"#main-content\" class=\"visually-hidden focusable\">Skip to main content</a>\\n      <noscript><iframe src=\"https://www.googletagmanager.com/ns.html?id=GTM-KLQFWCZ\" height=\"0\" width=\"0\"></iframe></noscript>\\n      \\n<div id=\"scrollProgress\"></div>\\n\\n  <div id=\"header-top\">\\n    <div class=\"wrapper\">\\n        <div class=\"region region-header-top\">\\n    <div id=\"block-tektitegenericadinterstitialblock\" class=\"block block-tektite-generic-blocks block-tektite-generic-ad-interstitial\">\\n  \\n    \\n                      <div id=\\'interstitial\\'>\\n                  <script type=\\'text/javascript\\'>\\n                    document.addEventListener(\"googletagEvent\", function() {\\n                      googletag.cmd.push(function() { googletag.display(\\'interstitial\\'); });\\n                    });\\n                  </script>\\n                </div>\\n  </div>\\n<div id=\"block-tektitegenericmobileadhesionadblock\" class=\"block block-tektite-generic-blocks block-tektite-generic-ad-mobile-adhesion\">\\n  \\n    \\n                      <div id=\\'mobile-adhesion\\'>\\n                <script type=\\'text/javascript\\'>\\n                document.addEventListener(\"googletagEvent\", function() {\\n                googletag.cmd.push(function() { googletag.display(\\'mobile-adhesion\\'); });\\n                });\\n                </script>\\n                </div>\\n  </div>\\n<div id=\"block-tektitegenericadwallpaperblock\" class=\"block block-tektite-generic-blocks block-tektite-generic-ad-wallpaper\">\\n  \\n    \\n                      <div id=\\'wallpaper\\'>\\n                  <script type=\\'text/javascript\\'>\\n                    document.addEventListener(\"googletagEvent\", function() {\\n                      googletag.cmd.push(function() { googletag.display(\\'wallpaper\\'); });\\n                    });\\n                  </script>\\n                </div>\\n  </div>\\n<div id=\"block-tektitegenericadheaderblock\" class=\"block block-tektite-generic-blocks block-tektite-generic-ad-header\">\\n  \\n    \\n                      <div id=\\'header-ad-wrapper\\'>\\n                <div id=\\'header-ad\\'>\\n                  <script type=\\'text/javascript\\'>\\n                    document.addEventListener(\"googletagEvent\", function() {\\n                      googletag.cmd.push(function() { googletag.display(\\'header-ad\\'); });\\n                    });\\n                  </script>\\n                </div>\\n                </div>\\n  </div>\\n\\n  </div>\\n\\n    </div>\\n  </div>\\n\\n  <header id=\"header\" role=\"banner\">\\n    <div class=\"wrapper\">\\n        <div class=\"region region-header\">\\n    <div id=\"block-tektitesocialshareblock\" class=\"block block-tektite-generic-blocks block-social-share-block\">\\n  \\n    \\n                                          <a class=\"icon icon-twitter\" href=\\'https://twitter.com/fiercepharma\\'>Twitter</a>\\n                                            <a class=\"icon icon-linkedin-squared\" href=\\'https://www.linkedin.com/groups/5042642\\'>LinkedIn</a>\\n                    \\n  </div>\\n<div class=\"search-api-page-block-form block block-search-api-page block-search-api-page-form-block\" data-drupal-selector=\"search-api-page-block-form\" autocomplete=\"off\" id=\"block-searchapipagesearchblockform\">\\n  \\n    \\n      <form action=\"/marketing/tecfidera-gilenya-and-aubagio-s-3-way-battle-for-ms-share-about-to-get-more-interesting\" method=\"post\" id=\"search-api-page-block-form\" accept-charset=\"UTF-8\">\\n  <div class=\"js-form-item form-item js-form-type-search form-type-search js-form-item-keys form-item-keys form-no-label\">\\n      <label for=\"edit-keys\" class=\"visually-hidden\">Search</label>\\n        <input title=\"Enter the terms you wish to search for.\" data-drupal-selector=\"edit-keys\" type=\"search\" id=\"edit-keys\" name=\"keys\" value=\"\" size=\"15\" maxlength=\"128\" class=\"form-search\" />\\n\\n        </div>\\n<input data-drupal-selector=\"form-qffrn6xa65cb8xcizkiokubdadwhoxg1-n7srlppari\" type=\"hidden\" name=\"form_build_id\" value=\"form-QffRn6XA65Cb8XciZkIokUbDADwhoXG1-n7SrLPparI\" />\\n<input data-drupal-selector=\"edit-search-api-page-block-form\" type=\"hidden\" name=\"form_id\" value=\"search_api_page_block_form\" />\\n<div data-drupal-selector=\"edit-actions\" class=\"form-actions js-form-wrapper form-wrapper\" id=\"edit-actions\"><input data-drupal-selector=\"edit-submit\" type=\"submit\" id=\"edit-submit\" name=\"op\" value=\"Search\" class=\"button js-form-submit form-submit\" />\\n</div>\\n\\n</form>\\n\\n  </div>\\n<nav role=\"navigation\" aria-labelledby=\"block-topmenu-menu\" id=\"block-topmenu\" class=\"block block-menu navigation menu--top-menu\">\\n            \\n  <h2 class=\"visually-hidden\" id=\"block-topmenu-menu\">Top Menu</h2>\\n  \\n\\n        \\n              <ul class=\"menu\">\\n                    <li class=\"menu-item\">\\n        <a href=\"http://www.fiercedrugdevforum.com/\">DDF 2017</a>\\n              </li>\\n                <li class=\"menu-item\">\\n        <a href=\"http://www.fiercebiotech.com/\">FierceBiotech</a>\\n              </li>\\n                <li class=\"menu-item\">\\n        <a href=\"http://jobs.fiercebiotech.com/\">Jobs</a>\\n              </li>\\n                <li class=\"menu-item\">\\n        <a href=\"/resources\" data-drupal-link-system-path=\"resources\">Resources</a>\\n              </li>\\n                <li class=\"menu-item\">\\n        <a href=\"/events\">Events</a>\\n              </li>\\n                <li class=\"menu-item\">\\n        <a href=\"https://pages.questexweb.com/FiercePharma-Newsletter-Signup.html\" title=\"Subscribe\">Subscribe</a>\\n              </li>\\n        </ul>\\n  \\n\\n\\n  </nav>\\n<div id=\"block-tektite-pharma-branding\" class=\"block block-system block-system-branding-block\">\\n  \\n    \\n              <div class=\"site-logo\">\\n            <a href=\"/\" title=\"Home\" rel=\"home\">\\n                <img src=\"/themes/custom/tektite_fierce/assets/images/logo/logo-pharma.svg\" alt=\"Home\"/>\\n            </a>\\n        </div>\\n    \\n    <div class=\"questex-logo\">\\n        <a href=\"http://questex.com\" target=\"_blank\" title=\"Questex\">\\n            <img src=\"/themes/custom/tektite/assets/images/logo-questex.svg\" alt=\"Questex\"/>\\n        </a>\\n    </div>\\n\\n    </div>\\n<nav role=\"navigation\" aria-labelledby=\"block-mainnavigation-menu\" id=\"block-mainnavigation\" class=\"block block-menu navigation menu--main\">\\n            \\n  <h2 class=\"visually-hidden\" id=\"block-mainnavigation-menu\">Main navigation</h2>\\n  \\n\\n        \\n              <ul class=\"menu\">\\n                    <li class=\"menu-item menu-item--expanded\">\\n        <a href=\"/pharma\" data-drupal-link-system-path=\"taxonomy/term/201\">Pharma</a>\\n                                <ul class=\"menu\">\\n                    <li class=\"menu-item\">\\n        <a href=\"/pharma/m-a\" data-drupal-link-system-path=\"taxonomy/term/206\">M&amp;A</a>\\n              </li>\\n                <li class=\"menu-item\">\\n        <a href=\"/pharma/regulatory\" data-drupal-link-system-path=\"taxonomy/term/211\">Regulatory</a>\\n              </li>\\n                <li class=\"menu-item\">\\n        <a href=\"/pharma/financials\" data-drupal-link-system-path=\"taxonomy/term/221\">Financials</a>\\n              </li>\\n                <li class=\"menu-item\">\\n        <a href=\"/pharma/corporate\" data-drupal-link-system-path=\"taxonomy/term/231\">Corporate</a>\\n              </li>\\n                <li class=\"menu-item\">\\n        <a href=\"/pharma/legal\" data-drupal-link-system-path=\"taxonomy/term/236\">Legal</a>\\n              </li>\\n        </ul>\\n  \\n              </li>\\n                <li class=\"menu-item menu-item--expanded\">\\n        <a href=\"/manufacturing\" data-drupal-link-system-path=\"taxonomy/term/166\">Manufacturing</a>\\n                                <ul class=\"menu\">\\n                    <li class=\"menu-item\">\\n        <a href=\"/manufacturing/m-a\" data-drupal-link-system-path=\"taxonomy/term/171\">M&amp;A</a>\\n              </li>\\n                <li class=\"menu-item\">\\n        <a href=\"/manufacturing/outsourcing\" data-drupal-link-system-path=\"taxonomy/term/176\">Outsourcing</a>\\n              </li>\\n                <li class=\"menu-item\">\\n        <a href=\"/manufacturing/regulatory\" data-drupal-link-system-path=\"taxonomy/term/181\">Regulatory</a>\\n              </li>\\n                <li class=\"menu-item\">\\n        <a href=\"/manufacturing/supply-chain\" data-drupal-link-system-path=\"taxonomy/term/186\">Supply Chain</a>\\n              </li>\\n                <li class=\"menu-item\">\\n        <a href=\"/manufacturing/partnering\" data-drupal-link-system-path=\"taxonomy/term/196\">Partnering</a>\\n              </li>\\n                <li class=\"menu-item\">\\n        <a href=\"/manufacturing/drug-safety\" data-drupal-link-system-path=\"taxonomy/term/191\">Drug Safety</a>\\n              </li>\\n        </ul>\\n  \\n              </li>\\n                <li class=\"menu-item menu-item--expanded\">\\n        <a href=\"/marketing\" data-drupal-link-system-path=\"taxonomy/term/126\">Marketing</a>\\n                                <ul class=\"menu\">\\n                    <li class=\"menu-item\">\\n        <a href=\"/marketing/regulatory\" data-drupal-link-system-path=\"taxonomy/term/356\">Regulatory</a>\\n              </li>\\n                <li class=\"menu-item\">\\n        <a href=\"/marketing/dtc-advertising\" data-drupal-link-system-path=\"taxonomy/term/131\">DTC Advertising</a>\\n              </li>\\n                <li class=\"menu-item\">\\n        <a href=\"/marketing/digital-and-social-media\" data-drupal-link-system-path=\"taxonomy/term/141\">Digital and Social Media</a>\\n              </li>\\n                <li class=\"menu-item\">\\n        <a href=\"/marketing/data-and-analytics\" data-drupal-link-system-path=\"taxonomy/term/151\">Data and Analytics</a>\\n              </li>\\n                <li class=\"menu-item\">\\n        <a href=\"/marketing/launches\" data-drupal-link-system-path=\"taxonomy/term/161\">Launches</a>\\n              </li>\\n        </ul>\\n  \\n              </li>\\n                <li class=\"menu-item menu-item--expanded\">\\n        <a href=\"/pharma-asia\" data-drupal-link-system-path=\"taxonomy/term/91\">Pharma Asia</a>\\n                                <ul class=\"menu\">\\n                    <li class=\"menu-item\">\\n        <a href=\"/pharma-asia/m-a\" data-drupal-link-system-path=\"taxonomy/term/96\">M&amp;A</a>\\n              </li>\\n                <li class=\"menu-item\">\\n        <a href=\"/pharma-asia/r-d\" data-drupal-link-system-path=\"taxonomy/term/101\">R&amp;D</a>\\n              </li>\\n                <li class=\"menu-item\">\\n        <a href=\"/pharma-asia/regulatory\" data-drupal-link-system-path=\"taxonomy/term/106\">Regulatory</a>\\n              </li>\\n                <li class=\"menu-item\">\\n        <a href=\"/pharma-asia/sales-and-marketing\" data-drupal-link-system-path=\"taxonomy/term/111\">Sales and Marketing</a>\\n              </li>\\n                <li class=\"menu-item\">\\n        <a href=\"/pharma-asia/financials\" data-drupal-link-system-path=\"taxonomy/term/121\">Financials</a>\\n              </li>\\n                <li class=\"menu-item\">\\n        <a href=\"/pharma-asia/manufacturing\" data-drupal-link-system-path=\"taxonomy/term/33286\">Manufacturing</a>\\n              </li>\\n        </ul>\\n  \\n              </li>\\n                <li class=\"menu-item menu-item--expanded\">\\n        <a href=\"/animal-health\" data-drupal-link-system-path=\"taxonomy/term/56\">Animal Health</a>\\n                                <ul class=\"menu\">\\n                    <li class=\"menu-item\">\\n        <a href=\"/animal-health/r-d\" data-drupal-link-system-path=\"taxonomy/term/61\">R&amp;D</a>\\n              </li>\\n                <li class=\"menu-item\">\\n        <a href=\"/animal-health/m-a\" data-drupal-link-system-path=\"taxonomy/term/66\">M&amp;A</a>\\n              </li>\\n                <li class=\"menu-item\">\\n        <a href=\"/animal-health/regulatory\" data-drupal-link-system-path=\"taxonomy/term/71\">Regulatory</a>\\n              </li>\\n                <li class=\"menu-item\">\\n        <a href=\"/animal-health/veterinarian\" data-drupal-link-system-path=\"taxonomy/term/76\">Veterinarian</a>\\n              </li>\\n                <li class=\"menu-item\">\\n        <a href=\"/animal-health/financials\" data-drupal-link-system-path=\"taxonomy/term/81\">Financials</a>\\n              </li>\\n                <li class=\"menu-item\">\\n        <a href=\"/animal-health/vaccines\" data-drupal-link-system-path=\"taxonomy/term/86\">Vaccines</a>\\n              </li>\\n        </ul>\\n  \\n              </li>\\n                <li class=\"menu-item menu-item--expanded\">\\n        <a href=\"/drug-delivery\" data-drupal-link-system-path=\"taxonomy/term/26\">Drug Delivery</a>\\n                                <ul class=\"menu\">\\n                    <li class=\"menu-item\">\\n        <a href=\"/drug-delivery/r-d\" data-drupal-link-system-path=\"taxonomy/term/31\">R&amp;D</a>\\n              </li>\\n                <li class=\"menu-item\">\\n        <a href=\"/drug-delivery/regulatory\" data-drupal-link-system-path=\"taxonomy/term/41\">Regulatory</a>\\n              </li>\\n                <li class=\"menu-item\">\\n        <a href=\"/drug-delivery/partnering\" data-drupal-link-system-path=\"taxonomy/term/46\">Partnering</a>\\n              </li>\\n        </ul>\\n  \\n              </li>\\n                <li class=\"menu-item menu-item--expanded\">\\n        <a href=\"/vaccines\" data-drupal-link-system-path=\"taxonomy/term/1\">Vaccines</a>\\n                                <ul class=\"menu\">\\n                    <li class=\"menu-item\">\\n        <a href=\"/vaccines/deals\" data-drupal-link-system-path=\"taxonomy/term/11\">Deals</a>\\n              </li>\\n                <li class=\"menu-item\">\\n        <a href=\"/vaccines/infectious-diseases\" data-drupal-link-system-path=\"taxonomy/term/21\">Infectious Diseases</a>\\n              </li>\\n                <li class=\"menu-item\">\\n        <a href=\"/vaccines/r-d\" data-drupal-link-system-path=\"taxonomy/term/6\">R&amp;D</a>\\n              </li>\\n                <li class=\"menu-item\">\\n        <a href=\"/vaccines/regulatory\" data-drupal-link-system-path=\"taxonomy/term/16\">Regulatory</a>\\n              </li>\\n        </ul>\\n  \\n              </li>\\n        </ul>\\n  \\n\\n\\n  </nav>\\n<nav role=\"navigation\" aria-labelledby=\"block-mainnavigation-mobile-menu\" id=\"block-mainnavigation-mobile\" class=\"block block-menu navigation menu--main\">\\n            \\n  <h2 class=\"visually-hidden\" id=\"block-mainnavigation-mobile-menu\">Main navigation - Mobile</h2>\\n  \\n\\n        \\n              <ul class=\"menu\">\\n                    <li class=\"menu-item menu-item--expanded\">\\n        <a href=\"/pharma\" data-drupal-link-system-path=\"taxonomy/term/201\">Pharma</a>\\n                                <ul class=\"menu\">\\n                    <li class=\"menu-item\">\\n        <a href=\"/pharma/m-a\" data-drupal-link-system-path=\"taxonomy/term/206\">M&amp;A</a>\\n              </li>\\n                <li class=\"menu-item\">\\n        <a href=\"/pharma/regulatory\" data-drupal-link-system-path=\"taxonomy/term/211\">Regulatory</a>\\n              </li>\\n                <li class=\"menu-item\">\\n        <a href=\"/pharma/financials\" data-drupal-link-system-path=\"taxonomy/term/221\">Financials</a>\\n              </li>\\n                <li class=\"menu-item\">\\n        <a href=\"/pharma/corporate\" data-drupal-link-system-path=\"taxonomy/term/231\">Corporate</a>\\n              </li>\\n                <li class=\"menu-item\">\\n        <a href=\"/pharma/legal\" data-drupal-link-system-path=\"taxonomy/term/236\">Legal</a>\\n              </li>\\n        </ul>\\n  \\n              </li>\\n                <li class=\"menu-item menu-item--expanded\">\\n        <a href=\"/manufacturing\" data-drupal-link-system-path=\"taxonomy/term/166\">Manufacturing</a>\\n                                <ul class=\"menu\">\\n                    <li class=\"menu-item\">\\n        <a href=\"/manufacturing/m-a\" data-drupal-link-system-path=\"taxonomy/term/171\">M&amp;A</a>\\n              </li>\\n                <li class=\"menu-item\">\\n        <a href=\"/manufacturing/outsourcing\" data-drupal-link-system-path=\"taxonomy/term/176\">Outsourcing</a>\\n              </li>\\n                <li class=\"menu-item\">\\n        <a href=\"/manufacturing/regulatory\" data-drupal-link-system-path=\"taxonomy/term/181\">Regulatory</a>\\n              </li>\\n                <li class=\"menu-item\">\\n        <a href=\"/manufacturing/supply-chain\" data-drupal-link-system-path=\"taxonomy/term/186\">Supply Chain</a>\\n              </li>\\n                <li class=\"menu-item\">\\n        <a href=\"/manufacturing/partnering\" data-drupal-link-system-path=\"taxonomy/term/196\">Partnering</a>\\n              </li>\\n                <li class=\"menu-item\">\\n        <a href=\"/manufacturing/drug-safety\" data-drupal-link-system-path=\"taxonomy/term/191\">Drug Safety</a>\\n              </li>\\n        </ul>\\n  \\n              </li>\\n                <li class=\"menu-item menu-item--expanded\">\\n        <a href=\"/marketing\" data-drupal-link-system-path=\"taxonomy/term/126\">Marketing</a>\\n                                <ul class=\"menu\">\\n                    <li class=\"menu-item\">\\n        <a href=\"/marketing/regulatory\" data-drupal-link-system-path=\"taxonomy/term/356\">Regulatory</a>\\n              </li>\\n                <li class=\"menu-item\">\\n        <a href=\"/marketing/dtc-advertising\" data-drupal-link-system-path=\"taxonomy/term/131\">DTC Advertising</a>\\n              </li>\\n                <li class=\"menu-item\">\\n        <a href=\"/marketing/digital-and-social-media\" data-drupal-link-system-path=\"taxonomy/term/141\">Digital and Social Media</a>\\n              </li>\\n                <li class=\"menu-item\">\\n        <a href=\"/marketing/data-and-analytics\" data-drupal-link-system-path=\"taxonomy/term/151\">Data and Analytics</a>\\n              </li>\\n                <li class=\"menu-item\">\\n        <a href=\"/marketing/launches\" data-drupal-link-system-path=\"taxonomy/term/161\">Launches</a>\\n              </li>\\n        </ul>\\n  \\n              </li>\\n                <li class=\"menu-item menu-item--expanded\">\\n        <a href=\"/pharma-asia\" data-drupal-link-system-path=\"taxonomy/term/91\">Pharma Asia</a>\\n                                <ul class=\"menu\">\\n                    <li class=\"menu-item\">\\n        <a href=\"/pharma-asia/m-a\" data-drupal-link-system-path=\"taxonomy/term/96\">M&amp;A</a>\\n              </li>\\n                <li class=\"menu-item\">\\n        <a href=\"/pharma-asia/r-d\" data-drupal-link-system-path=\"taxonomy/term/101\">R&amp;D</a>\\n              </li>\\n                <li class=\"menu-item\">\\n        <a href=\"/pharma-asia/regulatory\" data-drupal-link-system-path=\"taxonomy/term/106\">Regulatory</a>\\n              </li>\\n                <li class=\"menu-item\">\\n        <a href=\"/pharma-asia/sales-and-marketing\" data-drupal-link-system-path=\"taxonomy/term/111\">Sales and Marketing</a>\\n              </li>\\n                <li class=\"menu-item\">\\n        <a href=\"/pharma-asia/financials\" data-drupal-link-system-path=\"taxonomy/term/121\">Financials</a>\\n              </li>\\n                <li class=\"menu-item\">\\n        <a href=\"/pharma-asia/manufacturing\" data-drupal-link-system-path=\"taxonomy/term/33286\">Manufacturing</a>\\n              </li>\\n        </ul>\\n  \\n              </li>\\n                <li class=\"menu-item menu-item--expanded\">\\n        <a href=\"/animal-health\" data-drupal-link-system-path=\"taxonomy/term/56\">Animal Health</a>\\n                                <ul class=\"menu\">\\n                    <li class=\"menu-item\">\\n        <a href=\"/animal-health/r-d\" data-drupal-link-system-path=\"taxonomy/term/61\">R&amp;D</a>\\n              </li>\\n                <li class=\"menu-item\">\\n        <a href=\"/animal-health/m-a\" data-drupal-link-system-path=\"taxonomy/term/66\">M&amp;A</a>\\n              </li>\\n                <li class=\"menu-item\">\\n        <a href=\"/animal-health/regulatory\" data-drupal-link-system-path=\"taxonomy/term/71\">Regulatory</a>\\n              </li>\\n                <li class=\"menu-item\">\\n        <a href=\"/animal-health/veterinarian\" data-drupal-link-system-path=\"taxonomy/term/76\">Veterinarian</a>\\n              </li>\\n                <li class=\"menu-item\">\\n        <a href=\"/animal-health/financials\" data-drupal-link-system-path=\"taxonomy/term/81\">Financials</a>\\n              </li>\\n                <li class=\"menu-item\">\\n        <a href=\"/animal-health/vaccines\" data-drupal-link-system-path=\"taxonomy/term/86\">Vaccines</a>\\n              </li>\\n        </ul>\\n  \\n              </li>\\n                <li class=\"menu-item menu-item--expanded\">\\n        <a href=\"/drug-delivery\" data-drupal-link-system-path=\"taxonomy/term/26\">Drug Delivery</a>\\n                                <ul class=\"menu\">\\n                    <li class=\"menu-item\">\\n        <a href=\"/drug-delivery/r-d\" data-drupal-link-system-path=\"taxonomy/term/31\">R&amp;D</a>\\n              </li>\\n                <li class=\"menu-item\">\\n        <a href=\"/drug-delivery/regulatory\" data-drupal-link-system-path=\"taxonomy/term/41\">Regulatory</a>\\n              </li>\\n                <li class=\"menu-item\">\\n        <a href=\"/drug-delivery/partnering\" data-drupal-link-system-path=\"taxonomy/term/46\">Partnering</a>\\n              </li>\\n        </ul>\\n  \\n              </li>\\n                <li class=\"menu-item menu-item--expanded\">\\n        <a href=\"/vaccines\" data-drupal-link-system-path=\"taxonomy/term/1\">Vaccines</a>\\n                                <ul class=\"menu\">\\n                    <li class=\"menu-item\">\\n        <a href=\"/vaccines/deals\" data-drupal-link-system-path=\"taxonomy/term/11\">Deals</a>\\n              </li>\\n                <li class=\"menu-item\">\\n        <a href=\"/vaccines/infectious-diseases\" data-drupal-link-system-path=\"taxonomy/term/21\">Infectious Diseases</a>\\n              </li>\\n                <li class=\"menu-item\">\\n        <a href=\"/vaccines/r-d\" data-drupal-link-system-path=\"taxonomy/term/6\">R&amp;D</a>\\n              </li>\\n                <li class=\"menu-item\">\\n        <a href=\"/vaccines/regulatory\" data-drupal-link-system-path=\"taxonomy/term/16\">Regulatory</a>\\n              </li>\\n        </ul>\\n  \\n              </li>\\n        </ul>\\n  \\n\\n\\n  </nav>\\n\\n  </div>\\n\\n    </div>\\n  </header>\\n\\n  <div id=\"help\">\\n    <div class=\"wrapper\">\\n        <div class=\"region region-help\">\\n    \\n\\n\\n  </div>\\n\\n    </div>\\n  </div>\\n\\n<main id=\"main\" role=\"main\">\\n      \\n  \\n  <div id=\"content\">\\n    <div class=\"taxonomy-primary\"><div about=\"/marketing\" id=\"taxonomy-term-126\" class=\"taxonomy-term vocabulary-taxonomy\">\\n  \\n      <h2><a href=\"/marketing\">\\n            <div>Marketing</div>\\n      </a></h2>\\n    \\n  <div class=\"content\">\\n    \\n  </div>\\n</div>\\n</div>\\n    <a id=\"main-content\" tabindex=\"-1\"></a>      <div class=\"region region-content\">\\n    <div id=\"block-tektite-pharma-page-title\" class=\"block block-core block-page-title-block\">\\n  \\n    \\n      \\n  <h1 class=\"page-title\"><span property=\"schema:name\">Tecfidera, Gilenya and Aubagio&#039;s 3-way battle for MS share is about to heat up</span>\\n</h1>\\n\\n\\n  </div>\\n<div id=\"block-tektite-pharma-content\" class=\"block block-system block-system-main-block\">\\n  \\n    \\n      \\n\\n<article role=\"article\" about=\"/marketing/tecfidera-gilenya-and-aubagio-s-3-way-battle-for-ms-share-about-to-get-more-interesting\" typeof=\"schema:Article\" class=\"node node--type-article node--promoted node--view-mode-full\">\\n    <div id=\"nodeid\" data-nid=\"360096\" style=\"display:none\"></div>\\n\\n    \\n          <span property=\"schema:name\" content=\"Tecfidera, Gilenya and Aubagio&#039;s 3-way battle for MS share is about to heat up\" class=\"rdf-meta hidden\"></span>\\n\\n\\n    <footer class=\"node__meta\">\\n        <div class=\"node__submitted\">\\n                            by                                    <a href=\"/author/tracy-staton\">Tracy Staton</a>                                | \\n            <div><time datetime=\"2016-10-31T10:54:17Z\" property=\"schema:datePublished\">Oct 31, 2016 6:54am</time>\\n</div>\\n      \\n                    </div>\\n    </footer>\\n\\n    <div class=\"thumbnail-image\">\\n                                            \\n            <div>\\n            <div>    <img srcset=\"http://qtxasset.com/styles/breakpoint_md_448px_w/s3fs/2016-10/AubagioHiRes.jpg?ET_NtbtD7HjpJMK87s.lvy34GT0IObkS&amp;itok=XOvwBmjY 448w, http://qtxasset.com/styles/breakpoint_l_640px_w/s3fs/2016-10/AubagioHiRes.jpg?3DFKlgg6SthfXwfRkLvKVvLObBBr1iQr&amp;itok=VOrOZoF- 640w, http://qtxasset.com/styles/breakpoint_sm_800px_w/s3fs/2016-10/AubagioHiRes.jpg?8tzT8EG3O_RzdDxcgXSlpNbAdOJ8dsyS&amp;itok=7-Lr5QZY 800w, http://qtxasset.com/styles/breakpoint_xl_880px_w/s3fs/2016-10/AubagioHiRes.jpg?h9zDDRdULDgBc.iXvPvki8MvyNsQm6_2&amp;itok=riLfXSuq 880w\" sizes=\"(min-width:1220px) 880px, (min-width: 980px) and (max-width: 1219px) 640px, (min-width: 788px) 448px, min-width: 481px) 800px\" src=\"http://qtxasset.com/styles/breakpoint_sm_default_480px_w/s3fs/2016-10/AubagioHiRes.jpg?CGxDlKfg0trkAa771.JcaWxfWwX9z8hr&amp;itok=Unng66oF\" alt=\"\" typeof=\"foaf:Image\" />\\n\\n\\n</div>\\n      </div>\\n      \\n            \\n            <div class=\"caption\">\\n                            \\n                </div>\\n                        </div>\\n\\n    <div class=\"node__container\">\\n                    <div class=\"social-container stickem-container\">\\n                <div class=\"social-share stickem\"><span class=\"a2a_kit a2a_kit_size_32 addtoany_list\" data-a2a-url=\"http://www.fiercepharma.com/marketing/tecfidera-gilenya-and-aubagio-s-3-way-battle-for-ms-share-about-to-get-more-interesting\" data-a2a-title=\"Tecfidera, Gilenya and Aubagio&#039;s 3-way battle for MS share is about to heat up\"><a class=\"a2a_dd addtoany_share_save\" href=\"https://www.addtoany.com/share#url=http%3A%2F%2Fwww.fiercepharma.com%2Fmarketing%2Ftecfidera-gilenya-and-aubagio-s-3-way-battle-for-ms-share-about-to-get-more-interesting&amp;title=Tecfidera%2C%20Gilenya%20and%20Aubagio%26%23039%3Bs%203-way%20battle%20for%20MS%20share%20is%20about%20to%20heat%20up\"></a><a class=\"a2a_button_facebook\"></a>\\r\\n<a class=\"a2a_button_twitter\"></a>\\r\\n<a class=\"a2a_button_linkedin\"></a>\\r\\n<a class=\"a2a_button_email\"></a>\\r\\n<a class=\"a2a_button_print\"></a></span>\\n</div>\\n            </div>\\n        \\n        <div class=\"node__content\">\\n            \\n            <div property=\"schema:articleBody\"><p>Multiple sclerosis drugmakers are in a fix: These days, the U.S. market isn\\xe2\\x80\\x99t delivering the kind of growth that had been fueling big increases in sales.</p>\\n\\n<p>For high-flying pills from Biogen (Tecfidera) and Novartis (Gilenya), that could mean an unwelcome comedown. It definitely means\\xc2\\xa0 the coming market-share battle will grow even more competitive than before. If the quickest way to grow sales is to steal share, you can bet Tecfidera and Gilenya--and their up-and-coming rival med from Sanofi, Aubagio--will be working hard to do just that.</p>\\n\\n<p>Thing is, Biogen isn\\xe2\\x80\\x99t on that sort of growth trajectory. It\\xe2\\x80\\x99s the market leader--with 51% share of the oral market and 20% of MS overall, as EVP Michel Vounatsos hastened to point out during the company\\xe2\\x80\\x99s earnings call with analysts last week. But Tecfidera\\xe2\\x80\\x99s 10% growth during the <a href=\"http://newsroom.biogen.com/press-release/investor-relations/biogen-reports-record-third-quarter-2016-revenues-30-billion\">quarter</a> largely depended on <a href=\"http://www.fiercepharma.com/pharma/amgen-bids-farewell-to-enbrel-price-hikes-and-big-sales-boosts-they-brought\">price increases</a>, the company disclosed in a securities filing the next day.</p>\\n\\n<p>Gilenya, on the other hand, grew by 15%, and in its earnings <a href=\"https://www.novartis.com/news/media-releases/novartis-delivered-solid-third-quarter-growth-products1-offsetting-gleevec\">announcement</a>, the Swiss drugmaker said that growth wasn\\xe2\\x80\\x99t based on price, but volume. That\\xe2\\x80\\x99s not to say Gilenya doesn\\xe2\\x80\\x99t have some troubling signs in its Q3 stats; pharma chief Paul Hudson said script numbers have been \\xe2\\x80\\x9cbroadly flat but a little bit down\\xe2\\x80\\x9d--which suggests the overall market slowdown hasn\\xe2\\x80\\x99t been without its effect on Gilenya, too.</p>\\n\\n<p>Neither Biogen nor Novartis plans to stick with the status quo. Biogen is grappling with Tecfidera\\xe2\\x80\\x99s gastrointestinal side effects, and various MS specialists are working on ways to manage that; 22% of Tecfidera patients quit because of GI issues, and keeping patients on therapy would obviously help sales.\\xc2\\xa0</p>\\n\\n<p>The Tecfidera team is pilot-testing a new \\xe2\\x80\\x9cengagement model\\xe2\\x80\\x9d at top treatment centers, with plans to roll it out by January. \\xe2\\x80\\x9cThe team in the U.S. is all up and running,\\xe2\\x80\\x9d Vounatsos said during the call. \\xe2\\x80\\x9cI\\xe2\\x80\\x99m very pleased to see the perception improvement, and now we have to continue to execute.\\xe2\\x80\\x9d</p>\\n\\n<p>On the advertising side, Biogen recently backed off a <a href=\"http://www.fiercepharma.com/marketing/biogen-s-controversial-tecfidera-ad-about-to-meet-its-end\">TV campaign</a> that had stirred up some controversy in the MS community, and the company said at the time that it didn\\xe2\\x80\\x99t plan more television in the immediate future, though it is running other DTC promos.\\xc2\\xa0</p>\\n\\n<p>Novartis is running with its Hey MS, Take This! <a href=\"http://www.gilenya.com/loadHeyMS.do?method=loadMessage\">campaign</a> for Gilenya, which launched in 2014 and has since won kudos--and made inroads--particularly with its digital and social media work. Besides print and web video, the campaign invites patients to \\xe2\\x80\\x9ctell relapsing MS exactly where to go,\\xe2\\x80\\x9d and many have, both on the campaign\\xe2\\x80\\x99s website and via social media. They\\xe2\\x80\\x99ve also shared what they do to manage their MS.</p>\\n\\n<div data-oembed-url=\"https://www.youtube.com/watch?feature=player_detailpage&amp;v=zTdJe-tz-rg#t=13\">\\n<div>\\n<div style=\"left: 0px; width: 100%; height: 0px; position: relative; padding-bottom: 56.2493%;\"><iframe allowfullscreen=\"\" frameborder=\"0\" src=\"https://www.youtube.com/embed/zTdJe-tz-rg?wmode=transparent&amp;rel=0&amp;autohide=1&amp;showinfo=0&amp;enablejsapi=1&amp;start=13\" style=\"top: 0px; left: 0px; width: 100%; height: 100%; position: absolute;\"></iframe></div>\\n</div>\\n</div>\\n\\n<p>Novartis apparently believes that Gilenya DTC and salesforce work, coupled with a steady stream of new data, will keep the brand\\xe2\\x80\\x99s volume growing enough to avoid using price as a driver. The company has \\xe2\\x80\\x9csome sensible plans\\xe2\\x80\\x9d for growth, without \\xe2\\x80\\x9ca big impact ... on price,\\xe2\\x80\\x9d Hudson said during the Q3 call. \\xe2\\x80\\x9cWe are ...\\xc2\\xa0 looking forward to the energy into Q4,\\xe2\\x80\\x9d he said.</p>\\n\\n<p>Meanwhile, the big leaper of the quarter was Aubagio, Sanofi\\xe2\\x80\\x99s slow-to-start entry in the class. Sales of that drug <a href=\"http://mediaroom.sanofi.com/sanofi-announces-strong-q3-2016-results/\">grew</a> by almost 50% to 334 million euros during the quarter--and that was driven by growth in the U.S. Its 9-month revenue amounted to 928 million euros, a 57% hike. The French drugmaker quickly bragged that Aubagio is the \\xe2\\x80\\x9cfastest-growing oral disease modifying therapy\\xe2\\x80\\x9d in MS, with a U.S. share of 9%--far far below Tecfidera\\xe2\\x80\\x99s, but rising. This time last year, Sanofi was happy to report it had captured a 6% share.</p>\\n\\n<p>What\\xe2\\x80\\x99s spurring Aubagio on? The company has been running a <a href=\"https://takeactionms.aubagio.com\">campaign</a> with Revenge star Madeleine Stowe since late 2014, for one; the actor has been traveling across the U.S. doing awareness events. The Lights! Camera! Take Action! partnership most recently rolled out a series of \\xe2\\x80\\x9cwebisodes\\xe2\\x80\\x9d featuring Stowe in interviews with MS patients--a common theme in awareness campaigns--but also with nurses, physical therapists and others with advice for MS patients and their caregivers.</p>\\n\\n<div data-oembed-url=\"http://d384furucdjr2f.cloudfront.net/genzyme/takeactionms/Genzyme_Webisodes_Episode%201_PR6432_090716_540p.mp4\">\\n<div>\\n<div style=\"left: 0px; width: 100%; height: 0px; position: relative; padding-bottom: 56.25%;\"><iframe allowfullscreen=\"\" frameborder=\"0\" src=\"//cdn.iframe.ly/api/iframe?url=http%3A%2F%2Fd384furucdjr2f.cloudfront.net%2Fgenzyme%2Ftakeactionms%2FGenzyme_Webisodes_Episode%25201_PR6432_090716_540p.mp4&amp;key=5a82ccc8caa9bb33ac6f2d668fcf304b\" style=\"top: 0px; left: 0px; width: 100%; height: 100%; position: absolute;\"></iframe></div>\\n</div>\\n</div>\\n\\n<p>The drug\\'s brand website also has a share-your-story channel, and Sanofi has put other promo work under a tagline, \"Aubagio quiets MS.\" The company\\xc2\\xa0has set out a goal of \\xe2\\x82\\xac2 billion in sales by 2020 for its entire franchise; if Aubagio and its fellow med Lemtrada keep delivering as they are, the company could actually hit that target sooner. \"In MS, we continued to gain share, and sales from the franchise are now approaching \\xe2\\x82\\xac2 billion on an annualized basis,\" CEO Olivier Brandicourt said during the company\\'s Q3 call.</p>\\n\\n<p>Biogen\\xe2\\x80\\x99s Vounatsos may have summed it up for the entire oral market when he pledged to fight the good fight on Tecfidera last week. \\xe2\\x80\\x9cThe base of the market is certainly lower than what we have estimated in our assumptions, but it\\'s not an excuse for not increasing share,\\xe2\\x80\\x9d he said.</p>\\n\\n<p>There\\xe2\\x80\\x99s a confounding factor, however: The group of oral treatments may get some unwanted rivals in a few years. Novartis could face earlier-than-expected Gilenya generics, thanks to some recent patent decisions. As early as 2019, in fact--and that would give these three meds just a few more years to divvy up share just among themselves. Add to that the<a href=\"http://www.fiercepharma.com/pharma/payers-keep-squeeze-ms-drugmakers-and-they-may-just-take-their-tactics-elsewhere\"> payer pressure </a>that\\'s increasingly a problem, and the price-increase growth option looks even less likely.</p>\\n\\n<p><strong>Related Articles:</strong><br /><a href=\"http://www.fiercepharma.com/pharma/amgen-bids-farewell-to-enbrel-price-hikes-and-big-sales-boosts-they-brought\">Biogen\\xe2\\x80\\x99s Tecfidera, Amgen\\xe2\\x80\\x99s Enbrel tell a tale of pricing power and weakness</a><br /><a href=\"http://www.fiercepharma.com/marketing/novartis-could-have-a-blockbuster-ms-market-all-to-itself-thanks-to-new-spms-beating\">Novartis could snag a blockbuster MS market all for itself, just in time to fight Gilenya generics</a><br /><a href=\"http://www.fiercepharma.com/marketing/biogen-s-controversial-tecfidera-ad-about-to-meet-its-end\">Biogen\\'s controversial Tecfidera ad is about to meet its end</a><br /><a href=\"http://www.fiercepharma.com/marketing/biogen-sees-new-tecfidera-buzz-as-dtc-marketing-push-kicks\">Biogen sees new Tecfidera buzz as DTC, marketing push kicks in</a><br /><a href=\"http://www.fiercepharma.com/marketing/buoyed-by-rising-tide-of-aubagio-scripts-sanofi-aims-for-\\xe2\\x82\\xac2b-ms-sales\">Buoyed by rising tide of Aubagio scripts, Sanofi aims for \\xe2\\x82\\xac2B in MS sales</a><br /><a href=\"http://www.fiercepharma.com/legal/early-gilenya-generics-now-spell-trouble-for-rival-ms-drugs\">Early Gilenya generics now spell trouble for rival MS drugs</a></p>\\n</div>\\n      \\n\\n                            <div class=\"keywords-topics\">\\n                    <strong>Read more on</strong>\\n                    <div class=\"item-list--comma-list\">\\n                        <a href=\"/topic/multiple-sclerosis\" hreflang=\"und\">multiple sclerosis</a>,                    <a href=\"/topic/drug-launch\" hreflang=\"und\">drug launch</a>,                    <a href=\"/topic/generics\" hreflang=\"und\">generics</a>,                    <a href=\"/topic/payer\" hreflang=\"und\">payer</a>,                    <a href=\"/keyword/sanofi\" hreflang=\"und\">Sanofi</a>,                    <a href=\"/keyword/aubagio\" hreflang=\"und\">Aubagio</a>,                    <a href=\"/keyword/tecfidera\" hreflang=\"und\">Tecfidera</a>,                    <a href=\"/keyword/biogen\" hreflang=\"und\">Biogen</a>,                    <a href=\"/keyword/novartis\" hreflang=\"und\">Novartis</a>,                    <a href=\"/keyword/gilenya\" hreflang=\"und\">Gilenya</a>            </div>\\n\\n                </div>\\n            \\n        </div>\\n    </div>\\n\\n</article>\\n\\n  </div>\\n<div id=\"block-tektitegenericarticlebottomadblock\" class=\"block block-tektite-generic-blocks block-tektite-generic-ad-article-bottom\">\\n  \\n    \\n                      <div id=\\'article-bottom\\'>\\n                <script type=\\'text/javascript\\'>\\n                document.addEventListener(\"googletagEvent\", function() {\\n                googletag.cmd.push(function() { googletag.display(\\'article-bottom\\'); });\\n                });\\n                </script>\\n                </div>\\n  </div>\\n<div id=\"block-tektitetaboolablock\" class=\"block block-tektite-taboola block-tektite-taboola-block\">\\n  \\n    \\n                      <div id=\\'taboola-block\\'>\\n                \\n                \\n                <div id=\"taboola-below-article-thumbnails-internal\"></div>\\n                <script type=\"text/javascript\">\\n                window._taboola = window._taboola || [];\\n                _taboola.push({\\n                mode: \\'organic-thumbnails-b\\',\\n                container: \\'taboola-below-article-thumbnails-internal\\',\\n                placement: \\'Below Article Thumbnails-internal\\',\\n                target_type: \\'mix\\'\\n                });\\n                 </script>\\n\\n                <div id=\"taboola-below-article-thumbnails\"></div>\\n                <script type=\"text/javascript\">\\n                window._taboola = window._taboola || [];\\n                _taboola.push({\\n                mode: \\'thumbnails-b\\',\\n                container: \\'taboola-below-article-thumbnails\\',\\n                placement: \\'Below Article Thumbnails\\',\\n                target_type: \\'mix\\'\\n                });\\n                </script>\\n\\n                \\n                </div>\\n  </div>\\n\\n  </div>\\n\\n\\n      </div>\\n\\n      <aside id=\"sidebar-second\" role=\"complimentary\">\\n      <section class=\"sidebar-container\">\\n          <div class=\"region region-sidebar-second\">\\n    <div id=\"block-tektitegenericadsidebarblock\" class=\"block block-tektite-generic-blocks block-tektite-generic-ad-sidebar\">\\n  \\n    \\n                      <div id=\\'sidebar-ad\\'>\\n                  <script type=\\'text/javascript\\'>\\n                    document.addEventListener(\"googletagEvent\", function() {\\n                      googletag.cmd.push(function() { googletag.display(\\'sidebar-ad\\'); });\\n                    });\\n                  </script>\\n                </div>\\n  </div>\\n<div id=\"block-tektitegenericnewsletterblock\" class=\"block block-tektite-generic-blocks block-tektite-generic-newsletter-multi\">\\n  \\n    \\n      <script src=\"//app-sj10.marketo.com/js/forms2/js/forms2.min.js\" defer></script><form id=\\'mktoForm_12997\\'></form>\\n  </div>\\n\\n  </div>\\n\\n\\n                  <div class=\"bottom\">\\n              <div class=\"region region-sidebar-bottom\">\\n    <div id=\"block-tektitegenericadsidebarblock2\" class=\"block block-tektite-generic-blocks block-tektite-generic-ad-sidebar2\">\\n  \\n    \\n                      <div id=\\'sidebar-ad2\\'>\\n                  <script type=\\'text/javascript\\'>\\n                    document.addEventListener(\"googletagEvent\", function() {\\n                      googletag.cmd.push(function() { googletag.display(\\'sidebar-ad2\\'); });\\n                    });\\n                  </script>\\n                </div>\\n  </div>\\n<div id=\"block-popularcontentfromparsely\" class=\"block block-tektite-generic-blocks block-popular-content-from-parsely\">\\n  \\n      <h2 class=\"block-title\">Popular Content </h2>\\n    \\n      \\n  <ul>\\n         \\n      \\n      \\t<li><h3 class=\"list-title\"><a href=\"http://www.fiercepharma.com/marketing/pfizer-puts-hemophilia-spin-ultrapopular-minecraft-to-educate-young-patients\">Pfizer puts hemophilia spin on ultrapopular Minecraft to educate young patients</a></h3> \\n      \\t\\t\\n      \\t\\tSep 06, 2017 \\n     \\t\\t</li>\\n      \\t\\n\\n    \\t      \\n      \\n      \\t<li><h3 class=\"list-title\"><a href=\"http://www.fiercepharma.com/marketing/clinical-trial-company-enlists-pharma-and-biopharma-for-patient-empowerment-campaign\">Takeda, Johnson &amp; Johnson and more join Clara Health&#039;s Boston-based patient empowerment push</a></h3> \\n      \\t\\t\\n      \\t\\tSep 06, 2017 \\n     \\t\\t</li>\\n      \\t\\n\\n    \\t      \\n      \\n      \\t<li><h3 class=\"list-title\"><a href=\"http://www.fiercepharma.com/marketing/empathy-at-work-gsk-extends-excedrin-migraine-campaign-to-include-sufferers-job\">Empathy at work: GlaxoSmithKline extends Excedrin Migraine campaign to include sufferers on the job</a></h3> \\n      \\t\\t\\n      \\t\\tSep 04, 2017 \\n     \\t\\t</li>\\n      \\t\\n\\n    \\t      \\n      \\n      \\t<li><h3 class=\"list-title\"><a href=\"http://www.fiercepharma.com/marketing/what-s-world-s-best-pharma-market-to-allergan-s-ceo-one-s-easy\">What&#039;s the world&#039;s best pharma market? To Allergan&#039;s CEO, that one&#039;s easy</a></h3> \\n      \\t\\t\\n      \\t\\tAug 07, 2017 \\n     \\t\\t</li>\\n      \\t\\n\\n    \\t      \\n      \\n      \\t<li><h3 class=\"list-title\"><a href=\"http://www.fiercepharma.com/marketing/roche-nets-new-actemra-nod-to-treat-deadly-car-t-response\">Roche nets new Actemra nod to treat deadly CAR-T response</a></h3> \\n      \\t\\t\\n      \\t\\tSep 01, 2017 \\n     \\t\\t</li>\\n      \\t\\n\\n    \\t \\n\\n  </ul>\\n\\n\\n  </div>\\n<div class=\"views-element-container block block-views block-views-blockauthor-block-1\" id=\"block-tektite-pharma-views-block-author-block-1\">\\n  \\n      <h2 class=\"block-title\">About the Author</h2>\\n    \\n      <div><div class=\"js-view-dom-id-e15ad7c9de40a25f8bc27640a5c06c372f1fed1aeb54adcc9250092c91251388\">\\n  \\n  \\n  \\n\\n  \\n  \\n  \\n\\n      <div class=\"views-row\">\\n    <div class=\"views-field views-field-field-author-image\"><div class=\"field-content\">  <a href=\"/author/tracy-staton\"><img src=\"http://qtxasset.com/field/image/tstaton.jpg?ueVlW0PYLevSZZ.YABlg26ybeimkq80D\" width=\"260\" height=\"260\" alt=\"Tracy Staton\" typeof=\"foaf:Image\" />\\n</a>\\n</div></div><div class=\"views-field views-field-title\"><span class=\"field-content\"><div class=\"author-block-info\">\\n<div class=\"title\"><a href=\"/author/tracy-staton\" hreflang=\"en\">Tracy Staton</a></div>\\n<div class=\"job\">Editor-in-Chief</div>\\n<div class=\"email\"><a href=\"mailto:tracy@fiercemarkets.com\">tracy@fiercemarkets.com</a></div>\\n<div class=\"twitter\"><a href=\"https://twitter.com/TracyStaton\" target=\"_blank\">https://twitter.com/TracyStaton</a></div>\\n<div class=\"linkedin\"></div>\\n<div class=\"facebook\"></div>\\n<div class=\"instagram\"></div>\\n</div></span></div>\\n  </div>\\n\\n  \\n  \\n\\n  \\n  \\n\\n  \\n  \\n</div>\\n</div>\\n\\n  </div>\\n<div id=\"block-tektitegenericadhouseblock\" class=\"block block-tektite-generic-blocks block-tektite-generic-ad-house\">\\n  \\n    \\n                      <div id=\\'sidebar-ad3\\'>\\n                  <script type=\\'text/javascript\\'>\\n                    document.addEventListener(\"googletagEvent\", function() {\\n                      googletag.cmd.push(function() { googletag.display(\\'sidebar-ad3\\'); });\\n                    });\\n                  </script>\\n                </div>\\n  </div>\\n\\n  </div>\\n\\n          </div>\\n              </section>\\n    </aside>\\n  </main>\\n\\n\\n\\n  <footer id=\"footer\" role=\"contentinfo\">\\n    <div class=\"wrapper\">\\n        <div class=\"region region-footer\">\\n    <div id=\"block-tektitefooterblock\" class=\"block block-tektite-generic-blocks block-generic-footer-block\">\\n  \\n    \\n      <div id=\"questex\">\\n    <div class=\"footer-logo\">\\n        <a class=\"logo\" href=\"http://questex.com\">\\n            <img alt=\"\" src=\"/themes/custom/tektite/assets/images/footer-questex.svg\" />\\n        </a>\\n    </div>\\n    <div class=\"social-icons\">\\n        <a class=\"icon icon-facebook-official\" href=\\'https://www.facebook.com/Questex-LLC-514978955241030/\\'></a>\\n        <a class=\"icon icon-twitter\" href=\\'https://twitter.com/QuestexLLC\\'></a>\\n        <a class=\"icon icon-linkedin-squared\" href=\\'https://www.linkedin.com/company/questex-media-group?trk=top_nav_home\\'></a>\\n    </div>\\xe2\\x80\\x8b\\n</div>\\n\\n\\n    <ul class=\"menu\">\\n                    <li><a href=\"/\">\\n                    Home</a></li>\\n\\n                    <li><a href=\"https://pages.questexweb.com/FiercePharma-Newsletter-Signup.html\">\\n                    Subscribe</a></li>\\n\\n                    <li><a href=\"https://pages.questexweb.com/Manage-Subscriptions_Manage-Your-Subscriptions.html?\">\\n                    Manage Newsletter Subscriptions</a></li>\\n\\n                    <li><a href=\"/advertise-us\">\\n                    Advertise</a></li>\\n\\n                    <li><a href=\"/rss-feeds\">\\n                    RSS</a></li>\\n\\n                    <li><a href=\"http://www.questex.com/privacy-policy\">\\n                    Privacy</a></li>\\n\\n                    <li><a href=\"/about-us\">\\n                    About Us</a></li>\\n\\n                    <li><a href=\"/contact\">\\n                    Contact</a></li>\\n\\n        \\n    </ul>\\n\\n<p>\\n  <span>\\xc2\\xa9 2017 Questex LLC. All rights reserved.</span>\\n  <span>275 Grove Street, Suite 2-130 Newton, MA 02466</span>\\n  <span>Reproduction in whole or part is prohibited.</span>\\n</p>\\n\\n  </div>\\n\\n  </div>\\n\\n    </div>\\n  </footer>\\n\\n      \\n    </div>\\n\\n    <script type=\"application/json\" data-drupal-selector=\"drupal-settings-json\">{\"path\":{\"baseUrl\":\"\\\\/\",\"scriptPath\":null,\"pathPrefix\":\"\",\"currentPath\":\"node\\\\/360096\",\"currentPathIsAdmin\":false,\"isFront\":false,\"currentLanguage\":\"en\"},\"pluralDelimiter\":\"\\\\u0003\",\"ajaxPageState\":{\"libraries\":\"addtoany\\\\/addtoany,core\\\\/html5shiv,core\\\\/picturefill,qtx_tracking\\\\/recorder,system\\\\/base,tektite\\\\/global-css,tektite\\\\/global-js,tektite\\\\/theme-fonts,tektite\\\\/webfont.js,tektite_fierce\\\\/GTMscripts,tektite_fierce\\\\/fonts-js,tektite_fierce\\\\/marketo-js,tektite_fierce\\\\/override-css,tektite_fierce\\\\/override-js,views\\\\/views.module\",\"theme\":\"tektite_fierce\",\"theme_token\":null},\"ajaxTrustedUrl\":{\"form_action_p_pvdeGsVG5zNF_XLGPTvYSKCf43t8qZYSwcfZl2uzM\":true},\"tektite_fierce\":{\"gtm_key\":\"GTM-KLQFWCZ\",\"marketo_id\":\"12997\"},\"qtx_tracking\":{\"referral\":{\"comesFromSearchEngine\":\"false\"}},\"user\":{\"uid\":0,\"permissionsHash\":\"55f2fcabf143e91119fc5948c8acd644daabe1eb5a8e549c0bbc55f1fa50db1c\"}}</script>\\n<script src=\"/sites/fiercepharma/files/js/js_DdXIKt68jGany_F78Mxy_6Rv5aLF94bA6_npMbGnkV4.js\"></script>\\n<script src=\"/sites/fiercepharma/files/js/js_RAAkRjKDTRtA-hRvJnNtAsOejg9BJYVnpNFg-pHjLaI.js\"></script>\\n<script src=\"//static.addtoany.com/menu/page.js\" async></script>\\n<script src=\"/sites/fiercepharma/files/js/js_h46WxI_ZFc-5EIjP50SF3PiJ-JkJB5QSuAq-UN0jkXI.js\"></script>\\n<script src=\"//ajax.googleapis.com/ajax/libs/webfont/1.6.26/webfont.js\" async></script>\\n<script src=\"/sites/fiercepharma/files/js/js_kSvTRDeClTrCukoXnpcc-RGGguZfb5rGmky3VdXu6OA.js\" defer></script>\\n\\n\\n    <!-- Start Parse.ly Include: Standard -->\\n    <div id=\"parsely-root\" style=\"display: none\">\\n      <div id=\"parsely-cfg\" data-parsely-site=\"fiercepharma.com\"></div>\\n    </div>\\n    <script>\\n    (function(s, p, d) {\\n      var h=d.location.protocol, i=p+\"-\"+s,\\n          e=d.getElementById(i), r=d.getElementById(p+\"-root\"),\\n          u=h===\"https:\"?\"d1z2jf7jlzjs58.cloudfront.net\"\\n          :\"static.\"+p+\".com\";\\n      if (e) return;\\n      e = d.createElement(s); e.id = i; e.async = true;\\n      e.src = h+\"//\"+u+\"/p.js\"; r.appendChild(e);\\n    })(\"script\", \"parsely\", document);\\n    </script>\\n    <!-- End Parse.ly Include -->\\n\\n    <!-- Start Taboola -->\\n    <script type=\"text/javascript\">\\n      window._taboola = window._taboola || [];\\n      _taboola.push({flush: true});\\n    </script>\\n    <!-- End Taboola -->\\n\\n  <script type=\"text/javascript\">window.NREUM||(NREUM={});NREUM.info={\"beacon\":\"bam.nr-data.net\",\"licenseKey\":\"44925d6b58\",\"applicationID\":\"51794171\",\"transactionName\":\"NFBaMhZVDRIHABUPCg0aeQUQXQwPSScTExUCWWQHEUAMEgcVBDkDDEdVOiJbEQw6IhQSChBUTgMiWxEMJBYICgEGRxVYFlENBQMRMQoEAFBQCQhQBhMgDBMLJABBUQkK\",\"queueTime\":0,\"applicationTime\":424,\"atts\":\"GBdZRF5PHhw=\",\"errorBeacon\":\"bam.nr-data.net\",\"agent\":\"\"}</script></body>\\n</html>\\n'\n"
     ]
    }
   ],
   "source": [
    "from pprint import pprint\n",
    "\n",
    "pprint(df_html.iloc[0][1])"
   ]
  },
  {
   "cell_type": "code",
   "execution_count": 22,
   "metadata": {},
   "outputs": [],
   "source": [
    "import re"
   ]
  },
  {
   "cell_type": "code",
   "execution_count": 31,
   "metadata": {
    "scrolled": false
   },
   "outputs": [],
   "source": [
    "from bs4 import BeautifulSoup\n",
    "from bs4.element import Comment\n",
    "\n",
    "\n",
    "def tag_visible(element):\n",
    "    if element.parent.name in ['style', 'script', 'head', 'title', 'meta', '[document]']:\n",
    "        return False\n",
    "    if isinstance(element, Comment):\n",
    "        return False\n",
    "    return True\n",
    "\n",
    "\n",
    "def text_from_html(body):\n",
    "    soup = BeautifulSoup(body, 'html.parser')\n",
    "    texts = soup.findAll(text=True)\n",
    "    visible_texts = filter(tag_visible, texts)  \n",
    "    text = u\" \".join(t.strip() for t in visible_texts)\n",
    "    text = text.replace(',','')\n",
    "    return (re.sub(r'\\s\\s+',' ',text))\n"
   ]
  },
  {
   "cell_type": "code",
   "execution_count": 32,
   "metadata": {},
   "outputs": [],
   "source": [
    "text = (text_from_html(df_html.iloc[0][1]))"
   ]
  },
  {
   "cell_type": "code",
   "execution_count": 33,
   "metadata": {},
   "outputs": [
    {
     "name": "stdout",
     "output_type": "stream",
     "text": [
      " Skip to main content Twitter LinkedIn Search Top Menu DDF 2017 FierceBiotech Jobs Resources Events Subscribe Main navigation Pharma M&A Regulatory Financials Corporate Legal Manufacturing M&A Outsourcing Regulatory Supply Chain Partnering Drug Safety Marketing Regulatory DTC Advertising Digital and Social Media Data and Analytics Launches Pharma Asia M&A R&D Regulatory Sales and Marketing Financials Manufacturing Animal Health R&D M&A Regulatory Veterinarian Financials Vaccines Drug Delivery R&D Regulatory Partnering Vaccines Deals Infectious Diseases R&D Regulatory Main navigation - Mobile Pharma M&A Regulatory Financials Corporate Legal Manufacturing M&A Outsourcing Regulatory Supply Chain Partnering Drug Safety Marketing Regulatory DTC Advertising Digital and Social Media Data and Analytics Launches Pharma Asia M&A R&D Regulatory Sales and Marketing Financials Manufacturing Animal Health R&D M&A Regulatory Veterinarian Financials Vaccines Drug Delivery R&D Regulatory Partnering Vaccines Deals Infectious Diseases R&D Regulatory Marketing Tecfidera Gilenya and Aubagio's 3-way battle for MS share is about to heat up by Tracy Staton | Oct 31 2016 6:54am Multiple sclerosis drugmakers are in a fix: These days the U.S. market isn’t delivering the kind of growth that had been fueling big increases in sales. For high-flying pills from Biogen (Tecfidera) and Novartis (Gilenya) that could mean an unwelcome comedown. It definitely means  the coming market-share battle will grow even more competitive than before. If the quickest way to grow sales is to steal share you can bet Tecfidera and Gilenya--and their up-and-coming rival med from Sanofi Aubagio--will be working hard to do just that. Thing is Biogen isn’t on that sort of growth trajectory. It’s the market leader--with 51% share of the oral market and 20% of MS overall as EVP Michel Vounatsos hastened to point out during the company’s earnings call with analysts last week. But Tecfidera’s 10% growth during the quarter largely depended on price increases the company disclosed in a securities filing the next day. Gilenya on the other hand grew by 15% and in its earnings announcement the Swiss drugmaker said that growth wasn’t based on price but volume. That’s not to say Gilenya doesn’t have some troubling signs in its Q3 stats; pharma chief Paul Hudson said script numbers have been “broadly flat but a little bit down”--which suggests the overall market slowdown hasn’t been without its effect on Gilenya too. Neither Biogen nor Novartis plans to stick with the status quo. Biogen is grappling with Tecfidera’s gastrointestinal side effects and various MS specialists are working on ways to manage that; 22% of Tecfidera patients quit because of GI issues and keeping patients on therapy would obviously help sales. The Tecfidera team is pilot-testing a new “engagement model” at top treatment centers with plans to roll it out by January. “The team in the U.S. is all up and running” Vounatsos said during the call. “I’m very pleased to see the perception improvement and now we have to continue to execute.” On the advertising side Biogen recently backed off a TV campaign that had stirred up some controversy in the MS community and the company said at the time that it didn’t plan more television in the immediate future though it is running other DTC promos. Novartis is running with its Hey MS Take This! campaign for Gilenya which launched in 2014 and has since won kudos--and made inroads--particularly with its digital and social media work. Besides print and web video the campaign invites patients to “tell relapsing MS exactly where to go” and many have both on the campaign’s website and via social media. They’ve also shared what they do to manage their MS. Novartis apparently believes that Gilenya DTC and salesforce work coupled with a steady stream of new data will keep the brand’s volume growing enough to avoid using price as a driver. The company has “some sensible plans” for growth without “a big impact ... on price” Hudson said during the Q3 call. “We are ...  looking forward to the energy into Q4” he said. Meanwhile the big leaper of the quarter was Aubagio Sanofi’s slow-to-start entry in the class. Sales of that drug grew by almost 50% to 334 million euros during the quarter--and that was driven by growth in the U.S. Its 9-month revenue amounted to 928 million euros a 57% hike. The French drugmaker quickly bragged that Aubagio is the “fastest-growing oral disease modifying therapy” in MS with a U.S. share of 9%--far far below Tecfidera’s but rising. This time last year Sanofi was happy to report it had captured a 6% share. What’s spurring Aubagio on? The company has been running a campaign with Revenge star Madeleine Stowe since late 2014 for one; the actor has been traveling across the U.S. doing awareness events. The Lights! Camera! Take Action! partnership most recently rolled out a series of “webisodes” featuring Stowe in interviews with MS patients--a common theme in awareness campaigns--but also with nurses physical therapists and others with advice for MS patients and their caregivers. The drug's brand website also has a share-your-story channel and Sanofi has put other promo work under a tagline \"Aubagio quiets MS.\" The company has set out a goal of €2 billion in sales by 2020 for its entire franchise; if Aubagio and its fellow med Lemtrada keep delivering as they are the company could actually hit that target sooner. \"In MS we continued to gain share and sales from the franchise are now approaching €2 billion on an annualized basis\" CEO Olivier Brandicourt said during the company's Q3 call. Biogen’s Vounatsos may have summed it up for the entire oral market when he pledged to fight the good fight on Tecfidera last week. “The base of the market is certainly lower than what we have estimated in our assumptions but it's not an excuse for not increasing share” he said. There’s a confounding factor however: The group of oral treatments may get some unwanted rivals in a few years. Novartis could face earlier-than-expected Gilenya generics thanks to some recent patent decisions. As early as 2019 in fact--and that would give these three meds just a few more years to divvy up share just among themselves. Add to that the payer pressure that's increasingly a problem and the price-increase growth option looks even less likely. Related Articles: Biogen’s Tecfidera Amgen’s Enbrel tell a tale of pricing power and weakness Novartis could snag a blockbuster MS market all for itself just in time to fight Gilenya generics Biogen's controversial Tecfidera ad is about to meet its end Biogen sees new Tecfidera buzz as DTC marketing push kicks in Buoyed by rising tide of Aubagio scripts Sanofi aims for €2B in MS sales Early Gilenya generics now spell trouble for rival MS drugs Read more on multiple sclerosis drug launch generics payer Sanofi Aubagio Tecfidera Biogen Novartis Gilenya Popular Content Pfizer puts hemophilia spin on ultrapopular Minecraft to educate young patients Sep 06 2017 Takeda Johnson & Johnson and more join Clara Health's Boston-based patient empowerment push Sep 06 2017 Empathy at work: GlaxoSmithKline extends Excedrin Migraine campaign to include sufferers on the job Sep 04 2017 What's the world's best pharma market? To Allergan's CEO that one's easy Aug 07 2017 Roche nets new Actemra nod to treat deadly CAR-T response Sep 01 2017 About the Author Tracy Staton Editor-in-Chief tracy@fiercemarkets.com https://twitter.com/TracyStaton ​ Home Subscribe Manage Newsletter Subscriptions Advertise RSS Privacy About Us Contact © 2017 Questex LLC. All rights reserved. 275 Grove Street Suite 2-130 Newton MA 02466 Reproduction in whole or part is prohibited. \n"
     ]
    }
   ],
   "source": [
    "print(text)"
   ]
  },
  {
   "cell_type": "code",
   "execution_count": 34,
   "metadata": {},
   "outputs": [],
   "source": [
    "df_html['web_text'] = df_html['Html'].apply(lambda x: text_from_html(x))"
   ]
  },
  {
   "cell_type": "code",
   "execution_count": 35,
   "metadata": {},
   "outputs": [
    {
     "data": {
      "text/html": [
       "<div>\n",
       "<style scoped>\n",
       "    .dataframe tbody tr th:only-of-type {\n",
       "        vertical-align: middle;\n",
       "    }\n",
       "\n",
       "    .dataframe tbody tr th {\n",
       "        vertical-align: top;\n",
       "    }\n",
       "\n",
       "    .dataframe thead th {\n",
       "        text-align: right;\n",
       "    }\n",
       "</style>\n",
       "<table border=\"1\" class=\"dataframe\">\n",
       "  <thead>\n",
       "    <tr style=\"text-align: right;\">\n",
       "      <th></th>\n",
       "      <th>Webpage_id</th>\n",
       "      <th>Html</th>\n",
       "      <th>web_text</th>\n",
       "    </tr>\n",
       "  </thead>\n",
       "  <tbody>\n",
       "    <tr>\n",
       "      <th>0</th>\n",
       "      <td>1</td>\n",
       "      <td>&lt;!DOCTYPE html&gt;\\n&lt;html lang=\"en\" dir=\"ltr\" xml...</td>\n",
       "      <td>Skip to main content Twitter LinkedIn Search ...</td>\n",
       "    </tr>\n",
       "    <tr>\n",
       "      <th>1</th>\n",
       "      <td>2</td>\n",
       "      <td>&lt;!DOCTYPE html&gt;\\n&lt;html lang=\"en\" dir=\"ltr\" xml...</td>\n",
       "      <td>Skip to main content Twitter LinkedIn Search ...</td>\n",
       "    </tr>\n",
       "    <tr>\n",
       "      <th>2</th>\n",
       "      <td>3</td>\n",
       "      <td>&lt;!DOCTYPE html&gt;\\n&lt;html lang=\"en\" dir=\"ltr\" xml...</td>\n",
       "      <td>Skip to main content Twitter LinkedIn Search ...</td>\n",
       "    </tr>\n",
       "    <tr>\n",
       "      <th>3</th>\n",
       "      <td>4</td>\n",
       "      <td>&lt;!DOCTYPE html&gt;\\n&lt;html lang=\"en\" dir=\"ltr\" xml...</td>\n",
       "      <td>Skip to main content Twitter LinkedIn Search ...</td>\n",
       "    </tr>\n",
       "    <tr>\n",
       "      <th>4</th>\n",
       "      <td>5</td>\n",
       "      <td>&lt;!DOCTYPE html&gt;\\n&lt;html lang=\"en\" dir=\"ltr\" xml...</td>\n",
       "      <td>Skip to main content Twitter LinkedIn Search ...</td>\n",
       "    </tr>\n",
       "  </tbody>\n",
       "</table>\n",
       "</div>"
      ],
      "text/plain": [
       "   Webpage_id                                               Html  \\\n",
       "0           1  <!DOCTYPE html>\\n<html lang=\"en\" dir=\"ltr\" xml...   \n",
       "1           2  <!DOCTYPE html>\\n<html lang=\"en\" dir=\"ltr\" xml...   \n",
       "2           3  <!DOCTYPE html>\\n<html lang=\"en\" dir=\"ltr\" xml...   \n",
       "3           4  <!DOCTYPE html>\\n<html lang=\"en\" dir=\"ltr\" xml...   \n",
       "4           5  <!DOCTYPE html>\\n<html lang=\"en\" dir=\"ltr\" xml...   \n",
       "\n",
       "                                            web_text  \n",
       "0   Skip to main content Twitter LinkedIn Search ...  \n",
       "1   Skip to main content Twitter LinkedIn Search ...  \n",
       "2   Skip to main content Twitter LinkedIn Search ...  \n",
       "3   Skip to main content Twitter LinkedIn Search ...  \n",
       "4   Skip to main content Twitter LinkedIn Search ...  "
      ]
     },
     "execution_count": 35,
     "metadata": {},
     "output_type": "execute_result"
    }
   ],
   "source": [
    "df_html.head()"
   ]
  },
  {
   "cell_type": "code",
   "execution_count": 36,
   "metadata": {},
   "outputs": [],
   "source": [
    "del df_html['Html']"
   ]
  },
  {
   "cell_type": "code",
   "execution_count": 37,
   "metadata": {},
   "outputs": [
    {
     "data": {
      "text/html": [
       "<div>\n",
       "<style scoped>\n",
       "    .dataframe tbody tr th:only-of-type {\n",
       "        vertical-align: middle;\n",
       "    }\n",
       "\n",
       "    .dataframe tbody tr th {\n",
       "        vertical-align: top;\n",
       "    }\n",
       "\n",
       "    .dataframe thead th {\n",
       "        text-align: right;\n",
       "    }\n",
       "</style>\n",
       "<table border=\"1\" class=\"dataframe\">\n",
       "  <thead>\n",
       "    <tr style=\"text-align: right;\">\n",
       "      <th></th>\n",
       "      <th>Webpage_id</th>\n",
       "      <th>web_text</th>\n",
       "    </tr>\n",
       "  </thead>\n",
       "  <tbody>\n",
       "    <tr>\n",
       "      <th>0</th>\n",
       "      <td>1</td>\n",
       "      <td>Skip to main content Twitter LinkedIn Search ...</td>\n",
       "    </tr>\n",
       "    <tr>\n",
       "      <th>1</th>\n",
       "      <td>2</td>\n",
       "      <td>Skip to main content Twitter LinkedIn Search ...</td>\n",
       "    </tr>\n",
       "    <tr>\n",
       "      <th>2</th>\n",
       "      <td>3</td>\n",
       "      <td>Skip to main content Twitter LinkedIn Search ...</td>\n",
       "    </tr>\n",
       "    <tr>\n",
       "      <th>3</th>\n",
       "      <td>4</td>\n",
       "      <td>Skip to main content Twitter LinkedIn Search ...</td>\n",
       "    </tr>\n",
       "    <tr>\n",
       "      <th>4</th>\n",
       "      <td>5</td>\n",
       "      <td>Skip to main content Twitter LinkedIn Search ...</td>\n",
       "    </tr>\n",
       "  </tbody>\n",
       "</table>\n",
       "</div>"
      ],
      "text/plain": [
       "   Webpage_id                                           web_text\n",
       "0           1   Skip to main content Twitter LinkedIn Search ...\n",
       "1           2   Skip to main content Twitter LinkedIn Search ...\n",
       "2           3   Skip to main content Twitter LinkedIn Search ...\n",
       "3           4   Skip to main content Twitter LinkedIn Search ...\n",
       "4           5   Skip to main content Twitter LinkedIn Search ..."
      ]
     },
     "execution_count": 37,
     "metadata": {},
     "output_type": "execute_result"
    }
   ],
   "source": [
    "df_html.head()"
   ]
  },
  {
   "cell_type": "code",
   "execution_count": 40,
   "metadata": {},
   "outputs": [],
   "source": [
    "df_html.to_csv('cleaned_html2.csv',index=False,encoding='utf-8')"
   ]
  }
 ],
 "metadata": {
  "kernelspec": {
   "display_name": "Deep Learning",
   "language": "python",
   "name": "dl"
  },
  "language_info": {
   "codemirror_mode": {
    "name": "ipython",
    "version": 2
   },
   "file_extension": ".py",
   "mimetype": "text/x-python",
   "name": "python",
   "nbconvert_exporter": "python",
   "pygments_lexer": "ipython2",
   "version": "2.7.15rc1"
  }
 },
 "nbformat": 4,
 "nbformat_minor": 2
}
