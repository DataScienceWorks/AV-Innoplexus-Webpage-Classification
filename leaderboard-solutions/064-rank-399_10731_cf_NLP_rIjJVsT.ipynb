{
 "cells": [
  {
   "cell_type": "code",
   "execution_count": 82,
   "metadata": {},
   "outputs": [
    {
     "data": {
      "text/html": [
       "<script>requirejs.config({paths: { 'plotly': ['https://cdn.plot.ly/plotly-latest.min']},});if(!window.Plotly) {{require(['plotly'],function(plotly) {window.Plotly=plotly;});}}</script>"
      ],
      "text/vnd.plotly.v1+html": [
       "<script>requirejs.config({paths: { 'plotly': ['https://cdn.plot.ly/plotly-latest.min']},});if(!window.Plotly) {{require(['plotly'],function(plotly) {window.Plotly=plotly;});}}</script>"
      ]
     },
     "metadata": {},
     "output_type": "display_data"
    }
   ],
   "source": [
    "from IPython.core.interactiveshell import InteractiveShell\n",
    "InteractiveShell.ast_node_interactivity = \"all\"\n",
    "\n",
    "import pickle\n",
    "import numpy as np\n",
    "import pandas as pd\n",
    "import os\n",
    "import base64\n",
    "import string\n",
    "import nltk\n",
    "import re\n",
    "from html.parser import HTMLParser \n",
    "import gensim\n",
    "import glob as glob\n",
    "from nltk.stem.wordnet import WordNetLemmatizer\n",
    "from nltk.corpus import stopwords\n",
    "from string import punctuation\n",
    "from nltk.tokenize import word_tokenize\n",
    "import base64\n",
    "import numpy as np\n",
    "import pandas as pd\n",
    "import plotly.offline as py\n",
    "py.init_notebook_mode(connected=True)\n",
    "import plotly.graph_objs as go\n",
    "import plotly.tools as tls\n",
    "from collections import Counter\n",
    "from scipy.misc import imread\n",
    "from sklearn import preprocessing, decomposition, model_selection, metrics, pipeline\n",
    "from sklearn.feature_extraction.text import TfidfVectorizer, CountVectorizer\n",
    "from sklearn.decomposition import NMF, LatentDirichletAllocation\n",
    "from matplotlib import pyplot as plt\n",
    "%matplotlib inline\n",
    "from wordcloud import WordCloud, STOPWORDS\n",
    "from sklearn.model_selection import train_test_split\n",
    "from sklearn.metrics import confusion_matrix\n",
    "from sklearn.metrics import log_loss,f1_score\n",
    "import xgboost as xgb\n",
    "from xgboost import XGBClassifier"
   ]
  },
  {
   "cell_type": "code",
   "execution_count": 51,
   "metadata": {},
   "outputs": [
    {
     "data": {
      "text/html": [
       "<div>\n",
       "<style scoped>\n",
       "    .dataframe tbody tr th:only-of-type {\n",
       "        vertical-align: middle;\n",
       "    }\n",
       "\n",
       "    .dataframe tbody tr th {\n",
       "        vertical-align: top;\n",
       "    }\n",
       "\n",
       "    .dataframe thead th {\n",
       "        text-align: right;\n",
       "    }\n",
       "</style>\n",
       "<table border=\"1\" class=\"dataframe\">\n",
       "  <thead>\n",
       "    <tr style=\"text-align: right;\">\n",
       "      <th></th>\n",
       "      <th>Webpage_id</th>\n",
       "      <th>Domain</th>\n",
       "      <th>Url</th>\n",
       "      <th>Tag</th>\n",
       "    </tr>\n",
       "  </thead>\n",
       "  <tbody>\n",
       "    <tr>\n",
       "      <th>0</th>\n",
       "      <td>1</td>\n",
       "      <td>www.fiercepharma.com</td>\n",
       "      <td>http://www.fiercepharma.com/marketing/tecfidera-gilenya-and-aubagio-s-3-way-battle-for-ms-share-about-to-get-more-interesting</td>\n",
       "      <td>news</td>\n",
       "    </tr>\n",
       "    <tr>\n",
       "      <th>1</th>\n",
       "      <td>2</td>\n",
       "      <td>www.fiercepharma.com</td>\n",
       "      <td>http://www.fiercepharma.com/pharma/novo-equipped-to-weather-storm-u-s-diabetes-market-ceo-says</td>\n",
       "      <td>news</td>\n",
       "    </tr>\n",
       "    <tr>\n",
       "      <th>2</th>\n",
       "      <td>3</td>\n",
       "      <td>www.fiercepharma.com</td>\n",
       "      <td>http://www.fiercepharma.com/pharma/another-exec-departs-troubled-endo-and-time-it-s-for-another-drugmaker</td>\n",
       "      <td>news</td>\n",
       "    </tr>\n",
       "    <tr>\n",
       "      <th>3</th>\n",
       "      <td>4</td>\n",
       "      <td>www.fiercepharma.com</td>\n",
       "      <td>http://www.fiercepharma.com/pharma/teva-buy-biosim-specialist-celltrion-it-wouldn-t-say-no</td>\n",
       "      <td>news</td>\n",
       "    </tr>\n",
       "    <tr>\n",
       "      <th>4</th>\n",
       "      <td>5</td>\n",
       "      <td>www.fiercepharma.com</td>\n",
       "      <td>http://www.fiercepharma.com/marketing/actress-marissa-tomei-partners-allergan-restasis-to-drive-dry-eye-awareness</td>\n",
       "      <td>news</td>\n",
       "    </tr>\n",
       "  </tbody>\n",
       "</table>\n",
       "</div>"
      ],
      "text/plain": [
       "   Webpage_id                Domain  \\\n",
       "0           1  www.fiercepharma.com   \n",
       "1           2  www.fiercepharma.com   \n",
       "2           3  www.fiercepharma.com   \n",
       "3           4  www.fiercepharma.com   \n",
       "4           5  www.fiercepharma.com   \n",
       "\n",
       "                                                                                                                             Url  \\\n",
       "0  http://www.fiercepharma.com/marketing/tecfidera-gilenya-and-aubagio-s-3-way-battle-for-ms-share-about-to-get-more-interesting   \n",
       "1                                 http://www.fiercepharma.com/pharma/novo-equipped-to-weather-storm-u-s-diabetes-market-ceo-says   \n",
       "2                      http://www.fiercepharma.com/pharma/another-exec-departs-troubled-endo-and-time-it-s-for-another-drugmaker   \n",
       "3                                     http://www.fiercepharma.com/pharma/teva-buy-biosim-specialist-celltrion-it-wouldn-t-say-no   \n",
       "4              http://www.fiercepharma.com/marketing/actress-marissa-tomei-partners-allergan-restasis-to-drive-dry-eye-awareness   \n",
       "\n",
       "    Tag  \n",
       "0  news  \n",
       "1  news  \n",
       "2  news  \n",
       "3  news  \n",
       "4  news  "
      ]
     },
     "execution_count": 51,
     "metadata": {},
     "output_type": "execute_result"
    },
    {
     "data": {
      "text/plain": [
       "(53447, 4)"
      ]
     },
     "execution_count": 51,
     "metadata": {},
     "output_type": "execute_result"
    },
    {
     "name": "stdout",
     "output_type": "stream",
     "text": [
      "<class 'pandas.core.frame.DataFrame'>\n",
      "RangeIndex: 53447 entries, 0 to 53446\n",
      "Data columns (total 4 columns):\n",
      "Webpage_id    53447 non-null int64\n",
      "Domain        53447 non-null object\n",
      "Url           53447 non-null object\n",
      "Tag           53447 non-null object\n",
      "dtypes: int64(1), object(3)\n",
      "memory usage: 1.6+ MB\n"
     ]
    },
    {
     "data": {
      "text/plain": [
       "others            17417\n",
       "news               7992\n",
       "publication        7705\n",
       "profile            5196\n",
       "conferences        4666\n",
       "forum              4503\n",
       "clinicalTrials     2839\n",
       "thesis             1800\n",
       "guidelines         1329\n",
       "Name: Tag, dtype: int64"
      ]
     },
     "execution_count": 51,
     "metadata": {},
     "output_type": "execute_result"
    },
    {
     "data": {
      "text/html": [
       "<div>\n",
       "<style scoped>\n",
       "    .dataframe tbody tr th:only-of-type {\n",
       "        vertical-align: middle;\n",
       "    }\n",
       "\n",
       "    .dataframe tbody tr th {\n",
       "        vertical-align: top;\n",
       "    }\n",
       "\n",
       "    .dataframe thead th {\n",
       "        text-align: right;\n",
       "    }\n",
       "</style>\n",
       "<table border=\"1\" class=\"dataframe\">\n",
       "  <thead>\n",
       "    <tr style=\"text-align: right;\">\n",
       "      <th></th>\n",
       "      <th>Webpage_id</th>\n",
       "      <th>Domain</th>\n",
       "      <th>Url</th>\n",
       "      <th>Tag</th>\n",
       "    </tr>\n",
       "  </thead>\n",
       "  <tbody>\n",
       "    <tr>\n",
       "      <th>0</th>\n",
       "      <td>31</td>\n",
       "      <td>isrctn.com</td>\n",
       "      <td>http://www.isrctn.com/ISRCTN57801413</td>\n",
       "      <td>NaN</td>\n",
       "    </tr>\n",
       "    <tr>\n",
       "      <th>1</th>\n",
       "      <td>32</td>\n",
       "      <td>www.clinicaltrialsregister.eu</td>\n",
       "      <td>https://www.clinicaltrialsregister.eu/ctr-search/trial/2006-006214-16/GB</td>\n",
       "      <td>NaN</td>\n",
       "    </tr>\n",
       "    <tr>\n",
       "      <th>2</th>\n",
       "      <td>33</td>\n",
       "      <td>www.clinicaltrialsregister.eu</td>\n",
       "      <td>https://www.clinicaltrialsregister.eu/ctr-search/trial/2006-004265-34/LT</td>\n",
       "      <td>NaN</td>\n",
       "    </tr>\n",
       "    <tr>\n",
       "      <th>3</th>\n",
       "      <td>34</td>\n",
       "      <td>www.clinicaltrialsregister.eu</td>\n",
       "      <td>https://www.clinicaltrialsregister.eu/ctr-search/trial/2010-022183-12/IT</td>\n",
       "      <td>NaN</td>\n",
       "    </tr>\n",
       "    <tr>\n",
       "      <th>4</th>\n",
       "      <td>35</td>\n",
       "      <td>www.clinicaltrialsregister.eu</td>\n",
       "      <td>https://www.clinicaltrialsregister.eu/ctr-search/trial/2010-021349-36/NL</td>\n",
       "      <td>NaN</td>\n",
       "    </tr>\n",
       "  </tbody>\n",
       "</table>\n",
       "</div>"
      ],
      "text/plain": [
       "   Webpage_id                         Domain  \\\n",
       "0          31                     isrctn.com   \n",
       "1          32  www.clinicaltrialsregister.eu   \n",
       "2          33  www.clinicaltrialsregister.eu   \n",
       "3          34  www.clinicaltrialsregister.eu   \n",
       "4          35  www.clinicaltrialsregister.eu   \n",
       "\n",
       "                                                                        Url  \\\n",
       "0                                      http://www.isrctn.com/ISRCTN57801413   \n",
       "1  https://www.clinicaltrialsregister.eu/ctr-search/trial/2006-006214-16/GB   \n",
       "2  https://www.clinicaltrialsregister.eu/ctr-search/trial/2006-004265-34/LT   \n",
       "3  https://www.clinicaltrialsregister.eu/ctr-search/trial/2010-022183-12/IT   \n",
       "4  https://www.clinicaltrialsregister.eu/ctr-search/trial/2010-021349-36/NL   \n",
       "\n",
       "   Tag  \n",
       "0  NaN  \n",
       "1  NaN  \n",
       "2  NaN  \n",
       "3  NaN  \n",
       "4  NaN  "
      ]
     },
     "execution_count": 51,
     "metadata": {},
     "output_type": "execute_result"
    },
    {
     "data": {
      "text/plain": [
       "(25787, 4)"
      ]
     },
     "execution_count": 51,
     "metadata": {},
     "output_type": "execute_result"
    },
    {
     "name": "stdout",
     "output_type": "stream",
     "text": [
      "<class 'pandas.core.frame.DataFrame'>\n",
      "RangeIndex: 25787 entries, 0 to 25786\n",
      "Data columns (total 4 columns):\n",
      "Webpage_id    25787 non-null int64\n",
      "Domain        25787 non-null object\n",
      "Url           25787 non-null object\n",
      "Tag           0 non-null float64\n",
      "dtypes: float64(1), int64(1), object(2)\n",
      "memory usage: 805.9+ KB\n"
     ]
    },
    {
     "data": {
      "text/plain": [
       "Series([], Name: Tag, dtype: int64)"
      ]
     },
     "execution_count": 51,
     "metadata": {},
     "output_type": "execute_result"
    },
    {
     "data": {
      "text/plain": [
       "25787"
      ]
     },
     "execution_count": 51,
     "metadata": {},
     "output_type": "execute_result"
    },
    {
     "data": {
      "text/plain": [
       "others            17417\n",
       "news               7992\n",
       "publication        7705\n",
       "profile            5196\n",
       "conferences        4666\n",
       "forum              4503\n",
       "clinicalTrials     2839\n",
       "thesis             1800\n",
       "guidelines         1329\n",
       "Name: Tag, dtype: int64"
      ]
     },
     "execution_count": 51,
     "metadata": {},
     "output_type": "execute_result"
    }
   ],
   "source": [
    "train = pd.read_csv(\"train.csv\")\n",
    "test = pd.read_csv(\"test_nvPHrOx.csv\")\n",
    "\n",
    "train.head()\n",
    "train.shape\n",
    "train.info()\n",
    "train.Tag.value_counts()\n",
    "\n",
    "test.head()\n",
    "test.shape\n",
    "test.info()\n",
    "test.Tag.value_counts()\n",
    "\n",
    "df =  train.append(test)\n",
    "df['Tag'].isnull().sum()\n",
    "df.Tag.value_counts()"
   ]
  },
  {
   "cell_type": "code",
   "execution_count": 52,
   "metadata": {},
   "outputs": [
    {
     "data": {
      "text/plain": [
       "79234"
      ]
     },
     "execution_count": 52,
     "metadata": {},
     "output_type": "execute_result"
    },
    {
     "data": {
      "text/plain": [
       "(79234, 4)"
      ]
     },
     "execution_count": 52,
     "metadata": {},
     "output_type": "execute_result"
    }
   ],
   "source": [
    "## replace double space with single space\n",
    "## converting to lower case\n",
    "## keep only non-numeric \n",
    "## replace mispelled spelling with correct ones (iterative)\n",
    "## tokenezied the notes (after processing above steps)\n",
    "## remove the stopwords (iterative)\n",
    "## lemmatization\n",
    "53447+25787\n",
    "df.shape"
   ]
  },
  {
   "cell_type": "code",
   "execution_count": 53,
   "metadata": {},
   "outputs": [],
   "source": [
    "\n",
    "\n",
    "## stopword list\n",
    "stopword_list = set(stopwords.words('english')+list(punctuation))\n",
    "stopword_list.update(['http','com','www'])\n",
    "\n",
    "## misspell dictionary\n",
    "my_dict = {'accommodate':'accommodate',\n",
    "'accommodated':'accommodate',\n",
    "'accommodating':'accommodate',\n",
    "\n",
    "}\n",
    "\n"
   ]
  },
  {
   "cell_type": "code",
   "execution_count": 54,
   "metadata": {},
   "outputs": [],
   "source": [
    "\n",
    "## defined functions\n",
    "\n",
    "def spell_check(st): \n",
    "    words = st.split()\n",
    "    tt=' '.join(str(my_dict.get(word, word)) for word in words)\n",
    "    return(tt) \n",
    "\n",
    "\n",
    "lemma = WordNetLemmatizer()\n",
    "def split_into_lemmas(notes):\n",
    "    #notes=notes.lower()\n",
    "    words=word_tokenize(notes)\n",
    "    words_without_stop=[]\n",
    "    for word in words:\n",
    "        if word in stopword_list:continue\n",
    "        elif len(word) in (1,2):continue\n",
    "        words_without_stop.append(word)\n",
    "    \n",
    "    return[lemma.lemmatize(word) for word in words_without_stop]\n"
   ]
  },
  {
   "cell_type": "code",
   "execution_count": 55,
   "metadata": {},
   "outputs": [],
   "source": [
    "## replace double space with single space\n",
    "df['Url'] = df['Url'].apply(lambda x: re.sub('\\s{2,}',' ',x)) \n",
    "## converting to lower case\n",
    "df['Url'] = df['Url'].str.lower()\n",
    "## keep only non-numeric figures\n",
    "df['Url'] = df['Url'].apply(lambda x: re.sub('[^a-z]+',' ',x)) ## removes all numbers\n",
    "\n",
    "## replace mispelled spelling with correct ones (iterative)\n",
    "df['Url'] = df['Url'].apply(spell_check)\n",
    "## tokenezied the notes (after processing above steps)\n",
    "## remove the stopwords (iterative)\n",
    "## lemmatization\n",
    "word_corpus = df['Url'].apply(split_into_lemmas)"
   ]
  },
  {
   "cell_type": "code",
   "execution_count": 56,
   "metadata": {},
   "outputs": [
    {
     "data": {
      "text/plain": [
       "1          [fiercepharma, pharma, novo, equipped, weather, storm, diabetes, market, ceo, say]\n",
       "2    [fiercepharma, pharma, another, exec, departs, troubled, endo, time, another, drugmaker]\n",
       "3                       [fiercepharma, pharma, teva, buy, biosim, specialist, celltrion, say]\n",
       "Name: Url, dtype: object"
      ]
     },
     "execution_count": 56,
     "metadata": {},
     "output_type": "execute_result"
    }
   ],
   "source": [
    "word_corpus[1:4]"
   ]
  },
  {
   "cell_type": "code",
   "execution_count": 57,
   "metadata": {},
   "outputs": [],
   "source": [
    "#word_corpus[1]\n",
    "#flatten the lists\n",
    "flattened_list = [y for x in word_corpus for y in x]\n",
    "k = pd.DataFrame(flattened_list,columns=['words'])\n",
    "k['words'].value_counts().to_csv('words_clean_1.csv')\n"
   ]
  },
  {
   "cell_type": "code",
   "execution_count": 58,
   "metadata": {},
   "outputs": [
    {
     "data": {
      "text/plain": [
       "(79234,)"
      ]
     },
     "execution_count": 58,
     "metadata": {},
     "output_type": "execute_result"
    }
   ],
   "source": [
    "word_corpus.shape"
   ]
  },
  {
   "cell_type": "code",
   "execution_count": 34,
   "metadata": {},
   "outputs": [
    {
     "data": {
      "text/plain": [
       "<matplotlib.figure.Figure at 0x16f7ae80>"
      ]
     },
     "execution_count": 34,
     "metadata": {},
     "output_type": "execute_result"
    },
    {
     "data": {
      "text/plain": [
       "<matplotlib.axes._subplots.AxesSubplot at 0x186a4358>"
      ]
     },
     "execution_count": 34,
     "metadata": {},
     "output_type": "execute_result"
    },
    {
     "data": {
      "image/png": "[encoded data removed]",
      "text/plain": [
       "<matplotlib.figure.Figure at 0x16f7ae80>"
      ]
     },
     "metadata": {},
     "output_type": "display_data"
    }
   ],
   "source": [
    "## top words\n",
    "plt.figure(figsize=(16,13))\n",
    "k['words'].value_counts()[1:50].plot(kind='bar')\n"
   ]
  },
  {
   "cell_type": "code",
   "execution_count": 36,
   "metadata": {},
   "outputs": [
    {
     "data": {
      "text/plain": [
       "((17417,), (7992,), (7705,))"
      ]
     },
     "execution_count": 36,
     "metadata": {},
     "output_type": "execute_result"
    },
    {
     "data": {
      "text/plain": [
       "((5196,), (4666,), (4503,))"
      ]
     },
     "execution_count": 36,
     "metadata": {},
     "output_type": "execute_result"
    },
    {
     "data": {
      "text/plain": [
       "((2839,), (1800,), (1329,))"
      ]
     },
     "execution_count": 36,
     "metadata": {},
     "output_type": "execute_result"
    }
   ],
   "source": [
    "others = word_corpus[df.Tag=='others'].apply(lambda x:' '.join(x))\n",
    "news = word_corpus[df.Tag=='news'].apply(lambda x:' '.join(x))\n",
    "publication = word_corpus[df.Tag=='publication'].apply(lambda x:' '.join(x))\n",
    "profile = word_corpus[df.Tag=='profile'].apply(lambda x:' '.join(x))\n",
    "conferences = word_corpus[df.Tag=='conferences'].apply(lambda x:' '.join(x))\n",
    "forum = word_corpus[df.Tag=='forum'].apply(lambda x:' '.join(x))\n",
    "clinicalTrials = word_corpus[df.Tag=='clinicalTrials'].apply(lambda x:' '.join(x))\n",
    "thesis = word_corpus[df.Tag=='thesis'].apply(lambda x:' '.join(x))\n",
    "guidelines = word_corpus[df.Tag=='guidelines'].apply(lambda x:' '.join(x))\n",
    "\n",
    "others.shape,news.shape,publication.shape\n",
    "profile.shape,conferences.shape,forum.shape\n",
    "clinicalTrials.shape, thesis.shape,guidelines.shape"
   ]
  },
  {
   "cell_type": "code",
   "execution_count": 45,
   "metadata": {},
   "outputs": [
    {
     "data": {
      "text/plain": [
       "<matplotlib.figure.Figure at 0x19acda90>"
      ]
     },
     "execution_count": 45,
     "metadata": {},
     "output_type": "execute_result"
    },
    {
     "data": {
      "text/plain": [
       "<wordcloud.wordcloud.WordCloud at 0x19acd0f0>"
      ]
     },
     "execution_count": 45,
     "metadata": {},
     "output_type": "execute_result"
    },
    {
     "data": {
      "text/plain": [
       "Text(0.5,1,'GUIDELINES WORD CLOUD')"
      ]
     },
     "execution_count": 45,
     "metadata": {},
     "output_type": "execute_result"
    },
    {
     "data": {
      "text/plain": [
       "<matplotlib.image.AxesImage at 0x19a4f9b0>"
      ]
     },
     "execution_count": 45,
     "metadata": {},
     "output_type": "execute_result"
    },
    {
     "data": {
      "text/plain": [
       "(-0.5, 399.5, 199.5, -0.5)"
      ]
     },
     "execution_count": 45,
     "metadata": {},
     "output_type": "execute_result"
    },
    {
     "data": {
      "image/png": "[encoded data removed]",
      "text/plain": [
       "<matplotlib.figure.Figure at 0x19acda90>"
      ]
     },
     "metadata": {},
     "output_type": "display_data"
    }
   ],
   "source": [
    "# The wordcloud of cat events\n",
    "plt.figure(figsize=(16,13))\n",
    "wc = WordCloud(background_color=\"black\", max_words=10000,stopwords=STOPWORDS, max_font_size= 40)\n",
    "wc.generate(\" \".join(guidelines))\n",
    "plt.title(\"GUIDELINES WORD CLOUD\", fontsize=20)\n",
    "# plt.imshow(wc.recolor( colormap= 'Pastel1_r' , random_state=17), alpha=0.98)\n",
    "plt.imshow(wc.recolor( colormap= 'Pastel2' , random_state=17), alpha=0.98)\n",
    "plt.axis('off')"
   ]
  },
  {
   "cell_type": "code",
   "execution_count": 91,
   "metadata": {},
   "outputs": [
    {
     "data": {
      "text/plain": [
       "((42757,), (10690,), (42757,), (10690,), (25787,))"
      ]
     },
     "execution_count": 91,
     "metadata": {},
     "output_type": "execute_result"
    }
   ],
   "source": [
    "xtrain, xvalid, ytrain, yvalid = train_test_split(word_corpus[df['Tag'].notnull()], df.Tag[df['Tag'].notnull()],stratify=df.Tag[df['Tag'].notnull()], \n",
    "                                                  random_state=108, \n",
    "                                                  test_size=0.20)\n",
    "xtest = word_corpus[df['Tag'].isnull()]\n",
    "xtrain.shape,xvalid.shape,ytrain.shape,yvalid.shape,xtest.shape"
   ]
  },
  {
   "cell_type": "code",
   "execution_count": 104,
   "metadata": {},
   "outputs": [
    {
     "data": {
      "text/plain": [
       "TfidfVectorizer(analyzer='word', binary=False, decode_error='strict',\n",
       "        dtype=<class 'numpy.int64'>, encoding='utf-8', input='content',\n",
       "        lowercase=True, max_df=1.0, max_features=None, min_df=10,\n",
       "        ngram_range=(1, 4), norm='l2',\n",
       "        preprocessor=<function <lambda> at 0x0000000017D27268>,\n",
       "        smooth_idf=True, stop_words=None, strip_accents=None,\n",
       "        sublinear_tf=False, token_pattern='(?u)\\\\b\\\\w\\\\w+\\\\b',\n",
       "        tokenizer=<function <lambda> at 0x0000000017D278C8>, use_idf=True,\n",
       "        vocabulary=None)"
      ]
     },
     "execution_count": 104,
     "metadata": {},
     "output_type": "execute_result"
    }
   ],
   "source": [
    "## override the built in preprocessor and tokenizer since the tokenization is allready done\n",
    "## ngram_range = (1,2)\n",
    "tfv = TfidfVectorizer(preprocessor=lambda x: x, tokenizer=lambda x: x,min_df=10, max_features=None,ngram_range=(1, 3))\n",
    "tfv.fit(list(xtrain) + list(xvalid) + list(xtest))\n",
    "xtrain_tfv =  tfv.transform(xtrain) \n",
    "xvalid_tfv = tfv.transform(xvalid)\n",
    "xtest_tfv =  tfv.transform(xtest) "
   ]
  },
  {
   "cell_type": "code",
   "execution_count": 105,
   "metadata": {},
   "outputs": [
    {
     "data": {
      "text/plain": [
       "XGBClassifier(base_score=0.5, booster='gbtree', colsample_bylevel=1,\n",
       "       colsample_bytree=0.8, gamma=0, learning_rate=0.1, max_delta_step=0,\n",
       "       max_depth=7, min_child_weight=1, missing=None, n_estimators=200,\n",
       "       n_jobs=1, nthread=10, objective='multi:softprob', random_state=0,\n",
       "       reg_alpha=0, reg_lambda=1, scale_pos_weight=1, seed=None,\n",
       "       silent=True, subsample=0.8)"
      ]
     },
     "execution_count": 105,
     "metadata": {},
     "output_type": "execute_result"
    }
   ],
   "source": [
    "## xgboost -\n",
    "import xgboost as xgb\n",
    "clf = xgb.XGBClassifier(max_depth=7, n_estimators=200, colsample_bytree=0.8, \n",
    "                        subsample=0.8, nthread=10, learning_rate=0.1,objective = 'multi:softprob')\n",
    "clf.fit(xtrain_tfv.tocsc(), ytrain)\n",
    "\n",
    "\n"
   ]
  },
  {
   "cell_type": "code",
   "execution_count": 106,
   "metadata": {},
   "outputs": [
    {
     "name": "stdout",
     "output_type": "stream",
     "text": [
      "[[ 566    0    0    0    0    2    0    0    0]\n",
      " [   0  880    0    0    4   40    0    9    0]\n",
      " [   0    0  897    0    1    3    0    0    0]\n",
      " [   0    1    0  239    1   13    0   12    0]\n",
      " [   1    8    1    7 1389  169    5   18    0]\n",
      " [   1    2    2    1   62 3372   26   18    0]\n",
      " [   0    1    0    0    1   63  970    4    0]\n",
      " [   0    3    0   11    2   35    0 1490    0]\n",
      " [   0    0    0    0    0    0    0    0  360]]\n"
     ]
    },
    {
     "name": "stderr",
     "output_type": "stream",
     "text": [
      "C:\\Users\\rprasad\\AppData\\Local\\Continuum1\\anaconda3\\lib\\site-packages\\sklearn\\preprocessing\\label.py:151: DeprecationWarning:\n",
      "\n",
      "The truth value of an empty array is ambiguous. Returning False, but in future this will result in an error. Use `array.size > 0` to check that an array is not empty.\n",
      "\n"
     ]
    },
    {
     "data": {
      "text/plain": [
       "0.20201105628879681"
      ]
     },
     "execution_count": 106,
     "metadata": {},
     "output_type": "execute_result"
    },
    {
     "data": {
      "text/plain": [
       "0.9505475280218155"
      ]
     },
     "execution_count": 106,
     "metadata": {},
     "output_type": "execute_result"
    }
   ],
   "source": [
    "## validation\n",
    "predictions = clf.predict_proba(xvalid_tfv.tocsc())\n",
    "predictions1 = clf.predict(xvalid_tfv.tocsc())\n",
    "\n",
    "print(confusion_matrix(yvalid,predictions1))\n",
    "log_loss(yvalid,predictions)\n",
    "f1_score(yvalid,predictions1, labels=None, pos_label=1, average='weighted')"
   ]
  },
  {
   "cell_type": "code",
   "execution_count": 107,
   "metadata": {},
   "outputs": [
    {
     "name": "stderr",
     "output_type": "stream",
     "text": [
      "C:\\Users\\rprasad\\AppData\\Local\\Continuum1\\anaconda3\\lib\\site-packages\\sklearn\\preprocessing\\label.py:151: DeprecationWarning:\n",
      "\n",
      "The truth value of an empty array is ambiguous. Returning False, but in future this will result in an error. Use `array.size > 0` to check that an array is not empty.\n",
      "\n"
     ]
    },
    {
     "data": {
      "text/plain": [
       "array([['clinicalTrials', 236],\n",
       "       ['conferences', 1133],\n",
       "       ['forum', 1120],\n",
       "       ['guidelines', 248],\n",
       "       ['news', 3212],\n",
       "       ['others', 13491],\n",
       "       ['profile', 2098],\n",
       "       ['publication', 3949],\n",
       "       ['thesis', 300]], dtype=object)"
      ]
     },
     "execution_count": 107,
     "metadata": {},
     "output_type": "execute_result"
    },
    {
     "data": {
      "text/plain": [
       "(25787,)"
      ]
     },
     "execution_count": 107,
     "metadata": {},
     "output_type": "execute_result"
    }
   ],
   "source": [
    "## scoring\n",
    "\n",
    "pred = clf.predict(xtest_tfv.tocsc())\n",
    "unique, counts = np.unique(pred, return_counts=True)\n",
    "np.asarray((unique, counts)).T\n",
    "pred.shape\n",
    "sub1 = pd.DataFrame({'Webpage_id':df['Webpage_id'][df['Tag'].isnull()],'Tag':pred})\n",
    "sub1.to_csv(\"sub2.csv\")"
   ]
  },
  {
   "cell_type": "markdown",
   "metadata": {},
   "source": [
    "## Hyperparameter search"
   ]
  },
  {
   "cell_type": "code",
   "execution_count": 108,
   "metadata": {},
   "outputs": [
    {
     "name": "stdout",
     "output_type": "stream",
     "text": [
      "{'min_child_weight': [1, 5, 10], 'gamma': [0.5, 1, 1.5, 2, 5], 'subsample': [0.6, 0.8, 1.0], 'colsample_bytree': [0.6, 0.8, 1.0], 'max_depth': [3, 4, 5], 'learning_rate': [0.1, 0.01, 0.001, 0.2, 0.15], 'n_estimators': [500, 700, 1000, 1500, 2000]}\n"
     ]
    }
   ],
   "source": [
    "## hyperparameter grid\n",
    "from sklearn.model_selection import RandomizedSearchCV\n",
    "\n",
    "\n",
    "\n",
    "# Create the random grid\n",
    "random_grid = {'min_child_weight': [1, 5, 10],\n",
    "        'gamma': [0.5, 1, 1.5, 2, 5],\n",
    "        'subsample': [0.6, 0.8, 1.0],\n",
    "        'colsample_bytree': [0.6, 0.8, 1.0],\n",
    "        'max_depth': [3, 4, 5],\n",
    "        'learning_rate': [0.1,0.01,0.001,0.2,0.15],\n",
    "        'n_estimators': [500,700,1000,1500,2000]   }\n",
    "\n",
    "print(random_grid)\n",
    "\n",
    "xgb = XGBClassifier(objective='multi:softprob',silent=True, nthread=1)\n",
    "xgb_random = RandomizedSearchCV(estimator = xgb, param_distributions = random_grid,n_iter=10,cv = 5,verbose=2, random_state=42,scoring='accuracy', n_jobs = -1)"
   ]
  },
  {
   "cell_type": "code",
   "execution_count": 109,
   "metadata": {},
   "outputs": [
    {
     "name": "stdout",
     "output_type": "stream",
     "text": [
      "Fitting 5 folds for each of 10 candidates, totalling 50 fits\n"
     ]
    },
    {
     "name": "stderr",
     "output_type": "stream",
     "text": [
      "[Parallel(n_jobs=-1)]: Done  33 tasks      | elapsed: 107.0min\n",
      "[Parallel(n_jobs=-1)]: Done  50 out of  50 | elapsed: 190.6min finished\n"
     ]
    },
    {
     "data": {
      "text/plain": [
       "RandomizedSearchCV(cv=5, error_score='raise',\n",
       "          estimator=XGBClassifier(base_score=0.5, booster='gbtree', colsample_bylevel=1,\n",
       "       colsample_bytree=1, gamma=0, learning_rate=0.1, max_delta_step=0,\n",
       "       max_depth=3, min_child_weight=1, missing=None, n_estimators=100,\n",
       "       n_jobs=1, nthread=1, objective='multi:softprob', random_state=0,\n",
       "       reg_alpha=0, reg_lambda=1, scale_pos_weight=1, seed=None,\n",
       "       silent=True, subsample=1),\n",
       "          fit_params=None, iid=True, n_iter=10, n_jobs=-1,\n",
       "          param_distributions={'min_child_weight': [1, 5, 10], 'gamma': [0.5, 1, 1.5, 2, 5], 'subsample': [0.6, 0.8, 1.0], 'colsample_bytree': [0.6, 0.8, 1.0], 'max_depth': [3, 4, 5], 'learning_rate': [0.1, 0.01, 0.001, 0.2, 0.15], 'n_estimators': [500, 700, 1000, 1500, 2000]},\n",
       "          pre_dispatch='2*n_jobs', random_state=42, refit=True,\n",
       "          return_train_score='warn', scoring='accuracy', verbose=2)"
      ]
     },
     "execution_count": 109,
     "metadata": {},
     "output_type": "execute_result"
    },
    {
     "ename": "NameError",
     "evalue": "name 'rf_random' is not defined",
     "output_type": "error",
     "traceback": [
      "\u001b[1;31m---------------------------------------------------------------------------\u001b[0m",
      "\u001b[1;31mNameError\u001b[0m                                 Traceback (most recent call last)",
      "\u001b[1;32m<ipython-input-109-5c19a8b3a845>\u001b[0m in \u001b[0;36m<module>\u001b[1;34m()\u001b[0m\n\u001b[0;32m      1\u001b[0m \u001b[1;31m# Fit the random search model\u001b[0m\u001b[1;33m\u001b[0m\u001b[1;33m\u001b[0m\u001b[0m\n\u001b[0;32m      2\u001b[0m \u001b[0mxgb_random\u001b[0m\u001b[1;33m.\u001b[0m\u001b[0mfit\u001b[0m\u001b[1;33m(\u001b[0m\u001b[0mxtrain_tfv\u001b[0m\u001b[1;33m.\u001b[0m\u001b[0mtocsc\u001b[0m\u001b[1;33m(\u001b[0m\u001b[1;33m)\u001b[0m\u001b[1;33m,\u001b[0m \u001b[0mytrain\u001b[0m\u001b[1;33m)\u001b[0m\u001b[1;33m\u001b[0m\u001b[0m\n\u001b[1;32m----> 3\u001b[1;33m \u001b[0mrf_random\u001b[0m\u001b[1;33m.\u001b[0m\u001b[0mbest_params_\u001b[0m\u001b[1;33m\u001b[0m\u001b[0m\n\u001b[0m",
      "\u001b[1;31mNameError\u001b[0m: name 'rf_random' is not defined"
     ]
    }
   ],
   "source": [
    "# Fit the random search model\n",
    "xgb_random.fit(xtrain_tfv.tocsc(), ytrain)\n",
    "\n"
   ]
  },
  {
   "cell_type": "code",
   "execution_count": 110,
   "metadata": {},
   "outputs": [
    {
     "data": {
      "text/plain": [
       "{'colsample_bytree': 1.0,\n",
       " 'gamma': 0.5,\n",
       " 'learning_rate': 0.2,\n",
       " 'max_depth': 5,\n",
       " 'min_child_weight': 5,\n",
       " 'n_estimators': 1500,\n",
       " 'subsample': 0.8}"
      ]
     },
     "execution_count": 110,
     "metadata": {},
     "output_type": "execute_result"
    }
   ],
   "source": [
    "xgb_random.best_params_"
   ]
  },
  {
   "cell_type": "code",
   "execution_count": 111,
   "metadata": {},
   "outputs": [
    {
     "name": "stderr",
     "output_type": "stream",
     "text": [
      "C:\\Users\\rprasad\\AppData\\Local\\Continuum1\\anaconda3\\lib\\site-packages\\sklearn\\preprocessing\\label.py:151: DeprecationWarning:\n",
      "\n",
      "The truth value of an empty array is ambiguous. Returning False, but in future this will result in an error. Use `array.size > 0` to check that an array is not empty.\n",
      "\n"
     ]
    },
    {
     "data": {
      "text/plain": [
       "array([['clinicalTrials', 242],\n",
       "       ['conferences', 1309],\n",
       "       ['forum', 1137],\n",
       "       ['guidelines', 272],\n",
       "       ['news', 4043],\n",
       "       ['others', 12817],\n",
       "       ['profile', 1844],\n",
       "       ['publication', 3823],\n",
       "       ['thesis', 300]], dtype=object)"
      ]
     },
     "execution_count": 111,
     "metadata": {},
     "output_type": "execute_result"
    },
    {
     "data": {
      "text/plain": [
       "(25787,)"
      ]
     },
     "execution_count": 111,
     "metadata": {},
     "output_type": "execute_result"
    }
   ],
   "source": [
    "pred = xgb_random.predict(xtest_tfv.tocsc())\n",
    "unique, counts = np.unique(pred, return_counts=True)\n",
    "np.asarray((unique, counts)).T\n",
    "pred.shape\n",
    "sub1 = pd.DataFrame({'Webpage_id':df['Webpage_id'][df['Tag'].isnull()],'Tag':pred})\n",
    "sub1.to_csv(\"sub2.csv\")"
   ]
  },
  {
   "cell_type": "code",
   "execution_count": 112,
   "metadata": {
    "scrolled": true
   },
   "outputs": [
    {
     "name": "stdout",
     "output_type": "stream",
     "text": [
      "[[ 566    0    0    0    0    2    0    0    0]\n",
      " [   0  889    0    0    6   28    0   10    0]\n",
      " [   0    0  898    0    0    2    1    0    0]\n",
      " [   0    1    0  238    2   14    0   11    0]\n",
      " [   1    8    2    6 1456  108    5   12    0]\n",
      " [   0    6    2    1   66 3355   29   25    0]\n",
      " [   0    0    0    0    1   45  989    4    0]\n",
      " [   1    2    0   11    3   20    1 1503    0]\n",
      " [   0    0    0    0    0    0    0    0  360]]\n"
     ]
    },
    {
     "name": "stderr",
     "output_type": "stream",
     "text": [
      "C:\\Users\\rprasad\\AppData\\Local\\Continuum1\\anaconda3\\lib\\site-packages\\sklearn\\preprocessing\\label.py:151: DeprecationWarning:\n",
      "\n",
      "The truth value of an empty array is ambiguous. Returning False, but in future this will result in an error. Use `array.size > 0` to check that an array is not empty.\n",
      "\n"
     ]
    },
    {
     "data": {
      "text/plain": [
       "0.9591374374789715"
      ]
     },
     "execution_count": 112,
     "metadata": {},
     "output_type": "execute_result"
    }
   ],
   "source": [
    "## validation\n",
    "#predictions = xgb_random.predict_proba(xvalid_tfv.tocsc())\n",
    "predictions1 = xgb_random.predict(xvalid_tfv.tocsc())\n",
    "\n",
    "print(confusion_matrix(yvalid,predictions1))\n",
    "#log_loss(yvalid,predictions)\n",
    "f1_score(yvalid,predictions1, labels=None, pos_label=1, average='weighted')"
   ]
  },
  {
   "cell_type": "code",
   "execution_count": null,
   "metadata": {},
   "outputs": [],
   "source": []
  }
 ],
 "metadata": {
  "kernelspec": {
   "display_name": "Python 3",
   "language": "python",
   "name": "python3"
  },
  "language_info": {
   "codemirror_mode": {
    "name": "ipython",
    "version": 3
   },
   "file_extension": ".py",
   "mimetype": "text/x-python",
   "name": "python",
   "nbconvert_exporter": "python",
   "pygments_lexer": "ipython3",
   "version": "3.6.4"
  }
 },
 "nbformat": 4,
 "nbformat_minor": 2
}
