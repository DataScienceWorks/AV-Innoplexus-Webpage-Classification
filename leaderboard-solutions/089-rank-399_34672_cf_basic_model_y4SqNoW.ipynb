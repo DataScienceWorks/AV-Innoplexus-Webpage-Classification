{
 "cells": [
  {
   "cell_type": "code",
   "execution_count": 1,
   "metadata": {},
   "outputs": [],
   "source": [
    "import pandas as pd\n"
   ]
  },
  {
   "cell_type": "code",
   "execution_count": 44,
   "metadata": {},
   "outputs": [],
   "source": [
    "train_data = pd.read_csv('../data/datas/train.csv')\n",
    "test_data = pd.read_csv('../data/datas/test_nvPHrOx.csv')"
   ]
  },
  {
   "cell_type": "code",
   "execution_count": 118,
   "metadata": {},
   "outputs": [],
   "source": [
    "sampleSubmission = pd.read_csv('../data/datas/sample_submission_poy1UIu.csv')"
   ]
  },
  {
   "cell_type": "code",
   "execution_count": 45,
   "metadata": {},
   "outputs": [],
   "source": [
    "train_new_data = pd.read_csv('Title_data.csv',lineterminator='\\n')"
   ]
  },
  {
   "cell_type": "code",
   "execution_count": 53,
   "metadata": {},
   "outputs": [],
   "source": [
    "training_title = train_data.merge(train_new_data,left_on='Webpage_id',right_on='Webpage_id',how='inner')\n"
   ]
  },
  {
   "cell_type": "code",
   "execution_count": 55,
   "metadata": {},
   "outputs": [],
   "source": [
    "testing_title = test_data.merge(train_new_data,left_on='Webpage_id',right_on='Webpage_id',how='inner')"
   ]
  },
  {
   "cell_type": "markdown",
   "metadata": {},
   "source": [
    "## Put the label encoder tags"
   ]
  },
  {
   "cell_type": "code",
   "execution_count": 59,
   "metadata": {},
   "outputs": [],
   "source": [
    "from sklearn.preprocessing import LabelEncoder \n",
    "training_le=LabelEncoder()\n",
    "training_title['Tag'] = training_le.fit_transform(training_title['Tag'])"
   ]
  },
  {
   "cell_type": "code",
   "execution_count": 63,
   "metadata": {},
   "outputs": [
    {
     "data": {
      "text/plain": [
       "array(['clinicalTrials', 'conferences', 'forum', 'guidelines', 'news',\n",
       "       'others', 'profile', 'publication', 'thesis'], dtype=object)"
      ]
     },
     "execution_count": 63,
     "metadata": {},
     "output_type": "execute_result"
    }
   ],
   "source": [
    "training_le.classes_"
   ]
  },
  {
   "cell_type": "code",
   "execution_count": 110,
   "metadata": {},
   "outputs": [
    {
     "data": {
      "text/plain": [
       "'clinicalTrials'"
      ]
     },
     "execution_count": 110,
     "metadata": {},
     "output_type": "execute_result"
    }
   ],
   "source": [
    "tagmap={}\n",
    "for i,k in enumerate(training_le.classes_):\n",
    "    tagmap.update({i:k})"
   ]
  },
  {
   "cell_type": "code",
   "execution_count": 111,
   "metadata": {},
   "outputs": [],
   "source": [
    "def tagmap_function(idn):\n",
    "    return tagmap[idn]"
   ]
  },
  {
   "cell_type": "code",
   "execution_count": 70,
   "metadata": {},
   "outputs": [],
   "source": [
    "import numpy as np\n",
    "\n",
    "from sklearn.feature_extraction.text import TfidfVectorizer\n",
    "from sklearn.linear_model import LogisticRegression, LogisticRegressionCV\n",
    "from sklearn.model_selection import cross_val_score, cross_val_predict\n",
    "\n",
    "from sklearn.metrics import roc_auc_score\n",
    "\n",
    "from scipy.sparse import hstack"
   ]
  },
  {
   "cell_type": "code",
   "execution_count": 65,
   "metadata": {},
   "outputs": [
    {
     "data": {
      "text/plain": [
       "Webpage_id    53447\n",
       "Domain         3974\n",
       "Url           53222\n",
       "Tag               9\n",
       "Title         43563\n",
       "dtype: int64"
      ]
     },
     "execution_count": 65,
     "metadata": {},
     "output_type": "execute_result"
    }
   ],
   "source": [
    "training_title.nunique()"
   ]
  },
  {
   "cell_type": "code",
   "execution_count": 67,
   "metadata": {},
   "outputs": [
    {
     "data": {
      "text/plain": [
       "array([4, 0, 1, 6, 2, 7, 8, 3, 5])"
      ]
     },
     "execution_count": 67,
     "metadata": {},
     "output_type": "execute_result"
    }
   ],
   "source": [
    "training_title.Tag.unique()"
   ]
  },
  {
   "cell_type": "code",
   "execution_count": 68,
   "metadata": {},
   "outputs": [
    {
     "data": {
      "text/html": [
       "<div>\n",
       "<style scoped>\n",
       "    .dataframe tbody tr th:only-of-type {\n",
       "        vertical-align: middle;\n",
       "    }\n",
       "\n",
       "    .dataframe tbody tr th {\n",
       "        vertical-align: top;\n",
       "    }\n",
       "\n",
       "    .dataframe thead th {\n",
       "        text-align: right;\n",
       "    }\n",
       "</style>\n",
       "<table border=\"1\" class=\"dataframe\">\n",
       "  <thead>\n",
       "    <tr style=\"text-align: right;\">\n",
       "      <th></th>\n",
       "      <th>0</th>\n",
       "      <th>1</th>\n",
       "      <th>2</th>\n",
       "      <th>3</th>\n",
       "      <th>4</th>\n",
       "      <th>5</th>\n",
       "      <th>6</th>\n",
       "      <th>7</th>\n",
       "      <th>8</th>\n",
       "    </tr>\n",
       "  </thead>\n",
       "  <tbody>\n",
       "    <tr>\n",
       "      <th>0</th>\n",
       "      <td>0</td>\n",
       "      <td>0</td>\n",
       "      <td>0</td>\n",
       "      <td>0</td>\n",
       "      <td>1</td>\n",
       "      <td>0</td>\n",
       "      <td>0</td>\n",
       "      <td>0</td>\n",
       "      <td>0</td>\n",
       "    </tr>\n",
       "    <tr>\n",
       "      <th>1</th>\n",
       "      <td>0</td>\n",
       "      <td>0</td>\n",
       "      <td>0</td>\n",
       "      <td>0</td>\n",
       "      <td>1</td>\n",
       "      <td>0</td>\n",
       "      <td>0</td>\n",
       "      <td>0</td>\n",
       "      <td>0</td>\n",
       "    </tr>\n",
       "    <tr>\n",
       "      <th>2</th>\n",
       "      <td>0</td>\n",
       "      <td>0</td>\n",
       "      <td>0</td>\n",
       "      <td>0</td>\n",
       "      <td>1</td>\n",
       "      <td>0</td>\n",
       "      <td>0</td>\n",
       "      <td>0</td>\n",
       "      <td>0</td>\n",
       "    </tr>\n",
       "    <tr>\n",
       "      <th>3</th>\n",
       "      <td>0</td>\n",
       "      <td>0</td>\n",
       "      <td>0</td>\n",
       "      <td>0</td>\n",
       "      <td>1</td>\n",
       "      <td>0</td>\n",
       "      <td>0</td>\n",
       "      <td>0</td>\n",
       "      <td>0</td>\n",
       "    </tr>\n",
       "    <tr>\n",
       "      <th>4</th>\n",
       "      <td>0</td>\n",
       "      <td>0</td>\n",
       "      <td>0</td>\n",
       "      <td>0</td>\n",
       "      <td>1</td>\n",
       "      <td>0</td>\n",
       "      <td>0</td>\n",
       "      <td>0</td>\n",
       "      <td>0</td>\n",
       "    </tr>\n",
       "  </tbody>\n",
       "</table>\n",
       "</div>"
      ],
      "text/plain": [
       "   0  1  2  3  4  5  6  7  8\n",
       "0  0  0  0  0  1  0  0  0  0\n",
       "1  0  0  0  0  1  0  0  0  0\n",
       "2  0  0  0  0  1  0  0  0  0\n",
       "3  0  0  0  0  1  0  0  0  0\n",
       "4  0  0  0  0  1  0  0  0  0"
      ]
     },
     "execution_count": 68,
     "metadata": {},
     "output_type": "execute_result"
    }
   ],
   "source": [
    "Tags = pd.get_dummies(training_title.Tag)\n",
    "Tags.head()"
   ]
  },
  {
   "cell_type": "markdown",
   "metadata": {},
   "source": [
    "### Replace Nan as title : unkown"
   ]
  },
  {
   "cell_type": "code",
   "execution_count": 76,
   "metadata": {},
   "outputs": [
    {
     "data": {
      "text/plain": [
       "Webpage_id      0\n",
       "Domain          0\n",
       "Url             0\n",
       "Tag             0\n",
       "Title         220\n",
       "dtype: int64"
      ]
     },
     "execution_count": 76,
     "metadata": {},
     "output_type": "execute_result"
    }
   ],
   "source": [
    "training_title.isnull().sum()"
   ]
  },
  {
   "cell_type": "code",
   "execution_count": 79,
   "metadata": {},
   "outputs": [
    {
     "data": {
      "text/plain": [
       "Webpage_id      0\n",
       "Domain          0\n",
       "Url             0\n",
       "Title         153\n",
       "dtype: int64"
      ]
     },
     "execution_count": 79,
     "metadata": {},
     "output_type": "execute_result"
    }
   ],
   "source": [
    "testing_title.isnull().sum()"
   ]
  },
  {
   "cell_type": "code",
   "execution_count": 77,
   "metadata": {},
   "outputs": [],
   "source": [
    "training_title.fillna(value='Unknown class',inplace=True)"
   ]
  },
  {
   "cell_type": "code",
   "execution_count": 80,
   "metadata": {},
   "outputs": [],
   "source": [
    "testing_title.fillna(value='Unknown class',inplace=True)"
   ]
  },
  {
   "cell_type": "code",
   "execution_count": 81,
   "metadata": {},
   "outputs": [],
   "source": [
    "train_text = training_title['Title']\n",
    "test_text = testing_title['Title']\n",
    "all_text = pd.concat([train_text, test_text])\n"
   ]
  },
  {
   "cell_type": "code",
   "execution_count": 82,
   "metadata": {},
   "outputs": [],
   "source": [
    "word_vectorizer = TfidfVectorizer(\n",
    "    sublinear_tf=True,\n",
    "    strip_accents='unicode',\n",
    "    analyzer='word',\n",
    "    token_pattern=r'\\w{1,}',\n",
    "    stop_words='english',\n",
    "    ngram_range=(1, 3),\n",
    "    max_features=18000)\n",
    "word_vectorizer.fit(all_text)\n",
    "train_word_features = word_vectorizer.transform(train_text)\n",
    "test_word_features = word_vectorizer.transform(test_text)"
   ]
  },
  {
   "cell_type": "code",
   "execution_count": 84,
   "metadata": {},
   "outputs": [],
   "source": [
    "char_vectorizer = TfidfVectorizer(\n",
    "    sublinear_tf=True,\n",
    "    strip_accents='unicode',\n",
    "    analyzer='char',\n",
    "    stop_words='english',\n",
    "    ngram_range=(1, 7),\n",
    "    max_features=60000)\n",
    "char_vectorizer.fit(all_text)\n",
    "train_char_features = char_vectorizer.transform(train_text)\n",
    "test_char_features = char_vectorizer.transform(test_text)"
   ]
  },
  {
   "cell_type": "code",
   "execution_count": 85,
   "metadata": {},
   "outputs": [],
   "source": [
    "train_features = hstack([train_char_features, train_word_features])\n",
    "test_features = hstack([test_char_features, test_word_features])"
   ]
  },
  {
   "cell_type": "code",
   "execution_count": 88,
   "metadata": {},
   "outputs": [],
   "source": [
    "predictions = []\n",
    "submission = pd.DataFrame.from_dict({'Webpage_id': testing_title['Webpage_id']})\n",
    "for i in range(9):\n",
    "    train_target = Tags[i].values\n",
    "    classifier = LogisticRegression(C=2.65, solver='sag')\n",
    "\n",
    "    #cv_prediction = cross_val_predict(classifier, train_features, train_target, cv=3, method='predict_proba')\n",
    "    #predictions.append(cv_prediction[:, 1])\n",
    "    #print('CV score for class {} is {}'.format(i, cv_score))\n",
    "\n",
    "    classifier.fit(train_features, train_target)\n",
    "    submission[str(i)] = classifier.predict_proba(test_features)[:, 1]"
   ]
  },
  {
   "cell_type": "code",
   "execution_count": 89,
   "metadata": {},
   "outputs": [],
   "source": [
    "predictions_2 = []\n",
    "submission_2 = pd.DataFrame.from_dict({'Webpage_id': testing_title['Webpage_id']})\n",
    "for i in range(9):\n",
    "    train_target = Tags[i].values\n",
    "    classifier = LogisticRegression(C=2.6, solver='sag')\n",
    "\n",
    "    #cv_prediction = cross_val_predict(classifier, train_features, train_target, cv=3, method='predict_proba')\n",
    "    #predictions_2.append(cv_prediction[:, 1])\n",
    "    #print('CV score for class {} is {}'.format(i, cv_score))\n",
    "\n",
    "    classifier.fit(train_features, train_target)\n",
    "    submission_2[str(i)] = classifier.predict_proba(test_features)[:, 1]"
   ]
  },
  {
   "cell_type": "code",
   "execution_count": 90,
   "metadata": {},
   "outputs": [],
   "source": [
    "predictions_words = []\n",
    "submission_words = pd.DataFrame.from_dict({'Webpage_id': testing_title['Webpage_id']})\n",
    "for i in range(9):\n",
    "    train_target = Tags[i].values\n",
    "    classifier = LogisticRegression(C=2.6, solver='sag')\n",
    "\n",
    "    #cv_prediction = cross_val_predict(classifier, train_word_features, train_target, cv=3, method='predict_proba')\n",
    "    #predictions_words.append(cv_prediction[:, 1])\n",
    "    #print('CV score for class {} is {}'.format(i, cv_score))\n",
    "\n",
    "    classifier.fit(train_word_features, train_target)\n",
    "    submission_words[str(i)] = classifier.predict_proba(test_word_features)[:, 1]"
   ]
  },
  {
   "cell_type": "code",
   "execution_count": 92,
   "metadata": {},
   "outputs": [],
   "source": [
    "predictions_chars = []\n",
    "submission_chars = pd.DataFrame.from_dict({'Webpage_id': testing_title['Webpage_id']})\n",
    "for i in range(9):\n",
    "    train_target = Tags[i].values\n",
    "    classifier = LogisticRegression(C=2.6, solver='sag')\n",
    "\n",
    "    #cv_prediction = cross_val_predict(classifier, train_char_features, train_target, cv=3, method='predict_proba')\n",
    "    #predictions_chars.append(cv_prediction[:, 1])\n",
    "    #print('CV score for class {} is {}'.format(i, cv_score))\n",
    "\n",
    "    classifier.fit(train_char_features, train_target)\n",
    "    submission_chars[str(i)] = classifier.predict_proba(test_char_features)[:, 1]"
   ]
  },
  {
   "cell_type": "code",
   "execution_count": 93,
   "metadata": {},
   "outputs": [
    {
     "data": {
      "text/html": [
       "<div>\n",
       "<style scoped>\n",
       "    .dataframe tbody tr th:only-of-type {\n",
       "        vertical-align: middle;\n",
       "    }\n",
       "\n",
       "    .dataframe tbody tr th {\n",
       "        vertical-align: top;\n",
       "    }\n",
       "\n",
       "    .dataframe thead th {\n",
       "        text-align: right;\n",
       "    }\n",
       "</style>\n",
       "<table border=\"1\" class=\"dataframe\">\n",
       "  <thead>\n",
       "    <tr style=\"text-align: right;\">\n",
       "      <th></th>\n",
       "      <th>Webpage_id</th>\n",
       "      <th>0</th>\n",
       "      <th>1</th>\n",
       "      <th>2</th>\n",
       "      <th>3</th>\n",
       "      <th>4</th>\n",
       "      <th>5</th>\n",
       "      <th>6</th>\n",
       "      <th>7</th>\n",
       "      <th>8</th>\n",
       "    </tr>\n",
       "  </thead>\n",
       "  <tbody>\n",
       "    <tr>\n",
       "      <th>0</th>\n",
       "      <td>31</td>\n",
       "      <td>0.924659</td>\n",
       "      <td>0.017888</td>\n",
       "      <td>0.002548</td>\n",
       "      <td>0.001383</td>\n",
       "      <td>0.007473</td>\n",
       "      <td>0.016901</td>\n",
       "      <td>0.000459</td>\n",
       "      <td>0.011384</td>\n",
       "      <td>0.004350</td>\n",
       "    </tr>\n",
       "    <tr>\n",
       "      <th>1</th>\n",
       "      <td>32</td>\n",
       "      <td>0.575304</td>\n",
       "      <td>0.001088</td>\n",
       "      <td>0.000820</td>\n",
       "      <td>0.000879</td>\n",
       "      <td>0.018263</td>\n",
       "      <td>0.722397</td>\n",
       "      <td>0.000679</td>\n",
       "      <td>0.001757</td>\n",
       "      <td>0.000425</td>\n",
       "    </tr>\n",
       "    <tr>\n",
       "      <th>2</th>\n",
       "      <td>33</td>\n",
       "      <td>0.575304</td>\n",
       "      <td>0.001088</td>\n",
       "      <td>0.000820</td>\n",
       "      <td>0.000879</td>\n",
       "      <td>0.018263</td>\n",
       "      <td>0.722397</td>\n",
       "      <td>0.000679</td>\n",
       "      <td>0.001757</td>\n",
       "      <td>0.000425</td>\n",
       "    </tr>\n",
       "    <tr>\n",
       "      <th>3</th>\n",
       "      <td>34</td>\n",
       "      <td>0.575304</td>\n",
       "      <td>0.001088</td>\n",
       "      <td>0.000820</td>\n",
       "      <td>0.000879</td>\n",
       "      <td>0.018263</td>\n",
       "      <td>0.722397</td>\n",
       "      <td>0.000679</td>\n",
       "      <td>0.001757</td>\n",
       "      <td>0.000425</td>\n",
       "    </tr>\n",
       "    <tr>\n",
       "      <th>4</th>\n",
       "      <td>35</td>\n",
       "      <td>0.575304</td>\n",
       "      <td>0.001088</td>\n",
       "      <td>0.000820</td>\n",
       "      <td>0.000879</td>\n",
       "      <td>0.018263</td>\n",
       "      <td>0.722397</td>\n",
       "      <td>0.000679</td>\n",
       "      <td>0.001757</td>\n",
       "      <td>0.000425</td>\n",
       "    </tr>\n",
       "  </tbody>\n",
       "</table>\n",
       "</div>"
      ],
      "text/plain": [
       "   Webpage_id         0         1         2         3         4         5  \\\n",
       "0          31  0.924659  0.017888  0.002548  0.001383  0.007473  0.016901   \n",
       "1          32  0.575304  0.001088  0.000820  0.000879  0.018263  0.722397   \n",
       "2          33  0.575304  0.001088  0.000820  0.000879  0.018263  0.722397   \n",
       "3          34  0.575304  0.001088  0.000820  0.000879  0.018263  0.722397   \n",
       "4          35  0.575304  0.001088  0.000820  0.000879  0.018263  0.722397   \n",
       "\n",
       "          6         7         8  \n",
       "0  0.000459  0.011384  0.004350  \n",
       "1  0.000679  0.001757  0.000425  \n",
       "2  0.000679  0.001757  0.000425  \n",
       "3  0.000679  0.001757  0.000425  \n",
       "4  0.000679  0.001757  0.000425  "
      ]
     },
     "execution_count": 93,
     "metadata": {},
     "output_type": "execute_result"
    }
   ],
   "source": [
    "submission.head()"
   ]
  },
  {
   "cell_type": "code",
   "execution_count": 94,
   "metadata": {},
   "outputs": [
    {
     "data": {
      "text/html": [
       "<div>\n",
       "<style scoped>\n",
       "    .dataframe tbody tr th:only-of-type {\n",
       "        vertical-align: middle;\n",
       "    }\n",
       "\n",
       "    .dataframe tbody tr th {\n",
       "        vertical-align: top;\n",
       "    }\n",
       "\n",
       "    .dataframe thead th {\n",
       "        text-align: right;\n",
       "    }\n",
       "</style>\n",
       "<table border=\"1\" class=\"dataframe\">\n",
       "  <thead>\n",
       "    <tr style=\"text-align: right;\">\n",
       "      <th></th>\n",
       "      <th>Webpage_id</th>\n",
       "      <th>0</th>\n",
       "      <th>1</th>\n",
       "      <th>2</th>\n",
       "      <th>3</th>\n",
       "      <th>4</th>\n",
       "      <th>5</th>\n",
       "      <th>6</th>\n",
       "      <th>7</th>\n",
       "      <th>8</th>\n",
       "    </tr>\n",
       "  </thead>\n",
       "  <tbody>\n",
       "    <tr>\n",
       "      <th>0</th>\n",
       "      <td>31</td>\n",
       "      <td>0.923320</td>\n",
       "      <td>0.018007</td>\n",
       "      <td>0.002593</td>\n",
       "      <td>0.001409</td>\n",
       "      <td>0.007658</td>\n",
       "      <td>0.017325</td>\n",
       "      <td>0.000471</td>\n",
       "      <td>0.011577</td>\n",
       "      <td>0.004429</td>\n",
       "    </tr>\n",
       "    <tr>\n",
       "      <th>1</th>\n",
       "      <td>32</td>\n",
       "      <td>0.577468</td>\n",
       "      <td>0.001106</td>\n",
       "      <td>0.000841</td>\n",
       "      <td>0.000894</td>\n",
       "      <td>0.018232</td>\n",
       "      <td>0.720312</td>\n",
       "      <td>0.000696</td>\n",
       "      <td>0.001787</td>\n",
       "      <td>0.000434</td>\n",
       "    </tr>\n",
       "    <tr>\n",
       "      <th>2</th>\n",
       "      <td>33</td>\n",
       "      <td>0.577468</td>\n",
       "      <td>0.001106</td>\n",
       "      <td>0.000841</td>\n",
       "      <td>0.000894</td>\n",
       "      <td>0.018232</td>\n",
       "      <td>0.720312</td>\n",
       "      <td>0.000696</td>\n",
       "      <td>0.001787</td>\n",
       "      <td>0.000434</td>\n",
       "    </tr>\n",
       "    <tr>\n",
       "      <th>3</th>\n",
       "      <td>34</td>\n",
       "      <td>0.577468</td>\n",
       "      <td>0.001106</td>\n",
       "      <td>0.000841</td>\n",
       "      <td>0.000894</td>\n",
       "      <td>0.018232</td>\n",
       "      <td>0.720312</td>\n",
       "      <td>0.000696</td>\n",
       "      <td>0.001787</td>\n",
       "      <td>0.000434</td>\n",
       "    </tr>\n",
       "    <tr>\n",
       "      <th>4</th>\n",
       "      <td>35</td>\n",
       "      <td>0.577468</td>\n",
       "      <td>0.001106</td>\n",
       "      <td>0.000841</td>\n",
       "      <td>0.000894</td>\n",
       "      <td>0.018232</td>\n",
       "      <td>0.720312</td>\n",
       "      <td>0.000696</td>\n",
       "      <td>0.001787</td>\n",
       "      <td>0.000434</td>\n",
       "    </tr>\n",
       "  </tbody>\n",
       "</table>\n",
       "</div>"
      ],
      "text/plain": [
       "   Webpage_id         0         1         2         3         4         5  \\\n",
       "0          31  0.923320  0.018007  0.002593  0.001409  0.007658  0.017325   \n",
       "1          32  0.577468  0.001106  0.000841  0.000894  0.018232  0.720312   \n",
       "2          33  0.577468  0.001106  0.000841  0.000894  0.018232  0.720312   \n",
       "3          34  0.577468  0.001106  0.000841  0.000894  0.018232  0.720312   \n",
       "4          35  0.577468  0.001106  0.000841  0.000894  0.018232  0.720312   \n",
       "\n",
       "          6         7         8  \n",
       "0  0.000471  0.011577  0.004429  \n",
       "1  0.000696  0.001787  0.000434  \n",
       "2  0.000696  0.001787  0.000434  \n",
       "3  0.000696  0.001787  0.000434  \n",
       "4  0.000696  0.001787  0.000434  "
      ]
     },
     "execution_count": 94,
     "metadata": {},
     "output_type": "execute_result"
    }
   ],
   "source": [
    "submission_2.head()"
   ]
  },
  {
   "cell_type": "code",
   "execution_count": 95,
   "metadata": {},
   "outputs": [
    {
     "data": {
      "text/html": [
       "<div>\n",
       "<style scoped>\n",
       "    .dataframe tbody tr th:only-of-type {\n",
       "        vertical-align: middle;\n",
       "    }\n",
       "\n",
       "    .dataframe tbody tr th {\n",
       "        vertical-align: top;\n",
       "    }\n",
       "\n",
       "    .dataframe thead th {\n",
       "        text-align: right;\n",
       "    }\n",
       "</style>\n",
       "<table border=\"1\" class=\"dataframe\">\n",
       "  <thead>\n",
       "    <tr style=\"text-align: right;\">\n",
       "      <th></th>\n",
       "      <th>Webpage_id</th>\n",
       "      <th>0</th>\n",
       "      <th>1</th>\n",
       "      <th>2</th>\n",
       "      <th>3</th>\n",
       "      <th>4</th>\n",
       "      <th>5</th>\n",
       "      <th>6</th>\n",
       "      <th>7</th>\n",
       "      <th>8</th>\n",
       "    </tr>\n",
       "  </thead>\n",
       "  <tbody>\n",
       "    <tr>\n",
       "      <th>0</th>\n",
       "      <td>31</td>\n",
       "      <td>0.902779</td>\n",
       "      <td>0.015111</td>\n",
       "      <td>0.004611</td>\n",
       "      <td>0.001752</td>\n",
       "      <td>0.022071</td>\n",
       "      <td>0.026143</td>\n",
       "      <td>0.000433</td>\n",
       "      <td>0.008950</td>\n",
       "      <td>0.006694</td>\n",
       "    </tr>\n",
       "    <tr>\n",
       "      <th>1</th>\n",
       "      <td>32</td>\n",
       "      <td>0.906564</td>\n",
       "      <td>0.001267</td>\n",
       "      <td>0.001078</td>\n",
       "      <td>0.001229</td>\n",
       "      <td>0.012091</td>\n",
       "      <td>0.426166</td>\n",
       "      <td>0.000840</td>\n",
       "      <td>0.001293</td>\n",
       "      <td>0.000505</td>\n",
       "    </tr>\n",
       "    <tr>\n",
       "      <th>2</th>\n",
       "      <td>33</td>\n",
       "      <td>0.906564</td>\n",
       "      <td>0.001267</td>\n",
       "      <td>0.001078</td>\n",
       "      <td>0.001229</td>\n",
       "      <td>0.012091</td>\n",
       "      <td>0.426166</td>\n",
       "      <td>0.000840</td>\n",
       "      <td>0.001293</td>\n",
       "      <td>0.000505</td>\n",
       "    </tr>\n",
       "    <tr>\n",
       "      <th>3</th>\n",
       "      <td>34</td>\n",
       "      <td>0.906564</td>\n",
       "      <td>0.001267</td>\n",
       "      <td>0.001078</td>\n",
       "      <td>0.001229</td>\n",
       "      <td>0.012091</td>\n",
       "      <td>0.426166</td>\n",
       "      <td>0.000840</td>\n",
       "      <td>0.001293</td>\n",
       "      <td>0.000505</td>\n",
       "    </tr>\n",
       "    <tr>\n",
       "      <th>4</th>\n",
       "      <td>35</td>\n",
       "      <td>0.906564</td>\n",
       "      <td>0.001267</td>\n",
       "      <td>0.001078</td>\n",
       "      <td>0.001229</td>\n",
       "      <td>0.012091</td>\n",
       "      <td>0.426166</td>\n",
       "      <td>0.000840</td>\n",
       "      <td>0.001293</td>\n",
       "      <td>0.000505</td>\n",
       "    </tr>\n",
       "  </tbody>\n",
       "</table>\n",
       "</div>"
      ],
      "text/plain": [
       "   Webpage_id         0         1         2         3         4         5  \\\n",
       "0          31  0.902779  0.015111  0.004611  0.001752  0.022071  0.026143   \n",
       "1          32  0.906564  0.001267  0.001078  0.001229  0.012091  0.426166   \n",
       "2          33  0.906564  0.001267  0.001078  0.001229  0.012091  0.426166   \n",
       "3          34  0.906564  0.001267  0.001078  0.001229  0.012091  0.426166   \n",
       "4          35  0.906564  0.001267  0.001078  0.001229  0.012091  0.426166   \n",
       "\n",
       "          6         7         8  \n",
       "0  0.000433  0.008950  0.006694  \n",
       "1  0.000840  0.001293  0.000505  \n",
       "2  0.000840  0.001293  0.000505  \n",
       "3  0.000840  0.001293  0.000505  \n",
       "4  0.000840  0.001293  0.000505  "
      ]
     },
     "execution_count": 95,
     "metadata": {},
     "output_type": "execute_result"
    }
   ],
   "source": [
    "submission_chars.head()"
   ]
  },
  {
   "cell_type": "code",
   "execution_count": 96,
   "metadata": {},
   "outputs": [
    {
     "data": {
      "text/html": [
       "<div>\n",
       "<style scoped>\n",
       "    .dataframe tbody tr th:only-of-type {\n",
       "        vertical-align: middle;\n",
       "    }\n",
       "\n",
       "    .dataframe tbody tr th {\n",
       "        vertical-align: top;\n",
       "    }\n",
       "\n",
       "    .dataframe thead th {\n",
       "        text-align: right;\n",
       "    }\n",
       "</style>\n",
       "<table border=\"1\" class=\"dataframe\">\n",
       "  <thead>\n",
       "    <tr style=\"text-align: right;\">\n",
       "      <th></th>\n",
       "      <th>Webpage_id</th>\n",
       "      <th>0</th>\n",
       "      <th>1</th>\n",
       "      <th>2</th>\n",
       "      <th>3</th>\n",
       "      <th>4</th>\n",
       "      <th>5</th>\n",
       "      <th>6</th>\n",
       "      <th>7</th>\n",
       "      <th>8</th>\n",
       "    </tr>\n",
       "  </thead>\n",
       "  <tbody>\n",
       "    <tr>\n",
       "      <th>0</th>\n",
       "      <td>31</td>\n",
       "      <td>0.809939</td>\n",
       "      <td>0.034637</td>\n",
       "      <td>0.006563</td>\n",
       "      <td>0.003456</td>\n",
       "      <td>0.012600</td>\n",
       "      <td>0.067951</td>\n",
       "      <td>0.005238</td>\n",
       "      <td>0.047461</td>\n",
       "      <td>0.006851</td>\n",
       "    </tr>\n",
       "    <tr>\n",
       "      <th>1</th>\n",
       "      <td>32</td>\n",
       "      <td>0.157345</td>\n",
       "      <td>0.005226</td>\n",
       "      <td>0.004522</td>\n",
       "      <td>0.002675</td>\n",
       "      <td>0.025294</td>\n",
       "      <td>0.696751</td>\n",
       "      <td>0.003343</td>\n",
       "      <td>0.011056</td>\n",
       "      <td>0.002089</td>\n",
       "    </tr>\n",
       "    <tr>\n",
       "      <th>2</th>\n",
       "      <td>33</td>\n",
       "      <td>0.157345</td>\n",
       "      <td>0.005226</td>\n",
       "      <td>0.004522</td>\n",
       "      <td>0.002675</td>\n",
       "      <td>0.025294</td>\n",
       "      <td>0.696751</td>\n",
       "      <td>0.003343</td>\n",
       "      <td>0.011056</td>\n",
       "      <td>0.002089</td>\n",
       "    </tr>\n",
       "    <tr>\n",
       "      <th>3</th>\n",
       "      <td>34</td>\n",
       "      <td>0.157345</td>\n",
       "      <td>0.005226</td>\n",
       "      <td>0.004522</td>\n",
       "      <td>0.002675</td>\n",
       "      <td>0.025294</td>\n",
       "      <td>0.696751</td>\n",
       "      <td>0.003343</td>\n",
       "      <td>0.011056</td>\n",
       "      <td>0.002089</td>\n",
       "    </tr>\n",
       "    <tr>\n",
       "      <th>4</th>\n",
       "      <td>35</td>\n",
       "      <td>0.157345</td>\n",
       "      <td>0.005226</td>\n",
       "      <td>0.004522</td>\n",
       "      <td>0.002675</td>\n",
       "      <td>0.025294</td>\n",
       "      <td>0.696751</td>\n",
       "      <td>0.003343</td>\n",
       "      <td>0.011056</td>\n",
       "      <td>0.002089</td>\n",
       "    </tr>\n",
       "  </tbody>\n",
       "</table>\n",
       "</div>"
      ],
      "text/plain": [
       "   Webpage_id         0         1         2         3         4         5  \\\n",
       "0          31  0.809939  0.034637  0.006563  0.003456  0.012600  0.067951   \n",
       "1          32  0.157345  0.005226  0.004522  0.002675  0.025294  0.696751   \n",
       "2          33  0.157345  0.005226  0.004522  0.002675  0.025294  0.696751   \n",
       "3          34  0.157345  0.005226  0.004522  0.002675  0.025294  0.696751   \n",
       "4          35  0.157345  0.005226  0.004522  0.002675  0.025294  0.696751   \n",
       "\n",
       "          6         7         8  \n",
       "0  0.005238  0.047461  0.006851  \n",
       "1  0.003343  0.011056  0.002089  \n",
       "2  0.003343  0.011056  0.002089  \n",
       "3  0.003343  0.011056  0.002089  \n",
       "4  0.003343  0.011056  0.002089  "
      ]
     },
     "execution_count": 96,
     "metadata": {},
     "output_type": "execute_result"
    }
   ],
   "source": [
    "submission_words.head()"
   ]
  },
  {
   "cell_type": "code",
   "execution_count": 99,
   "metadata": {},
   "outputs": [
    {
     "data": {
      "text/plain": [
       "array([[9.24659400e-01, 1.78877547e-02, 2.54759353e-03, ...,\n",
       "        4.59452847e-04, 1.13844400e-02, 4.35049474e-03],\n",
       "       [5.75304178e-01, 1.08800192e-03, 8.20348756e-04, ...,\n",
       "        6.79087590e-04, 1.75717750e-03, 4.25322509e-04],\n",
       "       [5.75304178e-01, 1.08800192e-03, 8.20348756e-04, ...,\n",
       "        6.79087590e-04, 1.75717750e-03, 4.25322509e-04],\n",
       "       ...,\n",
       "       [5.65696120e-04, 1.80163793e-03, 4.87833867e-03, ...,\n",
       "        5.47940707e-01, 2.64641950e-03, 9.69269512e-04],\n",
       "       [5.23827384e-04, 2.99033929e-03, 5.50304347e-03, ...,\n",
       "        1.14694689e-01, 2.67934168e-03, 1.28921738e-03],\n",
       "       [5.59408967e-04, 1.75270436e-03, 5.49673086e-03, ...,\n",
       "        2.92896531e-01, 2.55543368e-03, 2.19089179e-03]])"
      ]
     },
     "execution_count": 99,
     "metadata": {},
     "output_type": "execute_result"
    }
   ],
   "source": [
    "submission[['0', '1', '2', '3', '4','5','6','7','8']].values"
   ]
  },
  {
   "cell_type": "code",
   "execution_count": 100,
   "metadata": {},
   "outputs": [],
   "source": [
    "blend_1 = 0.5*submission[['0', '1', '2', '3', '4','5','6','7','8']].values+0.5*submission_2[['0', '1', '2', '3', '4','5','6','7','8']].values\n",
    "blend_2 = (0.35*submission[['0', '1', '2', '3', '4','5','6','7','8']].values+0.35*submission_2[['0', '1', '2', '3', '4','5','6','7','8']].values+\n",
    "           0.15*submission_words[['0', '1', '2', '3', '4','5','6','7','8']].values+0.15*submission_chars[['0', '1', '2', '3', '4','5','6','7','8']].values)\n"
   ]
  },
  {
   "cell_type": "code",
   "execution_count": 101,
   "metadata": {},
   "outputs": [],
   "source": [
    "predictions_1 = np.round(np.argmax(blend_1, axis=1)).astype(int)\n",
    "predictions_2 = np.round(np.argmax(blend_2, axis=1)).astype(int)"
   ]
  },
  {
   "cell_type": "code",
   "execution_count": 120,
   "metadata": {
    "scrolled": true
   },
   "outputs": [],
   "source": [
    "sampleSubmission['Tag'] = predictions_1\n",
    "sampleSubmission['Tag'] =sampleSubmission['Tag'].apply(tagmap_function)\n",
    "sampleSubmission.to_csv(\"LR_Prediction_1.csv\", index=False)"
   ]
  },
  {
   "cell_type": "code",
   "execution_count": 121,
   "metadata": {},
   "outputs": [],
   "source": [
    "sampleSubmission['Tag'] = predictions_2\n",
    "sampleSubmission['Tag'] =sampleSubmission['Tag'].apply(tagmap_function)\n",
    "sampleSubmission.to_csv(\"LR_Prediction_2.csv\", index=False)"
   ]
  },
  {
   "cell_type": "code",
   "execution_count": null,
   "metadata": {},
   "outputs": [],
   "source": []
  }
 ],
 "metadata": {
  "kernelspec": {
   "display_name": "Python 3",
   "language": "python",
   "name": "python3"
  },
  "language_info": {
   "codemirror_mode": {
    "name": "ipython",
    "version": 3
   },
   "file_extension": ".py",
   "mimetype": "text/x-python",
   "name": "python",
   "nbconvert_exporter": "python",
   "pygments_lexer": "ipython3",
   "version": "3.6.4"
  }
 },
 "nbformat": 4,
 "nbformat_minor": 2
}
