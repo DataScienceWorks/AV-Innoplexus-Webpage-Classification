{
 "cells": [
  {
   "cell_type": "markdown",
   "metadata": {},
   "source": [
    "# Prediction using Pandas and Co. (Part 2)\n",
    "\n",
    "To save time jump to [Data Modelling](A_prediction_using_pandas.ipynb#Data-Modeling-:-Predicting-Test-Data-Classification) section directly."
   ]
  },
  {
   "cell_type": "markdown",
   "metadata": {},
   "source": [
    "## More Data Preprocessing"
   ]
  },
  {
   "cell_type": "code",
   "execution_count": 1,
   "metadata": {},
   "outputs": [],
   "source": [
    "# %matplotlib inline\n",
    "import numpy as np\n",
    "import pandas as pd\n",
    "# import dask.dataframe as dd\n",
    "from bs4 import BeautifulSoup # For Scraping HTML page\n",
    "from bs4.element import Comment\n",
    "import re\n",
    "import tldextract"
   ]
  },
  {
   "cell_type": "code",
   "execution_count": 2,
   "metadata": {},
   "outputs": [
    {
     "name": "stderr",
     "output_type": "stream",
     "text": [
      "C:\\Anaconda3\\envs\\py36\\lib\\site-packages\\IPython\\core\\interactiveshell.py:2785: DtypeWarning: Columns (1,2,3,4,5) have mixed types. Specify dtype option on import or set low_memory=False.\n",
      "  interactivity=interactivity, compiler=compiler, result=result)\n"
     ]
    },
    {
     "data": {
      "text/html": [
       "<div>\n",
       "<style scoped>\n",
       "    .dataframe tbody tr th:only-of-type {\n",
       "        vertical-align: middle;\n",
       "    }\n",
       "\n",
       "    .dataframe tbody tr th {\n",
       "        vertical-align: top;\n",
       "    }\n",
       "\n",
       "    .dataframe thead th {\n",
       "        text-align: right;\n",
       "    }\n",
       "</style>\n",
       "<table border=\"1\" class=\"dataframe\">\n",
       "  <thead>\n",
       "    <tr style=\"text-align: right;\">\n",
       "      <th></th>\n",
       "      <th>Domain</th>\n",
       "      <th>Url</th>\n",
       "      <th>Title</th>\n",
       "      <th>Html2Text</th>\n",
       "      <th>Tag</th>\n",
       "    </tr>\n",
       "    <tr>\n",
       "      <th>Webpage_id</th>\n",
       "      <th></th>\n",
       "      <th></th>\n",
       "      <th></th>\n",
       "      <th></th>\n",
       "      <th></th>\n",
       "    </tr>\n",
       "  </thead>\n",
       "  <tbody>\n",
       "    <tr>\n",
       "      <th>1</th>\n",
       "      <td>fiercepharma</td>\n",
       "      <td>http://www.fiercepharma.com/marketing/tecfider...</td>\n",
       "      <td>Tecfidera, Gilenya and Aubagio's 3-way battle ...</td>\n",
       "      <td>Skip to main content Twitter LinkedIn Search T...</td>\n",
       "      <td>news</td>\n",
       "    </tr>\n",
       "    <tr>\n",
       "      <th>2</th>\n",
       "      <td>fiercepharma</td>\n",
       "      <td>http://www.fiercepharma.com/pharma/novo-equipp...</td>\n",
       "      <td>Novo equipped to weather the storm in the U.S....</td>\n",
       "      <td>Skip to main content Twitter LinkedIn Search T...</td>\n",
       "      <td>news</td>\n",
       "    </tr>\n",
       "    <tr>\n",
       "      <th>3</th>\n",
       "      <td>fiercepharma</td>\n",
       "      <td>http://www.fiercepharma.com/pharma/another-exe...</td>\n",
       "      <td>Another exec departs troubled Endo--and this t...</td>\n",
       "      <td>Skip to main content Twitter LinkedIn Search T...</td>\n",
       "      <td>news</td>\n",
       "    </tr>\n",
       "  </tbody>\n",
       "</table>\n",
       "</div>"
      ],
      "text/plain": [
       "                  Domain                                                Url  \\\n",
       "Webpage_id                                                                    \n",
       "1           fiercepharma  http://www.fiercepharma.com/marketing/tecfider...   \n",
       "2           fiercepharma  http://www.fiercepharma.com/pharma/novo-equipp...   \n",
       "3           fiercepharma  http://www.fiercepharma.com/pharma/another-exe...   \n",
       "\n",
       "                                                        Title  \\\n",
       "Webpage_id                                                      \n",
       "1           Tecfidera, Gilenya and Aubagio's 3-way battle ...   \n",
       "2           Novo equipped to weather the storm in the U.S....   \n",
       "3           Another exec departs troubled Endo--and this t...   \n",
       "\n",
       "                                                    Html2Text   Tag  \n",
       "Webpage_id                                                           \n",
       "1           Skip to main content Twitter LinkedIn Search T...  news  \n",
       "2           Skip to main content Twitter LinkedIn Search T...  news  \n",
       "3           Skip to main content Twitter LinkedIn Search T...  news  "
      ]
     },
     "execution_count": 2,
     "metadata": {},
     "output_type": "execute_result"
    }
   ],
   "source": [
    "df = pd.read_csv('bigdata/train1.csv',encoding='utf-8', index_col='Webpage_id')\n",
    "df.head(3)"
   ]
  },
  {
   "cell_type": "code",
   "execution_count": 3,
   "metadata": {},
   "outputs": [
    {
     "data": {
      "text/plain": [
       "1988905"
      ]
     },
     "execution_count": 3,
     "metadata": {},
     "output_type": "execute_result"
    }
   ],
   "source": [
    "df.size"
   ]
  },
  {
   "cell_type": "code",
   "execution_count": 4,
   "metadata": {},
   "outputs": [
    {
     "data": {
      "text/plain": [
       "Domain       object\n",
       "Url          object\n",
       "Title        object\n",
       "Html2Text    object\n",
       "Tag          object\n",
       "dtype: object"
      ]
     },
     "execution_count": 4,
     "metadata": {},
     "output_type": "execute_result"
    }
   ],
   "source": [
    "df.dtypes"
   ]
  },
  {
   "cell_type": "code",
   "execution_count": 5,
   "metadata": {},
   "outputs": [
    {
     "data": {
      "text/plain": [
       "Domain       185894\n",
       "Url          185907\n",
       "Title        186166\n",
       "Html2Text    344344\n",
       "Tag          344349\n",
       "dtype: int64"
      ]
     },
     "execution_count": 5,
     "metadata": {},
     "output_type": "execute_result"
    }
   ],
   "source": [
    "df.isnull().sum()"
   ]
  },
  {
   "cell_type": "code",
   "execution_count": 6,
   "metadata": {},
   "outputs": [
    {
     "data": {
      "text/plain": [
       "267120"
      ]
     },
     "execution_count": 6,
     "metadata": {},
     "output_type": "execute_result"
    }
   ],
   "source": [
    "df.dropna(subset=['Html2Text','Tag']).size"
   ]
  },
  {
   "cell_type": "code",
   "execution_count": null,
   "metadata": {},
   "outputs": [],
   "source": []
  },
  {
   "cell_type": "code",
   "execution_count": 7,
   "metadata": {},
   "outputs": [],
   "source": [
    "from sklearn.feature_extraction.text import CountVectorizer\n",
    "vect = CountVectorizer()\n",
    "\n",
    "# Learn the vocabulary of training data (occurs inplace)\n",
    "vect.fit(df['Html2Text'])\n",
    "# Does the 5 things by default in learning vocabulary\n",
    "# 1. Ignore 1-letter words\n",
    "# 2. Ignore punctuation\n",
    "# 3. Converted all text to lowercase\n",
    "# 4. De-duplication\n",
    "# 5. Sort vocabulary list in alphabeticacal order\n",
    "# You can assign `stop_words='english'` param, so that the standard stop words are taken into account.\n",
    "\n",
    "\n",
    "# Examine the fitted vocabulary\n",
    "vect.get_feature_names() # Would be ridiculously long list of words\n",
    "\n",
    "# Transform Training Data into Document-Term Matrix\n",
    "dtm = vect.transform(df['Html2Text'])\n",
    "\n",
    "# Convert sparse to dense matrix\n",
    "# dtm.toarray()\n",
    "\n",
    "#Examine the Vocabulary and DTM together\n",
    "pd.DataFrame(dtm.toarray(), columns=vect.get_feature_names())"
   ]
  }
 ],
 "metadata": {
  "kernelspec": {
   "display_name": "Python 3",
   "language": "python",
   "name": "python3"
  },
  "language_info": {
   "codemirror_mode": {
    "name": "ipython",
    "version": 3
   },
   "file_extension": ".py",
   "mimetype": "text/x-python",
   "name": "python",
   "nbconvert_exporter": "python",
   "pygments_lexer": "ipython3",
   "version": "3.6.6"
  }
 },
 "nbformat": 4,
 "nbformat_minor": 2
}
